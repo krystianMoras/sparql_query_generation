{
 "cells": [
  {
   "cell_type": "code",
   "execution_count": 2,
   "metadata": {},
   "outputs": [
    {
     "name": "stdout",
     "output_type": "stream",
     "text": [
      "Requirement already satisfied: datasets in ./.venv/lib/python3.11/site-packages (2.18.0)\n",
      "Requirement already satisfied: filelock in ./.venv/lib/python3.11/site-packages (from datasets) (3.13.4)\n",
      "Requirement already satisfied: numpy>=1.17 in ./.venv/lib/python3.11/site-packages (from datasets) (1.26.4)\n",
      "Requirement already satisfied: pyarrow>=12.0.0 in ./.venv/lib/python3.11/site-packages (from datasets) (15.0.2)\n",
      "Requirement already satisfied: pyarrow-hotfix in ./.venv/lib/python3.11/site-packages (from datasets) (0.6)\n",
      "Requirement already satisfied: dill<0.3.9,>=0.3.0 in ./.venv/lib/python3.11/site-packages (from datasets) (0.3.8)\n",
      "Requirement already satisfied: pandas in ./.venv/lib/python3.11/site-packages (from datasets) (2.2.1)\n",
      "Requirement already satisfied: requests>=2.19.0 in ./.venv/lib/python3.11/site-packages (from datasets) (2.31.0)\n",
      "Requirement already satisfied: tqdm>=4.62.1 in ./.venv/lib/python3.11/site-packages (from datasets) (4.66.2)\n",
      "Requirement already satisfied: xxhash in ./.venv/lib/python3.11/site-packages (from datasets) (3.4.1)\n",
      "Requirement already satisfied: multiprocess in ./.venv/lib/python3.11/site-packages (from datasets) (0.70.16)\n",
      "Requirement already satisfied: fsspec<=2024.2.0,>=2023.1.0 in ./.venv/lib/python3.11/site-packages (from fsspec[http]<=2024.2.0,>=2023.1.0->datasets) (2024.2.0)\n",
      "Requirement already satisfied: aiohttp in ./.venv/lib/python3.11/site-packages (from datasets) (3.9.3)\n",
      "Requirement already satisfied: huggingface-hub>=0.19.4 in ./.venv/lib/python3.11/site-packages (from datasets) (0.20.3)\n",
      "Requirement already satisfied: packaging in ./.venv/lib/python3.11/site-packages (from datasets) (24.0)\n",
      "Requirement already satisfied: pyyaml>=5.1 in ./.venv/lib/python3.11/site-packages (from datasets) (6.0.1)\n",
      "Requirement already satisfied: aiosignal>=1.1.2 in ./.venv/lib/python3.11/site-packages (from aiohttp->datasets) (1.3.1)\n",
      "Requirement already satisfied: attrs>=17.3.0 in ./.venv/lib/python3.11/site-packages (from aiohttp->datasets) (23.2.0)\n",
      "Requirement already satisfied: frozenlist>=1.1.1 in ./.venv/lib/python3.11/site-packages (from aiohttp->datasets) (1.4.1)\n",
      "Requirement already satisfied: multidict<7.0,>=4.5 in ./.venv/lib/python3.11/site-packages (from aiohttp->datasets) (6.0.5)\n",
      "Requirement already satisfied: yarl<2.0,>=1.0 in ./.venv/lib/python3.11/site-packages (from aiohttp->datasets) (1.9.4)\n",
      "Requirement already satisfied: typing-extensions>=3.7.4.3 in ./.venv/lib/python3.11/site-packages (from huggingface-hub>=0.19.4->datasets) (4.11.0)\n",
      "Requirement already satisfied: charset-normalizer<4,>=2 in ./.venv/lib/python3.11/site-packages (from requests>=2.19.0->datasets) (3.3.2)\n",
      "Requirement already satisfied: idna<4,>=2.5 in ./.venv/lib/python3.11/site-packages (from requests>=2.19.0->datasets) (3.6)\n",
      "Requirement already satisfied: urllib3<3,>=1.21.1 in ./.venv/lib/python3.11/site-packages (from requests>=2.19.0->datasets) (2.2.1)\n",
      "Requirement already satisfied: certifi>=2017.4.17 in ./.venv/lib/python3.11/site-packages (from requests>=2.19.0->datasets) (2024.2.2)\n",
      "Requirement already satisfied: python-dateutil>=2.8.2 in ./.venv/lib/python3.11/site-packages (from pandas->datasets) (2.9.0.post0)\n",
      "Requirement already satisfied: pytz>=2020.1 in ./.venv/lib/python3.11/site-packages (from pandas->datasets) (2024.1)\n",
      "Requirement already satisfied: tzdata>=2022.7 in ./.venv/lib/python3.11/site-packages (from pandas->datasets) (2024.1)\n",
      "Requirement already satisfied: six>=1.5 in ./.venv/lib/python3.11/site-packages (from python-dateutil>=2.8.2->pandas->datasets) (1.16.0)\n",
      "Requirement already satisfied: fastembed in ./.venv/lib/python3.11/site-packages (0.2.6)\n",
      "Requirement already satisfied: huggingface-hub<0.21,>=0.20 in ./.venv/lib/python3.11/site-packages (from fastembed) (0.20.3)\n",
      "Requirement already satisfied: loguru<0.8.0,>=0.7.2 in ./.venv/lib/python3.11/site-packages (from fastembed) (0.7.2)\n",
      "Requirement already satisfied: numpy>=1.21 in ./.venv/lib/python3.11/site-packages (from fastembed) (1.26.4)\n",
      "Requirement already satisfied: onnx<2.0.0,>=1.15.0 in ./.venv/lib/python3.11/site-packages (from fastembed) (1.16.0)\n",
      "Requirement already satisfied: onnxruntime<2.0.0,>=1.17.0 in ./.venv/lib/python3.11/site-packages (from fastembed) (1.17.3)\n",
      "Requirement already satisfied: requests<3.0,>=2.31 in ./.venv/lib/python3.11/site-packages (from fastembed) (2.31.0)\n",
      "Requirement already satisfied: tokenizers<0.16.0,>=0.15.1 in ./.venv/lib/python3.11/site-packages (from fastembed) (0.15.2)\n",
      "Requirement already satisfied: tqdm<5.0,>=4.66 in ./.venv/lib/python3.11/site-packages (from fastembed) (4.66.2)\n",
      "Requirement already satisfied: filelock in ./.venv/lib/python3.11/site-packages (from huggingface-hub<0.21,>=0.20->fastembed) (3.13.4)\n",
      "Requirement already satisfied: fsspec>=2023.5.0 in ./.venv/lib/python3.11/site-packages (from huggingface-hub<0.21,>=0.20->fastembed) (2024.2.0)\n",
      "Requirement already satisfied: pyyaml>=5.1 in ./.venv/lib/python3.11/site-packages (from huggingface-hub<0.21,>=0.20->fastembed) (6.0.1)\n",
      "Requirement already satisfied: typing-extensions>=3.7.4.3 in ./.venv/lib/python3.11/site-packages (from huggingface-hub<0.21,>=0.20->fastembed) (4.11.0)\n",
      "Requirement already satisfied: packaging>=20.9 in ./.venv/lib/python3.11/site-packages (from huggingface-hub<0.21,>=0.20->fastembed) (24.0)\n",
      "Requirement already satisfied: protobuf>=3.20.2 in ./.venv/lib/python3.11/site-packages (from onnx<2.0.0,>=1.15.0->fastembed) (5.26.1)\n",
      "Requirement already satisfied: coloredlogs in ./.venv/lib/python3.11/site-packages (from onnxruntime<2.0.0,>=1.17.0->fastembed) (15.0.1)\n",
      "Requirement already satisfied: flatbuffers in ./.venv/lib/python3.11/site-packages (from onnxruntime<2.0.0,>=1.17.0->fastembed) (24.3.25)\n",
      "Requirement already satisfied: sympy in ./.venv/lib/python3.11/site-packages (from onnxruntime<2.0.0,>=1.17.0->fastembed) (1.12)\n",
      "Requirement already satisfied: charset-normalizer<4,>=2 in ./.venv/lib/python3.11/site-packages (from requests<3.0,>=2.31->fastembed) (3.3.2)\n",
      "Requirement already satisfied: idna<4,>=2.5 in ./.venv/lib/python3.11/site-packages (from requests<3.0,>=2.31->fastembed) (3.6)\n",
      "Requirement already satisfied: urllib3<3,>=1.21.1 in ./.venv/lib/python3.11/site-packages (from requests<3.0,>=2.31->fastembed) (2.2.1)\n",
      "Requirement already satisfied: certifi>=2017.4.17 in ./.venv/lib/python3.11/site-packages (from requests<3.0,>=2.31->fastembed) (2024.2.2)\n",
      "Requirement already satisfied: humanfriendly>=9.1 in ./.venv/lib/python3.11/site-packages (from coloredlogs->onnxruntime<2.0.0,>=1.17.0->fastembed) (10.0)\n",
      "Requirement already satisfied: mpmath>=0.19 in ./.venv/lib/python3.11/site-packages (from sympy->onnxruntime<2.0.0,>=1.17.0->fastembed) (1.3.0)\n"
     ]
    }
   ],
   "source": [
    "!pip install datasets\n",
    "!pip install fastembed"
   ]
  },
  {
   "cell_type": "code",
   "execution_count": 3,
   "metadata": {},
   "outputs": [
    {
     "name": "stderr",
     "output_type": "stream",
     "text": [
      "/home/krysiu/artificial_intelligence/sem_8/program_synthesis/.venv/lib/python3.11/site-packages/tqdm/auto.py:21: TqdmWarning: IProgress not found. Please update jupyter and ipywidgets. See https://ipywidgets.readthedocs.io/en/stable/user_install.html\n",
      "  from .autonotebook import tqdm as notebook_tqdm\n"
     ]
    }
   ],
   "source": [
    "from datasets import load_from_disk\n",
    "\n",
    "# Load the dataset from disk\n",
    "dataset = load_from_disk(\"filtered_first_1000\")"
   ]
  },
  {
   "cell_type": "code",
   "execution_count": 4,
   "metadata": {},
   "outputs": [
    {
     "data": {
      "text/plain": [
       "'Which party is [9] affiliated with ?'"
      ]
     },
     "execution_count": 4,
     "metadata": {},
     "output_type": "execute_result"
    }
   ],
   "source": [
    "\"Which party is Daniel Ermentrout affiliated with ?\".replace(\"Daniel Ermentrout\", \"[9]\")"
   ]
  },
  {
   "cell_type": "code",
   "execution_count": 5,
   "metadata": {},
   "outputs": [],
   "source": [
    "def mask_entities(dialog):\n",
    "    for turn in dialog[\"turns\"]:\n",
    "        if turn[\"speaker\"] != \"USER\":\n",
    "            continue\n",
    "\n",
    "        masked_utterance = turn[\"utterance\"]\n",
    "        for i, entity in enumerate(turn[\"verbalized_entities_in_utterance\"]):\n",
    "            masked_utterance = masked_utterance.replace(entity, f\"[{i}]\")\n",
    "\n",
    "        turn[\"masked_utterance\"] = masked_utterance\n",
    "    return dialog\n"
   ]
  },
  {
   "cell_type": "code",
   "execution_count": 7,
   "metadata": {},
   "outputs": [],
   "source": [
    "def get_entry(text):\n",
    "# Yes QA_713:112 20\n",
    "    _, id_, turn = text.split(\" \")\n",
    "\n",
    "    # get index of the dialog\n",
    "    real_index = dataset[\"id\"].index(id_)\n",
    "\n",
    "    # get the dialog\n",
    "\n",
    "    dialog = dataset[real_index][\"turns\"][int(turn)]\n",
    "    return dialog\n"
   ]
  },
  {
   "cell_type": "code",
   "execution_count": 8,
   "metadata": {},
   "outputs": [
    {
     "data": {
      "text/plain": [
       "['Q5217081']"
      ]
     },
     "execution_count": 8,
     "metadata": {},
     "output_type": "execute_result"
    }
   ],
   "source": [
    "dataset[0][\"turns\"][0][\"entities_in_utterance\"]"
   ]
  },
  {
   "cell_type": "code",
   "execution_count": 9,
   "metadata": {},
   "outputs": [
    {
     "data": {
      "text/plain": [
       "'SELECT ?pLabel ?p WHERE { wd:Q5217081 ?a ?b.  ?p wikibase:directClaim ?a . SERVICE wikibase:label { bd:serviceParam wikibase:language \"en\". }}'"
      ]
     },
     "execution_count": 9,
     "metadata": {},
     "output_type": "execute_result"
    }
   ],
   "source": [
    "def find_properties_for_entity(entity_id):\n",
    "    return 'SELECT ?pLabel ?p WHERE { wd:' + entity_id + ' ?a ?b.  ?p wikibase:directClaim ?a . SERVICE wikibase:label { bd:serviceParam wikibase:language \"en\". }}'\n",
    "\n",
    "find_properties_for_entity(\"Q5217081\")"
   ]
  },
  {
   "cell_type": "code",
   "execution_count": 10,
   "metadata": {},
   "outputs": [
    {
     "data": {
      "text/plain": [
       "{'head': {'vars': ['pLabel', 'p']},\n",
       " 'results': {'bindings': [{'p': {'type': 'uri',\n",
       "     'value': 'http://www.wikidata.org/entity/P509'},\n",
       "    'pLabel': {'xml:lang': 'en',\n",
       "     'type': 'literal',\n",
       "     'value': 'cause of death'}},\n",
       "   {'p': {'type': 'uri', 'value': 'http://www.wikidata.org/entity/P535'},\n",
       "    'pLabel': {'xml:lang': 'en',\n",
       "     'type': 'literal',\n",
       "     'value': 'Find a Grave memorial ID'}},\n",
       "   {'p': {'type': 'uri', 'value': 'http://www.wikidata.org/entity/P569'},\n",
       "    'pLabel': {'xml:lang': 'en', 'type': 'literal', 'value': 'date of birth'}},\n",
       "   {'p': {'type': 'uri', 'value': 'http://www.wikidata.org/entity/P570'},\n",
       "    'pLabel': {'xml:lang': 'en', 'type': 'literal', 'value': 'date of death'}},\n",
       "   {'p': {'type': 'uri', 'value': 'http://www.wikidata.org/entity/P570'},\n",
       "    'pLabel': {'xml:lang': 'en', 'type': 'literal', 'value': 'date of death'}},\n",
       "   {'p': {'type': 'uri', 'value': 'http://www.wikidata.org/entity/P646'},\n",
       "    'pLabel': {'xml:lang': 'en', 'type': 'literal', 'value': 'Freebase ID'}},\n",
       "   {'p': {'type': 'uri', 'value': 'http://www.wikidata.org/entity/P648'},\n",
       "    'pLabel': {'xml:lang': 'en',\n",
       "     'type': 'literal',\n",
       "     'value': 'Open Library ID'}},\n",
       "   {'p': {'type': 'uri', 'value': 'http://www.wikidata.org/entity/P734'},\n",
       "    'pLabel': {'xml:lang': 'en', 'type': 'literal', 'value': 'family name'}},\n",
       "   {'p': {'type': 'uri', 'value': 'http://www.wikidata.org/entity/P735'},\n",
       "    'pLabel': {'xml:lang': 'en', 'type': 'literal', 'value': 'given name'}},\n",
       "   {'p': {'type': 'uri', 'value': 'http://www.wikidata.org/entity/P937'},\n",
       "    'pLabel': {'xml:lang': 'en', 'type': 'literal', 'value': 'work location'}},\n",
       "   {'p': {'type': 'uri', 'value': 'http://www.wikidata.org/entity/P1157'},\n",
       "    'pLabel': {'xml:lang': 'en',\n",
       "     'type': 'literal',\n",
       "     'value': 'US Congress Bio ID'}},\n",
       "   {'p': {'type': 'uri', 'value': 'http://www.wikidata.org/entity/P1412'},\n",
       "    'pLabel': {'xml:lang': 'en',\n",
       "     'type': 'literal',\n",
       "     'value': 'languages spoken, written or signed'}},\n",
       "   {'p': {'type': 'uri', 'value': 'http://www.wikidata.org/entity/P1559'},\n",
       "    'pLabel': {'xml:lang': 'en',\n",
       "     'type': 'literal',\n",
       "     'value': 'name in native language'}},\n",
       "   {'p': {'type': 'uri', 'value': 'http://www.wikidata.org/entity/P2163'},\n",
       "    'pLabel': {'xml:lang': 'en', 'type': 'literal', 'value': 'FAST ID'}},\n",
       "   {'p': {'type': 'uri', 'value': 'http://www.wikidata.org/entity/P2600'},\n",
       "    'pLabel': {'xml:lang': 'en',\n",
       "     'type': 'literal',\n",
       "     'value': 'Geni.com profile ID'}},\n",
       "   {'p': {'type': 'uri', 'value': 'http://www.wikidata.org/entity/P3368'},\n",
       "    'pLabel': {'xml:lang': 'en', 'type': 'literal', 'value': 'Prabook ID'}},\n",
       "   {'p': {'type': 'uri', 'value': 'http://www.wikidata.org/entity/P7859'},\n",
       "    'pLabel': {'xml:lang': 'en',\n",
       "     'type': 'literal',\n",
       "     'value': 'WorldCat Identities ID (superseded)'}},\n",
       "   {'p': {'type': 'uri', 'value': 'http://www.wikidata.org/entity/P8462'},\n",
       "    'pLabel': {'xml:lang': 'en',\n",
       "     'type': 'literal',\n",
       "     'value': 'Political Graveyard politician ID'}},\n",
       "   {'p': {'type': 'uri', 'value': 'http://www.wikidata.org/entity/P11500'},\n",
       "    'pLabel': {'xml:lang': 'en',\n",
       "     'type': 'literal',\n",
       "     'value': 'United States House of Representatives ID'}},\n",
       "   {'p': {'type': 'uri', 'value': 'http://www.wikidata.org/entity/P18'},\n",
       "    'pLabel': {'xml:lang': 'en', 'type': 'literal', 'value': 'image'}},\n",
       "   {'p': {'type': 'uri', 'value': 'http://www.wikidata.org/entity/P19'},\n",
       "    'pLabel': {'xml:lang': 'en',\n",
       "     'type': 'literal',\n",
       "     'value': 'place of birth'}},\n",
       "   {'p': {'type': 'uri', 'value': 'http://www.wikidata.org/entity/P21'},\n",
       "    'pLabel': {'xml:lang': 'en', 'type': 'literal', 'value': 'sex or gender'}},\n",
       "   {'p': {'type': 'uri', 'value': 'http://www.wikidata.org/entity/P27'},\n",
       "    'pLabel': {'xml:lang': 'en',\n",
       "     'type': 'literal',\n",
       "     'value': 'country of citizenship'}},\n",
       "   {'p': {'type': 'uri', 'value': 'http://www.wikidata.org/entity/P31'},\n",
       "    'pLabel': {'xml:lang': 'en', 'type': 'literal', 'value': 'instance of'}},\n",
       "   {'p': {'type': 'uri', 'value': 'http://www.wikidata.org/entity/P39'},\n",
       "    'pLabel': {'xml:lang': 'en', 'type': 'literal', 'value': 'position held'}},\n",
       "   {'p': {'type': 'uri', 'value': 'http://www.wikidata.org/entity/P39'},\n",
       "    'pLabel': {'xml:lang': 'en', 'type': 'literal', 'value': 'position held'}},\n",
       "   {'p': {'type': 'uri', 'value': 'http://www.wikidata.org/entity/P69'},\n",
       "    'pLabel': {'xml:lang': 'en', 'type': 'literal', 'value': 'educated at'}},\n",
       "   {'p': {'type': 'uri', 'value': 'http://www.wikidata.org/entity/P102'},\n",
       "    'pLabel': {'xml:lang': 'en',\n",
       "     'type': 'literal',\n",
       "     'value': 'member of political party'}},\n",
       "   {'p': {'type': 'uri', 'value': 'http://www.wikidata.org/entity/P106'},\n",
       "    'pLabel': {'xml:lang': 'en', 'type': 'literal', 'value': 'occupation'}},\n",
       "   {'p': {'type': 'uri', 'value': 'http://www.wikidata.org/entity/P106'},\n",
       "    'pLabel': {'xml:lang': 'en', 'type': 'literal', 'value': 'occupation'}},\n",
       "   {'p': {'type': 'uri', 'value': 'http://www.wikidata.org/entity/P119'},\n",
       "    'pLabel': {'xml:lang': 'en',\n",
       "     'type': 'literal',\n",
       "     'value': 'place of burial'}},\n",
       "   {'p': {'type': 'uri', 'value': 'http://www.wikidata.org/entity/P213'},\n",
       "    'pLabel': {'xml:lang': 'en', 'type': 'literal', 'value': 'ISNI'}},\n",
       "   {'p': {'type': 'uri', 'value': 'http://www.wikidata.org/entity/P214'},\n",
       "    'pLabel': {'xml:lang': 'en', 'type': 'literal', 'value': 'VIAF ID'}},\n",
       "   {'p': {'type': 'uri', 'value': 'http://www.wikidata.org/entity/P244'},\n",
       "    'pLabel': {'xml:lang': 'en',\n",
       "     'type': 'literal',\n",
       "     'value': 'Library of Congress authority ID'}}]}}"
      ]
     },
     "execution_count": 10,
     "metadata": {},
     "output_type": "execute_result"
    }
   ],
   "source": [
    "# send a request to wikidata\n",
    "\n",
    "query = find_properties_for_entity(\"Q5217081\")\n",
    "\n",
    "import requests\n",
    "\n",
    "url = 'https://query.wikidata.org/sparql'\n",
    "r = requests.get(url, params = {'query': query, 'format': 'json'})\n",
    "\n",
    "data = r.json()\n",
    "\n",
    "data"
   ]
  },
  {
   "cell_type": "code",
   "execution_count": 11,
   "metadata": {},
   "outputs": [
    {
     "name": "stdout",
     "output_type": "stream",
     "text": [
      "cause of death P509\n",
      "Find a Grave memorial ID P535\n",
      "date of birth P569\n",
      "date of death P570\n",
      "date of death P570\n",
      "Freebase ID P646\n",
      "Open Library ID P648\n",
      "family name P734\n",
      "given name P735\n",
      "work location P937\n",
      "US Congress Bio ID P1157\n",
      "languages spoken, written or signed P1412\n",
      "name in native language P1559\n",
      "FAST ID P2163\n",
      "Geni.com profile ID P2600\n",
      "Prabook ID P3368\n",
      "WorldCat Identities ID (superseded) P7859\n",
      "Political Graveyard politician ID P8462\n",
      "United States House of Representatives ID P11500\n",
      "image P18\n",
      "place of birth P19\n",
      "sex or gender P21\n",
      "country of citizenship P27\n",
      "instance of P31\n",
      "position held P39\n",
      "position held P39\n",
      "educated at P69\n",
      "member of political party P102\n",
      "occupation P106\n",
      "occupation P106\n",
      "place of burial P119\n",
      "ISNI P213\n",
      "VIAF ID P214\n",
      "Library of Congress authority ID P244\n"
     ]
    }
   ],
   "source": [
    "for binding in data[\"results\"][\"bindings\"]:\n",
    "    print(binding[\"pLabel\"][\"value\"], binding[\"p\"][\"value\"].split(\"/\")[-1])\n",
    "    "
   ]
  },
  {
   "cell_type": "code",
   "execution_count": 12,
   "metadata": {},
   "outputs": [],
   "source": [
    "from fastembed import TextEmbedding"
   ]
  },
  {
   "cell_type": "code",
   "execution_count": 13,
   "metadata": {},
   "outputs": [
    {
     "name": "stderr",
     "output_type": "stream",
     "text": [
      "Fetching 9 files: 100%|██████████| 9/9 [00:00<00:00, 19826.02it/s]\n"
     ]
    }
   ],
   "source": [
    "embedding_model = TextEmbedding()"
   ]
  },
  {
   "cell_type": "code",
   "execution_count": 14,
   "metadata": {},
   "outputs": [],
   "source": [
    "def create_embeddings(property_names):\n",
    "    inputs = [f\"Wikidata property name: {name}\" for name in property_names]\n",
    "    return embedding_model.embed(inputs)\n",
    "\n",
    "\n",
    "property_names = [binding[\"pLabel\"][\"value\"] for binding in data[\"results\"][\"bindings\"]]\n",
    "property_embeddings = list(create_embeddings(property_names))"
   ]
  },
  {
   "cell_type": "code",
   "execution_count": 15,
   "metadata": {},
   "outputs": [
    {
     "data": {
      "text/plain": [
       "['P509',\n",
       " 'P535',\n",
       " 'P569',\n",
       " 'P570',\n",
       " 'P570',\n",
       " 'P646',\n",
       " 'P648',\n",
       " 'P734',\n",
       " 'P735',\n",
       " 'P937',\n",
       " 'P1157',\n",
       " 'P1412',\n",
       " 'P1559',\n",
       " 'P2163',\n",
       " 'P2600',\n",
       " 'P3368',\n",
       " 'P7859',\n",
       " 'P8462',\n",
       " 'P11500',\n",
       " 'P18',\n",
       " 'P19',\n",
       " 'P21',\n",
       " 'P27',\n",
       " 'P31',\n",
       " 'P39',\n",
       " 'P39',\n",
       " 'P69',\n",
       " 'P102',\n",
       " 'P106',\n",
       " 'P106',\n",
       " 'P119',\n",
       " 'P213',\n",
       " 'P214',\n",
       " 'P244']"
      ]
     },
     "execution_count": 15,
     "metadata": {},
     "output_type": "execute_result"
    }
   ],
   "source": [
    "property_ids = [\n",
    "    binding[\"p\"][\"value\"].split(\"/\")[-1] for binding in data[\"results\"][\"bindings\"]\n",
    "]\n",
    "property_ids"
   ]
  },
  {
   "cell_type": "code",
   "execution_count": 16,
   "metadata": {},
   "outputs": [
    {
     "data": {
      "text/plain": [
       "'Which party is Daniel Ermentrout affiliated with ?'"
      ]
     },
     "execution_count": 16,
     "metadata": {},
     "output_type": "execute_result"
    }
   ],
   "source": [
    "dataset[0][\"turns\"][0][\"utterance\"]"
   ]
  },
  {
   "cell_type": "code",
   "execution_count": 17,
   "metadata": {},
   "outputs": [],
   "source": [
    "query_embedding = list(\n",
    "    embedding_model.embed([\"Which party is Daniel Ermentrout affiliated with ?\"])\n",
    ")[0]"
   ]
  },
  {
   "cell_type": "code",
   "execution_count": 18,
   "metadata": {},
   "outputs": [
    {
     "name": "stdout",
     "output_type": "stream",
     "text": [
      "Rank 1: member of political party P102\n",
      "Rank 2: Political Graveyard politician ID P8462\n",
      "Rank 3: US Congress Bio ID P1157\n",
      "Rank 4: VIAF ID P214\n",
      "Rank 5: United States House of Representatives ID P11500\n"
     ]
    }
   ],
   "source": [
    "import numpy as np\n",
    "\n",
    "\n",
    "def print_top_k(query_embedding, embeddings, property_names, property_ids, k=5):\n",
    "    # use numpy to calculate the cosine similarity between the query and the documents\n",
    "    scores = np.dot(embeddings, query_embedding)\n",
    "    # sort the scores in descending order\n",
    "    sorted_scores = np.argsort(scores)[::-1]\n",
    "    # print the top 5\n",
    "    for i in range(k):\n",
    "        print(\n",
    "            f\"Rank {i+1}: {property_names[sorted_scores[i]]} {property_ids[sorted_scores[i]]}\"\n",
    "        )\n",
    "\n",
    "\n",
    "print_top_k(query_embedding, property_embeddings, property_names, property_ids)"
   ]
  },
  {
   "cell_type": "code",
   "execution_count": 19,
   "metadata": {},
   "outputs": [
    {
     "data": {
      "text/plain": [
       "{'head': {'vars': ['value', 'valueLabel']},\n",
       " 'results': {'bindings': [{'value': {'type': 'uri',\n",
       "     'value': 'http://www.wikidata.org/entity/Q29552'},\n",
       "    'valueLabel': {'xml:lang': 'en',\n",
       "     'type': 'literal',\n",
       "     'value': 'Democratic Party'}}]}}"
      ]
     },
     "execution_count": 19,
     "metadata": {},
     "output_type": "execute_result"
    }
   ],
   "source": [
    "def get_property_value_query(property_id, entity_id):\n",
    "    return f'SELECT ?value ?valueLabel WHERE {{ wd:{entity_id} wdt:{property_id} ?value . SERVICE wikibase:label {{ bd:serviceParam wikibase:language \"en\". }} }}'\n",
    "\n",
    "property_query = get_property_value_query(\"P102\", \"Q5217081\")\n",
    "\n",
    "\n",
    "r = requests.get(url, params = {'query': property_query, 'format': 'json'})\n",
    "\n",
    "data = r.json()\n",
    "\n",
    "data"
   ]
  },
  {
   "cell_type": "code",
   "execution_count": 20,
   "metadata": {},
   "outputs": [
    {
     "name": "stdout",
     "output_type": "stream",
     "text": [
      "Democratic Party Q29552\n"
     ]
    }
   ],
   "source": [
    "for binding in data[\"results\"][\"bindings\"]:\n",
    "    print(binding[\"valueLabel\"][\"value\"], binding[\"value\"][\"value\"].split(\"/\")[-1])"
   ]
  },
  {
   "cell_type": "code",
   "execution_count": 21,
   "metadata": {},
   "outputs": [
    {
     "data": {
      "text/plain": [
       "('Democratic Party', ['Q29552'])"
      ]
     },
     "execution_count": 21,
     "metadata": {},
     "output_type": "execute_result"
    }
   ],
   "source": [
    "dataset[0][\"turns\"][1][\"utterance\"], dataset[0][\"turns\"][1][\"entities_in_utterance\"]"
   ]
  }
 ],
 "metadata": {
  "kernelspec": {
   "display_name": ".venv",
   "language": "python",
   "name": "python3"
  },
  "language_info": {
   "codemirror_mode": {
    "name": "ipython",
    "version": 3
   },
   "file_extension": ".py",
   "mimetype": "text/x-python",
   "name": "python",
   "nbconvert_exporter": "python",
   "pygments_lexer": "ipython3",
   "version": "3.11.8"
  }
 },
 "nbformat": 4,
 "nbformat_minor": 2
}
