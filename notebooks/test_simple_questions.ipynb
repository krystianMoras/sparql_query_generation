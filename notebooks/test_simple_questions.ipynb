{
 "cells": [
  {
   "cell_type": "code",
   "execution_count": 1,
   "metadata": {},
   "outputs": [
    {
     "name": "stderr",
     "output_type": "stream",
     "text": [
      "/home/krysiu/.cache/pypoetry/virtualenvs/sparql-query-generation-Hsv39ezy-py3.11/lib/python3.11/site-packages/tqdm/auto.py:21: TqdmWarning: IProgress not found. Please update jupyter and ipywidgets. See https://ipywidgets.readthedocs.io/en/stable/user_install.html\n",
      "  from .autonotebook import tqdm as notebook_tqdm\n"
     ]
    }
   ],
   "source": [
    "from datasets import load_from_disk"
   ]
  },
  {
   "cell_type": "code",
   "execution_count": 2,
   "metadata": {},
   "outputs": [],
   "source": [
    "simple_questions = load_from_disk(\"../simple_questions\")"
   ]
  },
  {
   "cell_type": "code",
   "execution_count": 3,
   "metadata": {},
   "outputs": [],
   "source": [
    "import json"
   ]
  },
  {
   "cell_type": "code",
   "execution_count": 4,
   "metadata": {},
   "outputs": [
    {
     "name": "stderr",
     "output_type": "stream",
     "text": [
      "Fetching 5 files: 100%|██████████| 5/5 [00:00<00:00, 37991.88it/s]\n"
     ]
    }
   ],
   "source": [
    "from sparql_query_generation.simple_question_answer import answer_simple_direct_question, find_properties_for_entity, collection, get_property_value, embedding_model"
   ]
  },
  {
   "cell_type": "code",
   "execution_count": 5,
   "metadata": {},
   "outputs": [],
   "source": [
    "# import random\n",
    "# import string\n",
    "\n",
    "# random.seed(42)\n",
    "\n",
    "\n",
    "# def random_string(length):\n",
    "#     letters = \"1\"\n",
    "#     return \"\".join(random.choice(letters) for i in range(length))\n",
    "\n",
    "\n",
    "# masked_string = random_string(10)\n",
    "masked_string = \"-\""
   ]
  },
  {
   "cell_type": "code",
   "execution_count": 6,
   "metadata": {},
   "outputs": [
    {
     "data": {
      "text/plain": [
       "{'question': 'Which party is - affiliated with ?',\n",
       " 'entity_id': 'Q5217081',\n",
       " 'answer': {'Q29552'}}"
      ]
     },
     "execution_count": 6,
     "metadata": {},
     "output_type": "execute_result"
    }
   ],
   "source": [
    "def get_args_for_question(turn_user, turn_system):\n",
    "\n",
    "    return {\n",
    "        \"question\" : turn_user[\"utterance\"].replace(turn_user[\"verbalized_entities_in_utterance\"][0], masked_string),\n",
    "        \"entity_id\" : turn_user[\"entities_in_utterance\"][0],\n",
    "        \"answer\": set(turn_system[\"entities_in_utterance\"])\n",
    "    }\n",
    "\n",
    "get_args_for_question(simple_questions[0][\"turns\"][0], simple_questions[0][\"turns\"][1])"
   ]
  },
  {
   "cell_type": "code",
   "execution_count": 7,
   "metadata": {},
   "outputs": [
    {
     "data": {
      "text/plain": [
       "({'Q29552'},\n",
       " 'SELECT ?value ?valueLabel WHERE { wd:Q5217081 wdt:P102 ?value . SERVICE wikibase:label { bd:serviceParam wikibase:language \"en\". } }')"
      ]
     },
     "execution_count": 7,
     "metadata": {},
     "output_type": "execute_result"
    }
   ],
   "source": [
    "question_dict = get_args_for_question(simple_questions[0][\"turns\"][0], simple_questions[0][\"turns\"][1])\n",
    "\n",
    "answer_simple_direct_question(question_dict[\"question\"], question_dict[\"entity_id\"])"
   ]
  },
  {
   "cell_type": "code",
   "execution_count": 16,
   "metadata": {},
   "outputs": [],
   "source": [
    "import random\n",
    "import time\n",
    "def random_sleep():\n",
    "    time.sleep(random.uniform(3.5, 5.0))\n",
    "\n",
    "random_sleep()"
   ]
  },
  {
   "cell_type": "code",
   "execution_count": null,
   "metadata": {},
   "outputs": [],
   "source": [
    "successes = 0\n",
    "\n",
    "total_questions = 0\n",
    "\n",
    "failures = []"
   ]
  },
  {
   "cell_type": "code",
   "execution_count": 14,
   "metadata": {},
   "outputs": [
    {
     "name": "stderr",
     "output_type": "stream",
     "text": [
      "Processing train dialogs:   0%|          | 3/152385 [00:12<161:21:30,  3.81s/it]"
     ]
    },
    {
     "name": "stdout",
     "output_type": "stream",
     "text": [
      "{'Q83457'} {'Q83457', 'Q2448476'}\n",
      "{'Q18125', 'Q21', 'Q915954'} {'Q134202'}\n"
     ]
    },
    {
     "name": "stderr",
     "output_type": "stream",
     "text": [
      "Processing train dialogs:   0%|          | 4/152385 [00:22<267:01:41,  6.31s/it]"
     ]
    },
    {
     "name": "stdout",
     "output_type": "stream",
     "text": [
      "{'Q3919830', 'Q32670711'} {'Q83278'}\n"
     ]
    },
    {
     "name": "stderr",
     "output_type": "stream",
     "text": [
      "Processing train dialogs:   0%|          | 5/152385 [00:27<259:50:11,  6.14s/it]"
     ]
    },
    {
     "name": "stdout",
     "output_type": "stream",
     "text": [
      "{'Q2628226'} {'Q1557944'}\n"
     ]
    },
    {
     "name": "stderr",
     "output_type": "stream",
     "text": [
      "Processing train dialogs:   0%|          | 6/152385 [00:31<215:06:21,  5.08s/it]"
     ]
    },
    {
     "name": "stdout",
     "output_type": "stream",
     "text": [
      "{'1982-03-07T00:00:00Z'} {'Q60'}\n"
     ]
    },
    {
     "name": "stderr",
     "output_type": "stream",
     "text": [
      "Processing train dialogs:   0%|          | 7/152385 [00:32<167:02:33,  3.95s/it]"
     ]
    },
    {
     "name": "stdout",
     "output_type": "stream",
     "text": [
      "{'1925-08-27T00:00:00Z'} {'Q220'}\n",
      "{'Q1200678', 'Q2297927', 'Q2484376', 'Q109733333', 'Q52207399', 'Q188473', 'Q3990883'} {'Q1257444', 'Q2297927', 'Q3990883'}\n",
      "{'Q23936560'} {'Q1222097'}\n"
     ]
    },
    {
     "name": "stderr",
     "output_type": "stream",
     "text": [
      "Processing train dialogs:   0%|          | 8/152385 [00:36<172:16:22,  4.07s/it]"
     ]
    },
    {
     "name": "stdout",
     "output_type": "stream",
     "text": [
      "{'3290'} {'Q26206339'}\n",
      "{'Q199408', 'Q97', 'Q4918', 'Q2090594'} {'Q746333', 'Q23093', 'Q5047861'}\n",
      "{'Q1566394', 'Q19746'} {'Q18171345', 'Q844587', 'Q3847454'}\n"
     ]
    },
    {
     "name": "stderr",
     "output_type": "stream",
     "text": [
      "Processing train dialogs:   0%|          | 9/152385 [00:46<243:08:14,  5.74s/it]"
     ]
    },
    {
     "name": "stdout",
     "output_type": "stream",
     "text": [
      "{'Q737014'} {'Q220945'}\n"
     ]
    },
    {
     "name": "stderr",
     "output_type": "stream",
     "text": [
      "Processing train dialogs:   0%|          | 15/152385 [01:05<122:41:37,  2.90s/it]"
     ]
    },
    {
     "name": "stdout",
     "output_type": "stream",
     "text": [
      "{'Q9027'} {'Q397'}\n",
      "{'Q384'} {'Q5519572', 'Q277022', 'Q41568'}\n"
     ]
    },
    {
     "name": "stderr",
     "output_type": "stream",
     "text": [
      "Processing train dialogs:   0%|          | 16/152385 [01:09<135:34:13,  3.20s/it]"
     ]
    },
    {
     "name": "stdout",
     "output_type": "stream",
     "text": [
      "{'NED'} {'Q42262'}\n"
     ]
    },
    {
     "name": "stderr",
     "output_type": "stream",
     "text": [
      "Processing train dialogs:   0%|          | 17/152385 [01:14<165:08:05,  3.90s/it]"
     ]
    },
    {
     "name": "stdout",
     "output_type": "stream",
     "text": [
      "{'Q6752853'} {'Q6003754', 'Q6701100', 'Q6128418'}\n",
      "{'Q5570670', 'Q9538'} {'Q4398159', 'Q4789335'}\n"
     ]
    },
    {
     "name": "stderr",
     "output_type": "stream",
     "text": [
      "Processing train dialogs:   0%|          | 19/152385 [01:23<165:57:34,  3.92s/it]"
     ]
    },
    {
     "name": "stdout",
     "output_type": "stream",
     "text": [
      "{'67749632'} {'Q923557', 'Q17479789', 'Q236293'}\n"
     ]
    },
    {
     "name": "stderr",
     "output_type": "stream",
     "text": [
      "Processing train dialogs:   0%|          | 20/152385 [01:32<236:29:29,  5.59s/it]"
     ]
    },
    {
     "name": "stdout",
     "output_type": "stream",
     "text": [
      "{'84358845'} {'Q60066', 'Q14943164', 'Q117139'}\n",
      "{'Q14565199'} {'Q18619599', 'Q18679137'}\n"
     ]
    },
    {
     "name": "stderr",
     "output_type": "stream",
     "text": [
      "Processing train dialogs:   0%|          | 21/152385 [01:37<230:34:15,  5.45s/it]"
     ]
    },
    {
     "name": "stdout",
     "output_type": "stream",
     "text": [
      "{'Q42857', 'Q43459871'} {'Q12097'}\n",
      "{'Q2590260'} {'Q6577515'}\n"
     ]
    },
    {
     "name": "stderr",
     "output_type": "stream",
     "text": [
      "Processing train dialogs:   0%|          | 22/152385 [01:43<234:27:21,  5.54s/it]"
     ]
    },
    {
     "name": "stdout",
     "output_type": "stream",
     "text": [
      "{'Q2447386'} {'Q13178418'}\n",
      "{'Q191045'} {'Q191045', 'Q19943'}\n"
     ]
    },
    {
     "name": "stderr",
     "output_type": "stream",
     "text": [
      "Processing train dialogs:   0%|          | 26/152385 [02:04<245:18:40,  5.80s/it]"
     ]
    },
    {
     "name": "stdout",
     "output_type": "stream",
     "text": [
      "{'7VW9H'} {'Q9351'}\n",
      "{'Q97138261', 'Q2778220', 'Q47492499'} {'Q864'}\n"
     ]
    },
    {
     "name": "stderr",
     "output_type": "stream",
     "text": [
      "Processing train dialogs:   0%|          | 28/152385 [02:18<255:51:47,  6.05s/it]"
     ]
    },
    {
     "name": "stdout",
     "output_type": "stream",
     "text": [
      "{'Q1071117'} {'Q57783'}\n"
     ]
    },
    {
     "name": "stderr",
     "output_type": "stream",
     "text": [
      "Processing train dialogs:   0%|          | 29/152385 [02:22<234:58:51,  5.55s/it]"
     ]
    },
    {
     "name": "stdout",
     "output_type": "stream",
     "text": [
      "{'1967-10-15T00:00:00Z'} {'Q690052'}\n",
      "{'Q3072122'} {'Q2825107'}\n"
     ]
    },
    {
     "name": "stderr",
     "output_type": "stream",
     "text": [
      "Processing train dialogs:   0%|          | 33/152385 [02:45<230:50:04,  5.45s/it]"
     ]
    },
    {
     "name": "stdout",
     "output_type": "stream",
     "text": [
      "{'Q21970558'} {'Q38'}\n",
      "{'Q42820', 'Q38882', 'Q13924', 'Q4918', 'Q37495'} {'Q46'}\n"
     ]
    },
    {
     "name": "stderr",
     "output_type": "stream",
     "text": [
      "Processing train dialogs:   0%|          | 34/152385 [02:51<244:17:37,  5.77s/it]"
     ]
    },
    {
     "name": "stdout",
     "output_type": "stream",
     "text": [
      "{'1550-01-01T00:00:00Z'} {'Q12335'}\n",
      "{'Q204920'} {'Q29'}\n",
      "{'Coat%20of%20Arms%20of%20Barcelona.svg'} {'Q8777837'}\n"
     ]
    },
    {
     "name": "stderr",
     "output_type": "stream",
     "text": [
      "Processing train dialogs:   0%|          | 35/152385 [03:01<297:39:23,  7.03s/it]"
     ]
    },
    {
     "name": "stdout",
     "output_type": "stream",
     "text": [
      "Expecting value: line 1 column 1 (char 0)\n",
      "{'Point(2.0 47.0)'} {'Q46', 'Q15', 'Q51'}\n",
      "{'4400'} {'Q17386748'}\n",
      "{'Q6839466'} {'Q484825', 'Q23572'}\n"
     ]
    },
    {
     "name": "stderr",
     "output_type": "stream",
     "text": [
      "Processing train dialogs:   0%|          | 36/152385 [03:10<316:07:07,  7.47s/it]"
     ]
    },
    {
     "name": "stdout",
     "output_type": "stream",
     "text": [
      "Expecting value: line 1 column 1 (char 0)\n",
      "{'Q18579437', 'Q19455277', 'Q18577470', 'Q18577468'} {'Q15397819'}\n"
     ]
    },
    {
     "name": "stderr",
     "output_type": "stream",
     "text": [
      "Processing train dialogs:   0%|          | 37/152385 [03:19<343:08:14,  8.11s/it]"
     ]
    },
    {
     "name": "stdout",
     "output_type": "stream",
     "text": [
      "Expecting value: line 1 column 1 (char 0)\n"
     ]
    },
    {
     "name": "stderr",
     "output_type": "stream",
     "text": [
      "Processing train dialogs:   0%|          | 39/152385 [03:28<248:25:17,  5.87s/it]"
     ]
    },
    {
     "name": "stdout",
     "output_type": "stream",
     "text": [
      "{'35867'} {'Q2894715'}\n"
     ]
    },
    {
     "name": "stderr",
     "output_type": "stream",
     "text": [
      "Processing train dialogs:   0%|          | 40/152385 [03:32<226:14:49,  5.35s/it]"
     ]
    },
    {
     "name": "stdout",
     "output_type": "stream",
     "text": [
      "{'Q6581097'} {'Q1841'}\n",
      "Expecting value: line 1 column 1 (char 0)\n",
      "{'Q1235081', 'Q1590916', 'Q466140', 'Q2547981', 'Q1195632', 'Q1788149', 'Q1149714', 'Q1046358', 'Q1985103', 'Q655773', 'Q1344748', 'Q1192372', 'Q2651398', 'Q1672825', 'Q289484', 'Q1219337', 'Q1551030', 'Q1193148', 'Q1340275', 'Q1591130', 'Q1659490', 'Q17332470', 'Q1217325', 'Q2550194', 'Q514002', 'Q820589', 'Q785720', 'Q841315', 'Q2651382', 'Q1451573', 'Q1216400'} {'Q1167354', 'Q707758'}\n"
     ]
    },
    {
     "name": "stderr",
     "output_type": "stream",
     "text": [
      "Processing train dialogs:   0%|          | 43/152385 [03:49<223:22:30,  5.28s/it]"
     ]
    },
    {
     "name": "stdout",
     "output_type": "stream",
     "text": [
      "Expecting value: line 1 column 1 (char 0)\n",
      "Expecting value: line 1 column 1 (char 0)\n"
     ]
    },
    {
     "name": "stderr",
     "output_type": "stream",
     "text": [
      "Processing train dialogs:   0%|          | 46/152385 [04:05<217:54:06,  5.15s/it]"
     ]
    },
    {
     "name": "stdout",
     "output_type": "stream",
     "text": [
      "{'1979-04-18T00:00:00Z'} {'Q777509'}\n",
      "{'Q1931811'} {'Q145'}\n",
      "{'1453'} {'Q191472', 'Q7280832', 'Q6459992'}\n",
      "{'388'} {'Q610749', 'Q1305295', 'Q1423320'}\n"
     ]
    },
    {
     "name": "stderr",
     "output_type": "stream",
     "text": [
      "Processing train dialogs:   0%|          | 47/152385 [04:21<346:16:15,  8.18s/it]"
     ]
    },
    {
     "name": "stdout",
     "output_type": "stream",
     "text": [
      "{'2000-04-30T00:00:00Z', '2000-04-29T00:00:00Z'} {'Q60'}\n"
     ]
    },
    {
     "name": "stderr",
     "output_type": "stream",
     "text": [
      "Processing train dialogs:   0%|          | 49/152385 [04:29<258:09:42,  6.10s/it]"
     ]
    },
    {
     "name": "stdout",
     "output_type": "stream",
     "text": [
      "{'Q1308545'} {'Q7922403', 'Q512184'}\n"
     ]
    },
    {
     "name": "stderr",
     "output_type": "stream",
     "text": [
      "Processing train dialogs:   0%|          | 51/152385 [04:40<225:08:40,  5.32s/it]"
     ]
    },
    {
     "name": "stdout",
     "output_type": "stream",
     "text": [
      "Expecting value: line 1 column 1 (char 0)\n"
     ]
    },
    {
     "name": "stderr",
     "output_type": "stream",
     "text": [
      "Processing train dialogs:   0%|          | 52/152385 [04:42<188:13:48,  4.45s/it]"
     ]
    },
    {
     "name": "stdout",
     "output_type": "stream",
     "text": [
      "{'藤村有弘'} {'Q4790597'}\n",
      "{'108362'} {'Q769202', 'Q306219', 'Q286194'}\n",
      "{'Q41614'} {'Q849242'}\n"
     ]
    },
    {
     "name": "stderr",
     "output_type": "stream",
     "text": [
      "Processing train dialogs:   0%|          | 53/152385 [04:53<272:47:14,  6.45s/it]"
     ]
    },
    {
     "name": "stdout",
     "output_type": "stream",
     "text": [
      "{'760'} {'Q18012283', 'Q18012271'}\n"
     ]
    },
    {
     "name": "stderr",
     "output_type": "stream",
     "text": [
      "Processing train dialogs:   0%|          | 54/152385 [04:59<270:45:13,  6.40s/it]"
     ]
    },
    {
     "name": "stdout",
     "output_type": "stream",
     "text": [
      "{'Q656', 'Q82174', 'Q133123'} {'Q17151', 'Q1085', 'Q33935'}\n",
      "{'Q7510328', 'Q3486003'} {'Q4870163', 'Q223622', 'Q3494380'}\n",
      "{'920245888'} {'Q4870163'}\n",
      "{'Q26807279', 'Q11081269', 'Q3490834', 'Q2743565', 'Q2667290', 'Q1490045', 'Q2071681', 'Q577602', 'Q2750534', 'Q973974', 'Q2598899', 'Q2686587', 'Q10565884', 'Q2157550', 'Q3490843', 'Q3498074', 'Q3490557', 'Q2444636', 'Q2444921', 'Q13361279', 'Q3490864', 'Q12028979'} {'Q131574'}\n"
     ]
    },
    {
     "name": "stderr",
     "output_type": "stream",
     "text": [
      "Processing train dialogs:   0%|          | 56/152385 [05:17<314:41:13,  7.44s/it]"
     ]
    },
    {
     "name": "stdout",
     "output_type": "stream",
     "text": [
      "Expecting value: line 1 column 1 (char 0)\n",
      "Expecting value: line 1 column 1 (char 0)\n"
     ]
    },
    {
     "name": "stderr",
     "output_type": "stream",
     "text": [
      "Processing train dialogs:   0%|          | 57/152385 [05:23<296:00:19,  7.00s/it]"
     ]
    },
    {
     "name": "stdout",
     "output_type": "stream",
     "text": [
      "{'Q784975'} {'Q36352'}\n"
     ]
    },
    {
     "name": "stderr",
     "output_type": "stream",
     "text": [
      "Processing train dialogs:   0%|          | 58/152385 [05:28<275:09:32,  6.50s/it]"
     ]
    },
    {
     "name": "stdout",
     "output_type": "stream",
     "text": [
      "Expecting value: line 1 column 1 (char 0)\n",
      "Expecting value: line 1 column 1 (char 0)\n",
      "Expecting value: line 1 column 1 (char 0)\n"
     ]
    },
    {
     "name": "stderr",
     "output_type": "stream",
     "text": [
      "Processing train dialogs:   0%|          | 59/152385 [05:38<325:39:28,  7.70s/it]"
     ]
    },
    {
     "name": "stdout",
     "output_type": "stream",
     "text": [
      "Expecting value: line 1 column 1 (char 0)\n"
     ]
    },
    {
     "name": "stderr",
     "output_type": "stream",
     "text": [
      "Processing train dialogs:   0%|          | 60/152385 [05:42<280:11:18,  6.62s/it]"
     ]
    },
    {
     "name": "stdout",
     "output_type": "stream",
     "text": [
      "Expecting value: line 1 column 1 (char 0)\n",
      "{'26171f39-e85a-448f-bd28-a73a5a99927f'} {'Q222749'}\n",
      "{'Q660765'} {'Q554775'}\n",
      "Expecting value: line 1 column 1 (char 0)\n"
     ]
    },
    {
     "name": "stderr",
     "output_type": "stream",
     "text": [
      "Processing train dialogs:   0%|          | 61/152385 [05:56<366:28:43,  8.66s/it]"
     ]
    },
    {
     "name": "stdout",
     "output_type": "stream",
     "text": [
      "Expecting value: line 1 column 1 (char 0)\n",
      "Expecting value: line 1 column 1 (char 0)\n",
      "{'1964-09-25T00:00:00Z'} {'Q270'}\n"
     ]
    },
    {
     "name": "stderr",
     "output_type": "stream",
     "text": [
      "Processing train dialogs:   0%|          | 63/152385 [06:06<279:15:52,  6.60s/it]"
     ]
    },
    {
     "name": "stdout",
     "output_type": "stream",
     "text": [
      "{'5573'} {'Q19819765'}\n"
     ]
    },
    {
     "name": "stderr",
     "output_type": "stream",
     "text": [
      "Processing train dialogs:   0%|          | 64/152385 [06:07<219:03:17,  5.18s/it]"
     ]
    },
    {
     "name": "stdout",
     "output_type": "stream",
     "text": [
      "Expecting value: line 1 column 1 (char 0)\n"
     ]
    },
    {
     "name": "stderr",
     "output_type": "stream",
     "text": [
      "Processing train dialogs:   0%|          | 65/152385 [06:10<184:35:11,  4.36s/it]"
     ]
    },
    {
     "name": "stdout",
     "output_type": "stream",
     "text": [
      "Expected where operand value to be a non-empty list, and all values to obe of the same type got []\n"
     ]
    },
    {
     "name": "stderr",
     "output_type": "stream",
     "text": [
      "Processing train dialogs:   0%|          | 67/152385 [06:23<244:31:59,  5.78s/it]"
     ]
    },
    {
     "name": "stdout",
     "output_type": "stream",
     "text": [
      "{'Q54155', 'Q54169', 'Q54159', 'Q54187', 'Q54157', 'Q54180', 'Q54184', 'Q54158', 'Q54183', 'Q54188', 'Q54177', 'Q54171', 'Q54181', 'Q54153', 'Q54175', 'Q54150'} {'Q36'}\n",
      "{'Q6892582'} {'Q1065', 'Q81299', 'Q42262'}\n"
     ]
    },
    {
     "name": "stderr",
     "output_type": "stream",
     "text": [
      "Processing train dialogs:   0%|          | 68/152385 [06:34<303:36:34,  7.18s/it]"
     ]
    },
    {
     "name": "stdout",
     "output_type": "stream",
     "text": [
      "{'Q3400985', 'Q82955'} {'Q16707842'}\n"
     ]
    },
    {
     "name": "stderr",
     "output_type": "stream",
     "text": [
      "Processing train dialogs:   0%|          | 69/152385 [06:40<288:41:55,  6.82s/it]"
     ]
    },
    {
     "name": "stdout",
     "output_type": "stream",
     "text": [
      "Expecting value: line 1 column 1 (char 0)\n"
     ]
    },
    {
     "name": "stderr",
     "output_type": "stream",
     "text": [
      "Processing train dialogs:   0%|          | 70/152385 [06:44<256:18:10,  6.06s/it]"
     ]
    },
    {
     "name": "stdout",
     "output_type": "stream",
     "text": [
      "Expecting value: line 1 column 1 (char 0)\n",
      "{'Q14565199'} {'Q52722', 'Q52720', 'Q34444'}\n"
     ]
    },
    {
     "name": "stderr",
     "output_type": "stream",
     "text": [
      "Processing train dialogs:   0%|          | 71/152385 [06:48<232:05:10,  5.49s/it]"
     ]
    },
    {
     "name": "stdout",
     "output_type": "stream",
     "text": [
      "Expecting value: line 1 column 1 (char 0)\n",
      "Expecting value: line 1 column 1 (char 0)\n"
     ]
    },
    {
     "name": "stderr",
     "output_type": "stream",
     "text": [
      "Processing train dialogs:   0%|          | 72/152385 [06:54<239:03:01,  5.65s/it]"
     ]
    },
    {
     "name": "stdout",
     "output_type": "stream",
     "text": [
      "{'mairie-07339-01'} {'Q155247', 'Q871274', 'Q866586'}\n",
      "{'96683cc9126741d1'} {'Q828'}\n",
      "{'Q1464509'} {'Q3168172'}\n"
     ]
    },
    {
     "name": "stderr",
     "output_type": "stream",
     "text": [
      "Processing train dialogs:   0%|          | 74/152385 [07:10<283:20:17,  6.70s/it]"
     ]
    },
    {
     "name": "stdout",
     "output_type": "stream",
     "text": [
      "Expecting value: line 1 column 1 (char 0)\n"
     ]
    },
    {
     "name": "stderr",
     "output_type": "stream",
     "text": [
      "Processing train dialogs:   0%|          | 75/152385 [07:13<241:29:21,  5.71s/it]"
     ]
    },
    {
     "name": "stdout",
     "output_type": "stream",
     "text": [
      "Expecting value: line 1 column 1 (char 0)\n",
      "{'1159296897'} {'Q180257', 'Q958105', 'Q1810975'}\n",
      "{'Q4881493'} {'Q110431'}\n"
     ]
    },
    {
     "name": "stderr",
     "output_type": "stream",
     "text": [
      "Processing train dialogs:   0%|          | 76/152385 [07:21<269:38:38,  6.37s/it]"
     ]
    },
    {
     "name": "stdout",
     "output_type": "stream",
     "text": [
      "{'Q13383011'} {'Q2066131'}\n"
     ]
    },
    {
     "name": "stderr",
     "output_type": "stream",
     "text": [
      "Processing train dialogs:   0%|          | 78/152385 [07:31<224:18:45,  5.30s/it]"
     ]
    },
    {
     "name": "stdout",
     "output_type": "stream",
     "text": [
      "Expecting value: line 1 column 1 (char 0)\n"
     ]
    },
    {
     "name": "stderr",
     "output_type": "stream",
     "text": [
      "Processing train dialogs:   0%|          | 79/152385 [07:37<239:05:45,  5.65s/it]"
     ]
    },
    {
     "name": "stdout",
     "output_type": "stream",
     "text": [
      "{'Q5369'} {'Q5373508', 'Q7963296', 'Q6490862'}\n",
      "Expecting value: line 1 column 1 (char 0)\n"
     ]
    },
    {
     "name": "stderr",
     "output_type": "stream",
     "text": [
      "Processing train dialogs:   0%|          | 80/152385 [07:48<302:54:13,  7.16s/it]"
     ]
    },
    {
     "name": "stdout",
     "output_type": "stream",
     "text": [
      "Expecting value: line 1 column 1 (char 0)\n"
     ]
    },
    {
     "name": "stderr",
     "output_type": "stream",
     "text": [
      "Processing train dialogs:   0%|          | 81/152385 [07:55<298:53:16,  7.06s/it]"
     ]
    },
    {
     "name": "stdout",
     "output_type": "stream",
     "text": [
      "Expecting value: line 1 column 1 (char 0)\n",
      "{'Q6904'} {'Q26699535'}\n",
      "Expecting value: line 1 column 1 (char 0)\n"
     ]
    },
    {
     "name": "stderr",
     "output_type": "stream",
     "text": [
      "Processing train dialogs:   0%|          | 82/152385 [08:03<314:50:44,  7.44s/it]"
     ]
    },
    {
     "name": "stdout",
     "output_type": "stream",
     "text": [
      "{'NEDERLAND%20WINT%20DE%20VOETBALWEDSTIJD%20VAN%20BELGIE%20MET%202-1-PGM4011927.webm'} {'Q8052504'}\n",
      "{'calcio-un-fenomeno-non-solo-sportivo'} {'Q824352', 'Q867234', 'Q2701834'}\n",
      "{'Q52502'} {'Q10519130'}\n"
     ]
    },
    {
     "name": "stderr",
     "output_type": "stream",
     "text": [
      "Processing train dialogs:   0%|          | 84/152385 [08:14<258:47:54,  6.12s/it]"
     ]
    },
    {
     "name": "stdout",
     "output_type": "stream",
     "text": [
      "Expecting value: line 1 column 1 (char 0)\n",
      "Expecting value: line 1 column 1 (char 0)\n"
     ]
    },
    {
     "name": "stderr",
     "output_type": "stream",
     "text": [
      "Processing train dialogs:   0%|          | 86/152385 [08:24<224:10:48,  5.30s/it]"
     ]
    },
    {
     "name": "stdout",
     "output_type": "stream",
     "text": [
      "Expecting value: line 1 column 1 (char 0)\n",
      "{'Q17153751'} {'Q17039564', 'Q7314125', 'Q208571'}\n",
      "{'Q484652', 'Q245065', 'Q43229'} {'Q155782'}\n"
     ]
    },
    {
     "name": "stderr",
     "output_type": "stream",
     "text": [
      "Processing train dialogs:   0%|          | 88/152385 [08:38<258:43:13,  6.12s/it]"
     ]
    },
    {
     "name": "stdout",
     "output_type": "stream",
     "text": [
      "{'Q702745', 'Q3093'} {'Q142'}\n",
      "{'Q8458068'} {'Q19263522'}\n",
      "{'pcrtB8dqd283LX'} {'Q3390230'}\n"
     ]
    },
    {
     "name": "stderr",
     "output_type": "stream",
     "text": [
      "Processing train dialogs:   0%|          | 89/152385 [08:48<307:32:37,  7.27s/it]"
     ]
    },
    {
     "name": "stdout",
     "output_type": "stream",
     "text": [
      "{'Q1760078'} {'Q298443'}\n",
      "{'Q643284', 'Q1169'} {'Q49'}\n"
     ]
    },
    {
     "name": "stderr",
     "output_type": "stream",
     "text": [
      "Processing train dialogs:   0%|          | 90/152385 [08:56<310:43:05,  7.34s/it]"
     ]
    },
    {
     "name": "stdout",
     "output_type": "stream",
     "text": [
      "Expecting value: line 1 column 1 (char 0)\n",
      "{'M00000304795'} {'Q4733624', 'Q7648616', 'Q6758991'}\n"
     ]
    },
    {
     "name": "stderr",
     "output_type": "stream",
     "text": [
      "Processing train dialogs:   0%|          | 91/152385 [09:01<287:55:06,  6.81s/it]"
     ]
    },
    {
     "name": "stdout",
     "output_type": "stream",
     "text": [
      "{'1940-07-18T00:00:00Z'} {'Q1024724'}\n"
     ]
    },
    {
     "name": "stderr",
     "output_type": "stream",
     "text": [
      "Processing train dialogs:   0%|          | 92/152385 [09:08<289:34:47,  6.85s/it]"
     ]
    },
    {
     "name": "stdout",
     "output_type": "stream",
     "text": [
      "{'1958-12-08T00:00:00Z'} {'Q649'}\n"
     ]
    },
    {
     "name": "stderr",
     "output_type": "stream",
     "text": [
      "Processing train dialogs:   0%|          | 93/152385 [09:12<253:33:01,  5.99s/it]"
     ]
    },
    {
     "name": "stdout",
     "output_type": "stream",
     "text": [
      "{'1635-03-25T00:00:00Z', '1635-03-24T00:00:00Z'} {'Q3739104'}\n"
     ]
    },
    {
     "name": "stderr",
     "output_type": "stream",
     "text": [
      "Processing train dialogs:   0%|          | 94/152385 [09:21<290:01:34,  6.86s/it]"
     ]
    },
    {
     "name": "stdout",
     "output_type": "stream",
     "text": [
      "{'Lynne-Thigpen'} {'Q22918899'}\n"
     ]
    },
    {
     "name": "stderr",
     "output_type": "stream",
     "text": [
      "Processing train dialogs:   0%|          | 95/152385 [09:29<310:58:36,  7.35s/it]"
     ]
    },
    {
     "name": "stdout",
     "output_type": "stream",
     "text": [
      "{'mn0000303136'} {'Q6657050'}\n"
     ]
    },
    {
     "name": "stderr",
     "output_type": "stream",
     "text": [
      "Processing train dialogs:   0%|          | 96/152385 [09:34<277:42:10,  6.56s/it]"
     ]
    },
    {
     "name": "stdout",
     "output_type": "stream",
     "text": [
      "{'1883-01-01T00:00:00Z'} {'Q520405'}\n",
      "{'978-88', '979-12'} {'Q18647256', 'Q27620404'}\n"
     ]
    },
    {
     "name": "stderr",
     "output_type": "stream",
     "text": [
      "Processing train dialogs:   0%|          | 100/152385 [09:56<240:12:42,  5.68s/it]"
     ]
    },
    {
     "name": "stdout",
     "output_type": "stream",
     "text": [
      "{'1992-01-01T00:00:00Z'} {'Q4093'}\n",
      "{'Q43274'} {'Q9682', 'Q269412', 'Q280856'}\n"
     ]
    },
    {
     "name": "stderr",
     "output_type": "stream",
     "text": [
      "Processing train dialogs:   0%|          | 101/152385 [10:02<239:23:07,  5.66s/it]"
     ]
    },
    {
     "name": "stdout",
     "output_type": "stream",
     "text": [
      "{'Q61812435'} {'Q467638'}\n",
      "{'Q275106'} {'Q333780', 'Q194009', 'Q188508'}\n"
     ]
    },
    {
     "name": "stderr",
     "output_type": "stream",
     "text": [
      "Processing train dialogs:   0%|          | 102/152385 [10:10<267:35:57,  6.33s/it]"
     ]
    },
    {
     "name": "stdout",
     "output_type": "stream",
     "text": [
      "Expecting value: line 1 column 1 (char 0)\n",
      "Expecting value: line 1 column 1 (char 0)\n",
      "{'Q2007', 'Q603676', 'Q1904', 'Q1989', 'Q1965', 'Q1952', 'Q1973', 'Q1951', 'Q2009', 'Q176', 'Q2003', 'Q2023', 'Q1948', 'Q1978'} {'Q1930'}\n"
     ]
    },
    {
     "name": "stderr",
     "output_type": "stream",
     "text": [
      "Processing train dialogs:   0%|          | 103/152385 [10:16<262:30:43,  6.21s/it]"
     ]
    },
    {
     "name": "stdout",
     "output_type": "stream",
     "text": [
      "{'Q333', 'Q37547', 'Q18366'} {'Q11063', 'Q169470'}\n",
      "{'7f2761eb-4edc-48ad-9fbf-eed0a0db9a21'} {'Q505197', 'Q1530613', 'Q1612625'}\n"
     ]
    },
    {
     "name": "stderr",
     "output_type": "stream",
     "text": [
      "Processing train dialogs:   0%|          | 106/152385 [10:28<198:24:56,  4.69s/it]"
     ]
    },
    {
     "name": "stdout",
     "output_type": "stream",
     "text": [
      "Expecting value: line 1 column 1 (char 0)\n"
     ]
    },
    {
     "name": "stderr",
     "output_type": "stream",
     "text": [
      "Processing train dialogs:   0%|          | 107/152385 [10:33<199:15:32,  4.71s/it]"
     ]
    },
    {
     "name": "stdout",
     "output_type": "stream",
     "text": [
      "Expecting value: line 1 column 1 (char 0)\n",
      "Expecting value: line 1 column 1 (char 0)\n",
      "{'Point(9.14062 48.690959)'} {'Q145694'}\n",
      "{'Q384737'} {'Q30'}\n"
     ]
    },
    {
     "name": "stderr",
     "output_type": "stream",
     "text": [
      "Processing train dialogs:   0%|          | 109/152385 [10:48<245:01:54,  5.79s/it]"
     ]
    },
    {
     "name": "stdout",
     "output_type": "stream",
     "text": [
      "Expecting value: line 1 column 1 (char 0)\n"
     ]
    },
    {
     "name": "stderr",
     "output_type": "stream",
     "text": [
      "Processing train dialogs:   0%|          | 110/152385 [10:53<230:29:39,  5.45s/it]"
     ]
    },
    {
     "name": "stdout",
     "output_type": "stream",
     "text": [
      "{'Q41797386', 'Q83134675', 'Q24725444'} {'Q40260'}\n"
     ]
    },
    {
     "name": "stderr",
     "output_type": "stream",
     "text": [
      "Processing train dialogs:   0%|          | 112/152385 [11:06<250:22:52,  5.92s/it]"
     ]
    },
    {
     "name": "stdout",
     "output_type": "stream",
     "text": [
      "{'Q83146690', 'Q41797723', 'Q4746442', 'Q24721850'} {'Q79899'}\n"
     ]
    },
    {
     "name": "stderr",
     "output_type": "stream",
     "text": [
      "Processing train dialogs:   0%|          | 114/152385 [11:16<228:03:39,  5.39s/it]"
     ]
    },
    {
     "name": "stdout",
     "output_type": "stream",
     "text": [
      "{'Q79899'} {'Q22327470'}\n"
     ]
    },
    {
     "name": "stderr",
     "output_type": "stream",
     "text": [
      "Processing train dialogs:   0%|          | 115/152385 [11:20<214:12:42,  5.06s/it]"
     ]
    },
    {
     "name": "stdout",
     "output_type": "stream",
     "text": [
      "{'Q41614'} {'Q849242'}\n"
     ]
    },
    {
     "name": "stderr",
     "output_type": "stream",
     "text": [
      "Processing train dialogs:   0%|          | 117/152385 [11:30<198:00:39,  4.68s/it]"
     ]
    },
    {
     "name": "stdout",
     "output_type": "stream",
     "text": [
      "Expecting value: line 1 column 1 (char 0)\n"
     ]
    },
    {
     "name": "stderr",
     "output_type": "stream",
     "text": [
      "Processing train dialogs:   0%|          | 118/152385 [11:34<187:13:14,  4.43s/it]"
     ]
    },
    {
     "name": "stdout",
     "output_type": "stream",
     "text": [
      "Expecting value: line 1 column 1 (char 0)\n"
     ]
    },
    {
     "name": "stderr",
     "output_type": "stream",
     "text": [
      "Processing train dialogs:   0%|          | 119/152385 [11:36<156:06:56,  3.69s/it]"
     ]
    },
    {
     "name": "stdout",
     "output_type": "stream",
     "text": [
      "Expecting value: line 1 column 1 (char 0)\n"
     ]
    },
    {
     "name": "stderr",
     "output_type": "stream",
     "text": [
      "Processing train dialogs:   0%|          | 120/152385 [11:40<165:16:20,  3.91s/it]"
     ]
    },
    {
     "name": "stdout",
     "output_type": "stream",
     "text": [
      "Expecting value: line 1 column 1 (char 0)\n",
      "{'Q471839', 'Q52162262'} {'Q1257444', 'Q471839'}\n"
     ]
    },
    {
     "name": "stderr",
     "output_type": "stream",
     "text": [
      "Processing train dialogs:   0%|          | 121/152385 [11:46<183:52:16,  4.35s/it]"
     ]
    },
    {
     "name": "stdout",
     "output_type": "stream",
     "text": [
      "{'Q756617'} {'Q35'}\n",
      "Expecting value: line 1 column 1 (char 0)\n",
      "{'Q1374339', 'Q4114391', 'Q4173137', 'Q4532138', 'Q15987490', 'Q20096917', 'Q16082057', 'Q302556', 'Q2041543', 'Q19180675', 'Q3181656', 'Q1029706', 'Q867541', 'Q19047539', 'Q602358', 'Q19077875'} {'Q4699932'}\n",
      "Expecting value: line 1 column 1 (char 0)\n",
      "{'Q26073'} {'Q35'}\n",
      "{'104987'} {'Q1382330', 'Q728031', 'Q5807881'}\n"
     ]
    },
    {
     "name": "stderr",
     "output_type": "stream",
     "text": [
      "Processing train dialogs:   0%|          | 124/152385 [12:11<262:51:08,  6.21s/it]"
     ]
    },
    {
     "name": "stdout",
     "output_type": "stream",
     "text": [
      "{'Q82955', 'Q14284'} {'Q40348'}\n",
      "{'Q27509'} {'Q46'}\n",
      "{'Antarctica%20relief%20location%20map.jpg'} {'Q1333903', 'Q3374224'}\n",
      "{'Q685753'} {'Q1388048'}\n"
     ]
    },
    {
     "name": "stderr",
     "output_type": "stream",
     "text": [
      "Processing train dialogs:   0%|          | 125/152385 [12:21<312:59:52,  7.40s/it]"
     ]
    },
    {
     "name": "stdout",
     "output_type": "stream",
     "text": [
      "Expecting value: line 1 column 1 (char 0)\n",
      "{'Q84'} {'Q145'}\n"
     ]
    },
    {
     "name": "stderr",
     "output_type": "stream",
     "text": [
      "Processing train dialogs:   0%|          | 126/152385 [12:28<300:13:22,  7.10s/it]"
     ]
    },
    {
     "name": "stdout",
     "output_type": "stream",
     "text": [
      "Expecting value: line 1 column 1 (char 0)\n",
      "Expecting value: line 1 column 1 (char 0)\n"
     ]
    },
    {
     "name": "stderr",
     "output_type": "stream",
     "text": [
      "Processing train dialogs:   0%|          | 129/152385 [12:47<248:03:07,  5.87s/it]"
     ]
    },
    {
     "name": "stdout",
     "output_type": "stream",
     "text": [
      "Expecting value: line 1 column 1 (char 0)\n",
      "{'Q16316'} {'Q38'}\n"
     ]
    },
    {
     "name": "stderr",
     "output_type": "stream",
     "text": [
      "Processing train dialogs:   0%|          | 130/152385 [12:53<250:46:31,  5.93s/it]"
     ]
    },
    {
     "name": "stdout",
     "output_type": "stream",
     "text": [
      "Expecting value: line 1 column 1 (char 0)\n",
      "{'Q54889'} {'Q26698135'}\n",
      "{'Q26698135'} {'Q14018162'}\n",
      "{'Q18597931'} {'Q43729'}\n"
     ]
    },
    {
     "name": "stderr",
     "output_type": "stream",
     "text": [
      "Processing train dialogs:   0%|          | 131/152385 [13:02<289:11:49,  6.84s/it]"
     ]
    },
    {
     "name": "stdout",
     "output_type": "stream",
     "text": [
      "Expecting value: line 1 column 1 (char 0)\n"
     ]
    },
    {
     "name": "stderr",
     "output_type": "stream",
     "text": [
      "Processing train dialogs:   0%|          | 132/152385 [13:07<257:42:24,  6.09s/it]"
     ]
    },
    {
     "name": "stdout",
     "output_type": "stream",
     "text": [
      "{'Q7747'} {'Q34453', 'Q7747', 'Q23530'}\n"
     ]
    },
    {
     "name": "stderr",
     "output_type": "stream",
     "text": [
      "Processing train dialogs:   0%|          | 135/152385 [13:25<258:09:37,  6.10s/it]"
     ]
    },
    {
     "name": "stdout",
     "output_type": "stream",
     "text": [
      "{'Q7463334'} {'Q43482'}\n"
     ]
    },
    {
     "name": "stderr",
     "output_type": "stream",
     "text": [
      "Processing train dialogs:   0%|          | 136/152385 [13:32<264:55:53,  6.26s/it]"
     ]
    },
    {
     "name": "stdout",
     "output_type": "stream",
     "text": [
      "{'1966-08-26T00:00:00Z'} {'Q365'}\n",
      "{'Q3879', 'Q2975', 'Q2980', 'Q2967', 'Q1707'} {'Q183'}\n"
     ]
    },
    {
     "name": "stderr",
     "output_type": "stream",
     "text": [
      "Processing train dialogs:   0%|          | 138/152385 [13:51<315:45:04,  7.47s/it]"
     ]
    },
    {
     "name": "stdout",
     "output_type": "stream",
     "text": [
      "{'Q9759'} {'Q235858'}\n",
      "{'Q5248228'} {'Q1758112', 'Q640710', 'Q732960'}\n"
     ]
    },
    {
     "name": "stderr",
     "output_type": "stream",
     "text": [
      "Processing train dialogs:   0%|          | 139/152385 [13:58<312:00:49,  7.38s/it]"
     ]
    },
    {
     "name": "stdout",
     "output_type": "stream",
     "text": [
      "{'Q16565533'} {'Q1422826'}\n"
     ]
    },
    {
     "name": "stderr",
     "output_type": "stream",
     "text": [
      "Processing train dialogs:   0%|          | 140/152385 [14:01<248:51:18,  5.88s/it]"
     ]
    },
    {
     "name": "stdout",
     "output_type": "stream",
     "text": [
      "{'Q82955'} {'Q18534310'}\n"
     ]
    },
    {
     "name": "stderr",
     "output_type": "stream",
     "text": [
      "Processing train dialogs:   0%|          | 141/152385 [14:03<199:19:58,  4.71s/it]"
     ]
    },
    {
     "name": "stdout",
     "output_type": "stream",
     "text": [
      "Expecting value: line 1 column 1 (char 0)\n"
     ]
    },
    {
     "name": "stderr",
     "output_type": "stream",
     "text": [
      "Processing train dialogs:   0%|          | 142/152385 [14:05<167:33:09,  3.96s/it]"
     ]
    },
    {
     "name": "stdout",
     "output_type": "stream",
     "text": [
      "{'Q513712', 'Q4828438'} {'Q790686'}\n",
      "{'Q7749'} {'Q16154700'}\n",
      "{'Q746359'} {'Q11190584'}\n",
      "{'Q5180489'} {'Q641614', 'Q948409'}\n"
     ]
    },
    {
     "name": "stderr",
     "output_type": "stream",
     "text": [
      "Processing train dialogs:   0%|          | 143/152385 [14:15<247:04:46,  5.84s/it]"
     ]
    },
    {
     "name": "stdout",
     "output_type": "stream",
     "text": [
      "{'Q221878', 'Q213837', 'Q219714', 'Q4819311'} {'Q3528311'}\n"
     ]
    },
    {
     "name": "stderr",
     "output_type": "stream",
     "text": [
      "Processing train dialogs:   0%|          | 144/152385 [14:17<195:33:23,  4.62s/it]"
     ]
    },
    {
     "name": "stdout",
     "output_type": "stream",
     "text": [
      "{'Q2566598', 'Q250867', 'Q1234713', 'Q611644'} {'Q49476', 'Q45722', 'Q29182'}\n"
     ]
    },
    {
     "name": "stderr",
     "output_type": "stream",
     "text": [
      "Processing train dialogs:   0%|          | 146/152385 [14:27<192:52:19,  4.56s/it]"
     ]
    },
    {
     "name": "stdout",
     "output_type": "stream",
     "text": [
      "{'1573-07-22T00:00:00Z'} {'Q478417'}\n",
      "{'1647-09-18T00:00:00Z'} {'Q13666'}\n"
     ]
    },
    {
     "name": "stderr",
     "output_type": "stream",
     "text": [
      "Processing train dialogs:   0%|          | 147/152385 [14:31<187:08:36,  4.43s/it]"
     ]
    },
    {
     "name": "stdout",
     "output_type": "stream",
     "text": [
      "{'1879-05-18T00:00:00Z'} {'Q1016601'}\n",
      "{'Q6182143'} {'Q30'}\n",
      "Expecting value: line 1 column 1 (char 0)\n"
     ]
    },
    {
     "name": "stderr",
     "output_type": "stream",
     "text": [
      "Processing train dialogs:   0%|          | 148/152385 [14:42<270:44:18,  6.40s/it]"
     ]
    },
    {
     "name": "stdout",
     "output_type": "stream",
     "text": [
      "{'92499'} {'Q26215129'}\n"
     ]
    },
    {
     "name": "stderr",
     "output_type": "stream",
     "text": [
      "Processing train dialogs:   0%|          | 149/152385 [14:49<270:45:05,  6.40s/it]"
     ]
    },
    {
     "name": "stdout",
     "output_type": "stream",
     "text": [
      "{'Q142148', 'Q127892', 'Q97', 'Q3783'} {'Q18'}\n"
     ]
    },
    {
     "name": "stderr",
     "output_type": "stream",
     "text": [
      "Processing train dialogs:   0%|          | 150/152385 [14:56<283:37:09,  6.71s/it]"
     ]
    },
    {
     "name": "stdout",
     "output_type": "stream",
     "text": [
      "{'a47f82d3-4cf7-4abf-bb36-2c8cbad28234'} {'Q709844', 'Q15114765'}\n",
      "{'10197'} {'Q2844607', 'Q723621', 'Q5945149'}\n",
      "Expecting value: line 1 column 1 (char 0)\n"
     ]
    },
    {
     "name": "stderr",
     "output_type": "stream",
     "text": [
      "Processing train dialogs:   0%|          | 151/152385 [15:04<296:35:54,  7.01s/it]"
     ]
    },
    {
     "name": "stdout",
     "output_type": "stream",
     "text": [
      "Expecting value: line 1 column 1 (char 0)\n",
      "{'Q142148', 'Q127892', 'Q97', 'Q3783'} {'Q18'}\n"
     ]
    },
    {
     "name": "stderr",
     "output_type": "stream",
     "text": [
      "Processing train dialogs:   0%|          | 152/152385 [15:08<267:24:34,  6.32s/it]"
     ]
    },
    {
     "name": "stdout",
     "output_type": "stream",
     "text": [
      "{'Q49768'} {'Q183'}\n",
      "{'Q7926', 'Q22880', 'Q151095', 'Q1198', 'Q1270638'} {'Q623549', 'Q2795', 'Q11725'}\n",
      "{'Q713343'} {'Q13426199'}\n"
     ]
    },
    {
     "name": "stderr",
     "output_type": "stream",
     "text": [
      "Processing train dialogs:   0%|          | 153/152385 [15:18<306:52:41,  7.26s/it]"
     ]
    },
    {
     "name": "stdout",
     "output_type": "stream",
     "text": [
      "{'Blighty'} {'Q183231'}\n",
      "{'GB-ENG'} {'Q30192'}\n"
     ]
    },
    {
     "name": "stderr",
     "output_type": "stream",
     "text": [
      "Processing train dialogs:   0%|          | 154/152385 [15:23<278:59:58,  6.60s/it]"
     ]
    },
    {
     "name": "stdout",
     "output_type": "stream",
     "text": [
      "{'Q159'} {'Q191788'}\n"
     ]
    },
    {
     "name": "stderr",
     "output_type": "stream",
     "text": [
      "Processing train dialogs:   0%|          | 155/152385 [15:34<330:47:53,  7.82s/it]"
     ]
    },
    {
     "name": "stdout",
     "output_type": "stream",
     "text": [
      "{'Q131964'} {'Q34069'}\n"
     ]
    },
    {
     "name": "stderr",
     "output_type": "stream",
     "text": [
      "Processing train dialogs:   0%|          | 157/152385 [15:41<246:47:16,  5.84s/it]"
     ]
    },
    {
     "name": "stdout",
     "output_type": "stream",
     "text": [
      "{'norman-mclaren'} {'Q5712910', 'Q3562390', 'Q2937583'}\n"
     ]
    },
    {
     "name": "stderr",
     "output_type": "stream",
     "text": [
      "Processing train dialogs:   0%|          | 158/152385 [15:46<226:43:38,  5.36s/it]"
     ]
    },
    {
     "name": "stdout",
     "output_type": "stream",
     "text": [
      "{'Q8567'} {'Q2736'}\n",
      "{'Q367523', 'Q848352', 'Q86591', 'Q744159', 'Q755999', 'Q751738', 'Q371781', 'Q2913791', 'Q196627'} {'Q7276383', 'Q528547'}\n",
      "{'Q61'} {'Q60', 'Q61'}\n"
     ]
    },
    {
     "name": "stderr",
     "output_type": "stream",
     "text": [
      "Processing train dialogs:   0%|          | 159/152385 [15:54<262:00:39,  6.20s/it]"
     ]
    },
    {
     "name": "stdout",
     "output_type": "stream",
     "text": [
      "{'Q1860'} {'Q7738130', 'Q7994659'}\n",
      "{'Q838368'} {'Q2254548'}\n"
     ]
    },
    {
     "name": "stderr",
     "output_type": "stream",
     "text": [
      "Processing train dialogs:   0%|          | 160/152385 [16:03<300:45:30,  7.11s/it]"
     ]
    },
    {
     "name": "stdout",
     "output_type": "stream",
     "text": [
      "{'Q14863719', 'Q14860886', 'Q492', 'Q332154', 'Q14862254', 'Q14864686', 'Q14865169', 'Q14866059', 'Q14865068', 'Q21109319', 'Q14859616', 'Q2734305', 'Q4118894', 'Q828130', 'Q21095654', 'Q2990593', 'Q14864366', 'Q14758945', 'Q14859604', 'Q14633887', 'Q14821388', 'Q14908171', 'Q14331037', 'Q14891409', 'Q14860519', 'Q14758909', 'Q14888571', 'Q35831', 'Q14633891', 'Q14877475', 'Q14820675', 'Q14897688', 'Q14891397', 'Q2383867', 'Q14330653', 'Q14888544', 'Q14859603', 'Q14891401', 'Q14820654', 'Q14885200'} {'Q9332'}\n"
     ]
    },
    {
     "name": "stderr",
     "output_type": "stream",
     "text": [
      "Processing train dialogs:   0%|          | 161/152385 [16:11<306:02:19,  7.24s/it]"
     ]
    },
    {
     "name": "stdout",
     "output_type": "stream",
     "text": [
      "{'Q179567', 'Q185586', 'Q188661', 'Q188945', 'Q193055', 'Q181209', 'Q191653', 'Q184797', 'Q187925', 'Q182624', 'Q179559', 'Q182614', 'Q188948', 'Q179588', 'Q181513', 'Q182888', 'Q190702', 'Q185309', 'Q190406', 'Q19660', 'Q193044', 'Q188665', 'Q191670', 'Q191717', 'Q191071', 'Q167199', 'Q191065', 'Q190690', 'Q188796', 'Q188797', 'Q165459', 'Q188959', 'Q191078', 'Q188813', 'Q190711', 'Q182778', 'Q45868', 'Q186838', 'Q188505', 'Q178861', 'Q179779', 'Q188503'} {'Q218'}\n",
      "{'Q18563658'} {'Q6546268', 'Q4959936', 'Q7806610'}\n",
      "{'Q82955'} {'Q19938957', 'Q21504218', 'Q21504216'}\n"
     ]
    },
    {
     "name": "stderr",
     "output_type": "stream",
     "text": [
      "Processing train dialogs:   0%|          | 162/152385 [16:25<402:08:41,  9.51s/it]"
     ]
    },
    {
     "name": "stdout",
     "output_type": "stream",
     "text": [
      "Expecting value: line 1 column 1 (char 0)\n",
      "{'Q20997663'} {'Q7089791', 'Q137683'}\n"
     ]
    },
    {
     "name": "stderr",
     "output_type": "stream",
     "text": [
      "Processing train dialogs:   0%|          | 163/152385 [16:30<339:39:55,  8.03s/it]"
     ]
    },
    {
     "name": "stdout",
     "output_type": "stream",
     "text": [
      "Expecting value: line 1 column 1 (char 0)\n",
      "{'Q6393193'} {'Q1143334'}\n"
     ]
    },
    {
     "name": "stderr",
     "output_type": "stream",
     "text": [
      "Processing train dialogs:   0%|          | 164/152385 [16:36<317:21:46,  7.51s/it]"
     ]
    },
    {
     "name": "stdout",
     "output_type": "stream",
     "text": [
      "Expecting value: line 1 column 1 (char 0)\n"
     ]
    },
    {
     "name": "stderr",
     "output_type": "stream",
     "text": [
      "Processing train dialogs:   0%|          | 165/152385 [16:42<298:30:05,  7.06s/it]"
     ]
    },
    {
     "name": "stdout",
     "output_type": "stream",
     "text": [
      "{'1928-11-28T00:00:00Z'} {'Q197297'}\n",
      "{'Q197297'} {'Q3448523'}\n",
      "{'Q1587677'} {'Q10287', 'Q7711'}\n"
     ]
    },
    {
     "name": "stderr",
     "output_type": "stream",
     "text": [
      "Processing train dialogs:   0%|          | 166/152385 [16:51<320:02:13,  7.57s/it]"
     ]
    },
    {
     "name": "stdout",
     "output_type": "stream",
     "text": [
      "{'1875-11-22T00:00:00Z'} {'Q239'}\n",
      "{'Q1101'} {'Q55'}\n",
      "{'Q131716', 'Q545', 'Q104662'} {'Q46'}\n"
     ]
    },
    {
     "name": "stderr",
     "output_type": "stream",
     "text": [
      "Processing train dialogs:   0%|          | 167/152385 [16:58<313:23:42,  7.41s/it]"
     ]
    },
    {
     "name": "stdout",
     "output_type": "stream",
     "text": [
      "{'1965-03-12T00:00:00Z'} {'Q126415'}\n",
      "{'1a07bd7d-2e1d-4930-a84a-1a442b8f2a44'} {'Q7553'}\n"
     ]
    },
    {
     "name": "stderr",
     "output_type": "stream",
     "text": [
      "Processing train dialogs:   0%|          | 168/152385 [17:06<313:30:57,  7.41s/it]"
     ]
    },
    {
     "name": "stdout",
     "output_type": "stream",
     "text": [
      "Expecting value: line 1 column 1 (char 0)\n"
     ]
    },
    {
     "name": "stderr",
     "output_type": "stream",
     "text": [
      "Processing train dialogs:   0%|          | 169/152385 [17:16<351:48:51,  8.32s/it]"
     ]
    },
    {
     "name": "stdout",
     "output_type": "stream",
     "text": [
      "{'Q41797627', 'Q24782267', 'Q83132745'} {'Q79899'}\n"
     ]
    },
    {
     "name": "stderr",
     "output_type": "stream",
     "text": [
      "Processing train dialogs:   0%|          | 170/152385 [17:20<301:48:13,  7.14s/it]"
     ]
    },
    {
     "name": "stdout",
     "output_type": "stream",
     "text": [
      "{'Q512451', 'Q242352', 'Q2307326', 'Q182865', 'Q672112', 'Q274811', 'Q56045', 'Q159644', 'Q2595976', 'Q5086', 'Q8438', 'Q1201', 'Q56039'} {'Q361', 'Q362'}\n"
     ]
    },
    {
     "name": "stderr",
     "output_type": "stream",
     "text": [
      "Processing train dialogs:   0%|          | 171/152385 [17:25<269:54:37,  6.38s/it]"
     ]
    },
    {
     "name": "stdout",
     "output_type": "stream",
     "text": [
      "{'Q691283', 'Q805285', 'Q192088'} {'Q34433'}\n",
      "{'133863'} {'Q115451'}\n"
     ]
    },
    {
     "name": "stderr",
     "output_type": "stream",
     "text": [
      "Processing train dialogs:   0%|          | 172/152385 [17:29<243:42:49,  5.76s/it]"
     ]
    },
    {
     "name": "stdout",
     "output_type": "stream",
     "text": [
      "{'Q75821416'} {'Q14566175'}\n"
     ]
    },
    {
     "name": "stderr",
     "output_type": "stream",
     "text": [
      "Processing train dialogs:   0%|          | 173/152385 [17:35<243:08:23,  5.75s/it]"
     ]
    },
    {
     "name": "stdout",
     "output_type": "stream",
     "text": [
      "{'Q76658'} {'Q2571', 'Q2594', 'Q2567'}\n",
      "{'Q4970706'} {'Q567', 'Q2492', 'Q2514'}\n"
     ]
    },
    {
     "name": "stderr",
     "output_type": "stream",
     "text": [
      "Processing train dialogs:   0%|          | 175/152385 [17:45<213:07:20,  5.04s/it]"
     ]
    },
    {
     "name": "stdout",
     "output_type": "stream",
     "text": [
      "{'Q1969558'} {'Q5770768'}\n",
      "{'Q5'} {'Q242492'}\n"
     ]
    },
    {
     "name": "stderr",
     "output_type": "stream",
     "text": [
      "Processing train dialogs:   0%|          | 176/152385 [17:53<255:25:49,  6.04s/it]"
     ]
    },
    {
     "name": "stdout",
     "output_type": "stream",
     "text": [
      "{'1999-07-16T00:00:00Z'} {'Q171558'}\n",
      "{'Q230303', 'Q3290402', 'Q75326753'} {'Q230303', 'Q268799'}\n"
     ]
    },
    {
     "name": "stderr",
     "output_type": "stream",
     "text": [
      "Processing train dialogs:   0%|          | 177/152385 [18:00<261:08:42,  6.18s/it]"
     ]
    },
    {
     "name": "stdout",
     "output_type": "stream",
     "text": [
      "{'Q183', 'Q16957'} {'Q1069207'}\n",
      "{'Q878607', 'Q84072', 'Q485150', 'Q42884', 'Q1026'} {'Q11771919', 'Q1331837', 'Q3530137'}\n"
     ]
    },
    {
     "name": "stderr",
     "output_type": "stream",
     "text": [
      "Processing train dialogs:   0%|          | 178/152385 [18:06<260:12:09,  6.15s/it]"
     ]
    },
    {
     "name": "stdout",
     "output_type": "stream",
     "text": [
      "{'Q82955'} {'Q1711695'}\n",
      "{'MarkMcDonaldMSP20110507.JPG'} {'Q759896'}\n",
      "{'m0f8l9c'} {'Q1407653', 'Q3720922'}\n"
     ]
    },
    {
     "name": "stderr",
     "output_type": "stream",
     "text": [
      "Processing train dialogs:   0%|          | 179/152385 [18:22<387:04:03,  9.15s/it]"
     ]
    },
    {
     "name": "stdout",
     "output_type": "stream",
     "text": [
      "{'Q193391', 'Q3546255', 'Q82955', 'Q7330070', 'Q12094958'} {'Q2386529', 'Q17592486'}\n"
     ]
    },
    {
     "name": "stderr",
     "output_type": "stream",
     "text": [
      "Processing train dialogs:   0%|          | 180/152385 [18:26<318:00:01,  7.52s/it]"
     ]
    },
    {
     "name": "stdout",
     "output_type": "stream",
     "text": [
      "{'Q2908'} {'Q3384012'}\n",
      "{'Q2908'} {'Q1115707'}\n",
      "{'Q130232', 'Q52162262'} {'Q1257444'}\n",
      "{'Q838368'} {'Q2254548'}\n",
      "{'2800680'} {'Q2908'}\n",
      "{'Antoine%20de%20Saint-Exup%C3%A9ry.jpg', '11exupery-inline1-500.jpg'} {'Q10147'}\n"
     ]
    },
    {
     "name": "stderr",
     "output_type": "stream",
     "text": [
      "Processing train dialogs:   0%|          | 182/152385 [18:40<288:54:32,  6.83s/it]"
     ]
    },
    {
     "name": "stdout",
     "output_type": "stream",
     "text": [
      "Expecting value: line 1 column 1 (char 0)\n",
      "{'Q20055561'} {'Q7176493'}\n",
      "{'Q82955'} {'Q16707842'}\n"
     ]
    },
    {
     "name": "stderr",
     "output_type": "stream",
     "text": [
      "Processing train dialogs:   0%|          | 183/152385 [18:46<274:30:57,  6.49s/it]"
     ]
    },
    {
     "name": "stdout",
     "output_type": "stream",
     "text": [
      "Expecting value: line 1 column 1 (char 0)\n",
      "Expecting value: line 1 column 1 (char 0)\n",
      "Expecting value: line 1 column 1 (char 0)\n"
     ]
    },
    {
     "name": "stderr",
     "output_type": "stream",
     "text": [
      "Processing train dialogs:   0%|          | 185/152385 [18:54<215:55:59,  5.11s/it]"
     ]
    },
    {
     "name": "stdout",
     "output_type": "stream",
     "text": [
      "Expecting value: line 1 column 1 (char 0)\n"
     ]
    },
    {
     "name": "stderr",
     "output_type": "stream",
     "text": [
      "Processing train dialogs:   0%|          | 186/152385 [18:57<197:51:59,  4.68s/it]"
     ]
    },
    {
     "name": "stdout",
     "output_type": "stream",
     "text": [
      "Expecting value: line 1 column 1 (char 0)\n",
      "{'Q72009524'} {'Q7863864'}\n",
      "{'Q2365965'} {'Q1134643'}\n",
      "{'Q6839359'} {'Q165847', 'Q116852', 'Q19089'}\n"
     ]
    },
    {
     "name": "stderr",
     "output_type": "stream",
     "text": [
      "Processing train dialogs:   0%|          | 187/152385 [19:07<257:45:56,  6.10s/it]"
     ]
    },
    {
     "name": "stdout",
     "output_type": "stream",
     "text": [
      "{'Q3266', 'Q1572392', 'Q701047'} {'Q142'}\n",
      "{'Q51255248'} {'Q12188'}\n",
      "Expecting value: line 1 column 1 (char 0)\n"
     ]
    },
    {
     "name": "stderr",
     "output_type": "stream",
     "text": [
      "Processing train dialogs:   0%|          | 188/152385 [19:16<298:10:02,  7.05s/it]"
     ]
    },
    {
     "name": "stdout",
     "output_type": "stream",
     "text": [
      "Expecting value: line 1 column 1 (char 0)\n"
     ]
    },
    {
     "name": "stderr",
     "output_type": "stream",
     "text": [
      "Processing train dialogs:   0%|          | 189/152385 [19:20<256:39:02,  6.07s/it]"
     ]
    },
    {
     "name": "stdout",
     "output_type": "stream",
     "text": [
      "Expecting value: line 1 column 1 (char 0)\n"
     ]
    },
    {
     "name": "stderr",
     "output_type": "stream",
     "text": [
      "Processing train dialogs:   0%|          | 190/152385 [19:24<235:45:29,  5.58s/it]"
     ]
    },
    {
     "name": "stdout",
     "output_type": "stream",
     "text": [
      "{'3bd74074'} {'Q390012'}\n"
     ]
    },
    {
     "name": "stderr",
     "output_type": "stream",
     "text": [
      "Processing train dialogs:   0%|          | 191/152385 [19:31<243:21:41,  5.76s/it]"
     ]
    },
    {
     "name": "stdout",
     "output_type": "stream",
     "text": [
      "Expecting value: line 1 column 1 (char 0)\n",
      "{'Q542'} {'Q243264'}\n",
      "Expecting value: line 1 column 1 (char 0)\n",
      "{'53hkj6mp5hgzjd3'} {'Q1077029', 'Q1052981', 'Q1047167'}\n"
     ]
    },
    {
     "name": "stderr",
     "output_type": "stream",
     "text": [
      "Processing train dialogs:   0%|          | 193/152385 [19:41<224:02:29,  5.30s/it]"
     ]
    },
    {
     "name": "stdout",
     "output_type": "stream",
     "text": [
      "Expecting value: line 1 column 1 (char 0)\n"
     ]
    },
    {
     "name": "stderr",
     "output_type": "stream",
     "text": [
      "Processing train dialogs:   0%|          | 194/152385 [19:43<176:50:43,  4.18s/it]"
     ]
    },
    {
     "name": "stdout",
     "output_type": "stream",
     "text": [
      "Expecting value: line 1 column 1 (char 0)\n",
      "{'Q5640937'} {'Q4934400', 'Q6111934', 'Q18157211'}\n",
      "{'Q5640937'} {'Q3101733'}\n"
     ]
    },
    {
     "name": "stderr",
     "output_type": "stream",
     "text": [
      "Processing train dialogs:   0%|          | 195/152385 [19:51<226:38:18,  5.36s/it]"
     ]
    },
    {
     "name": "stdout",
     "output_type": "stream",
     "text": [
      "{'1994-01-19T00:00:00Z'} {'Q1335'}\n",
      "Expecting value: line 1 column 1 (char 0)\n",
      "{'Q14211'} {'Q192', 'Q264766'}\n"
     ]
    },
    {
     "name": "stderr",
     "output_type": "stream",
     "text": [
      "Processing train dialogs:   0%|          | 196/152385 [19:57<233:37:46,  5.53s/it]"
     ]
    },
    {
     "name": "stdout",
     "output_type": "stream",
     "text": [
      "{'1894-08-23T00:00:00Z'} {'Q14821'}\n",
      "Expecting value: line 1 column 1 (char 0)\n"
     ]
    },
    {
     "name": "stderr",
     "output_type": "stream",
     "text": [
      "Processing train dialogs:   0%|          | 197/152385 [20:01<209:26:35,  4.95s/it]"
     ]
    },
    {
     "name": "stdout",
     "output_type": "stream",
     "text": [
      "Expecting value: line 1 column 1 (char 0)\n"
     ]
    },
    {
     "name": "stderr",
     "output_type": "stream",
     "text": [
      "Processing train dialogs:   0%|          | 199/152385 [20:11<222:27:35,  5.26s/it]"
     ]
    },
    {
     "name": "stdout",
     "output_type": "stream",
     "text": [
      "{'1820-06-13T00:00:00Z', '1820-11-30T00:00:00Z'} {'Q495'}\n"
     ]
    },
    {
     "name": "stderr",
     "output_type": "stream",
     "text": [
      "Processing train dialogs:   0%|          | 200/152385 [20:14<184:24:16,  4.36s/it]"
     ]
    },
    {
     "name": "stdout",
     "output_type": "stream",
     "text": [
      "Expecting value: line 1 column 1 (char 0)\n"
     ]
    },
    {
     "name": "stderr",
     "output_type": "stream",
     "text": [
      "Processing train dialogs:   0%|          | 201/152385 [20:18<185:53:05,  4.40s/it]"
     ]
    },
    {
     "name": "stdout",
     "output_type": "stream",
     "text": [
      "{'1936-06-18T00:00:00Z'} {'Q11038'}\n"
     ]
    },
    {
     "name": "stderr",
     "output_type": "stream",
     "text": [
      "Processing train dialogs:   0%|          | 202/152385 [20:28<255:29:07,  6.04s/it]"
     ]
    },
    {
     "name": "stdout",
     "output_type": "stream",
     "text": [
      "{'Q48'} {'Q4167876'}\n",
      "{'Q1202233'} {'Q20873909', 'Q25451942', 'Q1202240'}\n",
      "{'Q7463291'} {'Q3068717', 'Q1868666', 'Q877283'}\n"
     ]
    },
    {
     "name": "stderr",
     "output_type": "stream",
     "text": [
      "Processing train dialogs:   0%|          | 203/152385 [20:41<258:34:11,  6.12s/it]\n"
     ]
    },
    {
     "ename": "KeyboardInterrupt",
     "evalue": "",
     "output_type": "error",
     "traceback": [
      "\u001b[0;31m---------------------------------------------------------------------------\u001b[0m",
      "\u001b[0;31mKeyboardInterrupt\u001b[0m                         Traceback (most recent call last)",
      "Cell \u001b[0;32mIn[14], line 20\u001b[0m\n\u001b[1;32m     15\u001b[0m \u001b[38;5;28;01mtry\u001b[39;00m:\n\u001b[1;32m     18\u001b[0m     question_dict \u001b[38;5;241m=\u001b[39m get_args_for_question(dialog[\u001b[38;5;124m\"\u001b[39m\u001b[38;5;124mturns\u001b[39m\u001b[38;5;124m\"\u001b[39m][i], dialog[\u001b[38;5;124m\"\u001b[39m\u001b[38;5;124mturns\u001b[39m\u001b[38;5;124m\"\u001b[39m][i\u001b[38;5;241m+\u001b[39m\u001b[38;5;241m1\u001b[39m])\n\u001b[0;32m---> 20\u001b[0m     answers, query \u001b[38;5;241m=\u001b[39m \u001b[43manswer_simple_direct_question\u001b[49m\u001b[43m(\u001b[49m\u001b[43mquestion_dict\u001b[49m\u001b[43m[\u001b[49m\u001b[38;5;124;43m\"\u001b[39;49m\u001b[38;5;124;43mquestion\u001b[39;49m\u001b[38;5;124;43m\"\u001b[39;49m\u001b[43m]\u001b[49m\u001b[43m,\u001b[49m\u001b[43m \u001b[49m\u001b[43mquestion_dict\u001b[49m\u001b[43m[\u001b[49m\u001b[38;5;124;43m\"\u001b[39;49m\u001b[38;5;124;43mentity_id\u001b[39;49m\u001b[38;5;124;43m\"\u001b[39;49m\u001b[43m]\u001b[49m\u001b[43m)\u001b[49m\n\u001b[1;32m     21\u001b[0m     total_questions \u001b[38;5;241m+\u001b[39m\u001b[38;5;241m=\u001b[39m\u001b[38;5;241m1\u001b[39m\n\u001b[1;32m     23\u001b[0m     \u001b[38;5;28;01mif\u001b[39;00m total_questions \u001b[38;5;241m==\u001b[39m \u001b[38;5;241m1000\u001b[39m:\n",
      "File \u001b[0;32m~/artificial_intelligence/sem_8/program_synthesis/sparql_query_generation/src/sparql_query_generation/simple_question_answer.py:60\u001b[0m, in \u001b[0;36manswer_simple_direct_question\u001b[0;34m(question, entity_id)\u001b[0m\n\u001b[1;32m     59\u001b[0m \u001b[38;5;28;01mdef\u001b[39;00m \u001b[38;5;21manswer_simple_direct_question\u001b[39m(question, entity_id):\n\u001b[0;32m---> 60\u001b[0m     question_embedding \u001b[38;5;241m=\u001b[39m \u001b[38;5;28mlist\u001b[39m(embedding_model\u001b[38;5;241m.\u001b[39membed([question]))[\u001b[38;5;241m0\u001b[39m]\u001b[38;5;241m.\u001b[39mtolist()\n\u001b[1;32m     62\u001b[0m     allowed_properties \u001b[38;5;241m=\u001b[39m find_properties_for_entity(entity_id)\n\u001b[1;32m     64\u001b[0m     result \u001b[38;5;241m=\u001b[39m collection\u001b[38;5;241m.\u001b[39mquery(\n\u001b[1;32m     65\u001b[0m         question_embedding, where\u001b[38;5;241m=\u001b[39m{\u001b[38;5;124m\"\u001b[39m\u001b[38;5;124mprop\u001b[39m\u001b[38;5;124m\"\u001b[39m: {\u001b[38;5;124m\"\u001b[39m\u001b[38;5;124m$in\u001b[39m\u001b[38;5;124m\"\u001b[39m: allowed_properties}}\n\u001b[1;32m     66\u001b[0m     )\n",
      "File \u001b[0;32m~/.cache/pypoetry/virtualenvs/sparql-query-generation-Hsv39ezy-py3.11/lib/python3.11/site-packages/fastembed/text/text_embedding.py:93\u001b[0m, in \u001b[0;36mTextEmbedding.embed\u001b[0;34m(self, documents, batch_size, parallel, **kwargs)\u001b[0m\n\u001b[1;32m     71\u001b[0m \u001b[38;5;28;01mdef\u001b[39;00m \u001b[38;5;21membed\u001b[39m(\n\u001b[1;32m     72\u001b[0m     \u001b[38;5;28mself\u001b[39m,\n\u001b[1;32m     73\u001b[0m     documents: Union[\u001b[38;5;28mstr\u001b[39m, Iterable[\u001b[38;5;28mstr\u001b[39m]],\n\u001b[0;32m   (...)\u001b[0m\n\u001b[1;32m     76\u001b[0m     \u001b[38;5;241m*\u001b[39m\u001b[38;5;241m*\u001b[39mkwargs,\n\u001b[1;32m     77\u001b[0m ) \u001b[38;5;241m-\u001b[39m\u001b[38;5;241m>\u001b[39m Iterable[np\u001b[38;5;241m.\u001b[39mndarray]:\n\u001b[1;32m     78\u001b[0m \u001b[38;5;250m    \u001b[39m\u001b[38;5;124;03m\"\"\"\u001b[39;00m\n\u001b[1;32m     79\u001b[0m \u001b[38;5;124;03m    Encode a list of documents into list of embeddings.\u001b[39;00m\n\u001b[1;32m     80\u001b[0m \u001b[38;5;124;03m    We use mean pooling with attention so that the model can handle variable-length inputs.\u001b[39;00m\n\u001b[0;32m   (...)\u001b[0m\n\u001b[1;32m     91\u001b[0m \u001b[38;5;124;03m        List of embeddings, one per document\u001b[39;00m\n\u001b[1;32m     92\u001b[0m \u001b[38;5;124;03m    \"\"\"\u001b[39;00m\n\u001b[0;32m---> 93\u001b[0m     \u001b[38;5;28;01myield from\u001b[39;00m \u001b[38;5;28mself\u001b[39m\u001b[38;5;241m.\u001b[39mmodel\u001b[38;5;241m.\u001b[39membed(documents, batch_size, parallel, \u001b[38;5;241m*\u001b[39m\u001b[38;5;241m*\u001b[39mkwargs)\n",
      "File \u001b[0;32m~/.cache/pypoetry/virtualenvs/sparql-query-generation-Hsv39ezy-py3.11/lib/python3.11/site-packages/fastembed/text/onnx_embedding.py:266\u001b[0m, in \u001b[0;36mOnnxTextEmbedding.embed\u001b[0;34m(self, documents, batch_size, parallel, **kwargs)\u001b[0m\n\u001b[1;32m    244\u001b[0m \u001b[38;5;28;01mdef\u001b[39;00m \u001b[38;5;21membed\u001b[39m(\n\u001b[1;32m    245\u001b[0m     \u001b[38;5;28mself\u001b[39m,\n\u001b[1;32m    246\u001b[0m     documents: Union[\u001b[38;5;28mstr\u001b[39m, Iterable[\u001b[38;5;28mstr\u001b[39m]],\n\u001b[0;32m   (...)\u001b[0m\n\u001b[1;32m    249\u001b[0m     \u001b[38;5;241m*\u001b[39m\u001b[38;5;241m*\u001b[39mkwargs,\n\u001b[1;32m    250\u001b[0m ) \u001b[38;5;241m-\u001b[39m\u001b[38;5;241m>\u001b[39m Iterable[np\u001b[38;5;241m.\u001b[39mndarray]:\n\u001b[1;32m    251\u001b[0m \u001b[38;5;250m    \u001b[39m\u001b[38;5;124;03m\"\"\"\u001b[39;00m\n\u001b[1;32m    252\u001b[0m \u001b[38;5;124;03m    Encode a list of documents into list of embeddings.\u001b[39;00m\n\u001b[1;32m    253\u001b[0m \u001b[38;5;124;03m    We use mean pooling with attention so that the model can handle variable-length inputs.\u001b[39;00m\n\u001b[0;32m   (...)\u001b[0m\n\u001b[1;32m    264\u001b[0m \u001b[38;5;124;03m        List of embeddings, one per document\u001b[39;00m\n\u001b[1;32m    265\u001b[0m \u001b[38;5;124;03m    \"\"\"\u001b[39;00m\n\u001b[0;32m--> 266\u001b[0m     \u001b[38;5;28;01myield from\u001b[39;00m \u001b[38;5;28mself\u001b[39m\u001b[38;5;241m.\u001b[39m_embed_documents(\n\u001b[1;32m    267\u001b[0m         model_name\u001b[38;5;241m=\u001b[39m\u001b[38;5;28mself\u001b[39m\u001b[38;5;241m.\u001b[39mmodel_name,\n\u001b[1;32m    268\u001b[0m         cache_dir\u001b[38;5;241m=\u001b[39m\u001b[38;5;28mstr\u001b[39m(\u001b[38;5;28mself\u001b[39m\u001b[38;5;241m.\u001b[39mcache_dir),\n\u001b[1;32m    269\u001b[0m         documents\u001b[38;5;241m=\u001b[39mdocuments,\n\u001b[1;32m    270\u001b[0m         batch_size\u001b[38;5;241m=\u001b[39mbatch_size,\n\u001b[1;32m    271\u001b[0m         parallel\u001b[38;5;241m=\u001b[39mparallel,\n\u001b[1;32m    272\u001b[0m     )\n",
      "File \u001b[0;32m~/.cache/pypoetry/virtualenvs/sparql-query-generation-Hsv39ezy-py3.11/lib/python3.11/site-packages/fastembed/common/onnx_model.py:126\u001b[0m, in \u001b[0;36mOnnxModel._embed_documents\u001b[0;34m(self, model_name, cache_dir, documents, batch_size, parallel)\u001b[0m\n\u001b[1;32m    124\u001b[0m \u001b[38;5;28;01mif\u001b[39;00m parallel \u001b[38;5;129;01mis\u001b[39;00m \u001b[38;5;28;01mNone\u001b[39;00m \u001b[38;5;129;01mor\u001b[39;00m is_small:\n\u001b[1;32m    125\u001b[0m     \u001b[38;5;28;01mfor\u001b[39;00m batch \u001b[38;5;129;01min\u001b[39;00m iter_batch(documents, batch_size):\n\u001b[0;32m--> 126\u001b[0m         \u001b[38;5;28;01myield from\u001b[39;00m \u001b[38;5;28mself\u001b[39m\u001b[38;5;241m.\u001b[39m_post_process_onnx_output(\u001b[38;5;28;43mself\u001b[39;49m\u001b[38;5;241;43m.\u001b[39;49m\u001b[43monnx_embed\u001b[49m\u001b[43m(\u001b[49m\u001b[43mbatch\u001b[49m\u001b[43m)\u001b[49m)\n\u001b[1;32m    127\u001b[0m \u001b[38;5;28;01melse\u001b[39;00m:\n\u001b[1;32m    128\u001b[0m     start_method \u001b[38;5;241m=\u001b[39m \u001b[38;5;124m\"\u001b[39m\u001b[38;5;124mforkserver\u001b[39m\u001b[38;5;124m\"\u001b[39m \u001b[38;5;28;01mif\u001b[39;00m \u001b[38;5;124m\"\u001b[39m\u001b[38;5;124mforkserver\u001b[39m\u001b[38;5;124m\"\u001b[39m \u001b[38;5;129;01min\u001b[39;00m get_all_start_methods() \u001b[38;5;28;01melse\u001b[39;00m \u001b[38;5;124m\"\u001b[39m\u001b[38;5;124mspawn\u001b[39m\u001b[38;5;124m\"\u001b[39m\n",
      "File \u001b[0;32m~/.cache/pypoetry/virtualenvs/sparql-query-generation-Hsv39ezy-py3.11/lib/python3.11/site-packages/fastembed/common/onnx_model.py:99\u001b[0m, in \u001b[0;36mOnnxModel.onnx_embed\u001b[0;34m(self, documents)\u001b[0m\n\u001b[1;32m     89\u001b[0m onnx_input \u001b[38;5;241m=\u001b[39m {\n\u001b[1;32m     90\u001b[0m     \u001b[38;5;124m\"\u001b[39m\u001b[38;5;124minput_ids\u001b[39m\u001b[38;5;124m\"\u001b[39m: np\u001b[38;5;241m.\u001b[39marray(input_ids, dtype\u001b[38;5;241m=\u001b[39mnp\u001b[38;5;241m.\u001b[39mint64),\n\u001b[1;32m     91\u001b[0m     \u001b[38;5;124m\"\u001b[39m\u001b[38;5;124mattention_mask\u001b[39m\u001b[38;5;124m\"\u001b[39m: np\u001b[38;5;241m.\u001b[39marray(attention_mask, dtype\u001b[38;5;241m=\u001b[39mnp\u001b[38;5;241m.\u001b[39mint64),\n\u001b[0;32m   (...)\u001b[0m\n\u001b[1;32m     94\u001b[0m     ),\n\u001b[1;32m     95\u001b[0m }\n\u001b[1;32m     97\u001b[0m onnx_input \u001b[38;5;241m=\u001b[39m \u001b[38;5;28mself\u001b[39m\u001b[38;5;241m.\u001b[39m_preprocess_onnx_input(onnx_input)\n\u001b[0;32m---> 99\u001b[0m model_output \u001b[38;5;241m=\u001b[39m \u001b[38;5;28;43mself\u001b[39;49m\u001b[38;5;241;43m.\u001b[39;49m\u001b[43mmodel\u001b[49m\u001b[38;5;241;43m.\u001b[39;49m\u001b[43mrun\u001b[49m\u001b[43m(\u001b[49m\u001b[38;5;28;43;01mNone\u001b[39;49;00m\u001b[43m,\u001b[49m\u001b[43m \u001b[49m\u001b[43monnx_input\u001b[49m\u001b[43m)\u001b[49m\n\u001b[1;32m    100\u001b[0m embeddings \u001b[38;5;241m=\u001b[39m model_output[\u001b[38;5;241m0\u001b[39m]\n\u001b[1;32m    101\u001b[0m \u001b[38;5;28;01mreturn\u001b[39;00m embeddings, attention_mask\n",
      "File \u001b[0;32m~/.cache/pypoetry/virtualenvs/sparql-query-generation-Hsv39ezy-py3.11/lib/python3.11/site-packages/onnxruntime/capi/onnxruntime_inference_collection.py:220\u001b[0m, in \u001b[0;36mSession.run\u001b[0;34m(self, output_names, input_feed, run_options)\u001b[0m\n\u001b[1;32m    218\u001b[0m     output_names \u001b[38;5;241m=\u001b[39m [output\u001b[38;5;241m.\u001b[39mname \u001b[38;5;28;01mfor\u001b[39;00m output \u001b[38;5;129;01min\u001b[39;00m \u001b[38;5;28mself\u001b[39m\u001b[38;5;241m.\u001b[39m_outputs_meta]\n\u001b[1;32m    219\u001b[0m \u001b[38;5;28;01mtry\u001b[39;00m:\n\u001b[0;32m--> 220\u001b[0m     \u001b[38;5;28;01mreturn\u001b[39;00m \u001b[38;5;28;43mself\u001b[39;49m\u001b[38;5;241;43m.\u001b[39;49m\u001b[43m_sess\u001b[49m\u001b[38;5;241;43m.\u001b[39;49m\u001b[43mrun\u001b[49m\u001b[43m(\u001b[49m\u001b[43moutput_names\u001b[49m\u001b[43m,\u001b[49m\u001b[43m \u001b[49m\u001b[43minput_feed\u001b[49m\u001b[43m,\u001b[49m\u001b[43m \u001b[49m\u001b[43mrun_options\u001b[49m\u001b[43m)\u001b[49m\n\u001b[1;32m    221\u001b[0m \u001b[38;5;28;01mexcept\u001b[39;00m C\u001b[38;5;241m.\u001b[39mEPFail \u001b[38;5;28;01mas\u001b[39;00m err:\n\u001b[1;32m    222\u001b[0m     \u001b[38;5;28;01mif\u001b[39;00m \u001b[38;5;28mself\u001b[39m\u001b[38;5;241m.\u001b[39m_enable_fallback:\n",
      "\u001b[0;31mKeyboardInterrupt\u001b[0m: "
     ]
    }
   ],
   "source": [
    "from tqdm import tqdm\n",
    "import time\n",
    "\n",
    "for dialog in tqdm(\n",
    "    simple_questions, total=len(simple_questions), desc=\"Processing train dialogs\"\n",
    "):\n",
    "    for i, turn in enumerate(dialog[\"turns\"]):\n",
    "        if turn[\"speaker\"] == \"USER\":\n",
    "            if len(turn[\"entities_in_utterance\"]) == 1:\n",
    "                try:\n",
    "\n",
    "                    \n",
    "                    question_dict = get_args_for_question(dialog[\"turns\"][i], dialog[\"turns\"][i+1])\n",
    "\n",
    "                    answers, query = answer_simple_direct_question(question_dict[\"question\"], question_dict[\"entity_id\"])\n",
    "                    total_questions +=1\n",
    "\n",
    "                    if total_questions == 1000:\n",
    "                        print(successes, total_questions, successes/total_questions)\n",
    "                        raise Exception(\"Stop\")\n",
    "                    # check if answers is a super set of the correct answer\n",
    "                    if answers.issuperset(question_dict[\"answer\"]):\n",
    "                        successes += 1\n",
    "                    else:\n",
    "\n",
    "                        print(answers, question_dict[\"answer\"])\n",
    "                        question_dict[\"truth_query\"] = turn[\"verbalized_sparql_query\"]\n",
    "                        question_dict[\"our_answer\"] = answers\n",
    "                        question_dict[\"our_query\"] = query\n",
    "                        failures.append(question_dict)\n",
    "                except Exception as e:\n",
    "                    print(e)\n",
    "                finally:\n",
    "                    random_sleep()\n",
    "\n"
   ]
  },
  {
   "cell_type": "code",
   "execution_count": 23,
   "metadata": {},
   "outputs": [
    {
     "data": {
      "text/plain": [
       "{'active_set': ['(Q969874,P21,c(Q290))'],\n",
       " 'all_entities': [],\n",
       " 'bool_ques_type': None,\n",
       " 'clarification_step': None,\n",
       " 'count_ques_sub_type': None,\n",
       " 'count_ques_type': None,\n",
       " 'description': 'Simple Question',\n",
       " 'entities': [],\n",
       " 'entities_in_utterance': ['Q969874'],\n",
       " 'gold_actions': [['action', 'filter_type'],\n",
       "  ['action', 'find'],\n",
       "  ['entity', 'Q969874'],\n",
       "  ['relation', 'P21'],\n",
       "  ['type', 'Q290']],\n",
       " 'id': 0,\n",
       " 'inc_ques_type': None,\n",
       " 'is_inc': None,\n",
       " 'is_incomplete': 0,\n",
       " 'is_spurious': None,\n",
       " 'masked_verbalized_answer': None,\n",
       " 'parsed_active_set': [\"['Q969874', 'P21', {'concept': 'Q290'}]\"],\n",
       " 'ques_type_id': 1,\n",
       " 'question-type': 'Simple Question (Direct)',\n",
       " 'relations': ['P21'],\n",
       " 'sec_ques_sub_type': None,\n",
       " 'sec_ques_type': None,\n",
       " 'set_op': None,\n",
       " 'set_op_choice': None,\n",
       " 'sparql_query': 'SELECT DISTINCT ?s WHERE { resource:Q969874 property:P21 ?s . ?s rdf:type ontology:Q290 }',\n",
       " 'speaker': 'USER',\n",
       " 'type_list': ['Q290'],\n",
       " 'utterance': 'What is the sex of Henry Herbert, 2nd Earl of Pembroke ?',\n",
       " 'verbalized_all_entities': [],\n",
       " 'verbalized_answer': None,\n",
       " 'verbalized_entities_in_utterance': ['Henry Herbert, 2nd Earl of Pembroke'],\n",
       " 'verbalized_gold_actions': [['action', 'filter_type'],\n",
       "  ['action', 'find'],\n",
       "  ['entity', 'Henry Herbert, 2nd Earl of Pembroke'],\n",
       "  ['relation', 'gender'],\n",
       "  ['type', 'sex']],\n",
       " 'verbalized_parsed_active_set': [\"['Henry Herbert, 2nd Earl of Pembroke', 'gender', {'concept': 'sex'}]\"],\n",
       " 'verbalized_sparql_query': 'SELECT DISTINCT ?s WHERE { resource:Henry_Herbert,_2nd_Earl_of_Pembroke property:gender ?s . ?s rdf:type ontology:sex }',\n",
       " 'verbalized_triple': '[]',\n",
       " 'verbalized_type_list': ['sex']}"
      ]
     },
     "execution_count": 23,
     "metadata": {},
     "output_type": "execute_result"
    }
   ],
   "source": [
    "simple_questions[204][\"turns\"][0]"
   ]
  },
  {
   "cell_type": "code",
   "execution_count": 29,
   "metadata": {},
   "outputs": [
    {
     "name": "stderr",
     "output_type": "stream",
     "text": [
      "Processing train dialogs:   0%|          | 92/152385 [00:00<02:47, 911.81it/s]"
     ]
    },
    {
     "name": "stdout",
     "output_type": "stream",
     "text": [
      "{'Q48'} {'Q4167876'}\n"
     ]
    },
    {
     "name": "stderr",
     "output_type": "stream",
     "text": [
      "Processing train dialogs:   0%|          | 92/152385 [00:13<02:47, 911.81it/s]"
     ]
    },
    {
     "name": "stdout",
     "output_type": "stream",
     "text": [
      "{'Q1202233'} {'Q20873909', 'Q25451942', 'Q1202240'}\n",
      "{'Q7463291'} {'Q3068717', 'Q1868666', 'Q877283'}\n"
     ]
    },
    {
     "name": "stderr",
     "output_type": "stream",
     "text": [
      "Processing train dialogs:   0%|          | 203/152385 [00:24<5:47:13,  7.30it/s]"
     ]
    },
    {
     "name": "stdout",
     "output_type": "stream",
     "text": [
      "{'Q155223'} {'Q984367', 'Q313481', 'Q3618529'}\n",
      "{'Q539578', 'Q1348525', 'Q1199378', 'Q1150801'} {'Q5372'}\n"
     ]
    },
    {
     "name": "stderr",
     "output_type": "stream",
     "text": [
      "Processing train dialogs:   0%|          | 204/152385 [00:36<10:06:21,  4.18it/s]"
     ]
    },
    {
     "name": "stdout",
     "output_type": "stream",
     "text": [
      "{'Q7834', 'Q5846'} {'Q7834', 'Q5846', 'Q4990628'}\n",
      "{'I2893'} {'Q19036110'}\n"
     ]
    },
    {
     "name": "stderr",
     "output_type": "stream",
     "text": [
      "Processing train dialogs:   0%|          | 205/152385 [01:01<21:48:52,  1.94it/s]"
     ]
    },
    {
     "name": "stdout",
     "output_type": "stream",
     "text": [
      "{'Q423042', 'Q41797791', 'Q24773056'} {'Q14349455'}\n"
     ]
    },
    {
     "name": "stderr",
     "output_type": "stream",
     "text": [
      "Processing train dialogs:   0%|          | 206/152385 [01:09<27:14:16,  1.55it/s]"
     ]
    },
    {
     "name": "stdout",
     "output_type": "stream",
     "text": [
      "{'Natural Language\\xa0:: English'} {'Q5329170', 'Q1346342'}\n"
     ]
    },
    {
     "name": "stderr",
     "output_type": "stream",
     "text": [
      "Processing train dialogs:   0%|          | 206/152385 [01:23<27:14:16,  1.55it/s]"
     ]
    },
    {
     "name": "stdout",
     "output_type": "stream",
     "text": [
      "{'Q32803935', 'Q6840573'} {'Q9019373'}\n"
     ]
    },
    {
     "name": "stderr",
     "output_type": "stream",
     "text": [
      "Processing train dialogs:   0%|          | 208/152385 [01:28<43:43:04,  1.03s/it]"
     ]
    },
    {
     "name": "stdout",
     "output_type": "stream",
     "text": [
      "{'67326569'} {'Q41548', 'Q19845625', 'Q712851'}\n"
     ]
    },
    {
     "name": "stderr",
     "output_type": "stream",
     "text": [
      "Processing train dialogs:   0%|          | 210/152385 [01:50<69:59:59,  1.66s/it]"
     ]
    },
    {
     "name": "stdout",
     "output_type": "stream",
     "text": [
      "{'Q449220'} {'Q244678', 'Q263743'}\n"
     ]
    },
    {
     "name": "stderr",
     "output_type": "stream",
     "text": [
      "Processing train dialogs:   0%|          | 210/152385 [02:03<69:59:59,  1.66s/it]"
     ]
    },
    {
     "name": "stdout",
     "output_type": "stream",
     "text": [
      "{'Q649'} {'Q159'}\n"
     ]
    },
    {
     "name": "stderr",
     "output_type": "stream",
     "text": [
      "Processing train dialogs:   0%|          | 212/152385 [02:29<150:02:25,  3.55s/it]"
     ]
    },
    {
     "name": "stdout",
     "output_type": "stream",
     "text": [
      "{'300025671'} {'Q207628'}\n",
      "{'12455682'} {'Q765165', 'Q79822', 'Q7747'}\n",
      "{'Q561904', 'Q13099720', 'Q4156896'} {'Q493898'}\n",
      "{'Q27875841', 'Q27497617', 'Q27874540', 'Q27876064', 'Q27875715', 'Q38928571', 'Q27876089', 'Q27921507', 'Q27875983', 'Q27875953'} {'Q20630763', 'Q19828510'}\n"
     ]
    },
    {
     "name": "stderr",
     "output_type": "stream",
     "text": [
      "Processing train dialogs:   0%|          | 213/152385 [03:03<240:51:23,  5.70s/it]"
     ]
    },
    {
     "name": "stdout",
     "output_type": "stream",
     "text": [
      "{'1862e624-761a-4274-80a5-4c78a57c5b60'} {'Q15628820', 'Q19577155', 'Q765757'}\n",
      "{'Q4446300'} {'Q2487216', 'Q4589758'}\n"
     ]
    },
    {
     "name": "stderr",
     "output_type": "stream",
     "text": [
      "Processing train dialogs:   0%|          | 214/152385 [03:17<272:40:37,  6.45s/it]"
     ]
    },
    {
     "name": "stdout",
     "output_type": "stream",
     "text": [
      "{'Q82955'} {'Q17856046'}\n",
      "{'Q260260'} {'Q154635'}\n",
      "{'Q3919890'} {'Q42876'}\n"
     ]
    },
    {
     "name": "stderr",
     "output_type": "stream",
     "text": [
      "Processing train dialogs:   0%|          | 215/152385 [03:36<334:47:09,  7.92s/it]"
     ]
    },
    {
     "name": "stdout",
     "output_type": "stream",
     "text": [
      "{'Q25223'} {'Q2571', 'Q2594', 'Q2567'}\n"
     ]
    },
    {
     "name": "stderr",
     "output_type": "stream",
     "text": [
      "Processing train dialogs:   0%|          | 216/152385 [03:50<368:26:23,  8.72s/it]"
     ]
    },
    {
     "name": "stdout",
     "output_type": "stream",
     "text": [
      "{'Q42603'} {'Q42603', 'Q29182'}\n",
      "{'Q1747689'} {'Q2277'}\n",
      "{'Q1650714'} {'Q692360', 'Q1069537', 'Q2632206'}\n",
      "{'Q15921347'} {'Q133022'}\n"
     ]
    },
    {
     "name": "stderr",
     "output_type": "stream",
     "text": [
      "Processing train dialogs:   0%|          | 217/152385 [04:10<447:51:25, 10.60s/it]"
     ]
    },
    {
     "name": "stdout",
     "output_type": "stream",
     "text": [
      "{'Point(12.8557603 41.8731661)'} {'Q3451022'}\n"
     ]
    },
    {
     "name": "stderr",
     "output_type": "stream",
     "text": [
      "Processing train dialogs:   0%|          | 218/152385 [04:19<438:51:44, 10.38s/it]"
     ]
    },
    {
     "name": "stdout",
     "output_type": "stream",
     "text": [
      "{'Q17165362'} {'Q9678'}\n"
     ]
    },
    {
     "name": "stderr",
     "output_type": "stream",
     "text": [
      "Processing train dialogs:   0%|          | 219/152385 [04:34<481:12:40, 11.38s/it]"
     ]
    },
    {
     "name": "stdout",
     "output_type": "stream",
     "text": [
      "{'Q1841'} {'Q36380'}\n",
      "{'Q217020'} {'Q642878'}\n"
     ]
    },
    {
     "name": "stderr",
     "output_type": "stream",
     "text": [
      "Processing train dialogs:   0%|          | 220/152385 [04:48<504:01:14, 11.92s/it]"
     ]
    },
    {
     "name": "stdout",
     "output_type": "stream",
     "text": [
      "{'79393'} {'Q707051', 'Q707063', 'Q670933'}\n"
     ]
    },
    {
     "name": "stderr",
     "output_type": "stream",
     "text": [
      "Processing train dialogs:   0%|          | 221/152385 [05:02<529:17:06, 12.52s/it]"
     ]
    },
    {
     "name": "stdout",
     "output_type": "stream",
     "text": [
      "{'chin'} {'Q13414913', 'Q18130932'}\n"
     ]
    },
    {
     "name": "stderr",
     "output_type": "stream",
     "text": [
      "Processing train dialogs:   0%|          | 222/152385 [05:13<508:58:26, 12.04s/it]"
     ]
    },
    {
     "name": "stdout",
     "output_type": "stream",
     "text": [
      "{'Q24090441'} {'Q10660307'}\n"
     ]
    },
    {
     "name": "stderr",
     "output_type": "stream",
     "text": [
      "Processing train dialogs:   0%|          | 224/152385 [05:28<408:15:47,  9.66s/it]"
     ]
    },
    {
     "name": "stdout",
     "output_type": "stream",
     "text": [
      "{'Point(-81.608 41.504)'} {'Q6786936'}\n",
      "{'brigham-young-university'} {'Q4836917'}\n"
     ]
    },
    {
     "name": "stderr",
     "output_type": "stream",
     "text": [
      "Processing train dialogs:   0%|          | 226/152385 [06:03<552:15:36, 13.07s/it]"
     ]
    },
    {
     "name": "stdout",
     "output_type": "stream",
     "text": [
      "{'Q745287', 'Q1163715'} {'Q4896598'}\n"
     ]
    },
    {
     "name": "stderr",
     "output_type": "stream",
     "text": [
      "Processing train dialogs:   0%|          | 227/152385 [06:12<515:40:46, 12.20s/it]"
     ]
    },
    {
     "name": "stdout",
     "output_type": "stream",
     "text": [
      "{'Q10230'} {'Q9089'}\n",
      "{'Q2030145'} {'Q987'}\n"
     ]
    },
    {
     "name": "stderr",
     "output_type": "stream",
     "text": [
      "Processing train dialogs:   0%|          | 229/152385 [06:47<624:59:52, 14.79s/it]"
     ]
    },
    {
     "name": "stdout",
     "output_type": "stream",
     "text": [
      "{'Elisabeth Mulder'} {'Q482'}\n",
      "{'Q1674831'} {'Q889'}\n"
     ]
    },
    {
     "name": "stderr",
     "output_type": "stream",
     "text": [
      "Processing train dialogs:   0%|          | 231/152385 [07:17<605:51:30, 14.33s/it]"
     ]
    },
    {
     "name": "stdout",
     "output_type": "stream",
     "text": [
      "{'Q41582588', 'Q41582591', 'Q41582587', 'Q41582593', 'Q41582584', 'Q41582585'} {'Q16707842'}\n",
      "{'Lenie'} {'Q15876168', 'Q234442', 'Q116055'}\n",
      "{'Q41582542', 'Q41582540', 'Q41582538', 'Q41582532', 'Q41582534', 'Q41582535', 'Q41582544', 'Q41582545'} {'Q16707842'}\n"
     ]
    },
    {
     "name": "stderr",
     "output_type": "stream",
     "text": [
      "Processing train dialogs:   0%|          | 233/152385 [07:42<570:54:27, 13.51s/it]"
     ]
    },
    {
     "name": "stdout",
     "output_type": "stream",
     "text": [
      "{'Q332342', 'Q192088'} {'Q18912936'}\n",
      "{'Q332342', 'Q192088'} {'Q19093983'}\n"
     ]
    },
    {
     "name": "stderr",
     "output_type": "stream",
     "text": [
      "Processing train dialogs:   0%|          | 234/152385 [07:52<534:05:22, 12.64s/it]"
     ]
    },
    {
     "name": "stdout",
     "output_type": "stream",
     "text": [
      "{'Q8986673'} {'Q18328145'}\n"
     ]
    },
    {
     "name": "stderr",
     "output_type": "stream",
     "text": [
      "Processing train dialogs:   0%|          | 235/152385 [08:06<549:14:14, 13.00s/it]"
     ]
    },
    {
     "name": "stdout",
     "output_type": "stream",
     "text": [
      "{'1328-01-17T00:00:00Z'} {'Q2865'}\n",
      "{'Q9218711'} {'Q116032'}\n",
      "{'Q844072'} {'Q105564', 'Q89292', 'Q823840'}\n",
      "{'Q63970319'} {'Q182436'}\n"
     ]
    },
    {
     "name": "stderr",
     "output_type": "stream",
     "text": [
      "Processing train dialogs:   0%|          | 237/152385 [08:37<581:10:58, 13.75s/it]"
     ]
    },
    {
     "name": "stdout",
     "output_type": "stream",
     "text": [
      "{'Q7320'} {'Q183'}\n",
      "{'1945-05-15T00:00:00Z'} {'Q209986'}\n"
     ]
    },
    {
     "name": "stderr",
     "output_type": "stream",
     "text": [
      "Processing train dialogs:   0%|          | 237/152385 [08:53<581:10:58, 13.75s/it]"
     ]
    },
    {
     "name": "stdout",
     "output_type": "stream",
     "text": [
      "{'66542dd6-05a6-4d9e-97ff-3f4858c31ff9'} {'Q3193754'}\n",
      "{'Q6473572'} {'Q686914', 'Q17540704', 'Q2903184'}\n",
      "{'Q196653'} {'Q3073637'}\n"
     ]
    },
    {
     "name": "stderr",
     "output_type": "stream",
     "text": [
      "Processing train dialogs:   0%|          | 240/152385 [09:18<564:45:14, 13.36s/it]"
     ]
    },
    {
     "name": "stdout",
     "output_type": "stream",
     "text": [
      "{'1739-08-18T00:00:00Z'} {'Q727'}\n"
     ]
    },
    {
     "name": "stderr",
     "output_type": "stream",
     "text": [
      "Processing train dialogs:   0%|          | 241/152385 [09:37<620:48:45, 14.69s/it]"
     ]
    },
    {
     "name": "stdout",
     "output_type": "stream",
     "text": [
      "{'Q208569'} {'Q888022'}\n"
     ]
    },
    {
     "name": "stderr",
     "output_type": "stream",
     "text": [
      "Processing train dialogs:   0%|          | 242/152385 [09:42<511:05:50, 12.09s/it]"
     ]
    },
    {
     "name": "stdout",
     "output_type": "stream",
     "text": [
      "{'1969-06-12T00:00:00Z'} {'Q696783'}\n"
     ]
    },
    {
     "name": "stderr",
     "output_type": "stream",
     "text": [
      "Processing train dialogs:   0%|          | 243/152385 [09:52<485:57:43, 11.50s/it]"
     ]
    },
    {
     "name": "stdout",
     "output_type": "stream",
     "text": [
      "{'85235'} {'Q9682'}\n"
     ]
    },
    {
     "name": "stderr",
     "output_type": "stream",
     "text": [
      "Processing train dialogs:   0%|          | 245/152385 [10:12<451:25:48, 10.68s/it]"
     ]
    },
    {
     "name": "stdout",
     "output_type": "stream",
     "text": [
      "{'Q8567', 'Q8577'} {'Q1409226'}\n",
      "{'e3ce85a5-ddf3-4be2-b713-cb1d84610709'} {'Q164718'}\n"
     ]
    },
    {
     "name": "stderr",
     "output_type": "stream",
     "text": [
      "Processing train dialogs:   0%|          | 248/152385 [10:50<466:19:45, 11.03s/it]"
     ]
    },
    {
     "name": "stdout",
     "output_type": "stream",
     "text": [
      "{'Q15099'} {'Q38'}\n",
      "{'Q39259'} {'Q151729', 'Q42852', 'Q39259'}\n"
     ]
    },
    {
     "name": "stderr",
     "output_type": "stream",
     "text": [
      "Processing train dialogs:   0%|          | 249/152385 [10:59<447:06:17, 10.58s/it]"
     ]
    },
    {
     "name": "stdout",
     "output_type": "stream",
     "text": [
      "{'Q16739651'} {'Q737462'}\n",
      "{'Q2334076'} {'Q13409304'}\n"
     ]
    },
    {
     "name": "stderr",
     "output_type": "stream",
     "text": [
      "Processing train dialogs:   0%|          | 251/152385 [11:21<434:38:29, 10.29s/it]"
     ]
    },
    {
     "name": "stdout",
     "output_type": "stream",
     "text": [
      "{'2161'} {'Q385378'}\n"
     ]
    },
    {
     "name": "stderr",
     "output_type": "stream",
     "text": [
      "Processing train dialogs:   0%|          | 252/152385 [11:31<425:11:09, 10.06s/it]"
     ]
    },
    {
     "name": "stdout",
     "output_type": "stream",
     "text": [
      "{'Q312314'} {'Q9592'}\n"
     ]
    },
    {
     "name": "stderr",
     "output_type": "stream",
     "text": [
      "Processing train dialogs:   0%|          | 254/152385 [11:46<356:01:25,  8.42s/it]"
     ]
    },
    {
     "name": "stdout",
     "output_type": "stream",
     "text": [
      "{'40fba6c6-a2a6-4f7d-b6f9-dd077a1234a9', '39ee18c3-afa5-44b5-8e6f-ddba097908dd'} {'Q9438'}\n"
     ]
    },
    {
     "name": "stderr",
     "output_type": "stream",
     "text": [
      "Processing train dialogs:   0%|          | 255/152385 [12:01<442:01:55, 10.46s/it]"
     ]
    },
    {
     "name": "stdout",
     "output_type": "stream",
     "text": [
      "{'0.006', '0.0024'} {'Q533284', 'Q554406', 'Q9916'}\n",
      "{'2'} {'Q20760306', 'Q15997423'}\n"
     ]
    },
    {
     "name": "stderr",
     "output_type": "stream",
     "text": [
      "Processing train dialogs:   0%|          | 257/152385 [12:34<533:22:35, 12.62s/it]"
     ]
    },
    {
     "name": "stdout",
     "output_type": "stream",
     "text": [
      "{'Q719626', 'Q75244852', 'Q324959', 'Q262986', 'Q75244853', 'Q75244857', 'Q719501', 'Q75244850'} {'Q79176', 'Q702602'}\n"
     ]
    },
    {
     "name": "stderr",
     "output_type": "stream",
     "text": [
      "Processing train dialogs:   0%|          | 259/152385 [12:59<500:39:35, 11.85s/it]"
     ]
    },
    {
     "name": "stdout",
     "output_type": "stream",
     "text": [
      "{'Q22', 'Q21', 'Q26', 'Q25'} {'Q142', 'Q717', 'Q27'}\n",
      "{'Q7140661'} {'Q4656289'}\n"
     ]
    },
    {
     "name": "stderr",
     "output_type": "stream",
     "text": [
      "Processing train dialogs:   0%|          | 260/152385 [13:16<567:23:38, 13.43s/it]"
     ]
    },
    {
     "name": "stdout",
     "output_type": "stream",
     "text": [
      "{'101803069'} {'Q16527407'}\n",
      "{'Q8366463'} {'Q5548127'}\n",
      "{'13'} {'Q18343261', 'Q18591430', 'Q18591537'}\n"
     ]
    },
    {
     "name": "stderr",
     "output_type": "stream",
     "text": [
      "Processing train dialogs:   0%|          | 261/152385 [13:41<719:41:34, 17.03s/it]"
     ]
    },
    {
     "name": "stdout",
     "output_type": "stream",
     "text": [
      "{'Q36180'} {'Q482980'}\n",
      "{'Q8458233'} {'Q464111', 'Q17548046', 'Q190956'}\n"
     ]
    },
    {
     "name": "stderr",
     "output_type": "stream",
     "text": [
      "Processing train dialogs:   0%|          | 263/152385 [14:08<610:46:55, 14.45s/it]"
     ]
    },
    {
     "name": "stdout",
     "output_type": "stream",
     "text": [
      "{'1843-10-19T00:00:00Z'} {'Q265332'}\n"
     ]
    },
    {
     "name": "stderr",
     "output_type": "stream",
     "text": [
      "Processing train dialogs:   0%|          | 266/152385 [14:31<438:16:14, 10.37s/it]"
     ]
    },
    {
     "name": "stdout",
     "output_type": "stream",
     "text": [
      "{'Q199408', 'Q97', 'Q4918', 'Q2090594'} {'Q2'}\n"
     ]
    },
    {
     "name": "stderr",
     "output_type": "stream",
     "text": [
      "Processing train dialogs:   0%|          | 267/152385 [14:52<577:14:17, 13.66s/it]"
     ]
    },
    {
     "name": "stdout",
     "output_type": "stream",
     "text": [
      "{'Q2094063'} {'Q469731', 'Q318434', 'Q332516'}\n"
     ]
    },
    {
     "name": "stderr",
     "output_type": "stream",
     "text": [
      "Processing train dialogs:   0%|          | 268/152385 [15:03<536:15:03, 12.69s/it]"
     ]
    },
    {
     "name": "stdout",
     "output_type": "stream",
     "text": [
      "{'Q7320'} {'Q183'}\n",
      "{'Q76658'} {'Q567', 'Q2492', 'Q2514'}\n",
      "{'Q76658'} {'Q2571', 'Q2594', 'Q2567'}\n"
     ]
    },
    {
     "name": "stderr",
     "output_type": "stream",
     "text": [
      "Processing train dialogs:   0%|          | 269/152385 [15:22<617:01:27, 14.60s/it]"
     ]
    },
    {
     "name": "stdout",
     "output_type": "stream",
     "text": [
      "{'Q7695331'} {'Q3426737', 'Q700275', 'Q21511883'}\n",
      "{'Q708858', 'Q381724', 'Q323877', 'Q46868', 'Q310530'} {'Q2134288', 'Q652952'}\n"
     ]
    },
    {
     "name": "stderr",
     "output_type": "stream",
     "text": [
      "Processing train dialogs:   0%|          | 273/152385 [16:08<470:09:00, 11.13s/it]"
     ]
    },
    {
     "name": "stdout",
     "output_type": "stream",
     "text": [
      "{'Q423042', 'Q83162561', 'Q7321217'} {'Q14349455'}\n"
     ]
    },
    {
     "name": "stderr",
     "output_type": "stream",
     "text": [
      "Processing train dialogs:   0%|          | 274/152385 [16:22<501:04:06, 11.86s/it]"
     ]
    },
    {
     "name": "stdout",
     "output_type": "stream",
     "text": [
      "{'3171'} {'Q16908818'}\n"
     ]
    },
    {
     "name": "stderr",
     "output_type": "stream",
     "text": [
      "Processing train dialogs:   0%|          | 275/152385 [16:31<472:05:57, 11.17s/it]"
     ]
    },
    {
     "name": "stdout",
     "output_type": "stream",
     "text": [
      "{'2016-07-23T00:00:00Z'} {'Q1006865'}\n",
      "{'E15'} {'Q191788'}\n"
     ]
    },
    {
     "name": "stderr",
     "output_type": "stream",
     "text": [
      "Processing train dialogs:   0%|          | 276/152385 [16:44<497:29:01, 11.77s/it]"
     ]
    },
    {
     "name": "stdout",
     "output_type": "stream",
     "text": [
      "{'Q5'} {'Q161652'}\n"
     ]
    },
    {
     "name": "stderr",
     "output_type": "stream",
     "text": [
      "Processing train dialogs:   0%|          | 277/152385 [16:53<463:30:58, 10.97s/it]"
     ]
    },
    {
     "name": "stdout",
     "output_type": "stream",
     "text": [
      "{'Q1662673'} {'Q482980'}\n",
      "{'Football%20pictogram.svg'} {'Q6786211'}\n"
     ]
    },
    {
     "name": "stderr",
     "output_type": "stream",
     "text": [
      "Processing train dialogs:   0%|          | 278/152385 [17:08<510:55:56, 12.09s/it]"
     ]
    },
    {
     "name": "stdout",
     "output_type": "stream",
     "text": [
      "{'Q1335064', 'Q10762848'} {'Q714989', 'Q1195373', 'Q1134041'}\n"
     ]
    },
    {
     "name": "stderr",
     "output_type": "stream",
     "text": [
      "Processing train dialogs:   0%|          | 279/152385 [17:18<483:20:25, 11.44s/it]"
     ]
    },
    {
     "name": "stdout",
     "output_type": "stream",
     "text": [
      "{'Q79990', 'Q17139', 'Q174665', 'Q34804', 'Q191914', 'Q3688', 'Q5540', 'Q6816'} {'Q785396', 'Q10893525'}\n",
      "{'Q1339965', 'Q123462', 'Q1339849', 'Q1338336', 'Q1202666', 'Q1069975', 'Q567195', 'Q1340114'} {'Q148'}\n"
     ]
    },
    {
     "name": "stderr",
     "output_type": "stream",
     "text": [
      "Processing train dialogs:   0%|          | 281/152385 [17:42<466:14:42, 11.04s/it]"
     ]
    },
    {
     "name": "stdout",
     "output_type": "stream",
     "text": [
      "{'Q40807'} {'Q182268', 'Q489607'}\n"
     ]
    },
    {
     "name": "stderr",
     "output_type": "stream",
     "text": [
      "Processing train dialogs:   0%|          | 282/152385 [17:57<514:18:47, 12.17s/it]"
     ]
    },
    {
     "name": "stdout",
     "output_type": "stream",
     "text": [
      "{'Q1390707'} {'Q2133832'}\n",
      "{'2013-10-03T00:00:00Z'} {'Q3739104'}\n"
     ]
    },
    {
     "name": "stderr",
     "output_type": "stream",
     "text": [
      "Processing train dialogs:   0%|          | 284/152385 [18:18<464:15:21, 10.99s/it]"
     ]
    },
    {
     "name": "stdout",
     "output_type": "stream",
     "text": [
      "{'Q13474305'} {'Q1961583'}\n",
      "{'Q13474305'} {'Q54829'}\n"
     ]
    },
    {
     "name": "stderr",
     "output_type": "stream",
     "text": [
      "Processing train dialogs:   0%|          | 285/152385 [18:38<571:30:35, 13.53s/it]"
     ]
    },
    {
     "name": "stdout",
     "output_type": "stream",
     "text": [
      "{'Q12021756', 'Q166097'} {'Q50868'}\n"
     ]
    },
    {
     "name": "stderr",
     "output_type": "stream",
     "text": [
      "Processing train dialogs:   0%|          | 286/152385 [18:55<618:09:54, 14.63s/it]"
     ]
    },
    {
     "name": "stdout",
     "output_type": "stream",
     "text": [
      "{'Q7463350'} {'Q8908', 'Q782942'}\n"
     ]
    },
    {
     "name": "stderr",
     "output_type": "stream",
     "text": [
      "Processing train dialogs:   0%|          | 287/152385 [19:05<564:22:05, 13.36s/it]"
     ]
    },
    {
     "name": "stdout",
     "output_type": "stream",
     "text": [
      "{'Q952016', 'Q700794', 'Q3249'} {'Q142'}\n",
      "{'13856'} {'Q646548', 'Q683656', 'Q659903'}\n",
      "{'Marty%20-%20Les%20principaux%20monuments%20fun%C3%A9raires%20-%20Gros.jpg'} {'Q311'}\n",
      "{'Q2889459', 'Q2909905', 'Q1282978'} {'Q18191113'}\n"
     ]
    },
    {
     "name": "stderr",
     "output_type": "stream",
     "text": [
      "Processing train dialogs:   0%|          | 288/152385 [19:25<648:39:39, 15.35s/it]"
     ]
    },
    {
     "name": "stdout",
     "output_type": "stream",
     "text": [
      "{'1869-12-27T00:00:00Z'} {'Q649'}\n",
      "{'Point(7.1881 21.09375)'} {'Q2035462'}\n"
     ]
    },
    {
     "name": "stderr",
     "output_type": "stream",
     "text": [
      "Processing train dialogs:   0%|          | 289/152385 [19:40<641:34:16, 15.19s/it]"
     ]
    },
    {
     "name": "stdout",
     "output_type": "stream",
     "text": [
      "{'Q450675'} {'Q10392956'}\n"
     ]
    },
    {
     "name": "stderr",
     "output_type": "stream",
     "text": [
      "Processing train dialogs:   0%|          | 290/152385 [19:54<630:58:51, 14.93s/it]"
     ]
    },
    {
     "name": "stdout",
     "output_type": "stream",
     "text": [
      "{'Q6506039', 'Q3', 'Q7020'} {'Q2313936'}\n"
     ]
    },
    {
     "name": "stderr",
     "output_type": "stream",
     "text": [
      "Processing train dialogs:   0%|          | 291/152385 [20:09<625:21:37, 14.80s/it]"
     ]
    },
    {
     "name": "stdout",
     "output_type": "stream",
     "text": [
      "{'1977-08-30T00:00:00Z'} {'Q84'}\n",
      "{'1911-11-23T00:00:00Z'} {'Q727'}\n"
     ]
    },
    {
     "name": "stderr",
     "output_type": "stream",
     "text": [
      "Processing train dialogs:   0%|          | 292/152385 [20:18<553:10:19, 13.09s/it]"
     ]
    },
    {
     "name": "stdout",
     "output_type": "stream",
     "text": [
      "{'Q542'} {'Q244322', 'Q329679'}\n",
      "{'Q483463'} {'Q401470'}\n",
      "{'Q10387513'} {'Q148'}\n",
      "{'Q842386'} {'Q34453', 'Q7747', 'Q270529'}\n",
      "{'Q4109060', 'Q193159'} {'Q151469'}\n"
     ]
    },
    {
     "name": "stderr",
     "output_type": "stream",
     "text": [
      "Processing train dialogs:   0%|          | 295/152385 [21:03<542:53:38, 12.85s/it]"
     ]
    },
    {
     "name": "stdout",
     "output_type": "stream",
     "text": [
      "{'20110803110055913'} {'Q19108020'}\n"
     ]
    },
    {
     "name": "stderr",
     "output_type": "stream",
     "text": [
      "Processing train dialogs:   0%|          | 296/152385 [21:17<559:11:00, 13.24s/it]"
     ]
    },
    {
     "name": "stdout",
     "output_type": "stream",
     "text": [
      "{'Q828130', 'Q242736', 'Q21757752', 'Q21114947', 'Q14633883'} {'Q14863351'}\n",
      "{'Q12140'} {'Q26377249', 'Q26374503', 'Q26371370'}\n",
      "{'Q879952'} {'Q1444550', 'Q7514772'}\n"
     ]
    },
    {
     "name": "stderr",
     "output_type": "stream",
     "text": [
      "Processing train dialogs:   0%|          | 297/152385 [21:37<645:34:14, 15.28s/it]"
     ]
    },
    {
     "name": "stdout",
     "output_type": "stream",
     "text": [
      "{'Q756712'} {'Q11472'}\n"
     ]
    },
    {
     "name": "stderr",
     "output_type": "stream",
     "text": [
      "Processing train dialogs:   0%|          | 299/152385 [21:59<546:28:40, 12.94s/it]"
     ]
    },
    {
     "name": "stdout",
     "output_type": "stream",
     "text": [
      "{'Q106255', 'Q108732335', 'Q2829544'} {'Q171557'}\n"
     ]
    },
    {
     "name": "stderr",
     "output_type": "stream",
     "text": [
      "Processing train dialogs:   0%|          | 300/152385 [22:12<558:22:42, 13.22s/it]"
     ]
    },
    {
     "name": "stdout",
     "output_type": "stream",
     "text": [
      "{'1684-04-10T00:00:00Z'} {'Q33959'}\n",
      "{'Q451820'} {'Q1190599'}\n"
     ]
    },
    {
     "name": "stderr",
     "output_type": "stream",
     "text": [
      "Processing train dialogs:   0%|          | 301/152385 [22:32<634:42:14, 15.02s/it]"
     ]
    },
    {
     "name": "stdout",
     "output_type": "stream",
     "text": [
      "{'Q9924'} {'Q19546936', 'Q19575601', 'Q19546931'}\n"
     ]
    },
    {
     "name": "stderr",
     "output_type": "stream",
     "text": [
      "Processing train dialogs:   0%|          | 302/152385 [22:50<673:08:08, 15.93s/it]"
     ]
    },
    {
     "name": "stdout",
     "output_type": "stream",
     "text": [
      "{'Q3052500', 'Q2697443'} {'Q21998615'}\n"
     ]
    },
    {
     "name": "stderr",
     "output_type": "stream",
     "text": [
      "Processing train dialogs:   0%|          | 303/152385 [23:00<605:10:09, 14.33s/it]"
     ]
    },
    {
     "name": "stdout",
     "output_type": "stream",
     "text": [
      "{'330'} {'Q10260330', 'Q10260332', 'Q317077'}\n"
     ]
    },
    {
     "name": "stderr",
     "output_type": "stream",
     "text": [
      "Processing train dialogs:   0%|          | 304/152385 [23:11<561:40:22, 13.30s/it]"
     ]
    },
    {
     "name": "stdout",
     "output_type": "stream",
     "text": [
      "{'Q8042599'} {'Q196696'}\n"
     ]
    },
    {
     "name": "stderr",
     "output_type": "stream",
     "text": [
      "Processing train dialogs:   0%|          | 305/152385 [23:27<587:47:22, 13.91s/it]"
     ]
    },
    {
     "name": "stdout",
     "output_type": "stream",
     "text": [
      "{'Q49'} {'Q49', 'Q538'}\n"
     ]
    },
    {
     "name": "stderr",
     "output_type": "stream",
     "text": [
      "Processing train dialogs:   0%|          | 307/152385 [23:53<575:54:31, 13.63s/it]"
     ]
    },
    {
     "name": "stdout",
     "output_type": "stream",
     "text": [
      "{'Q23666', 'Q38272', 'Q22890'} {'Q30192'}\n"
     ]
    },
    {
     "name": "stderr",
     "output_type": "stream",
     "text": [
      "Processing train dialogs:   0%|          | 308/152385 [24:02<520:09:55, 12.31s/it]"
     ]
    },
    {
     "name": "stdout",
     "output_type": "stream",
     "text": [
      "{'Q679266', 'Q5363791'} {'Q2548323', 'Q236287'}\n",
      "{'Q28599854'} {'Q57467'}\n"
     ]
    },
    {
     "name": "stderr",
     "output_type": "stream",
     "text": [
      "Processing train dialogs:   0%|          | 309/152385 [24:23<638:52:03, 15.12s/it]"
     ]
    },
    {
     "name": "stdout",
     "output_type": "stream",
     "text": [
      "{'1941-06-26T00:00:00Z'} {'Q733'}\n",
      "{'Q7087863'} {'Q471690', 'Q1065', 'Q1043527'}\n"
     ]
    },
    {
     "name": "stderr",
     "output_type": "stream",
     "text": [
      "Processing train dialogs:   0%|          | 310/152385 [24:34<577:34:45, 13.67s/it]"
     ]
    },
    {
     "name": "stdout",
     "output_type": "stream",
     "text": [
      "{'Q3296384'} {'Q432709', 'Q2657179'}\n"
     ]
    },
    {
     "name": "stderr",
     "output_type": "stream",
     "text": [
      "Processing train dialogs:   0%|          | 311/152385 [24:49<592:28:47, 14.03s/it]"
     ]
    },
    {
     "name": "stdout",
     "output_type": "stream",
     "text": [
      "{'Q165503'} {'Q152956'}\n",
      "{'Q9218798'} {'Q200879', 'Q20851228'}\n",
      "{'Q2044232', 'Q2043842', 'Q2499376', 'Q20875996', 'Q4112534'} {'Q2364921', 'Q504283'}\n"
     ]
    },
    {
     "name": "stderr",
     "output_type": "stream",
     "text": [
      "Processing train dialogs:   0%|          | 312/152385 [25:25<882:12:57, 20.88s/it]"
     ]
    },
    {
     "name": "stdout",
     "output_type": "stream",
     "text": [
      "{'Q191954'} {'Q1709809', 'Q3091815', 'Q3061374'}\n"
     ]
    },
    {
     "name": "stderr",
     "output_type": "stream",
     "text": [
      "Processing train dialogs:   0%|          | 314/152385 [25:55<709:22:11, 16.79s/it]"
     ]
    },
    {
     "name": "stdout",
     "output_type": "stream",
     "text": [
      "{'Q3107382', 'Q3135269', 'Q8006'} {'Q1114628'}\n"
     ]
    },
    {
     "name": "stderr",
     "output_type": "stream",
     "text": [
      "Processing train dialogs:   0%|          | 315/152385 [26:00<558:26:04, 13.22s/it]"
     ]
    },
    {
     "name": "stdout",
     "output_type": "stream",
     "text": [
      "{'Q311440'} {'Q339544'}\n",
      "{'Q229671'} {'Q4112404', 'Q4112334', 'Q4112619'}\n"
     ]
    },
    {
     "name": "stderr",
     "output_type": "stream",
     "text": [
      "Processing train dialogs:   0%|          | 317/152385 [26:20<480:02:52, 11.36s/it]"
     ]
    },
    {
     "name": "stdout",
     "output_type": "stream",
     "text": [
      "{'2011-12-16T00:00:00Z'} {'Q3739104'}\n",
      "{'9607'} {'Q1474393', 'Q1737987', 'Q1196706'}\n",
      "{'1886-11-30T00:00:00Z'} {'Q6325955', 'Q588294'}\n",
      "{'Q11696'} {'Q22686', 'Q76', 'Q9916'}\n"
     ]
    },
    {
     "name": "stderr",
     "output_type": "stream",
     "text": [
      "Processing train dialogs:   0%|          | 318/152385 [26:49<698:27:54, 16.54s/it]"
     ]
    },
    {
     "name": "stdout",
     "output_type": "stream",
     "text": [
      "{'Q1945600'} {'Q44497'}\n",
      "{'Mapa%20litol%C3%B3gico%20de%20Genicera.png'} {'Q22677990'}\n",
      "{'Lilian Bola Bach'} {'Q190168'}\n"
     ]
    },
    {
     "name": "stderr",
     "output_type": "stream",
     "text": [
      "Processing train dialogs:   0%|          | 319/152385 [27:12<782:03:50, 18.51s/it]"
     ]
    },
    {
     "name": "stdout",
     "output_type": "stream",
     "text": [
      "{'1982-07-26T00:00:00Z'} {'Q13678'}\n",
      "{'Q1693'} {'Q1808482'}\n",
      "{'Q3052500', 'Q2697443'} {'Q21998615'}\n",
      "{'6192'} {'Q293206', 'Q2414724', 'Q1032681'}\n",
      "{'Q9331', 'Q231', 'Q90027', 'Q89959', 'Q9337', 'Q240'} {'Q12892', 'Q81046', 'Q239'}\n"
     ]
    },
    {
     "name": "stderr",
     "output_type": "stream",
     "text": [
      "Processing train dialogs:   0%|          | 320/152385 [27:45<963:35:41, 22.81s/it]"
     ]
    },
    {
     "name": "stdout",
     "output_type": "stream",
     "text": [
      "{'BEC-ROM-82'} {'Q19902094'}\n",
      "{'1834-03-27T00:00:00Z'} {'Q888865'}\n"
     ]
    },
    {
     "name": "stderr",
     "output_type": "stream",
     "text": [
      "Processing train dialogs:   0%|          | 321/152385 [27:55<802:56:40, 19.01s/it]"
     ]
    },
    {
     "name": "stdout",
     "output_type": "stream",
     "text": [
      "{'Q8365370'} {'Q7182237', 'Q1668674', 'Q4933465'}\n"
     ]
    },
    {
     "name": "stderr",
     "output_type": "stream",
     "text": [
      "Processing train dialogs:   0%|          | 323/152385 [28:23<716:09:34, 16.95s/it]"
     ]
    },
    {
     "name": "stdout",
     "output_type": "stream",
     "text": [
      "{'Q28462158'} {'Q1741232', 'Q1122571', 'Q151904'}\n"
     ]
    },
    {
     "name": "stderr",
     "output_type": "stream",
     "text": [
      "Processing train dialogs:   0%|          | 326/152385 [29:04<578:08:29, 13.69s/it]"
     ]
    },
    {
     "name": "stdout",
     "output_type": "stream",
     "text": [
      "{'Q82955'} {'Q18558478'}\n"
     ]
    },
    {
     "name": "stderr",
     "output_type": "stream",
     "text": [
      "Processing train dialogs:   0%|          | 327/152385 [29:09<463:45:10, 10.98s/it]"
     ]
    },
    {
     "name": "stdout",
     "output_type": "stream",
     "text": [
      "{'3920'} {'Q239043'}\n"
     ]
    },
    {
     "name": "stderr",
     "output_type": "stream",
     "text": [
      "Processing train dialogs:   0%|          | 329/152385 [29:34<501:35:00, 11.88s/it]"
     ]
    },
    {
     "name": "stdout",
     "output_type": "stream",
     "text": [
      "{'Q1726598', 'Q3125', 'Q701227'} {'Q142'}\n"
     ]
    },
    {
     "name": "stderr",
     "output_type": "stream",
     "text": [
      "Processing train dialogs:   0%|          | 331/152385 [29:58<497:59:58, 11.79s/it]"
     ]
    },
    {
     "name": "stdout",
     "output_type": "stream",
     "text": [
      "{'2012-11-20T00:00:00Z'} {'Q200491'}\n"
     ]
    },
    {
     "name": "stderr",
     "output_type": "stream",
     "text": [
      "Processing train dialogs:   0%|          | 332/152385 [30:12<519:25:28, 12.30s/it]"
     ]
    },
    {
     "name": "stdout",
     "output_type": "stream",
     "text": [
      "{'4000000074813508'} {'Q877'}\n",
      "{'LON'} {'Q1431914'}\n"
     ]
    },
    {
     "name": "stderr",
     "output_type": "stream",
     "text": [
      "Processing train dialogs:   0%|          | 333/152385 [30:34<650:00:36, 15.39s/it]"
     ]
    },
    {
     "name": "stdout",
     "output_type": "stream",
     "text": [
      "Expected where operand value to be a non-empty list, and all values to obe of the same type got []\n"
     ]
    },
    {
     "name": "stderr",
     "output_type": "stream",
     "text": [
      "Processing train dialogs:   0%|          | 334/152385 [30:39<511:45:13, 12.12s/it]"
     ]
    },
    {
     "name": "stdout",
     "output_type": "stream",
     "text": [
      "{'Q326376', 'Q1041877'} {'Q1343809'}\n"
     ]
    },
    {
     "name": "stderr",
     "output_type": "stream",
     "text": [
      "Processing train dialogs:   0%|          | 335/152385 [30:44<418:44:49,  9.91s/it]"
     ]
    },
    {
     "name": "stdout",
     "output_type": "stream",
     "text": [
      "{'Q40348', 'Q82955'} {'Q18171345'}\n",
      "{'Q16532593', 'Q2074737', 'Q10742', 'Q162620'} {'Q2'}\n"
     ]
    },
    {
     "name": "stderr",
     "output_type": "stream",
     "text": [
      "Processing train dialogs:   0%|          | 336/152385 [31:03<537:55:09, 12.74s/it]"
     ]
    },
    {
     "name": "stdout",
     "output_type": "stream",
     "text": [
      "{'Q145', 'Q30'} {'Q920963'}\n"
     ]
    },
    {
     "name": "stderr",
     "output_type": "stream",
     "text": [
      "Processing train dialogs:   0%|          | 337/152385 [31:14<514:32:52, 12.18s/it]"
     ]
    },
    {
     "name": "stdout",
     "output_type": "stream",
     "text": [
      "{'Q1051872', 'Q14349455', 'Q22325163', 'Q79899', 'Q14645640', 'Q14349519', 'Q14633848', 'Q14329032', 'Q14878067', 'Q79927'} {'Q14349455', 'Q79899', 'Q40260'}\n"
     ]
    },
    {
     "name": "stderr",
     "output_type": "stream",
     "text": [
      "Processing train dialogs:   0%|          | 338/152385 [31:33<605:33:26, 14.34s/it]"
     ]
    },
    {
     "name": "stdout",
     "output_type": "stream",
     "text": [
      "{'Q45909'} {'Q318292'}\n"
     ]
    },
    {
     "name": "stderr",
     "output_type": "stream",
     "text": [
      "Processing train dialogs:   0%|          | 339/152385 [31:48<613:33:41, 14.53s/it]"
     ]
    },
    {
     "name": "stdout",
     "output_type": "stream",
     "text": [
      "{'Q16533', 'Q82955'} {'Q1939555'}\n"
     ]
    },
    {
     "name": "stderr",
     "output_type": "stream",
     "text": [
      "Processing train dialogs:   0%|          | 341/152385 [32:17<597:12:17, 14.14s/it]"
     ]
    },
    {
     "name": "stdout",
     "output_type": "stream",
     "text": [
      "{'Q6271005'} {'Q1407653', 'Q3720922'}\n"
     ]
    },
    {
     "name": "stderr",
     "output_type": "stream",
     "text": [
      "Processing train dialogs:   0%|          | 342/152385 [32:31<593:06:35, 14.04s/it]"
     ]
    },
    {
     "name": "stdout",
     "output_type": "stream",
     "text": [
      "{'Q8365580'} {'Q215949', 'Q319321', 'Q777234'}\n",
      "{'Q36180', 'Q82955'} {'Q18558478', 'Q27169'}\n"
     ]
    },
    {
     "name": "stderr",
     "output_type": "stream",
     "text": [
      "Processing train dialogs:   0%|          | 347/152385 [33:22<380:32:00,  9.01s/it]"
     ]
    },
    {
     "name": "stdout",
     "output_type": "stream",
     "text": [
      "{'100697'} {'Q3398852'}\n",
      "{'100697'} {'Q1930187'}\n"
     ]
    },
    {
     "name": "stderr",
     "output_type": "stream",
     "text": [
      "Processing train dialogs:   0%|          | 348/152385 [33:42<515:29:09, 12.21s/it]"
     ]
    },
    {
     "name": "stdout",
     "output_type": "stream",
     "text": [
      "{'12108'} {'Q592507', 'Q54854', 'Q840167'}\n"
     ]
    },
    {
     "name": "stderr",
     "output_type": "stream",
     "text": [
      "Processing train dialogs:   0%|          | 350/152385 [34:16<596:27:07, 14.12s/it]"
     ]
    },
    {
     "name": "stdout",
     "output_type": "stream",
     "text": [
      "{'Q40348', 'Q82955', 'Q185351'} {'Q18130478'}\n"
     ]
    },
    {
     "name": "stderr",
     "output_type": "stream",
     "text": [
      "Processing train dialogs:   0%|          | 351/152385 [34:31<598:31:58, 14.17s/it]"
     ]
    },
    {
     "name": "stdout",
     "output_type": "stream",
     "text": [
      "{'1892-01-29T00:00:00Z'} {'Q169492'}\n"
     ]
    },
    {
     "name": "stderr",
     "output_type": "stream",
     "text": [
      "Processing train dialogs:   0%|          | 352/152385 [34:50<659:57:11, 15.63s/it]"
     ]
    },
    {
     "name": "stdout",
     "output_type": "stream",
     "text": [
      "{'1969-09-12T00:00:00Z'} {'Q3739104'}\n",
      "{'Q82955'} {'Q14828018'}\n"
     ]
    },
    {
     "name": "stderr",
     "output_type": "stream",
     "text": [
      "Processing train dialogs:   0%|          | 353/152385 [34:58<574:28:04, 13.60s/it]"
     ]
    },
    {
     "name": "stdout",
     "output_type": "stream",
     "text": [
      "{'Q209131'} {'Q145'}\n",
      "{'Q2580491', 'Q7994501', 'Q4115170', 'Q3244280'} {'Q5460575', 'Q5578020', 'Q515011'}\n"
     ]
    },
    {
     "name": "stderr",
     "output_type": "stream",
     "text": [
      "Processing train dialogs:   0%|          | 354/152385 [35:17<636:53:57, 15.08s/it]"
     ]
    },
    {
     "name": "stdout",
     "output_type": "stream",
     "text": [
      "{'Q844072'} {'Q20648657'}\n",
      "{'Q105807276'} {'Q23303626', 'Q23682478'}\n"
     ]
    },
    {
     "name": "stderr",
     "output_type": "stream",
     "text": [
      "Processing train dialogs:   0%|          | 355/152385 [35:36<683:00:55, 16.17s/it]"
     ]
    },
    {
     "name": "stdout",
     "output_type": "stream",
     "text": [
      "{'379861'} {'Q2207521', 'Q2207545', 'Q2207550'}\n",
      "{'Q1005903', 'Q313827'} {'Q586', 'Q64'}\n",
      "{'Q1927597'} {'Q823939'}\n"
     ]
    },
    {
     "name": "stderr",
     "output_type": "stream",
     "text": [
      "Processing train dialogs:   0%|          | 356/152385 [35:55<718:15:19, 17.01s/it]"
     ]
    },
    {
     "name": "stdout",
     "output_type": "stream",
     "text": [
      "{'65350'} {'Q403463'}\n"
     ]
    },
    {
     "name": "stderr",
     "output_type": "stream",
     "text": [
      "Processing train dialogs:   0%|          | 358/152385 [36:30<727:04:48, 17.22s/it]"
     ]
    },
    {
     "name": "stdout",
     "output_type": "stream",
     "text": [
      "{'Q316603'} {'Q537395'}\n"
     ]
    },
    {
     "name": "stderr",
     "output_type": "stream",
     "text": [
      "Processing train dialogs:   0%|          | 359/152385 [36:46<705:17:34, 16.70s/it]"
     ]
    },
    {
     "name": "stdout",
     "output_type": "stream",
     "text": [
      "{'Nl-Voetballer-article.ogg'} {'Q23047441'}\n",
      "{'Q16534667', 'Q884250', 'Q478584', 'Q2736', 'Q31930761', 'Q606060', 'Q4493605', 'Q28954'} {'Q2089026'}\n"
     ]
    },
    {
     "name": "stderr",
     "output_type": "stream",
     "text": [
      "Processing train dialogs:   0%|          | 361/152385 [37:03<517:54:43, 12.26s/it]"
     ]
    },
    {
     "name": "stdout",
     "output_type": "stream",
     "text": [
      "{'Meszlenyi3.jpg'} {'Q51619'}\n"
     ]
    },
    {
     "name": "stderr",
     "output_type": "stream",
     "text": [
      "Processing train dialogs:   0%|          | 366/152385 [38:11<571:03:18, 13.52s/it]"
     ]
    },
    {
     "name": "stdout",
     "output_type": "stream",
     "text": [
      "{'Q1407455'} {'Q721738'}\n"
     ]
    },
    {
     "name": "stderr",
     "output_type": "stream",
     "text": [
      "Processing train dialogs:   0%|          | 368/152385 [38:30<481:54:43, 11.41s/it]"
     ]
    },
    {
     "name": "stdout",
     "output_type": "stream",
     "text": [
      "{'1971-08-26T00:00:00Z'} {'Q640384'}\n",
      "589 1000 0.589\n",
      "Stop\n",
      "{'Q37960', 'Q27092'} {'Q48'}\n",
      "{'Q8042599'} {'Q3772715'}\n",
      "{'Q4806809', 'Q476294'} {'Q4181293'}\n"
     ]
    },
    {
     "name": "stderr",
     "output_type": "stream",
     "text": [
      "Processing train dialogs:   0%|          | 369/152385 [39:03<755:17:42, 17.89s/it]"
     ]
    },
    {
     "name": "stdout",
     "output_type": "stream",
     "text": [
      "{'Friedrich Franz Opel'} {'Q57479'}\n"
     ]
    },
    {
     "name": "stderr",
     "output_type": "stream",
     "text": [
      "Processing train dialogs:   0%|          | 370/152385 [39:17<710:59:21, 16.84s/it]"
     ]
    },
    {
     "name": "stdout",
     "output_type": "stream",
     "text": [
      "{'1971-11-23T00:00:00Z'} {'Q171866'}\n"
     ]
    },
    {
     "name": "stderr",
     "output_type": "stream",
     "text": [
      "Processing train dialogs:   0%|          | 372/152385 [39:31<499:21:36, 11.83s/it]"
     ]
    },
    {
     "name": "stdout",
     "output_type": "stream",
     "text": [
      "{'6.7'} {'Q231417'}\n"
     ]
    },
    {
     "name": "stderr",
     "output_type": "stream",
     "text": [
      "Processing train dialogs:   0%|          | 376/152385 [40:13<419:23:27,  9.93s/it]"
     ]
    },
    {
     "name": "stdout",
     "output_type": "stream",
     "text": [
      "{'Q82955'} {'Q15964890'}\n",
      "{'Q6452577'} {'Q618036'}\n"
     ]
    },
    {
     "name": "stderr",
     "output_type": "stream",
     "text": [
      "Processing train dialogs:   0%|          | 377/152385 [40:28<493:08:31, 11.68s/it]"
     ]
    },
    {
     "name": "stdout",
     "output_type": "stream",
     "text": [
      "{'1623-04-16T00:00:00Z', '1624-01-01T00:00:00Z'} {'Q641'}\n",
      "{'Q13924', 'Q76925'} {'Q3404235'}\n"
     ]
    },
    {
     "name": "stderr",
     "output_type": "stream",
     "text": [
      "Processing train dialogs:   0%|          | 378/152385 [40:48<601:00:33, 14.23s/it]"
     ]
    },
    {
     "name": "stdout",
     "output_type": "stream",
     "text": [
      "{'6.1'} {'Q698102', 'Q325922', 'Q442048'}\n"
     ]
    },
    {
     "name": "stderr",
     "output_type": "stream",
     "text": [
      "Processing train dialogs:   0%|          | 379/152385 [41:03<604:00:54, 14.31s/it]"
     ]
    },
    {
     "name": "stdout",
     "output_type": "stream",
     "text": [
      "{'450-459', '490-499'} {'Q1975690'}\n"
     ]
    },
    {
     "name": "stderr",
     "output_type": "stream",
     "text": [
      "Processing train dialogs:   0%|          | 380/152385 [41:13<545:57:40, 12.93s/it]"
     ]
    },
    {
     "name": "stdout",
     "output_type": "stream",
     "text": [
      "{'Q7735'} {'Q4000211'}\n",
      "{'ff5e68c2050a9a9863b6e1a1fb3546ff'} {'Q768717'}\n"
     ]
    },
    {
     "name": "stderr",
     "output_type": "stream",
     "text": [
      "Processing train dialogs:   0%|          | 381/152385 [41:31<620:29:14, 14.70s/it]"
     ]
    },
    {
     "name": "stdout",
     "output_type": "stream",
     "text": [
      "{'Q9218045'} {'Q737321', 'Q3105074', 'Q27093430'}\n"
     ]
    },
    {
     "name": "stderr",
     "output_type": "stream",
     "text": [
      "Processing train dialogs:   0%|          | 382/152385 [41:56<741:13:22, 17.55s/it]"
     ]
    },
    {
     "name": "stdout",
     "output_type": "stream",
     "text": [
      "{'Q271247'} {'Q3813232', 'Q11422725'}\n"
     ]
    },
    {
     "name": "stderr",
     "output_type": "stream",
     "text": [
      "Processing train dialogs:   0%|          | 385/152385 [42:31<568:47:05, 13.47s/it]"
     ]
    },
    {
     "name": "stdout",
     "output_type": "stream",
     "text": [
      "{'2012-08-15T00:00:00Z'} {'Q10737'}\n",
      "{'Paul'} {'Q26921653'}\n",
      "{'6792'} {'Q5371902'}\n"
     ]
    },
    {
     "name": "stderr",
     "output_type": "stream",
     "text": [
      "Processing train dialogs:   0%|          | 388/152385 [43:12<555:04:12, 13.15s/it]"
     ]
    },
    {
     "name": "stdout",
     "output_type": "stream",
     "text": [
      "{'Q207766'} {'Q132664', 'Q46938'}\n"
     ]
    },
    {
     "name": "stderr",
     "output_type": "stream",
     "text": [
      "Processing train dialogs:   0%|          | 391/152385 [43:45<513:18:32, 12.16s/it]"
     ]
    },
    {
     "name": "stdout",
     "output_type": "stream",
     "text": [
      "{'Q145'} {'Q47762', 'Q4202306', 'Q1342578'}\n",
      "{'Q6834520'} {'Q16385485', 'Q17039455', 'Q1890400'}\n",
      "{'x-files_the'} {'Q484365', 'Q10307893', 'Q437267'}\n"
     ]
    },
    {
     "name": "stderr",
     "output_type": "stream",
     "text": [
      "Processing train dialogs:   0%|          | 393/152385 [44:16<561:59:58, 13.31s/it]"
     ]
    },
    {
     "name": "stdout",
     "output_type": "stream",
     "text": [
      "{'Q93332'} {'Q4929539', 'Q6518832'}\n"
     ]
    },
    {
     "name": "stderr",
     "output_type": "stream",
     "text": [
      "Processing train dialogs:   0%|          | 394/152385 [44:41<711:52:18, 16.86s/it]"
     ]
    },
    {
     "name": "stdout",
     "output_type": "stream",
     "text": [
      "{'96683cc9126741d1'} {'Q828'}\n"
     ]
    },
    {
     "name": "stderr",
     "output_type": "stream",
     "text": [
      "Processing train dialogs:   0%|          | 395/152385 [44:52<634:08:21, 15.02s/it]"
     ]
    },
    {
     "name": "stdout",
     "output_type": "stream",
     "text": [
      "{'Q500999', 'Q18539273', 'Q327477', 'Q12727795'} {'Q634875'}\n"
     ]
    },
    {
     "name": "stderr",
     "output_type": "stream",
     "text": [
      "Processing train dialogs:   0%|          | 396/152385 [44:56<502:22:42, 11.90s/it]"
     ]
    },
    {
     "name": "stdout",
     "output_type": "stream",
     "text": [
      "{'Q43274'} {'Q192', 'Q264766'}\n"
     ]
    },
    {
     "name": "stderr",
     "output_type": "stream",
     "text": [
      "Processing train dialogs:   0%|          | 397/152385 [45:15<585:07:12, 13.86s/it]"
     ]
    },
    {
     "name": "stdout",
     "output_type": "stream",
     "text": [
      "{'Q41796747', 'Q24744789', 'Q83165345', 'Q41797933'} {'Q14349455'}\n"
     ]
    },
    {
     "name": "stderr",
     "output_type": "stream",
     "text": [
      "Processing train dialogs:   0%|          | 398/152385 [45:24<531:26:50, 12.59s/it]"
     ]
    },
    {
     "name": "stdout",
     "output_type": "stream",
     "text": [
      "{'Q6625963', 'Q36180', 'Q49757', 'Q1930187', 'Q333634'} {'Q1930187', 'Q333634', 'Q42973'}\n"
     ]
    },
    {
     "name": "stderr",
     "output_type": "stream",
     "text": [
      "Processing train dialogs:   0%|          | 399/152385 [45:34<492:46:43, 11.67s/it]"
     ]
    },
    {
     "name": "stdout",
     "output_type": "stream",
     "text": [
      "{'1970-02-06T00:00:00Z'} {'Q33518'}\n",
      "{'italy'} {'Q2451851'}\n",
      "{'Q7140608'} {'Q15631013', 'Q1383269', 'Q18602670'}\n"
     ]
    },
    {
     "name": "stderr",
     "output_type": "stream",
     "text": [
      "Processing train dialogs:   0%|          | 401/152385 [45:56<457:26:46, 10.84s/it]"
     ]
    },
    {
     "name": "stdout",
     "output_type": "stream",
     "text": [
      "{'Q720060'} {'Q455305'}\n",
      "{'Q4825228'} {'Q16230664'}\n"
     ]
    },
    {
     "name": "stderr",
     "output_type": "stream",
     "text": [
      "Processing train dialogs:   0%|          | 402/152385 [46:20<622:05:10, 14.74s/it]"
     ]
    },
    {
     "name": "stdout",
     "output_type": "stream",
     "text": [
      "{'1961-06-19T00:00:00Z'} {'Q234728'}\n",
      "{'Q40807'} {'Q7655570', 'Q6723324', 'Q2198408'}\n",
      "{'1453'} {'Q191472', 'Q7280832', 'Q6459992'}\n"
     ]
    },
    {
     "name": "stderr",
     "output_type": "stream",
     "text": [
      "Processing train dialogs:   0%|          | 403/152385 [46:39<675:27:11, 16.00s/it]"
     ]
    },
    {
     "name": "stdout",
     "output_type": "stream",
     "text": [
      "{'Q48468230'} {'Q4570864'}\n",
      "{'1062'} {'Q1756181', 'Q15880363', 'Q2097187'}\n"
     ]
    },
    {
     "name": "stderr",
     "output_type": "stream",
     "text": [
      "Processing train dialogs:   0%|          | 404/152385 [46:49<593:55:16, 14.07s/it]"
     ]
    },
    {
     "name": "stdout",
     "output_type": "stream",
     "text": [
      "{'Natural Language\\xa0:: English'} {'Q5329170', 'Q1346342'}\n"
     ]
    },
    {
     "name": "stderr",
     "output_type": "stream",
     "text": [
      "Processing train dialogs:   0%|          | 405/152385 [47:05<626:51:35, 14.85s/it]"
     ]
    },
    {
     "name": "stdout",
     "output_type": "stream",
     "text": [
      "{'Q1390226', 'Q7650000'} {'Q1377752', 'Q1390226', 'Q2463699'}\n"
     ]
    },
    {
     "name": "stderr",
     "output_type": "stream",
     "text": [
      "Processing train dialogs:   0%|          | 406/152385 [47:30<747:02:27, 17.70s/it]"
     ]
    },
    {
     "name": "stdout",
     "output_type": "stream",
     "text": [
      "{'Q82955'} {'Q3044918'}\n",
      "{'Q34178'} {'Q5891'}\n",
      "{'Q6581097'} {'Q1841'}\n"
     ]
    },
    {
     "name": "stderr",
     "output_type": "stream",
     "text": [
      "Processing train dialogs:   0%|          | 409/152385 [48:08<552:04:40, 13.08s/it]"
     ]
    },
    {
     "name": "stdout",
     "output_type": "stream",
     "text": [
      "{'Q11728013'} {'Q1064327'}\n",
      "{'Europe'} {'Q4248045'}\n",
      "{'Point(-6.0 36.0)'} {'Q7366553', 'Q21002587'}\n"
     ]
    },
    {
     "name": "stderr",
     "output_type": "stream",
     "text": [
      "Processing train dialogs:   0%|          | 410/152385 [48:25<611:54:30, 14.49s/it]"
     ]
    },
    {
     "name": "stdout",
     "output_type": "stream",
     "text": [
      "{'Q5536876'} {'Q3430707'}\n",
      "{'6792'} {'Q5371902'}\n"
     ]
    },
    {
     "name": "stderr",
     "output_type": "stream",
     "text": [
      "Processing train dialogs:   0%|          | 411/152385 [48:35<544:31:57, 12.90s/it]"
     ]
    },
    {
     "name": "stdout",
     "output_type": "stream",
     "text": [
      "{'Q30'} {'Q21686005'}\n",
      "{'Q2975468'} {'Q454464'}\n",
      "{'Q3784910'} {'Q394670'}\n",
      "{'nm0210352'} {'Q3988253', 'Q3857083'}\n"
     ]
    },
    {
     "name": "stderr",
     "output_type": "stream",
     "text": [
      "Processing train dialogs:   0%|          | 413/152385 [48:59<503:54:14, 11.94s/it]"
     ]
    },
    {
     "name": "stdout",
     "output_type": "stream",
     "text": [
      "{'Q26439315'} {'Q16882518'}\n"
     ]
    },
    {
     "name": "stderr",
     "output_type": "stream",
     "text": [
      "Processing train dialogs:   0%|          | 414/152385 [49:08<464:37:04, 11.01s/it]"
     ]
    },
    {
     "name": "stdout",
     "output_type": "stream",
     "text": [
      "{'Q36'} {'Q211274', 'Q172107', 'Q207272'}\n",
      "{'Q5245991', 'Q50615', 'Q20', 'Q2616953', 'Q3357343'} {'Q57076', 'Q57081', 'Q110848'}\n"
     ]
    },
    {
     "name": "stderr",
     "output_type": "stream",
     "text": [
      "Processing train dialogs:   0%|          | 415/152385 [49:23<515:40:11, 12.22s/it]"
     ]
    },
    {
     "name": "stdout",
     "output_type": "stream",
     "text": [
      "{'Q774116'} {'Q377412'}\n"
     ]
    },
    {
     "name": "stderr",
     "output_type": "stream",
     "text": [
      "Processing train dialogs:   0%|          | 416/152385 [49:38<549:17:46, 13.01s/it]"
     ]
    },
    {
     "name": "stdout",
     "output_type": "stream",
     "text": [
      "{'Q5753390'} {'Q21601944'}\n"
     ]
    },
    {
     "name": "stderr",
     "output_type": "stream",
     "text": [
      "Processing train dialogs:   0%|          | 419/152385 [50:16<526:13:45, 12.47s/it]"
     ]
    },
    {
     "name": "stdout",
     "output_type": "stream",
     "text": [
      "{'Q170601'} {'Q40807'}\n"
     ]
    },
    {
     "name": "stderr",
     "output_type": "stream",
     "text": [
      "Processing train dialogs:   0%|          | 420/152385 [50:26<494:17:03, 11.71s/it]"
     ]
    },
    {
     "name": "stdout",
     "output_type": "stream",
     "text": [
      "{'Q7237249'} {'Q3521099', 'Q159063', 'Q18407657'}\n",
      "{'Q1693', 'Q545'} {'Q46'}\n",
      "{'Q7349'} {'Q76938'}\n"
     ]
    },
    {
     "name": "stderr",
     "output_type": "stream",
     "text": [
      "Processing train dialogs:   0%|          | 421/152385 [50:45<583:05:03, 13.81s/it]"
     ]
    },
    {
     "name": "stdout",
     "output_type": "stream",
     "text": [
      "{'Q367614'} {'Q3568727'}\n",
      "{'p119586'} {'Q7997413'}\n",
      "{'Q7200373', 'Q178435', 'Q318917', 'Q7888721', 'Q651641'} {'Q76', 'Q6294', 'Q206112'}\n",
      "{'305'} {'Q5142790'}\n"
     ]
    },
    {
     "name": "stderr",
     "output_type": "stream",
     "text": [
      "Processing train dialogs:   0%|          | 423/152385 [51:18<611:14:57, 14.48s/it]"
     ]
    },
    {
     "name": "stdout",
     "output_type": "stream",
     "text": [
      "{'Q62408'} {'Q1638891', 'Q1545350', 'Q1138066'}\n"
     ]
    },
    {
     "name": "stderr",
     "output_type": "stream",
     "text": [
      "Processing train dialogs:   0%|          | 424/152385 [51:28<560:12:50, 13.27s/it]"
     ]
    },
    {
     "name": "stdout",
     "output_type": "stream",
     "text": [
      "{'Q42852129', 'Q12005318', 'Q2345755', 'Q889840'} {'Q5261273'}\n"
     ]
    },
    {
     "name": "stderr",
     "output_type": "stream",
     "text": [
      "Processing train dialogs:   0%|          | 425/152385 [51:48<649:46:13, 15.39s/it]"
     ]
    },
    {
     "name": "stdout",
     "output_type": "stream",
     "text": [
      "{'72624', 'DOB28-00'} {'Q2220850', 'Q2561279'}\n",
      "{'Q16168', 'Q2886295'} {'Q95093', 'Q95109', 'Q95142'}\n"
     ]
    },
    {
     "name": "stderr",
     "output_type": "stream",
     "text": [
      "Processing train dialogs:   0%|          | 426/152385 [52:07<685:58:16, 16.25s/it]"
     ]
    },
    {
     "name": "stdout",
     "output_type": "stream",
     "text": [
      "{'-200000-01-01T00:00:00Z', '-1200000-01-01T00:00:00Z'} {'Q1625792'}\n",
      "{'Q7237186'} {'Q18745344'}\n"
     ]
    },
    {
     "name": "stderr",
     "output_type": "stream",
     "text": [
      "Processing train dialogs:   0%|          | 427/152385 [52:26<723:59:27, 17.15s/it]"
     ]
    },
    {
     "name": "stdout",
     "output_type": "stream",
     "text": [
      "{'1675-09-23T00:00:00Z'} {'Q90'}\n",
      "{'bookslist26'} {'Q22955657'}\n"
     ]
    },
    {
     "name": "stderr",
     "output_type": "stream",
     "text": [
      "Processing train dialogs:   0%|          | 428/152385 [52:47<775:04:33, 18.36s/it]"
     ]
    },
    {
     "name": "stdout",
     "output_type": "stream",
     "text": [
      "{'Q29468'} {'Q12583'}\n"
     ]
    },
    {
     "name": "stderr",
     "output_type": "stream",
     "text": [
      "Processing train dialogs:   0%|          | 431/152385 [53:16<535:39:05, 12.69s/it]"
     ]
    },
    {
     "name": "stdout",
     "output_type": "stream",
     "text": [
      "{'212410'} {'Q1920746'}\n"
     ]
    },
    {
     "name": "stderr",
     "output_type": "stream",
     "text": [
      "Processing train dialogs:   0%|          | 432/152385 [53:25<492:00:33, 11.66s/it]"
     ]
    },
    {
     "name": "stdout",
     "output_type": "stream",
     "text": [
      "{'Q114065736'} {'Q271620', 'Q1189470', 'Q120533'}\n"
     ]
    },
    {
     "name": "stderr",
     "output_type": "stream",
     "text": [
      "Processing train dialogs:   0%|          | 433/152385 [53:34<459:24:01, 10.88s/it]"
     ]
    },
    {
     "name": "stdout",
     "output_type": "stream",
     "text": [
      "{'NI-Latijn-article.ogg'} {'Q343165', 'Q246732', 'Q362537'}\n"
     ]
    },
    {
     "name": "stderr",
     "output_type": "stream",
     "text": [
      "Processing train dialogs:   0%|          | 435/152385 [53:53<412:38:17,  9.78s/it]"
     ]
    },
    {
     "name": "stdout",
     "output_type": "stream",
     "text": [
      "{'Q9686108'} {'Q6688054', 'Q20973436', 'Q6143096'}\n"
     ]
    },
    {
     "name": "stderr",
     "output_type": "stream",
     "text": [
      "Processing train dialogs:   0%|          | 437/152385 [54:24<530:11:03, 12.56s/it]"
     ]
    },
    {
     "name": "stdout",
     "output_type": "stream",
     "text": [
      "{'Q1374339', 'Q4173137', 'Q4532138', 'Q15987490', 'Q123560817', 'Q20096917', 'Q16082057', 'Q2041543', 'Q19180675', 'Q3181656', 'Q867541', 'Q116780519', 'Q19047539', 'Q602358', 'Q19077875'} {'Q25931035'}\n"
     ]
    },
    {
     "name": "stderr",
     "output_type": "stream",
     "text": [
      "Processing train dialogs:   0%|          | 438/152385 [54:34<503:22:34, 11.93s/it]"
     ]
    },
    {
     "name": "stdout",
     "output_type": "stream",
     "text": [
      "{'1936-11-15T00:00:00Z'} {'Q33292'}\n",
      "{'Q2652770', 'Q171334', 'Q12082004', 'Q4084164'} {'Q212'}\n"
     ]
    },
    {
     "name": "stderr",
     "output_type": "stream",
     "text": [
      "Processing train dialogs:   0%|          | 439/152385 [54:49<541:24:33, 12.83s/it]"
     ]
    },
    {
     "name": "stdout",
     "output_type": "stream",
     "text": [
      "{'Q1370675'} {'Q1781884'}\n"
     ]
    },
    {
     "name": "stderr",
     "output_type": "stream",
     "text": [
      "Processing train dialogs:   0%|          | 440/152385 [55:00<519:46:34, 12.31s/it]"
     ]
    },
    {
     "name": "stdout",
     "output_type": "stream",
     "text": [
      "{'Q18817305'} {'Q18817302', 'Q18817305'}\n",
      "{'Q18817305'} {'Q18811283'}\n"
     ]
    },
    {
     "name": "stderr",
     "output_type": "stream",
     "text": [
      "Processing train dialogs:   0%|          | 441/152385 [55:28<711:18:17, 16.85s/it]"
     ]
    },
    {
     "name": "stdout",
     "output_type": "stream",
     "text": [
      "{'Q1723064'} {'Q326075'}\n"
     ]
    },
    {
     "name": "stderr",
     "output_type": "stream",
     "text": [
      "Processing train dialogs:   0%|          | 442/152385 [55:42<681:05:21, 16.14s/it]"
     ]
    },
    {
     "name": "stdout",
     "output_type": "stream",
     "text": [
      "{'Q3919890'} {'Q42262', 'Q81299', 'Q19771'}\n",
      "{'Q21622227', 'Q8567', 'Q14979277', 'Q59307576', 'Q219413', 'Q849092', 'Q926131', 'Q21857932', 'Q44497477', 'Q108920739', 'Q110263921', 'Q14916000', 'Q1780660', 'Q30750603', 'Q42204070', 'Q60964153', 'Q20970765', 'Q47517245', 'Q27679728', 'Q103964987', 'Q105130221', 'Q116203560', 'Q27915850', 'Q21029681', 'Q23056287', 'Q849059', 'Q21559636', 'Q1788011', 'Q74842812', 'Q97367360', 'Q21821246', 'Q42317185', 'Q33937', 'Q33881'} {'Q18710416'}\n"
     ]
    },
    {
     "name": "stderr",
     "output_type": "stream",
     "text": [
      "Processing train dialogs:   0%|          | 443/152385 [56:03<736:23:42, 17.45s/it]"
     ]
    },
    {
     "name": "stdout",
     "output_type": "stream",
     "text": [
      "{'Q7076967'} {'Q3575602', 'Q622769'}\n",
      "{'Q145'} {'Q46'}\n"
     ]
    },
    {
     "name": "stderr",
     "output_type": "stream",
     "text": [
      "Processing train dialogs:   0%|          | 444/152385 [56:23<771:29:46, 18.28s/it]"
     ]
    },
    {
     "name": "stdout",
     "output_type": "stream",
     "text": [
      "{'Q97138261', 'Q2778220', 'Q47492499'} {'Q864'}\n"
     ]
    },
    {
     "name": "stderr",
     "output_type": "stream",
     "text": [
      "Processing train dialogs:   0%|          | 446/152385 [56:46<637:08:20, 15.10s/it]"
     ]
    },
    {
     "name": "stdout",
     "output_type": "stream",
     "text": [
      "{'Q30'} {'Q4669411'}\n"
     ]
    },
    {
     "name": "stderr",
     "output_type": "stream",
     "text": [
      "Processing train dialogs:   0%|          | 447/152385 [57:01<632:07:40, 14.98s/it]"
     ]
    },
    {
     "name": "stdout",
     "output_type": "stream",
     "text": [
      "{'1976-04-14T00:00:00Z'} {'Q3808'}\n",
      "{'Q9220419'} {'Q221351'}\n"
     ]
    },
    {
     "name": "stderr",
     "output_type": "stream",
     "text": [
      "Processing train dialogs:   0%|          | 448/152385 [57:35<871:43:59, 20.65s/it]"
     ]
    },
    {
     "name": "stdout",
     "output_type": "stream",
     "text": [
      "{'Q13378453', 'Q15283322', 'Q556206', 'Q1005208', 'Q9014817', 'Q565170', 'Q1027078', 'Q1019067', 'Q2318898', 'Q15913', 'Q507051', 'Q1002247', 'Q15881', 'Q15932', 'Q670975', 'Q731093', 'Q1003984', 'Q778542', 'Q1005224', 'Q338743', 'Q391428', 'Q1515842', 'Q3346841', 'Q13370246', 'Q3441808', 'Q15925', 'Q594852', 'Q1009413', 'Q3278915', 'Q15927', 'Q15891', 'Q1027089', 'Q15894', 'Q647572', 'Q15895', 'Q394087', 'Q539864', 'Q849320', 'Q995101', 'Q1009409', 'Q1002229', 'Q927718', 'Q13377778', 'Q3441796', 'Q1016800', 'Q1027062', 'Q391446', 'Q658076', 'Q3487128', 'Q3441856', 'Q13378328', 'Q13220435', 'Q998557', 'Q1008095', 'Q13378155', 'Q1252438', 'Q1008102', 'Q341658', 'Q773160', 'Q13378373', 'Q954987', 'Q331701', 'Q12062190', 'Q393910', 'Q13378243', 'Q669648', 'Q13378058', 'Q201074', 'Q599480', 'Q1276793', 'Q3494723', 'Q11214302', 'Q906636', 'Q3259688', 'Q921092', 'Q919934', 'Q1016831', 'Q3434113', 'Q990063', 'Q999540', 'Q1688771', 'Q1569014', 'Q2346638', 'Q999579', 'Q3482211', 'Q15924', 'Q13378384', 'Q227163', 'Q3434092', 'Q3435104', 'Q13377986', 'Q925149', 'Q13378051', 'Q1008179', 'Q13378292', 'Q1005185', 'Q3503153', 'Q779018', 'Q15892', 'Q13365883', 'Q763400', 'Q1016840', 'Q3661628', 'Q1002863', 'Q3435496', 'Q279072', 'Q556203', 'Q557216', 'Q392188', 'Q3441823', 'Q859679', 'Q1005364', 'Q778147', 'Q392468', 'Q2134561', 'Q12042075', 'Q1784972', 'Q13365892', 'Q13365904', 'Q13377731', 'Q632998', 'Q13377747', 'Q1016805', 'Q554854', 'Q370390', 'Q9273677', 'Q13377798', 'Q3441893', 'Q391800', 'Q570397', 'Q570618', 'Q1016820', 'Q15900', 'Q13377780', 'Q1002371', 'Q6309297', 'Q1003969', 'Q1034410', 'Q999530', 'Q12042076', 'Q995065', 'Q3435689', 'Q1008048', 'Q946766', 'Q167001', 'Q998566', 'Q999553', 'Q726548', 'Q678147', 'Q938443', 'Q1008144', 'Q3435117', 'Q25110', 'Q394103', 'Q1587704', 'Q3509893', 'Q999589', 'Q1009421', 'Q999584', 'Q2242799', 'Q3484655', 'Q924698', 'Q612216', 'Q587328', 'Q392103', 'Q3435478', 'Q13377784', 'Q15887', 'Q15910', 'Q776770', 'Q13378288', 'Q15923', 'Q13378299', 'Q1016826', 'Q999525', 'Q1016812', 'Q15912', 'Q398116', 'Q1016698', 'Q252154', 'Q920353', 'Q1313614', 'Q995048', 'Q650009', 'Q15884', 'Q1008079', 'Q1587261', 'Q1005165', 'Q392173', 'Q1027245', 'Q773659', 'Q917397', 'Q3441842', 'Q13377751', 'Q906879', 'Q963986', 'Q999563', 'Q3441849', 'Q13107298', 'Q3441817', 'Q11211457', 'Q1012761', 'Q13378281', 'Q1808143', 'Q999559', 'Q3503123', 'Q15931', 'Q164123', 'Q15893', 'Q688287', 'Q13377763', 'Q1008086'} {'Q437'}\n",
      "{'Q838380'} {'Q348144'}\n"
     ]
    },
    {
     "name": "stderr",
     "output_type": "stream",
     "text": [
      "Processing train dialogs:   0%|          | 449/152385 [57:59<920:47:18, 21.82s/it]"
     ]
    },
    {
     "name": "stdout",
     "output_type": "stream",
     "text": [
      "{'Renato D’Aiello'} {'Q8341'}\n"
     ]
    },
    {
     "name": "stderr",
     "output_type": "stream",
     "text": [
      "Processing train dialogs:   0%|          | 451/152385 [58:19<664:17:58, 15.74s/it]"
     ]
    },
    {
     "name": "stdout",
     "output_type": "stream",
     "text": [
      "{'Q3609'} {'Q335638', 'Q3609'}\n"
     ]
    },
    {
     "name": "stderr",
     "output_type": "stream",
     "text": [
      "Processing train dialogs:   0%|          | 452/152385 [58:41<328:45:56,  7.79s/it]\n"
     ]
    },
    {
     "ename": "KeyboardInterrupt",
     "evalue": "",
     "output_type": "error",
     "traceback": [
      "\u001b[0;31m---------------------------------------------------------------------------\u001b[0m",
      "\u001b[0;31mKeyboardInterrupt\u001b[0m                         Traceback (most recent call last)",
      "Cell \u001b[0;32mIn[29], line 37\u001b[0m\n\u001b[1;32m     35\u001b[0m     \u001b[38;5;28mprint\u001b[39m(e)\n\u001b[1;32m     36\u001b[0m \u001b[38;5;28;01mfinally\u001b[39;00m:\n\u001b[0;32m---> 37\u001b[0m     \u001b[43mrandom_sleep\u001b[49m\u001b[43m(\u001b[49m\u001b[43m)\u001b[49m\n",
      "Cell \u001b[0;32mIn[16], line 4\u001b[0m, in \u001b[0;36mrandom_sleep\u001b[0;34m()\u001b[0m\n\u001b[1;32m      3\u001b[0m \u001b[38;5;28;01mdef\u001b[39;00m \u001b[38;5;21mrandom_sleep\u001b[39m():\n\u001b[0;32m----> 4\u001b[0m     time\u001b[38;5;241m.\u001b[39msleep(random\u001b[38;5;241m.\u001b[39muniform(\u001b[38;5;241m3.5\u001b[39m, \u001b[38;5;241m5.0\u001b[39m))\n",
      "\u001b[0;31mKeyboardInterrupt\u001b[0m: "
     ]
    }
   ],
   "source": [
    "j = 0\n",
    "for dialog in tqdm(\n",
    "    simple_questions, total=len(simple_questions), desc=\"Processing train dialogs\"\n",
    "):\n",
    "    j += 1\n",
    "    if j < 203:\n",
    "        continue\n",
    "\n",
    "    for i, turn in enumerate(dialog[\"turns\"]):\n",
    "        if turn[\"speaker\"] == \"USER\":\n",
    "            if len(turn[\"entities_in_utterance\"]) == 1:\n",
    "                try:\n",
    "                    question_dict = get_args_for_question(\n",
    "                        dialog[\"turns\"][i], dialog[\"turns\"][i + 1]\n",
    "                    )\n",
    "\n",
    "                    answers, query = answer_simple_direct_question(\n",
    "                        question_dict[\"question\"], question_dict[\"entity_id\"]\n",
    "                    )\n",
    "                    total_questions += 1\n",
    "\n",
    "                    if total_questions == 1000:\n",
    "                        print(successes, total_questions, successes / total_questions)\n",
    "                        raise Exception(\"Stop\")\n",
    "                    # check if answers is a super set of the correct answer\n",
    "                    if answers.issuperset(question_dict[\"answer\"]):\n",
    "                        successes += 1\n",
    "                    else:\n",
    "                        print(answers, question_dict[\"answer\"])\n",
    "                        question_dict[\"truth_query\"] = turn[\"verbalized_sparql_query\"]\n",
    "                        question_dict[\"our_answer\"] = answers\n",
    "                        question_dict[\"our_query\"] = query\n",
    "                        failures.append(question_dict)\n",
    "                except Exception as e:\n",
    "                    print(e)\n",
    "                finally:\n",
    "                    random_sleep()"
   ]
  },
  {
   "cell_type": "code",
   "execution_count": 32,
   "metadata": {},
   "outputs": [
    {
     "data": {
      "text/plain": [
       "[{'question': 'What are the sports venues occupied by - ?',\n",
       "  'entity_id': 'Q18656',\n",
       "  'answer': {'Q2448476', 'Q83457'},\n",
       "  'truth_query': 'SELECT DISTINCT ?k WHERE { ?k property:occupant resource:Manchester_United_F.C. . ?k rdf:type ontology:sports_venue }',\n",
       "  'our_answer': {'Q83457'},\n",
       "  'our_query': 'SELECT ?value ?valueLabel WHERE { wd:Q18656 wdt:P115 ?value . SERVICE wikibase:label { bd:serviceParam wikibase:language \"en\". } }'},\n",
       " {'question': 'What is located at - ?',\n",
       "  'entity_id': 'Q83457',\n",
       "  'answer': {'Q134202'},\n",
       "  'truth_query': 'SELECT DISTINCT ?m WHERE { ?m property:location resource:Old_Trafford . ?m rdf:type ontology:recurring_event }',\n",
       "  'our_answer': {'Q18125', 'Q21', 'Q915954'},\n",
       "  'our_query': 'SELECT ?value ?valueLabel WHERE { wd:Q83457 wdt:P131 ?value . SERVICE wikibase:label { bd:serviceParam wikibase:language \"en\". } }'},\n",
       " {'question': 'What is associated with - ?',\n",
       "  'entity_id': 'Q145',\n",
       "  'answer': {'Q83278'},\n",
       "  'truth_query': 'SELECT DISTINCT ?a WHERE { ?a rdf:type ontology:flag . resource:United_Kingdom property:flag ?a }',\n",
       "  'our_answer': {'Q32670711', 'Q3919830'},\n",
       "  'our_query': 'SELECT ?value ?valueLabel WHERE { wd:Q145 wdt:P1792 ?value . SERVICE wikibase:label { bd:serviceParam wikibase:language \"en\". } }'},\n",
       " {'question': 'Who took part in - ?',\n",
       "  'entity_id': 'Q189021',\n",
       "  'answer': {'Q1557944'},\n",
       "  'truth_query': 'SELECT DISTINCT ?c WHERE { ?c property:participant_of resource:TED_conferences . ?c rdf:type ontology:common_name }',\n",
       "  'our_answer': {'Q2628226'},\n",
       "  'our_query': 'SELECT ?value ?valueLabel WHERE { wd:Q189021 wdt:P112 ?value . SERVICE wikibase:label { bd:serviceParam wikibase:language \"en\". } }'},\n",
       " {'question': 'Where did the demise of - occur ?',\n",
       "  'entity_id': 'Q1809430',\n",
       "  'answer': {'Q60'},\n",
       "  'truth_query': 'SELECT DISTINCT ?u WHERE { resource:Lazar_C._Margulies property:place_of_death ?u . ?u rdf:type ontology:administrative_territorial_entity }',\n",
       "  'our_answer': {'1982-03-07T00:00:00Z'},\n",
       "  'our_query': 'SELECT ?value ?valueLabel WHERE { wd:Q1809430 wdt:P570 ?value . SERVICE wikibase:label { bd:serviceParam wikibase:language \"en\". } }'},\n",
       " {'question': 'Which administrative territory was - born at ?',\n",
       "  'entity_id': 'Q3695476',\n",
       "  'answer': {'Q220'},\n",
       "  'truth_query': 'SELECT DISTINCT ?q WHERE { ?q rdf:type ontology:administrative_territorial_entity . resource:Costantino_De_Andreis property:place_of_birth ?q }',\n",
       "  'our_answer': {'1925-08-27T00:00:00Z'},\n",
       "  'our_query': 'SELECT ?value ?valueLabel WHERE { wd:Q3695476 wdt:P569 ?value . SERVICE wikibase:label { bd:serviceParam wikibase:language \"en\". } }'},\n",
       " {'question': 'What can be considered as category for - ?',\n",
       "  'entity_id': 'Q105624',\n",
       "  'answer': {'Q1257444', 'Q2297927', 'Q3990883'},\n",
       "  'truth_query': 'SELECT DISTINCT ?n WHERE { resource:The_Bourne_Identity property:genre ?n . ?n rdf:type ontology:art_genre }',\n",
       "  'our_answer': {'Q109733333',\n",
       "   'Q1200678',\n",
       "   'Q188473',\n",
       "   'Q2297927',\n",
       "   'Q2484376',\n",
       "   'Q3990883',\n",
       "   'Q52207399'},\n",
       "  'our_query': 'SELECT ?value ?valueLabel WHERE { wd:Q105624 wdt:P136 ?value . SERVICE wikibase:label { bd:serviceParam wikibase:language \"en\". } }'},\n",
       " {'question': 'Which palace is under posessision of - ?',\n",
       "  'entity_id': 'Q220',\n",
       "  'answer': {'Q1222097'},\n",
       "  'truth_query': 'SELECT DISTINCT ?h WHERE { ?h property:owned_by resource:Rome . ?h rdf:type ontology:palace }',\n",
       "  'our_answer': {'Q23936560'},\n",
       "  'our_query': 'SELECT ?value ?valueLabel WHERE { wd:Q220 wdt:P1313 ?value . SERVICE wikibase:label { bd:serviceParam wikibase:language \"en\". } }'},\n",
       " {'question': 'Which periodical literature is created in language - ?',\n",
       "  'entity_id': 'Q29',\n",
       "  'answer': {'Q26206339'},\n",
       "  'truth_query': 'SELECT DISTINCT ?t WHERE { ?t rdf:type ontology:periodical_literature . ?t property:language_of_work_or_name resource:Spain }',\n",
       "  'our_answer': {'3290'},\n",
       "  'our_query': 'SELECT ?value ?valueLabel WHERE { wd:Q29 wdt:P9937 ?value . SERVICE wikibase:label { bd:serviceParam wikibase:language \"en\". } }'},\n",
       " {'question': 'Which architectural structures are located in - ?',\n",
       "  'entity_id': 'Q29',\n",
       "  'answer': {'Q23093', 'Q5047861', 'Q746333'},\n",
       "  'truth_query': 'SELECT DISTINCT ?s WHERE { ?s property:country resource:Spain . ?s rdf:type ontology:architectural_structure }',\n",
       "  'our_answer': {'Q199408', 'Q2090594', 'Q4918', 'Q97'},\n",
       "  'our_query': 'SELECT ?value ?valueLabel WHERE { wd:Q29 wdt:P206 ?value . SERVICE wikibase:label { bd:serviceParam wikibase:language \"en\". } }'},\n",
       " {'question': 'Which occupations have control over the jurisdiction of - ?',\n",
       "  'entity_id': 'Q29',\n",
       "  'answer': {'Q18171345', 'Q3847454', 'Q844587'},\n",
       "  'truth_query': 'SELECT DISTINCT ?l WHERE { ?l rdf:type ontology:occupation . ?l property:applies_to_jurisdiction resource:Spain }',\n",
       "  'our_answer': {'Q1566394', 'Q19746'},\n",
       "  'our_query': 'SELECT ?value ?valueLabel WHERE { wd:Q29 wdt:P209 ?value . SERVICE wikibase:label { bd:serviceParam wikibase:language \"en\". } }'},\n",
       " {'question': 'Which political party had - as its member ?',\n",
       "  'entity_id': 'Q9630',\n",
       "  'answer': {'Q220945'},\n",
       "  'truth_query': 'SELECT DISTINCT ?k WHERE { resource:Labour_Party property:member_of ?k . ?k rdf:type ontology:political_party }',\n",
       "  'our_answer': {'Q737014'},\n",
       "  'our_query': 'SELECT ?value ?valueLabel WHERE { wd:Q9630 wdt:P1387 ?value . SERVICE wikibase:label { bd:serviceParam wikibase:language \"en\". } }'},\n",
       " {'question': 'Which language can - understand ?',\n",
       "  'entity_id': 'Q4348569',\n",
       "  'answer': {'Q397'},\n",
       "  'truth_query': 'SELECT DISTINCT ?m WHERE { resource:Viktor_Ferdinand_Brotherus property:languages_spoken,_written_or_signed ?m . ?m rdf:type ontology:language }',\n",
       "  'our_answer': {'Q9027'},\n",
       "  'our_query': 'SELECT ?value ?valueLabel WHERE { wd:Q4348569 wdt:P103 ?value . SERVICE wikibase:label { bd:serviceParam wikibase:language \"en\". } }'},\n",
       " {'question': 'Who speaks - as his/her mother tongue ?',\n",
       "  'entity_id': 'Q397',\n",
       "  'answer': {'Q277022', 'Q41568', 'Q5519572'},\n",
       "  'truth_query': 'SELECT DISTINCT ?v WHERE { ?v property:native_language resource:Latin . ?v rdf:type ontology:common_name }',\n",
       "  'our_answer': {'Q384'},\n",
       "  'our_query': 'SELECT ?value ?valueLabel WHERE { wd:Q397 wdt:P10369 ?value . SERVICE wikibase:label { bd:serviceParam wikibase:language \"en\". } }'},\n",
       " {'question': 'Which international organization was established by - ?',\n",
       "  'entity_id': 'Q55',\n",
       "  'answer': {'Q42262'},\n",
       "  'truth_query': 'SELECT DISTINCT ?t WHERE { ?t property:founder resource:Netherlands . ?t rdf:type ontology:international_organization }',\n",
       "  'our_answer': {'NED'},\n",
       "  'our_query': 'SELECT ?value ?valueLabel WHERE { wd:Q55 wdt:P984 ?value . SERVICE wikibase:label { bd:serviceParam wikibase:language \"en\". } }'},\n",
       " {'question': 'Who starred in - ?',\n",
       "  'entity_id': 'Q541491',\n",
       "  'answer': {'Q6003754', 'Q6128418', 'Q6701100'},\n",
       "  'truth_query': 'SELECT DISTINCT ?l WHERE { resource:El_Diablo_andaba_en_los_choclos property:cast_member ?l . ?l rdf:type ontology:common_name }',\n",
       "  'our_answer': {'Q6752853'},\n",
       "  'our_query': 'SELECT ?value ?valueLabel WHERE { wd:Q541491 wdt:P57 ?value . SERVICE wikibase:label { bd:serviceParam wikibase:language \"en\". } }'},\n",
       " {'question': 'Which relationships were - a participant of ?',\n",
       "  'entity_id': 'Q414',\n",
       "  'answer': {'Q4398159', 'Q4789335'},\n",
       "  'truth_query': 'SELECT DISTINCT ?i WHERE { ?i property:participant resource:Argentina . ?i rdf:type ontology:relationship }',\n",
       "  'our_answer': {'Q5570670', 'Q9538'},\n",
       "  'our_query': 'SELECT ?value ?valueLabel WHERE { wd:Q414 wdt:P1344 ?value . SERVICE wikibase:label { bd:serviceParam wikibase:language \"en\". } }'},\n",
       " {'question': 'Which people have - as their work location ?',\n",
       "  'entity_id': 'Q142',\n",
       "  'answer': {'Q17479789', 'Q236293', 'Q923557'},\n",
       "  'truth_query': 'SELECT DISTINCT ?w WHERE { ?w property:work_location resource:France . ?w rdf:type ontology:common_name }',\n",
       "  'our_answer': {'67749632'},\n",
       "  'our_query': 'SELECT ?value ?valueLabel WHERE { wd:Q142 wdt:P1082 ?value . SERVICE wikibase:label { bd:serviceParam wikibase:language \"en\". } }'},\n",
       " {'question': 'Which people live in - ?',\n",
       "  'entity_id': 'Q183',\n",
       "  'answer': {'Q117139', 'Q14943164', 'Q60066'},\n",
       "  'truth_query': 'SELECT DISTINCT ?p WHERE { ?p property:residence resource:Germany . ?p rdf:type ontology:common_name }',\n",
       "  'our_answer': {'84358845'},\n",
       "  'our_query': 'SELECT ?value ?valueLabel WHERE { wd:Q183 wdt:P1082 ?value . SERVICE wikibase:label { bd:serviceParam wikibase:language \"en\". } }'},\n",
       " {'question': 'Which thoroughfares have - as their destination ?',\n",
       "  'entity_id': 'Q183',\n",
       "  'answer': {'Q18619599', 'Q18679137'},\n",
       "  'truth_query': 'SELECT DISTINCT ?f WHERE { ?f property:terminus_location resource:Germany . ?f rdf:type ontology:thoroughfare }',\n",
       "  'our_answer': {'Q14565199'},\n",
       "  'our_query': 'SELECT ?value ?valueLabel WHERE { wd:Q183 wdt:P1622 ?value . SERVICE wikibase:label { bd:serviceParam wikibase:language \"en\". } }'},\n",
       " {'question': 'What was the position held by - ?',\n",
       "  'entity_id': 'Q41370',\n",
       "  'answer': {'Q12097'},\n",
       "  'truth_query': 'SELECT DISTINCT ?q WHERE { resource:David property:position_held ?q . ?q rdf:type ontology:occupation }',\n",
       "  'our_answer': {'Q42857', 'Q43459871'},\n",
       "  'our_query': 'SELECT ?value ?valueLabel WHERE { wd:Q41370 wdt:P39 ?value . SERVICE wikibase:label { bd:serviceParam wikibase:language \"en\". } }'},\n",
       " {'question': 'Which person was a pupil of - ?',\n",
       "  'entity_id': 'Q41370',\n",
       "  'answer': {'Q6577515'},\n",
       "  'truth_query': 'SELECT DISTINCT ?k WHERE { ?k property:student resource:David . ?k rdf:type ontology:common_name }',\n",
       "  'our_answer': {'Q2590260'},\n",
       "  'our_query': 'SELECT ?value ?valueLabel WHERE { wd:Q41370 wdt:P802 ?value . SERVICE wikibase:label { bd:serviceParam wikibase:language \"en\". } }'},\n",
       " {'question': 'What does - do for a living ?',\n",
       "  'entity_id': 'Q17160634',\n",
       "  'answer': {'Q13178418'},\n",
       "  'truth_query': 'SELECT DISTINCT ?y WHERE { resource:Hachirō_Tagami property:occupation ?y . ?y rdf:type ontology:occupation }',\n",
       "  'our_answer': {'Q2447386'},\n",
       "  'our_query': 'SELECT ?value ?valueLabel WHERE { wd:Q17160634 wdt:P106 ?value . SERVICE wikibase:label { bd:serviceParam wikibase:language \"en\". } }'},\n",
       " {'question': 'Which people have the highest formal authority in - ?',\n",
       "  'entity_id': 'Q29',\n",
       "  'answer': {'Q191045', 'Q19943'},\n",
       "  'truth_query': 'SELECT DISTINCT ?o WHERE { resource:Spain property:head_of_state ?o . ?o rdf:type ontology:common_name }',\n",
       "  'our_answer': {'Q191045'},\n",
       "  'our_query': 'SELECT ?value ?valueLabel WHERE { wd:Q29 wdt:P35 ?value . SERVICE wikibase:label { bd:serviceParam wikibase:language \"en\". } }'},\n",
       " {'question': 'Which abstract being is an extension - ?',\n",
       "  'entity_id': 'Q83310',\n",
       "  'answer': {'Q9351'},\n",
       "  'truth_query': 'SELECT DISTINCT ?y WHERE { ?y property:based_on resource:Mus_musculus . ?y rdf:type ontology:abstract_being }',\n",
       "  'our_answer': {'7VW9H'},\n",
       "  'our_query': 'SELECT ?value ?valueLabel WHERE { wd:Q83310 wdt:P10585 ?value . SERVICE wikibase:label { bd:serviceParam wikibase:language \"en\". } }'},\n",
       " {'question': 'Which work contains - ?',\n",
       "  'entity_id': 'Q9351',\n",
       "  'answer': {'Q864'},\n",
       "  'truth_query': 'SELECT DISTINCT ?i WHERE { resource:Pikachu property:present_in_work ?i . ?i rdf:type ontology:work }',\n",
       "  'our_answer': {'Q2778220', 'Q47492499', 'Q97138261'},\n",
       "  'our_query': 'SELECT ?value ?valueLabel WHERE { wd:Q9351 wdt:P1441 ?value . SERVICE wikibase:label { bd:serviceParam wikibase:language \"en\". } }'},\n",
       " {'question': 'Which person does - serve as the head of government for ?',\n",
       "  'entity_id': 'Q664',\n",
       "  'answer': {'Q57783'},\n",
       "  'truth_query': 'SELECT DISTINCT ?f WHERE { resource:New_Zealand property:head_of_government ?f . ?f rdf:type ontology:common_name }',\n",
       "  'our_answer': {'Q1071117'},\n",
       "  'our_query': 'SELECT ?value ?valueLabel WHERE { wd:Q664 wdt:P1313 ?value . SERVICE wikibase:label { bd:serviceParam wikibase:language \"en\". } }'},\n",
       " {'question': 'Which administrative territory was - born at ?',\n",
       "  'entity_id': 'Q6296847',\n",
       "  'answer': {'Q690052'},\n",
       "  'truth_query': 'SELECT DISTINCT ?u WHERE { resource:Jovo_Mišeljić property:place_of_birth ?u . ?u rdf:type ontology:administrative_territorial_entity }',\n",
       "  'our_answer': {'1967-10-15T00:00:00Z'},\n",
       "  'our_query': 'SELECT ?value ?valueLabel WHERE { wd:Q6296847 wdt:P569 ?value . SERVICE wikibase:label { bd:serviceParam wikibase:language \"en\". } }'},\n",
       " {'question': 'Which work of art has - as its director ?',\n",
       "  'entity_id': 'Q129092',\n",
       "  'answer': {'Q2825107'},\n",
       "  'truth_query': 'SELECT DISTINCT ?y WHERE { ?y property:director resource:Fernandel . ?y rdf:type ontology:work_of_art }',\n",
       "  'our_answer': {'Q3072122'},\n",
       "  'our_query': 'SELECT ?value ?valueLabel WHERE { wd:Q129092 wdt:P1283 ?value . SERVICE wikibase:label { bd:serviceParam wikibase:language \"en\". } }'},\n",
       " {'question': 'Which administrative territory does - belong to ?',\n",
       "  'entity_id': 'Q246579',\n",
       "  'answer': {'Q38'},\n",
       "  'truth_query': 'SELECT DISTINCT ?d WHERE { resource:Bosentino property:country ?d . ?d rdf:type ontology:designation_for_an_administrative_territorial_entity }',\n",
       "  'our_answer': {'Q21970558'},\n",
       "  'our_query': 'SELECT ?value ?valueLabel WHERE { wd:Q246579 wdt:P131 ?value . SERVICE wikibase:label { bd:serviceParam wikibase:language \"en\". } }'},\n",
       " {'question': 'Where is - situated ?',\n",
       "  'entity_id': 'Q38',\n",
       "  'answer': {'Q46'},\n",
       "  'truth_query': 'SELECT DISTINCT ?n WHERE { ?n rdf:type ontology:geographic_location . resource:Italy property:continent ?n }',\n",
       "  'our_answer': {'Q13924', 'Q37495', 'Q38882', 'Q42820', 'Q4918'},\n",
       "  'our_query': 'SELECT ?value ?valueLabel WHERE { wd:Q38 wdt:P206 ?value . SERVICE wikibase:label { bd:serviceParam wikibase:language \"en\". } }'},\n",
       " {'question': 'Where was - born ?',\n",
       "  'entity_id': 'Q8962151',\n",
       "  'answer': {'Q12335'},\n",
       "  'truth_query': 'SELECT DISTINCT ?x WHERE { resource:Francesc_Antoni_de_Solanell_i_de_Montellà property:place_of_birth ?x . ?x rdf:type ontology:political_territorial_entity }',\n",
       "  'our_answer': {'1550-01-01T00:00:00Z'},\n",
       "  'our_query': 'SELECT ?value ?valueLabel WHERE { wd:Q8962151 wdt:P569 ?value . SERVICE wikibase:label { bd:serviceParam wikibase:language \"en\". } }'},\n",
       " {'question': 'Which administrative territory is - a civilian of ?',\n",
       "  'entity_id': 'Q8962151',\n",
       "  'answer': {'Q29'},\n",
       "  'truth_query': 'SELECT DISTINCT ?h WHERE { resource:Francesc_Antoni_de_Solanell_i_de_Montellà property:country_of_citizenship ?h . ?h rdf:type ontology:designation_for_an_administrative_territorial_entity }',\n",
       "  'our_answer': {'Q204920'},\n",
       "  'our_query': 'SELECT ?value ?valueLabel WHERE { wd:Q8962151 wdt:P27 ?value . SERVICE wikibase:label { bd:serviceParam wikibase:language \"en\". } }'},\n",
       " {'question': 'Which coat of arms serves as the ensign for - ?',\n",
       "  'entity_id': 'Q1492',\n",
       "  'answer': {'Q8777837'},\n",
       "  'truth_query': 'SELECT DISTINCT ?y WHERE { resource:Barcelona property:coat_of_arms ?y . ?y rdf:type ontology:flag_or_coat_of_arms }',\n",
       "  'our_answer': {'Coat%20of%20Arms%20of%20Barcelona.svg'},\n",
       "  'our_query': 'SELECT ?value ?valueLabel WHERE { wd:Q1492 wdt:P94 ?value . SERVICE wikibase:label { bd:serviceParam wikibase:language \"en\". } }'},\n",
       " {'question': 'Which geographic locations are - situated in ?',\n",
       "  'entity_id': 'Q142',\n",
       "  'answer': {'Q15', 'Q46', 'Q51'},\n",
       "  'truth_query': 'SELECT DISTINCT ?k WHERE { resource:France property:continent ?k . ?k rdf:type ontology:geographic_location }',\n",
       "  'our_answer': {'Point(2.0 47.0)'},\n",
       "  'our_query': 'SELECT ?value ?valueLabel WHERE { wd:Q142 wdt:P625 ?value . SERVICE wikibase:label { bd:serviceParam wikibase:language \"en\". } }'},\n",
       " {'question': 'Which person lives in - ?',\n",
       "  'entity_id': 'Q51',\n",
       "  'answer': {'Q17386748'},\n",
       "  'truth_query': 'SELECT DISTINCT ?z WHERE { ?z property:residence resource:Antarctica . ?z rdf:type ontology:common_name }',\n",
       "  'our_answer': {'4400'},\n",
       "  'our_query': 'SELECT ?value ?valueLabel WHERE { wd:Q51 wdt:P1082 ?value . SERVICE wikibase:label { bd:serviceParam wikibase:language \"en\". } }'},\n",
       " {'question': 'Which television programs had - as their location of filming ?',\n",
       "  'entity_id': 'Q30',\n",
       "  'answer': {'Q23572', 'Q484825'},\n",
       "  'truth_query': 'SELECT DISTINCT ?p WHERE { ?p property:filming_location resource:United_States_of_America . ?p rdf:type ontology:television_program }',\n",
       "  'our_answer': {'Q6839466'},\n",
       "  'our_query': 'SELECT ?value ?valueLabel WHERE { wd:Q30 wdt:P1740 ?value . SERVICE wikibase:label { bd:serviceParam wikibase:language \"en\". } }'},\n",
       " {'question': 'Which book was - a translator of ?',\n",
       "  'entity_id': 'Q5211406',\n",
       "  'answer': {'Q15397819'},\n",
       "  'truth_query': 'SELECT DISTINCT ?t WHERE { ?t rdf:type ontology:book . ?t property:translator resource:Dallas_Seavey }',\n",
       "  'our_answer': {'Q18577468', 'Q18577470', 'Q18579437', 'Q19455277'},\n",
       "  'our_query': 'SELECT ?value ?valueLabel WHERE { wd:Q5211406 wdt:P2522 ?value . SERVICE wikibase:label { bd:serviceParam wikibase:language \"en\". } }'},\n",
       " {'question': 'Which collectable stars - as actor ?',\n",
       "  'entity_id': 'Q264559',\n",
       "  'answer': {'Q2894715'},\n",
       "  'truth_query': 'SELECT DISTINCT ?f WHERE { ?f property:cast_member resource:Ariana_Richards . ?f rdf:type ontology:collectable }',\n",
       "  'our_answer': {'35867'},\n",
       "  'our_query': 'SELECT ?value ?valueLabel WHERE { wd:Q264559 wdt:P9995 ?value . SERVICE wikibase:label { bd:serviceParam wikibase:language \"en\". } }'},\n",
       " {'question': 'Which social group does - correspond to ?',\n",
       "  'entity_id': 'Q15970327',\n",
       "  'answer': {'Q1841'},\n",
       "  'truth_query': 'SELECT DISTINCT ?x WHERE { ?x rdf:type ontology:social_group . resource:Pierre_Goux property:religion ?x }',\n",
       "  'our_answer': {'Q6581097'},\n",
       "  'our_query': 'SELECT ?value ?valueLabel WHERE { wd:Q15970327 wdt:P21 ?value . SERVICE wikibase:label { bd:serviceParam wikibase:language \"en\". } }'},\n",
       " {'question': 'Which works of art have - as screenwriter ?',\n",
       "  'entity_id': 'Q42747',\n",
       "  'answer': {'Q1167354', 'Q707758'},\n",
       "  'truth_query': 'SELECT DISTINCT ?x WHERE { ?x property:screenwriter resource:Heinrich_Böll . ?x rdf:type ontology:work_of_art }',\n",
       "  'our_answer': {'Q1046358',\n",
       "   'Q1149714',\n",
       "   'Q1192372',\n",
       "   'Q1193148',\n",
       "   'Q1195632',\n",
       "   'Q1216400',\n",
       "   'Q1217325',\n",
       "   'Q1219337',\n",
       "   'Q1235081',\n",
       "   'Q1340275',\n",
       "   'Q1344748',\n",
       "   'Q1451573',\n",
       "   'Q1551030',\n",
       "   'Q1590916',\n",
       "   'Q1591130',\n",
       "   'Q1659490',\n",
       "   'Q1672825',\n",
       "   'Q17332470',\n",
       "   'Q1788149',\n",
       "   'Q1985103',\n",
       "   'Q2547981',\n",
       "   'Q2550194',\n",
       "   'Q2651382',\n",
       "   'Q2651398',\n",
       "   'Q289484',\n",
       "   'Q466140',\n",
       "   'Q514002',\n",
       "   'Q655773',\n",
       "   'Q785720',\n",
       "   'Q820589',\n",
       "   'Q841315'},\n",
       "  'our_query': 'SELECT ?value ?valueLabel WHERE { wd:Q42747 wdt:P800 ?value . SERVICE wikibase:label { bd:serviceParam wikibase:language \"en\". } }'},\n",
       " {'question': 'Where was - born ?',\n",
       "  'entity_id': 'Q201837',\n",
       "  'answer': {'Q777509'},\n",
       "  'truth_query': 'SELECT DISTINCT ?m WHERE { resource:Matthew_Upson property:place_of_birth ?m . ?m rdf:type ontology:administrative_territorial_entity }',\n",
       "  'our_answer': {'1979-04-18T00:00:00Z'},\n",
       "  'our_query': 'SELECT ?value ?valueLabel WHERE { wd:Q201837 wdt:P569 ?value . SERVICE wikibase:label { bd:serviceParam wikibase:language \"en\". } }'},\n",
       " {'question': 'Which administrative territory is - a part of ?',\n",
       "  'entity_id': 'Q777509',\n",
       "  'answer': {'Q145'},\n",
       "  'truth_query': 'SELECT DISTINCT ?c WHERE { resource:Eye,_Suffolk property:country ?c . ?c rdf:type ontology:designation_for_an_administrative_territorial_entity }',\n",
       "  'our_answer': {'Q1931811'},\n",
       "  'our_query': 'SELECT ?value ?valueLabel WHERE { wd:Q777509 wdt:P131 ?value . SERVICE wikibase:label { bd:serviceParam wikibase:language \"en\". } }'},\n",
       " {'question': 'Which business enterprises are licensed to broadcast to - ?',\n",
       "  'entity_id': 'Q145',\n",
       "  'answer': {'Q191472', 'Q6459992', 'Q7280832'},\n",
       "  'truth_query': 'SELECT DISTINCT ?n WHERE { ?n property:licensed_to_broadcast_to resource:United_Kingdom . ?n rdf:type ontology:business_enterprise }',\n",
       "  'our_answer': {'1453'},\n",
       "  'our_query': 'SELECT ?value ?valueLabel WHERE { wd:Q145 wdt:P5250 ?value . SERVICE wikibase:label { bd:serviceParam wikibase:language \"en\". } }'},\n",
       " {'question': 'Which applications are - a distributor of ?',\n",
       "  'entity_id': 'Q145',\n",
       "  'answer': {'Q1305295', 'Q1423320', 'Q610749'},\n",
       "  'truth_query': 'SELECT DISTINCT ?a WHERE { ?a property:distributor resource:United_Kingdom . ?a rdf:type ontology:application }',\n",
       "  'our_answer': {'388'},\n",
       "  'our_query': 'SELECT ?value ?valueLabel WHERE { wd:Q145 wdt:P4427 ?value . SERVICE wikibase:label { bd:serviceParam wikibase:language \"en\". } }'},\n",
       " {'question': 'Where did the demise of - occur ?',\n",
       "  'entity_id': 'Q350938',\n",
       "  'answer': {'Q60'},\n",
       "  'truth_query': 'SELECT DISTINCT ?u WHERE { resource:Jonah_Jones property:place_of_death ?u . ?u rdf:type ontology:administrative_territorial_entity }',\n",
       "  'our_answer': {'2000-04-29T00:00:00Z', '2000-04-30T00:00:00Z'},\n",
       "  'our_query': 'SELECT ?value ?valueLabel WHERE { wd:Q350938 wdt:P570 ?value . SERVICE wikibase:label { bd:serviceParam wikibase:language \"en\". } }'},\n",
       " {'question': 'Who are an offsprings of - ?',\n",
       "  'entity_id': 'Q296796',\n",
       "  'answer': {'Q512184', 'Q7922403'},\n",
       "  'truth_query': 'SELECT DISTINCT ?h WHERE { resource:Dino_De_Laurentiis property:child ?h . ?h rdf:type ontology:common_name }',\n",
       "  'our_answer': {'Q1308545'},\n",
       "  'our_query': 'SELECT ?value ?valueLabel WHERE { wd:Q296796 wdt:P3373 ?value . SERVICE wikibase:label { bd:serviceParam wikibase:language \"en\". } }'},\n",
       " {'question': 'Which name is - known by ?',\n",
       "  'entity_id': 'Q3548215',\n",
       "  'answer': {'Q4790597'},\n",
       "  'truth_query': 'SELECT DISTINCT ?h WHERE { resource:Arihiro_Fujimura property:given_name ?h . ?h rdf:type ontology:name }',\n",
       "  'our_answer': {'藤村有弘'},\n",
       "  'our_query': 'SELECT ?value ?valueLabel WHERE { wd:Q3548215 wdt:P1559 ?value . SERVICE wikibase:label { bd:serviceParam wikibase:language \"en\". } }'},\n",
       " {'question': 'Which taxons are endemic to - ?',\n",
       "  'entity_id': 'Q408',\n",
       "  'answer': {'Q286194', 'Q306219', 'Q769202'},\n",
       "  'truth_query': 'SELECT DISTINCT ?k WHERE { ?k property:endemic_to resource:Australia . ?k rdf:type ontology:taxon }',\n",
       "  'our_answer': {'108362'},\n",
       "  'our_query': 'SELECT ?value ?valueLabel WHERE { wd:Q408 wdt:P5698 ?value . SERVICE wikibase:label { bd:serviceParam wikibase:language \"en\". } }'},\n",
       " {'question': 'What is the type of government for - ?',\n",
       "  'entity_id': 'Q17',\n",
       "  'answer': {'Q849242'},\n",
       "  'truth_query': 'SELECT DISTINCT ?v WHERE { ?v rdf:type ontology:monarchic_system . resource:Japan property:basic_form_of_government ?v }',\n",
       "  'our_answer': {'Q41614'},\n",
       "  'our_query': 'SELECT ?value ?valueLabel WHERE { wd:Q17 wdt:P122 ?value . SERVICE wikibase:label { bd:serviceParam wikibase:language \"en\". } }'},\n",
       " {'question': 'Which products can be described as facility operator of - ?',\n",
       "  'entity_id': 'Q419',\n",
       "  'answer': {'Q18012271', 'Q18012283'},\n",
       "  'truth_query': 'SELECT DISTINCT ?m WHERE { ?m rdf:type ontology:product . ?m property:operator resource:Peru }',\n",
       "  'our_answer': {'760'},\n",
       "  'our_query': 'SELECT ?value ?valueLabel WHERE { wd:Q419 wdt:P2979 ?value . SERVICE wikibase:label { bd:serviceParam wikibase:language \"en\". } }'},\n",
       " {'question': 'Which administrative territories are twin towns of - ?',\n",
       "  'entity_id': 'Q185632',\n",
       "  'answer': {'Q1085', 'Q17151', 'Q33935'},\n",
       "  'truth_query': 'SELECT DISTINCT ?m WHERE { resource:Limassol property:sister_city ?m . ?m rdf:type ontology:administrative_territorial_entity }',\n",
       "  'our_answer': {'Q133123', 'Q656', 'Q82174'},\n",
       "  'our_query': 'SELECT ?value ?valueLabel WHERE { wd:Q185632 wdt:P190 ?value . SERVICE wikibase:label { bd:serviceParam wikibase:language \"en\". } }'},\n",
       " {'question': 'Which events are situated at - ?',\n",
       "  'entity_id': 'Q1085',\n",
       "  'answer': {'Q223622', 'Q3494380', 'Q4870163'},\n",
       "  'truth_query': 'SELECT DISTINCT ?j WHERE { ?j property:location resource:Prague . ?j rdf:type ontology:event }',\n",
       "  'our_answer': {'Q3486003', 'Q7510328'},\n",
       "  'our_query': 'SELECT ?value ?valueLabel WHERE { wd:Q1085 wdt:P793 ?value . SERVICE wikibase:label { bd:serviceParam wikibase:language \"en\". } }'},\n",
       " {'question': 'Which event was - a participant of ?',\n",
       "  'entity_id': 'Q1085',\n",
       "  'answer': {'Q4870163'},\n",
       "  'truth_query': 'SELECT DISTINCT ?e WHERE { ?e property:participant resource:Prague . ?e rdf:type ontology:event }',\n",
       "  'our_answer': {'920245888'},\n",
       "  'our_query': 'SELECT ?value ?valueLabel WHERE { wd:Q1085 wdt:P5785 ?value . SERVICE wikibase:label { bd:serviceParam wikibase:language \"en\". } }'},\n",
       " {'question': 'Which watercourse is located in the neighbourhood of - ?',\n",
       "  'entity_id': 'Q1085',\n",
       "  'answer': {'Q131574'},\n",
       "  'truth_query': 'SELECT DISTINCT ?s WHERE { resource:Prague property:located_next_to_body_of_water ?s . ?s rdf:type ontology:watercourse }',\n",
       "  'our_answer': {'Q10565884',\n",
       "   'Q11081269',\n",
       "   'Q12028979',\n",
       "   'Q13361279',\n",
       "   'Q1490045',\n",
       "   'Q2071681',\n",
       "   'Q2157550',\n",
       "   'Q2444636',\n",
       "   'Q2444921',\n",
       "   'Q2598899',\n",
       "   'Q2667290',\n",
       "   'Q26807279',\n",
       "   'Q2686587',\n",
       "   'Q2743565',\n",
       "   'Q2750534',\n",
       "   'Q3490557',\n",
       "   'Q3490834',\n",
       "   'Q3490843',\n",
       "   'Q3490864',\n",
       "   'Q3498074',\n",
       "   'Q577602',\n",
       "   'Q973974'},\n",
       "  'our_query': 'SELECT ?value ?valueLabel WHERE { wd:Q1085 wdt:P1383 ?value . SERVICE wikibase:label { bd:serviceParam wikibase:language \"en\". } }'},\n",
       " {'question': 'Which event is derived from - ?',\n",
       "  'entity_id': 'Q1860',\n",
       "  'answer': {'Q36352'},\n",
       "  'truth_query': 'SELECT DISTINCT ?i WHERE { ?i property:based_on resource:English . ?i rdf:type ontology:event }',\n",
       "  'our_answer': {'Q784975'},\n",
       "  'our_query': 'SELECT ?value ?valueLabel WHERE { wd:Q1860 wdt:P2184 ?value . SERVICE wikibase:label { bd:serviceParam wikibase:language \"en\". } }'},\n",
       " {'question': 'Who has - as the associated field of occupation ?',\n",
       "  'entity_id': 'Q33999',\n",
       "  'answer': {'Q222749'},\n",
       "  'truth_query': 'SELECT DISTINCT ?s WHERE { ?s rdf:type ontology:activity . resource:actor property:field_of_this_occupation ?s }',\n",
       "  'our_answer': {'26171f39-e85a-448f-bd28-a73a5a99927f'},\n",
       "  'our_query': 'SELECT ?value ?valueLabel WHERE { wd:Q33999 wdt:P4652 ?value . SERVICE wikibase:label { bd:serviceParam wikibase:language \"en\". } }'},\n",
       " {'question': 'Which person has specialisation in - ?',\n",
       "  'entity_id': 'Q158852',\n",
       "  'answer': {'Q554775'},\n",
       "  'truth_query': 'SELECT DISTINCT ?c WHERE { ?c rdf:type ontology:common_name . ?c property:field_of_work resource:conductor }',\n",
       "  'our_answer': {'Q660765'},\n",
       "  'our_query': 'SELECT ?value ?valueLabel WHERE { wd:Q158852 wdt:P2354 ?value . SERVICE wikibase:label { bd:serviceParam wikibase:language \"en\". } }'},\n",
       " {'question': 'Where was - born ?',\n",
       "  'entity_id': 'Q5428271',\n",
       "  'answer': {'Q270'},\n",
       "  'truth_query': 'SELECT DISTINCT ?y WHERE { resource:Paweł_Zalewski property:place_of_birth ?y . ?y rdf:type ontology:administrative_territorial_entity }',\n",
       "  'our_answer': {'1964-09-25T00:00:00Z'},\n",
       "  'our_query': 'SELECT ?value ?valueLabel WHERE { wd:Q5428271 wdt:P569 ?value . SERVICE wikibase:label { bd:serviceParam wikibase:language \"en\". } }'},\n",
       " {'question': 'What the name that - is known by ?',\n",
       "  'entity_id': 'Q1575570',\n",
       "  'answer': {'Q19819765'},\n",
       "  'truth_query': 'SELECT DISTINCT ?d WHERE { ?d rdf:type ontology:name . resource:Hank_Penny property:given_name ?d }',\n",
       "  'our_answer': {'5573'},\n",
       "  'our_query': 'SELECT ?value ?valueLabel WHERE { wd:Q1575570 wdt:P7704 ?value . SERVICE wikibase:label { bd:serviceParam wikibase:language \"en\". } }'},\n",
       " {'question': 'Which administrative territory is - located in ?',\n",
       "  'entity_id': 'Q36',\n",
       "  'answer': {'Q36'},\n",
       "  'truth_query': 'SELECT DISTINCT ?k WHERE { resource:Poland property:country ?k . ?k rdf:type ontology:designation_for_an_administrative_territorial_entity }',\n",
       "  'our_answer': {'Q54150',\n",
       "   'Q54153',\n",
       "   'Q54155',\n",
       "   'Q54157',\n",
       "   'Q54158',\n",
       "   'Q54159',\n",
       "   'Q54169',\n",
       "   'Q54171',\n",
       "   'Q54175',\n",
       "   'Q54177',\n",
       "   'Q54180',\n",
       "   'Q54181',\n",
       "   'Q54183',\n",
       "   'Q54184',\n",
       "   'Q54187',\n",
       "   'Q54188'},\n",
       "  'our_query': 'SELECT ?value ?valueLabel WHERE { wd:Q36 wdt:P150 ?value . SERVICE wikibase:label { bd:serviceParam wikibase:language \"en\". } }'},\n",
       " {'question': 'What international organizations were - a member of ?',\n",
       "  'entity_id': 'Q36',\n",
       "  'answer': {'Q1065', 'Q42262', 'Q81299'},\n",
       "  'truth_query': 'SELECT DISTINCT ?n WHERE { resource:Poland property:member_of ?n . ?n rdf:type ontology:international_organization }',\n",
       "  'our_answer': {'Q6892582'},\n",
       "  'our_query': 'SELECT ?value ?valueLabel WHERE { wd:Q36 wdt:P1792 ?value . SERVICE wikibase:label { bd:serviceParam wikibase:language \"en\". } }'},\n",
       " {'question': 'Which occupation was a position occupied by - ?',\n",
       "  'entity_id': 'Q577024',\n",
       "  'answer': {'Q16707842'},\n",
       "  'truth_query': 'SELECT DISTINCT ?h WHERE { resource:Jesse_Norman property:position_held ?h . ?h rdf:type ontology:occupation }',\n",
       "  'our_answer': {'Q3400985', 'Q82955'},\n",
       "  'our_query': 'SELECT ?value ?valueLabel WHERE { wd:Q577024 wdt:P106 ?value . SERVICE wikibase:label { bd:serviceParam wikibase:language \"en\". } }'},\n",
       " {'question': 'Which streets are owned by - ?',\n",
       "  'entity_id': 'Q183',\n",
       "  'answer': {'Q34444', 'Q52720', 'Q52722'},\n",
       "  'truth_query': 'SELECT DISTINCT ?g WHERE { ?g property:owned_by resource:Germany . ?g rdf:type ontology:street }',\n",
       "  'our_answer': {'Q14565199'},\n",
       "  'our_query': 'SELECT ?value ?valueLabel WHERE { wd:Q183 wdt:P1622 ?value . SERVICE wikibase:label { bd:serviceParam wikibase:language \"en\". } }'},\n",
       " {'question': 'Which french administrative divisions are adjacent to - ?',\n",
       "  'entity_id': 'Q468240',\n",
       "  'answer': {'Q155247', 'Q866586', 'Q871274'},\n",
       "  'truth_query': 'SELECT DISTINCT ?y WHERE { resource:Vesseaux property:shares_border_with ?y . ?y rdf:type ontology:type_of_french_administrative_division }',\n",
       "  'our_answer': {'mairie-07339-01'},\n",
       "  'our_query': 'SELECT ?value ?valueLabel WHERE { wd:Q468240 wdt:P6671 ?value . SERVICE wikibase:label { bd:serviceParam wikibase:language \"en\". } }'},\n",
       " {'question': 'Which geographic location is namesake of - ?',\n",
       "  'entity_id': 'Q30',\n",
       "  'answer': {'Q828'},\n",
       "  'truth_query': 'SELECT DISTINCT ?x WHERE { ?x rdf:type ontology:geographic_location . resource:United_States_of_America property:named_after ?x }',\n",
       "  'our_answer': {'96683cc9126741d1'},\n",
       "  'our_query': 'SELECT ?value ?valueLabel WHERE { wd:Q30 wdt:P12431 ?value . SERVICE wikibase:label { bd:serviceParam wikibase:language \"en\". } }'},\n",
       " {'question': 'Which person has - as his/her means of employment ?',\n",
       "  'entity_id': 'Q142',\n",
       "  'answer': {'Q3168172'},\n",
       "  'truth_query': 'SELECT DISTINCT ?g WHERE { ?g property:occupation resource:France . ?g rdf:type ontology:common_name }',\n",
       "  'our_answer': {'Q1464509'},\n",
       "  'our_query': 'SELECT ?value ?valueLabel WHERE { wd:Q142 wdt:P6379 ?value . SERVICE wikibase:label { bd:serviceParam wikibase:language \"en\". } }'},\n",
       " {'question': 'Which people have birthplace at - ?',\n",
       "  'entity_id': 'Q502193',\n",
       "  'answer': {'Q180257', 'Q1810975', 'Q958105'},\n",
       "  'truth_query': 'SELECT DISTINCT ?z WHERE { ?z property:place_of_birth resource:Namdalseid . ?z rdf:type ontology:common_name }',\n",
       "  'our_answer': {'1159296897'},\n",
       "  'our_query': 'SELECT ?value ?valueLabel WHERE { wd:Q502193 wdt:P6766 ?value . SERVICE wikibase:label { bd:serviceParam wikibase:language \"en\". } }'},\n",
       " {'question': 'Where did - die ?',\n",
       "  'entity_id': 'Q1810975',\n",
       "  'answer': {'Q110431'},\n",
       "  'truth_query': 'SELECT DISTINCT ?l WHERE { resource:Hans_Konrad_Foosnæs property:place_of_death ?l . ?l rdf:type ontology:second-level_administrative_country_subdivision }',\n",
       "  'our_answer': {'Q4881493'},\n",
       "  'our_query': 'SELECT ?value ?valueLabel WHERE { wd:Q1810975 wdt:P20 ?value . SERVICE wikibase:label { bd:serviceParam wikibase:language \"en\". } }'},\n",
       " {'question': 'What does - do for a living ?',\n",
       "  'entity_id': 'Q3805635',\n",
       "  'answer': {'Q2066131'},\n",
       "  'truth_query': 'SELECT DISTINCT ?w WHERE { resource:Jack_Pyc property:occupation ?w . ?w rdf:type ontology:concept }',\n",
       "  'our_answer': {'Q13383011'},\n",
       "  'our_query': 'SELECT ?value ?valueLabel WHERE { wd:Q3805635 wdt:P106 ?value . SERVICE wikibase:label { bd:serviceParam wikibase:language \"en\". } }'},\n",
       " {'question': 'Which people have - as his/her means of employment ?',\n",
       "  'entity_id': 'Q1856798',\n",
       "  'answer': {'Q5373508', 'Q6490862', 'Q7963296'},\n",
       "  'truth_query': 'SELECT DISTINCT ?g WHERE { ?g property:occupation resource:baseball_umpire . ?g rdf:type ontology:common_name }',\n",
       "  'our_answer': {'Q5369'},\n",
       "  'our_query': 'SELECT ?value ?valueLabel WHERE { wd:Q1856798 wdt:P425 ?value . SERVICE wikibase:label { bd:serviceParam wikibase:language \"en\". } }'},\n",
       " {'question': 'Which occupation has jurisdiction over - ?',\n",
       "  'entity_id': 'Q6677',\n",
       "  'answer': {'Q26699535'},\n",
       "  'truth_query': 'SELECT DISTINCT ?l WHERE { ?l property:applies_to_jurisdiction resource:Darnius . ?l rdf:type ontology:occupation }',\n",
       "  'our_answer': {'Q6904'},\n",
       "  'our_query': 'SELECT ?value ?valueLabel WHERE { wd:Q6677 wdt:P131 ?value . SERVICE wikibase:label { bd:serviceParam wikibase:language \"en\". } }'},\n",
       " {'question': 'Which release has been sponsored by - for its recording ?',\n",
       "  'entity_id': 'Q2736',\n",
       "  'answer': {'Q8052504'},\n",
       "  'truth_query': 'SELECT DISTINCT ?w WHERE { ?w property:record_label resource:association_football . ?w rdf:type ontology:release }',\n",
       "  'our_answer': {'NEDERLAND%20WINT%20DE%20VOETBALWEDSTIJD%20VAN%20BELGIE%20MET%202-1-PGM4011927.webm'},\n",
       "  'our_query': 'SELECT ?value ?valueLabel WHERE { wd:Q2736 wdt:P10 ?value . SERVICE wikibase:label { bd:serviceParam wikibase:language \"en\". } }'},\n",
       " {'question': 'Which sports venues have their main utilization as - ?',\n",
       "  'entity_id': 'Q2736',\n",
       "  'answer': {'Q2701834', 'Q824352', 'Q867234'},\n",
       "  'truth_query': 'SELECT DISTINCT ?t WHERE { ?t property:use resource:association_football . ?t rdf:type ontology:sports_venue }',\n",
       "  'our_answer': {'calcio-un-fenomeno-non-solo-sportivo'},\n",
       "  'our_query': 'SELECT ?value ?valueLabel WHERE { wd:Q2736 wdt:P9873 ?value . SERVICE wikibase:label { bd:serviceParam wikibase:language \"en\". } }'},\n",
       " {'question': 'Which administrative territory is the place where - is located ?',\n",
       "  'entity_id': 'Q824352',\n",
       "  'answer': {'Q10519130'},\n",
       "  'truth_query': 'SELECT DISTINCT ?t WHERE { resource:Ullevi property:location ?t . ?t rdf:type ontology:administrative_territorial_entity }',\n",
       "  'our_answer': {'Q52502'},\n",
       "  'our_query': 'SELECT ?value ?valueLabel WHERE { wd:Q824352 wdt:P131 ?value . SERVICE wikibase:label { bd:serviceParam wikibase:language \"en\". } }'},\n",
       " {'question': 'Which collectables were published by - ?',\n",
       "  'entity_id': 'Q1065',\n",
       "  'answer': {'Q17039564', 'Q208571', 'Q7314125'},\n",
       "  'truth_query': 'SELECT DISTINCT ?t WHERE { ?t rdf:type ontology:collectable . ?t property:publisher resource:United_Nations }',\n",
       "  'our_answer': {'Q17153751'},\n",
       "  'our_query': 'SELECT ?value ?valueLabel WHERE { wd:Q1065 wdt:P6379 ?value . SERVICE wikibase:label { bd:serviceParam wikibase:language \"en\". } }'},\n",
       " {'question': 'Which astronomical object type is the eponym of - ?',\n",
       "  'entity_id': 'Q1065',\n",
       "  'answer': {'Q155782'},\n",
       "  'truth_query': 'SELECT DISTINCT ?r WHERE { ?r property:named_after resource:United_Nations . ?r rdf:type ontology:astronomical_object_type }',\n",
       "  'our_answer': {'Q245065', 'Q43229', 'Q484652'},\n",
       "  'our_query': 'SELECT ?value ?valueLabel WHERE { wd:Q1065 wdt:P31 ?value . SERVICE wikibase:label { bd:serviceParam wikibase:language \"en\". } }'},\n",
       " {'question': 'Which administrative territory does - belong to ?',\n",
       "  'entity_id': 'Q209840',\n",
       "  'answer': {'Q142'},\n",
       "  'truth_query': 'SELECT DISTINCT ?m WHERE { resource:Vervins property:country ?m . ?m rdf:type ontology:designation_for_an_administrative_territorial_entity }',\n",
       "  'our_answer': {'Q3093', 'Q702745'},\n",
       "  'our_query': 'SELECT ?value ?valueLabel WHERE { wd:Q209840 wdt:P131 ?value . SERVICE wikibase:label { bd:serviceParam wikibase:language \"en\". } }'},\n",
       " {'question': 'Which television program was filmed at - ?',\n",
       "  'entity_id': 'Q800',\n",
       "  'answer': {'Q19263522'},\n",
       "  'truth_query': 'SELECT DISTINCT ?k WHERE { ?k property:filming_location resource:Costa_Rica . ?k rdf:type ontology:television_program }',\n",
       "  'our_answer': {'Q8458068'},\n",
       "  'our_query': 'SELECT ?value ?valueLabel WHERE { wd:Q800 wdt:P1740 ?value . SERVICE wikibase:label { bd:serviceParam wikibase:language \"en\". } }'},\n",
       " {'question': 'Which architectural structure is the eponym of - ?',\n",
       "  'entity_id': 'Q800',\n",
       "  'answer': {'Q3390230'},\n",
       "  'truth_query': 'SELECT DISTINCT ?k WHERE { ?k property:named_after resource:Costa_Rica . ?k rdf:type ontology:architectural_structure }',\n",
       "  'our_answer': {'pcrtB8dqd283LX'},\n",
       "  'our_query': 'SELECT ?value ?valueLabel WHERE { wd:Q800 wdt:P4212 ?value . SERVICE wikibase:label { bd:serviceParam wikibase:language \"en\". } }'},\n",
       " {'question': 'Who is the head of the government of - ?',\n",
       "  'entity_id': 'Q1297',\n",
       "  'answer': {'Q298443'},\n",
       "  'truth_query': 'SELECT DISTINCT ?x WHERE { ?x rdf:type ontology:common_name . resource:Chicago property:head_of_government ?x }',\n",
       "  'our_answer': {'Q1760078'},\n",
       "  'our_query': 'SELECT ?value ?valueLabel WHERE { wd:Q1297 wdt:P1313 ?value . SERVICE wikibase:label { bd:serviceParam wikibase:language \"en\". } }'},\n",
       " {'question': 'Where is - located ?',\n",
       "  'entity_id': 'Q1297',\n",
       "  'answer': {'Q49'},\n",
       "  'truth_query': 'SELECT DISTINCT ?d WHERE { resource:Chicago property:continent ?d . ?d rdf:type ontology:geographic_location }',\n",
       "  'our_answer': {'Q1169', 'Q643284'},\n",
       "  'our_query': 'SELECT ?value ?valueLabel WHERE { wd:Q1297 wdt:P206 ?value . SERVICE wikibase:label { bd:serviceParam wikibase:language \"en\". } }'},\n",
       " {'question': 'Who performed - ?',\n",
       "  'entity_id': 'Q3089577',\n",
       "  'answer': {'Q4733624', 'Q6758991', 'Q7648616'},\n",
       "  'truth_query': 'SELECT DISTINCT ?n WHERE { ?n property:performer resource:Susana_Seivane . ?n rdf:type ontology:release }',\n",
       "  'our_answer': {'M00000304795'},\n",
       "  'our_query': 'SELECT ?value ?valueLabel WHERE { wd:Q3089577 wdt:P5882 ?value . SERVICE wikibase:label { bd:serviceParam wikibase:language \"en\". } }'},\n",
       " {'question': 'Where was - born ?',\n",
       "  'entity_id': 'Q3765388',\n",
       "  'answer': {'Q1024724'},\n",
       "  'truth_query': 'SELECT DISTINCT ?u WHERE { resource:Giorgio_Costantini property:place_of_birth ?u . ?u rdf:type ontology:human_settlement }',\n",
       "  'our_answer': {'1940-07-18T00:00:00Z'},\n",
       "  'our_query': 'SELECT ?value ?valueLabel WHERE { wd:Q3765388 wdt:P569 ?value . SERVICE wikibase:label { bd:serviceParam wikibase:language \"en\". } }'},\n",
       " {'question': 'Which administrative territory was - born at ?',\n",
       "  'entity_id': 'Q4104489',\n",
       "  'answer': {'Q649'},\n",
       "  'truth_query': 'SELECT DISTINCT ?j WHERE { resource:Aleksandr_Vasilyev property:place_of_birth ?j . ?j rdf:type ontology:administrative_territorial_entity }',\n",
       "  'our_answer': {'1958-12-08T00:00:00Z'},\n",
       "  'our_query': 'SELECT ?value ?valueLabel WHERE { wd:Q4104489 wdt:P569 ?value . SERVICE wikibase:label { bd:serviceParam wikibase:language \"en\". } }'},\n",
       " {'question': 'What situation did - die in ?',\n",
       "  'entity_id': 'Q460124',\n",
       "  'answer': {'Q3739104'},\n",
       "  'truth_query': 'SELECT DISTINCT ?b WHERE { resource:Jacques_Callot property:manner_of_death ?b . ?b rdf:type ontology:cause_of_death }',\n",
       "  'our_answer': {'1635-03-24T00:00:00Z', '1635-03-25T00:00:00Z'},\n",
       "  'our_query': 'SELECT ?value ?valueLabel WHERE { wd:Q460124 wdt:P570 ?value . SERVICE wikibase:label { bd:serviceParam wikibase:language \"en\". } }'},\n",
       " {'question': 'Which fictional character gave the performance of - ?',\n",
       "  'entity_id': 'Q449580',\n",
       "  'answer': {'Q22918899'},\n",
       "  'truth_query': 'SELECT DISTINCT ?c WHERE { ?c property:performer resource:Lynne_Thigpen . ?c rdf:type ontology:fictional_character }',\n",
       "  'our_answer': {'Lynne-Thigpen'},\n",
       "  'our_query': 'SELECT ?value ?valueLabel WHERE { wd:Q449580 wdt:P5007 ?value . SERVICE wikibase:label { bd:serviceParam wikibase:language \"en\". } }'},\n",
       " {'question': 'Which album presented - ?',\n",
       "  'entity_id': 'Q1343710',\n",
       "  'answer': {'Q6657050'},\n",
       "  'truth_query': 'SELECT DISTINCT ?s WHERE { ?s property:performer resource:Uri_Caine . ?s rdf:type ontology:album }',\n",
       "  'our_answer': {'mn0000303136'},\n",
       "  'our_query': 'SELECT ?value ?valueLabel WHERE { wd:Q1343710 wdt:P1728 ?value . SERVICE wikibase:label { bd:serviceParam wikibase:language \"en\". } }'},\n",
       " {'question': 'Which administrative country subdivision was - born at ?',\n",
       "  'entity_id': 'Q97318',\n",
       "  'answer': {'Q520405'},\n",
       "  'truth_query': 'SELECT DISTINCT ?i WHERE { resource:Arved_von_Schultz property:place_of_birth ?i . ?i rdf:type ontology:second-level_administrative_country_subdivision }',\n",
       "  'our_answer': {'1883-01-01T00:00:00Z'},\n",
       "  'our_query': 'SELECT ?value ?valueLabel WHERE { wd:Q97318 wdt:P569 ?value . SERVICE wikibase:label { bd:serviceParam wikibase:language \"en\". } }'},\n",
       " {'question': 'Which books were published in - ?',\n",
       "  'entity_id': 'Q38',\n",
       "  'answer': {'Q18647256', 'Q27620404'},\n",
       "  'truth_query': 'SELECT DISTINCT ?s WHERE { ?s property:place_of_publication resource:Italy . ?s rdf:type ontology:book }',\n",
       "  'our_answer': {'978-88', '979-12'},\n",
       "  'our_query': 'SELECT ?value ?valueLabel WHERE { wd:Q38 wdt:P3097 ?value . SERVICE wikibase:label { bd:serviceParam wikibase:language \"en\". } }'},\n",
       " {'question': 'Where did - expire ?',\n",
       "  'entity_id': 'Q6116421',\n",
       "  'answer': {'Q4093'},\n",
       "  'truth_query': 'SELECT DISTINCT ?u WHERE { resource:Jackie_Husband property:place_of_death ?u . ?u rdf:type ontology:administrative_territorial_entity }',\n",
       "  'our_answer': {'1992-01-01T00:00:00Z'},\n",
       "  'our_query': 'SELECT ?value ?valueLabel WHERE { wd:Q6116421 wdt:P570 ?value . SERVICE wikibase:label { bd:serviceParam wikibase:language \"en\". } }'},\n",
       " {'question': 'Who are the chiefs of state of - ?',\n",
       "  'entity_id': 'Q145',\n",
       "  'answer': {'Q269412', 'Q280856', 'Q9682'},\n",
       "  'truth_query': 'SELECT DISTINCT ?c WHERE { resource:United_Kingdom property:head_of_state ?c . ?c rdf:type ontology:common_name }',\n",
       "  'our_answer': {'Q43274'},\n",
       "  'our_query': 'SELECT ?value ?valueLabel WHERE { wd:Q145 wdt:P35 ?value . SERVICE wikibase:label { bd:serviceParam wikibase:language \"en\". } }'},\n",
       " {'question': 'Which person is - the head of goverment of ?',\n",
       "  'entity_id': 'Q8652',\n",
       "  'answer': {'Q467638'},\n",
       "  'truth_query': 'SELECT DISTINCT ?s WHERE { resource:Miami property:head_of_government ?s . ?s rdf:type ontology:common_name }',\n",
       "  'our_answer': {'Q61812435'},\n",
       "  'our_query': 'SELECT ?value ?valueLabel WHERE { wd:Q8652 wdt:P1313 ?value . SERVICE wikibase:label { bd:serviceParam wikibase:language \"en\". } }'},\n",
       " {'question': 'Which business enterprises were formed at - ?',\n",
       "  'entity_id': 'Q649',\n",
       "  'answer': {'Q188508', 'Q194009', 'Q333780'},\n",
       "  'truth_query': 'SELECT DISTINCT ?i WHERE { ?i rdf:type ontology:business_enterprise . ?i property:location_of_formation resource:Moscow }',\n",
       "  'our_answer': {'Q275106'},\n",
       "  'our_query': 'SELECT ?value ?valueLabel WHERE { wd:Q649 wdt:P112 ?value . SERVICE wikibase:label { bd:serviceParam wikibase:language \"en\". } }'},\n",
       " {'question': 'Which administrative territory is the county seat for - ?',\n",
       "  'entity_id': 'Q16',\n",
       "  'answer': {'Q1930'},\n",
       "  'truth_query': 'SELECT DISTINCT ?h WHERE { ?h rdf:type ontology:administrative_territorial_entity . ?h property:capital_of resource:Canada }',\n",
       "  'our_answer': {'Q176',\n",
       "   'Q1904',\n",
       "   'Q1948',\n",
       "   'Q1951',\n",
       "   'Q1952',\n",
       "   'Q1965',\n",
       "   'Q1973',\n",
       "   'Q1978',\n",
       "   'Q1989',\n",
       "   'Q2003',\n",
       "   'Q2007',\n",
       "   'Q2009',\n",
       "   'Q2023',\n",
       "   'Q603676'},\n",
       "  'our_query': 'SELECT ?value ?valueLabel WHERE { wd:Q16 wdt:P150 ?value . SERVICE wikibase:label { bd:serviceParam wikibase:language \"en\". } }'},\n",
       " {'question': 'What are the professions of - ?',\n",
       "  'entity_id': 'Q934337',\n",
       "  'answer': {'Q11063', 'Q169470'},\n",
       "  'truth_query': 'SELECT DISTINCT ?b WHERE { resource:Robert_B._Leighton property:occupation ?b . ?b rdf:type ontology:occupation }',\n",
       "  'our_answer': {'Q18366', 'Q333', 'Q37547'},\n",
       "  'our_query': 'SELECT ?value ?valueLabel WHERE { wd:Q934337 wdt:P101 ?value . SERVICE wikibase:label { bd:serviceParam wikibase:language \"en\". } }'},\n",
       " {'question': 'Which people work in the domain of - ?',\n",
       "  'entity_id': 'Q169470',\n",
       "  'answer': {'Q1530613', 'Q1612625', 'Q505197'},\n",
       "  'truth_query': 'SELECT DISTINCT ?c WHERE { ?c property:field_of_work resource:physicist . ?c rdf:type ontology:common_name }',\n",
       "  'our_answer': {'7f2761eb-4edc-48ad-9fbf-eed0a0db9a21'},\n",
       "  'our_query': 'SELECT ?value ?valueLabel WHERE { wd:Q169470 wdt:P4652 ?value . SERVICE wikibase:label { bd:serviceParam wikibase:language \"en\". } }'},\n",
       " {'question': 'Which landform has its location as - ?',\n",
       "  'entity_id': 'Q46',\n",
       "  'answer': {'Q145694'},\n",
       "  'truth_query': 'SELECT DISTINCT ?h WHERE { ?h property:located_on_terrain_feature resource:Europe . ?h rdf:type ontology:landform }',\n",
       "  'our_answer': {'Point(9.14062 48.690959)'},\n",
       "  'our_query': 'SELECT ?value ?valueLabel WHERE { wd:Q46 wdt:P625 ?value . SERVICE wikibase:label { bd:serviceParam wikibase:language \"en\". } }'},\n",
       " {'question': 'Which administrative territory is - situated in ?',\n",
       "  'entity_id': 'Q522586',\n",
       "  'answer': {'Q30'},\n",
       "  'truth_query': 'SELECT DISTINCT ?t WHERE { resource:Mount_Olympus property:country ?t . ?t rdf:type ontology:designation_for_an_administrative_territorial_entity }',\n",
       "  'our_answer': {'Q384737'},\n",
       "  'our_query': 'SELECT ?value ?valueLabel WHERE { wd:Q522586 wdt:P131 ?value . SERVICE wikibase:label { bd:serviceParam wikibase:language \"en\". } }'},\n",
       " {'question': 'Which is the part that is a component of - ?',\n",
       "  'entity_id': 'Q21146176',\n",
       "  'answer': {'Q40260'},\n",
       "  'truth_query': 'SELECT DISTINCT ?a WHERE { resource:Aprataxin property:cell_component ?a . ?a rdf:type ontology:part }',\n",
       "  'our_answer': {'Q24725444', 'Q41797386', 'Q83134675'},\n",
       "  'our_query': 'SELECT ?value ?valueLabel WHERE { wd:Q21146176 wdt:P361 ?value . SERVICE wikibase:label { bd:serviceParam wikibase:language \"en\". } }'},\n",
       " {'question': 'Which part is a component of - ?',\n",
       "  'entity_id': 'Q23516052',\n",
       "  'answer': {'Q79899'},\n",
       "  'truth_query': 'SELECT DISTINCT ?k WHERE { resource:histidine--tRNA_ligase____BSU27560 property:cell_component ?k . ?k rdf:type ontology:part }',\n",
       "  'our_answer': {'Q24721850', 'Q41797723', 'Q4746442', 'Q83146690'},\n",
       "  'our_query': 'SELECT ?value ?valueLabel WHERE { wd:Q23516052 wdt:P361 ?value . SERVICE wikibase:label { bd:serviceParam wikibase:language \"en\". } }'},\n",
       " {'question': 'What is - a portion of ?',\n",
       "  'entity_id': 'Q39572',\n",
       "  'answer': {'Q22327470'},\n",
       "  'truth_query': 'SELECT DISTINCT ?w WHERE { resource:mitochondrion property:part_of ?w . ?w rdf:type ontology:part }',\n",
       "  'our_answer': {'Q79899'},\n",
       "  'our_query': 'SELECT ?value ?valueLabel WHERE { wd:Q39572 wdt:P361 ?value . SERVICE wikibase:label { bd:serviceParam wikibase:language \"en\". } }'},\n",
       " {'question': 'What best describes the type of government of - ?',\n",
       "  'entity_id': 'Q17',\n",
       "  'answer': {'Q849242'},\n",
       "  'truth_query': 'SELECT DISTINCT ?l WHERE { ?l rdf:type ontology:monarchic_system . resource:Japan property:basic_form_of_government ?l }',\n",
       "  'our_answer': {'Q41614'},\n",
       "  'our_query': 'SELECT ?value ?valueLabel WHERE { wd:Q17 wdt:P122 ?value . SERVICE wikibase:label { bd:serviceParam wikibase:language \"en\". } }'},\n",
       " {'question': 'What can be considered as category for - ?',\n",
       "  'entity_id': 'Q7813579',\n",
       "  'answer': {'Q1257444', 'Q471839'},\n",
       "  'truth_query': 'SELECT DISTINCT ?r WHERE { resource:Toki_o_Kakeru_Shōjo property:genre ?r . ?r rdf:type ontology:art_genre }',\n",
       "  'our_answer': {'Q471839', 'Q52162262'},\n",
       "  'our_query': 'SELECT ?value ?valueLabel WHERE { wd:Q7813579 wdt:P136 ?value . SERVICE wikibase:label { bd:serviceParam wikibase:language \"en\". } }'},\n",
       " {'question': 'Which political territory does - belong to ?',\n",
       "  'entity_id': 'Q4352568',\n",
       "  'answer': {'Q35'},\n",
       "  'truth_query': 'SELECT DISTINCT ?k WHERE { resource:Viggo_Dibbern property:country_of_citizenship ?k . ?k rdf:type ontology:political_territorial_entity }',\n",
       "  'our_answer': {'Q756617'},\n",
       "  'our_query': 'SELECT ?value ?valueLabel WHERE { wd:Q4352568 wdt:P27 ?value . SERVICE wikibase:label { bd:serviceParam wikibase:language \"en\". } }'},\n",
       " {'question': 'What was produced by - ?',\n",
       "  'entity_id': 'Q35',\n",
       "  'answer': {'Q4699932'},\n",
       "  'truth_query': 'SELECT DISTINCT ?s WHERE { ?s property:manufacturer resource:Denmark . ?s rdf:type ontology:ship_type }',\n",
       "  'our_answer': {'Q1029706',\n",
       "   'Q1374339',\n",
       "   'Q15987490',\n",
       "   'Q16082057',\n",
       "   'Q19047539',\n",
       "   'Q19077875',\n",
       "   'Q19180675',\n",
       "   'Q20096917',\n",
       "   'Q2041543',\n",
       "   'Q302556',\n",
       "   'Q3181656',\n",
       "   'Q4114391',\n",
       "   'Q4173137',\n",
       "   'Q4532138',\n",
       "   'Q602358',\n",
       "   'Q867541'},\n",
       "  'our_query': 'SELECT ?value ?valueLabel WHERE { wd:Q35 wdt:P1343 ?value . SERVICE wikibase:label { bd:serviceParam wikibase:language \"en\". } }'},\n",
       " {'question': 'Which political territory is - located in ?',\n",
       "  'entity_id': 'Q2488464',\n",
       "  'answer': {'Q35'},\n",
       "  'truth_query': 'SELECT DISTINCT ?e WHERE { resource:Frederiksberg_Municipality property:country ?e . ?e rdf:type ontology:political_territorial_entity }',\n",
       "  'our_answer': {'Q26073'},\n",
       "  'our_query': 'SELECT ?value ?valueLabel WHERE { wd:Q2488464 wdt:P131 ?value . SERVICE wikibase:label { bd:serviceParam wikibase:language \"en\". } }'},\n",
       " {'question': 'Which people have - as place of death ?',\n",
       "  'entity_id': 'Q2488464',\n",
       "  'answer': {'Q1382330', 'Q5807881', 'Q728031'},\n",
       "  'truth_query': 'SELECT DISTINCT ?r WHERE { ?r rdf:type ontology:common_name . ?r property:place_of_death resource:Frederiksberg_Municipality }',\n",
       "  'our_answer': {'104987'},\n",
       "  'our_query': 'SELECT ?value ?valueLabel WHERE { wd:Q2488464 wdt:P1082 ?value . SERVICE wikibase:label { bd:serviceParam wikibase:language \"en\". } }'},\n",
       " {'question': \"Which profession has - as his/her 's career ?\",\n",
       "  'entity_id': 'Q1325390',\n",
       "  'answer': {'Q40348'},\n",
       "  'truth_query': 'SELECT DISTINCT ?m WHERE { ?m rdf:type ontology:profession . resource:Béla_Turi-Kovács property:occupation ?m }',\n",
       "  'our_answer': {'Q14284', 'Q82955'},\n",
       "  'our_query': 'SELECT ?value ?valueLabel WHERE { wd:Q1325390 wdt:P106 ?value . SERVICE wikibase:label { bd:serviceParam wikibase:language \"en\". } }'},\n",
       " {'question': 'Which geographic location is - located in ?',\n",
       "  'entity_id': 'Q28',\n",
       "  'answer': {'Q46'},\n",
       "  'truth_query': 'SELECT DISTINCT ?c WHERE { resource:Hungary property:continent ?c . ?c rdf:type ontology:geographic_location }',\n",
       "  'our_answer': {'Q27509'},\n",
       "  'our_query': 'SELECT ?value ?valueLabel WHERE { wd:Q28 wdt:P706 ?value . SERVICE wikibase:label { bd:serviceParam wikibase:language \"en\". } }'},\n",
       " {'question': 'Which aerodromes are located in - ?',\n",
       "  'entity_id': 'Q51',\n",
       "  'answer': {'Q1333903', 'Q3374224'},\n",
       "  'truth_query': 'SELECT DISTINCT ?p WHERE { ?p rdf:type ontology:aerodrome . ?p property:located_on_terrain_feature resource:Antarctica }',\n",
       "  'our_answer': {'Antarctica%20relief%20location%20map.jpg'},\n",
       "  'our_query': 'SELECT ?value ?valueLabel WHERE { wd:Q51 wdt:P1944 ?value . SERVICE wikibase:label { bd:serviceParam wikibase:language \"en\". } }'},\n",
       " {'question': 'Which work has - as its location of final assembly ?',\n",
       "  'entity_id': 'Q183',\n",
       "  'answer': {'Q1388048'},\n",
       "  'truth_query': 'SELECT DISTINCT ?u WHERE { ?u property:location_of_final_assembly resource:Germany . ?u rdf:type ontology:work }',\n",
       "  'our_answer': {'Q685753'},\n",
       "  'our_query': 'SELECT ?value ?valueLabel WHERE { wd:Q183 wdt:P485 ?value . SERVICE wikibase:label { bd:serviceParam wikibase:language \"en\". } }'},\n",
       " {'question': 'Which administrative territory does - belong to ?',\n",
       "  'entity_id': 'Q9626',\n",
       "  'answer': {'Q145'},\n",
       "  'truth_query': 'SELECT DISTINCT ?h WHERE { resource:Conservative_Party property:country ?h . ?h rdf:type ontology:designation_for_an_administrative_territorial_entity }',\n",
       "  'our_answer': {'Q84'},\n",
       "  'our_query': 'SELECT ?value ?valueLabel WHERE { wd:Q9626 wdt:P740 ?value . SERVICE wikibase:label { bd:serviceParam wikibase:language \"en\". } }'},\n",
       " {'question': 'Which administrative territory is - present in ?',\n",
       "  'entity_id': 'Q46905',\n",
       "  'answer': {'Q38'},\n",
       "  'truth_query': 'SELECT DISTINCT ?c WHERE { resource:Schiavon property:country ?c . ?c rdf:type ontology:designation_for_an_administrative_territorial_entity }',\n",
       "  'our_answer': {'Q16316'},\n",
       "  'our_query': 'SELECT ?value ?valueLabel WHERE { wd:Q46905 wdt:P131 ?value . SERVICE wikibase:label { bd:serviceParam wikibase:language \"en\". } }'},\n",
       " {'question': 'Which occupation has jurisdiction over - ?',\n",
       "  'entity_id': 'Q389171',\n",
       "  'answer': {'Q26698135'},\n",
       "  'truth_query': 'SELECT DISTINCT ?b WHERE { ?b property:applies_to_jurisdiction resource:Fuentealbilla . ?b rdf:type ontology:occupation }',\n",
       "  'our_answer': {'Q54889'},\n",
       "  'our_query': 'SELECT ?value ?valueLabel WHERE { wd:Q389171 wdt:P131 ?value . SERVICE wikibase:label { bd:serviceParam wikibase:language \"en\". } }'},\n",
       " {'question': 'Who is the head of the government of - ?',\n",
       "  'entity_id': 'Q389171',\n",
       "  'answer': {'Q14018162'},\n",
       "  'truth_query': 'SELECT DISTINCT ?s WHERE { resource:Fuentealbilla property:head_of_government ?s . ?s rdf:type ontology:common_name }',\n",
       "  'our_answer': {'Q26698135'},\n",
       "  'our_query': 'SELECT ?value ?valueLabel WHERE { wd:Q389171 wdt:P1313 ?value . SERVICE wikibase:label { bd:serviceParam wikibase:language \"en\". } }'},\n",
       " {'question': 'Which person has place of birth as - ?',\n",
       "  'entity_id': 'Q389171',\n",
       "  'answer': {'Q43729'},\n",
       "  'truth_query': 'SELECT DISTINCT ?a WHERE { ?a property:place_of_birth resource:Fuentealbilla . ?a rdf:type ontology:common_name }',\n",
       "  'our_answer': {'Q18597931'},\n",
       "  'our_query': 'SELECT ?value ?valueLabel WHERE { wd:Q389171 wdt:P1464 ?value . SERVICE wikibase:label { bd:serviceParam wikibase:language \"en\". } }'},\n",
       " {'question': 'Who are the chiefs of state of - ?',\n",
       "  'entity_id': 'Q159',\n",
       "  'answer': {'Q23530', 'Q34453', 'Q7747'},\n",
       "  'truth_query': 'SELECT DISTINCT ?a WHERE { resource:Russia property:head_of_state ?a . ?a rdf:type ontology:common_name }',\n",
       "  'our_answer': {'Q7747'},\n",
       "  'our_query': 'SELECT ?value ?valueLabel WHERE { wd:Q159 wdt:P35 ?value . SERVICE wikibase:label { bd:serviceParam wikibase:language \"en\". } }'},\n",
       " {'question': 'Which social group is - named after ?',\n",
       "  'entity_id': 'Q142',\n",
       "  'answer': {'Q43482'},\n",
       "  'truth_query': 'SELECT DISTINCT ?k WHERE { resource:France property:named_after ?k . ?k rdf:type ontology:social_group }',\n",
       "  'our_answer': {'Q7463334'},\n",
       "  'our_query': 'SELECT ?value ?valueLabel WHERE { wd:Q142 wdt:P1464 ?value . SERVICE wikibase:label { bd:serviceParam wikibase:language \"en\". } }'},\n",
       " {'question': 'Where was - born ?',\n",
       "  'entity_id': 'Q1494259',\n",
       "  'answer': {'Q365'},\n",
       "  'truth_query': 'SELECT DISTINCT ?n WHERE { resource:Klaus_Gereon_Beuckers property:place_of_birth ?n . ?n rdf:type ontology:administrative_territorial_entity }',\n",
       "  'our_answer': {'1966-08-26T00:00:00Z'},\n",
       "  'our_query': 'SELECT ?value ?valueLabel WHERE { wd:Q1494259 wdt:P569 ?value . SERVICE wikibase:label { bd:serviceParam wikibase:language \"en\". } }'},\n",
       " {'question': 'Which political territory does - belong to ?',\n",
       "  'entity_id': 'Q2970',\n",
       "  'answer': {'Q183'},\n",
       "  'truth_query': 'SELECT DISTINCT ?y WHERE { resource:Plön property:country ?y . ?y rdf:type ontology:political_territorial_entity }',\n",
       "  'our_answer': {'Q1707', 'Q2967', 'Q2975', 'Q2980', 'Q3879'},\n",
       "  'our_query': 'SELECT ?value ?valueLabel WHERE { wd:Q2970 wdt:P47 ?value . SERVICE wikibase:label { bd:serviceParam wikibase:language \"en\". } }'},\n",
       " {'question': 'Which concept is the genre for - ?',\n",
       "  'entity_id': 'Q9162298',\n",
       "  'answer': {'Q235858'},\n",
       "  'truth_query': 'SELECT DISTINCT ?x WHERE { resource:Aurelian_Andreescu property:genre ?x . ?x rdf:type ontology:concept }',\n",
       "  'our_answer': {'Q9759'},\n",
       "  'our_query': 'SELECT ?value ?valueLabel WHERE { wd:Q9162298 wdt:P136 ?value . SERVICE wikibase:label { bd:serviceParam wikibase:language \"en\". } }'},\n",
       " {'question': 'Which works of art were produced by - ?',\n",
       "  'entity_id': 'Q32186',\n",
       "  'answer': {'Q1758112', 'Q640710', 'Q732960'},\n",
       "  'truth_query': 'SELECT DISTINCT ?o WHERE { ?o property:production_company resource:Odd_Lot_Entertainment . ?o rdf:type ontology:work_of_art }',\n",
       "  'our_answer': {'Q5248228'},\n",
       "  'our_query': 'SELECT ?value ?valueLabel WHERE { wd:Q32186 wdt:P112 ?value . SERVICE wikibase:label { bd:serviceParam wikibase:language \"en\". } }'},\n",
       " {'question': 'Which party does - belong to ?',\n",
       "  'entity_id': 'Q6696802',\n",
       "  'answer': {'Q1422826'},\n",
       "  'truth_query': 'SELECT DISTINCT ?q WHERE { resource:Luciano_Cruz-Coke property:member_of_political_party ?q . ?q rdf:type ontology:political_organization }',\n",
       "  'our_answer': {'Q16565533'},\n",
       "  'our_query': 'SELECT ?value ?valueLabel WHERE { wd:Q6696802 wdt:P102 ?value . SERVICE wikibase:label { bd:serviceParam wikibase:language \"en\". } }'},\n",
       " {'question': 'Which occupation was a position occupied by - ?',\n",
       "  'entity_id': 'Q16215261',\n",
       "  'answer': {'Q18534310'},\n",
       "  'truth_query': 'SELECT DISTINCT ?v WHERE { resource:Víctor_Oswaldo_Fuentes_Solís property:position_held ?v . ?v rdf:type ontology:occupation }',\n",
       "  'our_answer': {'Q82955'},\n",
       "  'our_query': 'SELECT ?value ?valueLabel WHERE { wd:Q16215261 wdt:P106 ?value . SERVICE wikibase:label { bd:serviceParam wikibase:language \"en\". } }'},\n",
       " {'question': 'What is the record label of - ?',\n",
       "  'entity_id': 'Q718279',\n",
       "  'answer': {'Q790686'},\n",
       "  'truth_query': 'SELECT DISTINCT ?x WHERE { resource:Wu_Bai property:record_label ?x . ?x rdf:type ontology:division }',\n",
       "  'our_answer': {'Q4828438', 'Q513712'},\n",
       "  'our_query': 'SELECT ?value ?valueLabel WHERE { wd:Q718279 wdt:P264 ?value . SERVICE wikibase:label { bd:serviceParam wikibase:language \"en\". } }'},\n",
       " {'question': 'Which work of art did - direct ?',\n",
       "  'entity_id': 'Q718279',\n",
       "  'answer': {'Q16154700'},\n",
       "  'truth_query': 'SELECT DISTINCT ?i WHERE { ?i property:director resource:Wu_Bai . ?i rdf:type ontology:work_of_art }',\n",
       "  'our_answer': {'Q7749'},\n",
       "  'our_query': 'SELECT ?value ?valueLabel WHERE { wd:Q718279 wdt:P136 ?value . SERVICE wikibase:label { bd:serviceParam wikibase:language \"en\". } }'},\n",
       " {'question': 'Which competition had - as the production house ?',\n",
       "  'entity_id': 'Q790686',\n",
       "  'answer': {'Q11190584'},\n",
       "  'truth_query': 'SELECT DISTINCT ?s WHERE { ?s property:production_company resource:Avex_Group . ?s rdf:type ontology:competition }',\n",
       "  'our_answer': {'Q746359'},\n",
       "  'our_query': 'SELECT ?value ?valueLabel WHERE { wd:Q790686 wdt:P452 ?value . SERVICE wikibase:label { bd:serviceParam wikibase:language \"en\". } }'},\n",
       " {'question': 'Which releases created - ?',\n",
       "  'entity_id': 'Q487479',\n",
       "  'answer': {'Q641614', 'Q948409'},\n",
       "  'truth_query': 'SELECT DISTINCT ?p WHERE { ?p property:producer resource:Cradle_of_Filth . ?p rdf:type ontology:release }',\n",
       "  'our_answer': {'Q5180489'},\n",
       "  'our_query': 'SELECT ?value ?valueLabel WHERE { wd:Q487479 wdt:P358 ?value . SERVICE wikibase:label { bd:serviceParam wikibase:language \"en\". } }'},\n",
       " {'question': 'Which sports club is - a member of ?',\n",
       "  'entity_id': 'Q6145665',\n",
       "  'answer': {'Q3528311'},\n",
       "  'truth_query': 'SELECT DISTINCT ?x WHERE { resource:James_Willis property:member_of_sports_team ?x . ?x rdf:type ontology:sports_club }',\n",
       "  'our_answer': {'Q213837', 'Q219714', 'Q221878', 'Q4819311'},\n",
       "  'our_query': 'SELECT ?value ?valueLabel WHERE { wd:Q6145665 wdt:P54 ?value . SERVICE wikibase:label { bd:serviceParam wikibase:language \"en\". } }'},\n",
       " {'question': 'Which occupations were the positions for which - were appointed ?',\n",
       "  'entity_id': 'Q646238',\n",
       "  'answer': {'Q29182', 'Q45722', 'Q49476'},\n",
       "  'truth_query': 'SELECT DISTINCT ?v WHERE { resource:Domenico_Svampa property:position_held ?v . ?v rdf:type ontology:occupation }',\n",
       "  'our_answer': {'Q1234713', 'Q250867', 'Q2566598', 'Q611644'},\n",
       "  'our_query': 'SELECT ?value ?valueLabel WHERE { wd:Q646238 wdt:P106 ?value . SERVICE wikibase:label { bd:serviceParam wikibase:language \"en\". } }'},\n",
       " {'question': 'Which administrative territory was - born at ?',\n",
       "  'entity_id': 'Q631673',\n",
       "  'answer': {'Q478417'},\n",
       "  'truth_query': 'SELECT DISTINCT ?o WHERE { resource:Pietro_Carrera property:place_of_birth ?o . ?o rdf:type ontology:designation_for_an_administrative_territorial_entity }',\n",
       "  'our_answer': {'1573-07-22T00:00:00Z'},\n",
       "  'our_query': 'SELECT ?value ?valueLabel WHERE { wd:Q631673 wdt:P569 ?value . SERVICE wikibase:label { bd:serviceParam wikibase:language \"en\". } }'},\n",
       " {'question': 'Where did - expire ?',\n",
       "  'entity_id': 'Q631673',\n",
       "  'answer': {'Q13666'},\n",
       "  'truth_query': 'SELECT DISTINCT ?q WHERE { resource:Pietro_Carrera property:place_of_death ?q . ?q rdf:type ontology:administrative_territorial_entity }',\n",
       "  'our_answer': {'1647-09-18T00:00:00Z'},\n",
       "  'our_query': 'SELECT ?value ?valueLabel WHERE { wd:Q631673 wdt:P570 ?value . SERVICE wikibase:label { bd:serviceParam wikibase:language \"en\". } }'},\n",
       " {'question': 'Where did the demise of - occur ?',\n",
       "  'entity_id': 'Q720416',\n",
       "  'answer': {'Q1016601'},\n",
       "  'truth_query': 'SELECT DISTINCT ?c WHERE { resource:Asahel_Peck property:place_of_death ?c . ?c rdf:type ontology:administrative_territorial_entity_of_the_United_States }',\n",
       "  'our_answer': {'1879-05-18T00:00:00Z'},\n",
       "  'our_query': 'SELECT ?value ?valueLabel WHERE { wd:Q720416 wdt:P570 ?value . SERVICE wikibase:label { bd:serviceParam wikibase:language \"en\". } }'},\n",
       " {'question': 'Which administrative territory is - a part of ?',\n",
       "  'entity_id': 'Q1016601',\n",
       "  'answer': {'Q30'},\n",
       "  'truth_query': 'SELECT DISTINCT ?r WHERE { ?r rdf:type ontology:designation_for_an_administrative_territorial_entity . resource:Jericho property:country ?r }',\n",
       "  'our_answer': {'Q6182143'},\n",
       "  'our_query': 'SELECT ?value ?valueLabel WHERE { wd:Q1016601 wdt:P150 ?value . SERVICE wikibase:label { bd:serviceParam wikibase:language \"en\". } }'},\n",
       " {'question': 'Who held the position of - ?',\n",
       "  'entity_id': 'Q82955',\n",
       "  'answer': {'Q26215129'},\n",
       "  'truth_query': 'SELECT DISTINCT ?z WHERE { ?z property:position_held resource:politician . ?z rdf:type ontology:common_name }',\n",
       "  'our_answer': {'92499'},\n",
       "  'our_query': 'SELECT ?value ?valueLabel WHERE { wd:Q82955 wdt:P4527 ?value . SERVICE wikibase:label { bd:serviceParam wikibase:language \"en\". } }'},\n",
       " {'question': 'Where is - situated ?',\n",
       "  'entity_id': 'Q155',\n",
       "  'answer': {'Q18'},\n",
       "  'truth_query': 'SELECT DISTINCT ?n WHERE { resource:Brazil property:continent ?n . ?n rdf:type ontology:geographic_location }',\n",
       "  'our_answer': {'Q127892', 'Q142148', 'Q3783', 'Q97'},\n",
       "  'our_query': 'SELECT ?value ?valueLabel WHERE { wd:Q155 wdt:P206 ?value . SERVICE wikibase:label { bd:serviceParam wikibase:language \"en\". } }'},\n",
       " {'question': 'Which people work in the domain of - ?',\n",
       "  'entity_id': 'Q1930187',\n",
       "  'answer': {'Q15114765', 'Q709844'},\n",
       "  'truth_query': 'SELECT DISTINCT ?r WHERE { ?r rdf:type ontology:common_name . ?r property:field_of_work resource:journalist }',\n",
       "  'our_answer': {'a47f82d3-4cf7-4abf-bb36-2c8cbad28234'},\n",
       "  'our_query': 'SELECT ?value ?valueLabel WHERE { wd:Q1930187 wdt:P4652 ?value . SERVICE wikibase:label { bd:serviceParam wikibase:language \"en\". } }'},\n",
       " {'question': 'Who were responsible for occupying the position of - ?',\n",
       "  'entity_id': 'Q1930187',\n",
       "  'answer': {'Q2844607', 'Q5945149', 'Q723621'},\n",
       "  'truth_query': 'SELECT DISTINCT ?k WHERE { ?k property:position_held resource:journalist . ?k rdf:type ontology:common_name }',\n",
       "  'our_answer': {'10197'},\n",
       "  'our_query': 'SELECT ?value ?valueLabel WHERE { wd:Q1930187 wdt:P1043 ?value . SERVICE wikibase:label { bd:serviceParam wikibase:language \"en\". } }'},\n",
       " {'question': 'Where is - located ?',\n",
       "  'entity_id': 'Q155',\n",
       "  'answer': {'Q18'},\n",
       "  'truth_query': 'SELECT DISTINCT ?r WHERE { resource:Brazil property:continent ?r . ?r rdf:type ontology:geographic_location }',\n",
       "  'our_answer': {'Q127892', 'Q142148', 'Q3783', 'Q97'},\n",
       "  'our_query': 'SELECT ?value ?valueLabel WHERE { wd:Q155 wdt:P206 ?value . SERVICE wikibase:label { bd:serviceParam wikibase:language \"en\". } }'},\n",
       " {'question': 'Which political territory is - an inhabitant of ?',\n",
       "  'entity_id': 'Q1363316',\n",
       "  'answer': {'Q183'},\n",
       "  'truth_query': 'SELECT DISTINCT ?s WHERE { resource:Erwin_Pfänder property:country_of_citizenship ?s . ?s rdf:type ontology:political_territorial_entity }',\n",
       "  'our_answer': {'Q49768'},\n",
       "  'our_query': 'SELECT ?value ?valueLabel WHERE { wd:Q1363316 wdt:P102 ?value . SERVICE wikibase:label { bd:serviceParam wikibase:language \"en\". } }'},\n",
       " {'question': 'Which cities are twin town of - ?',\n",
       "  'entity_id': 'Q1718',\n",
       "  'answer': {'Q11725', 'Q2795', 'Q623549'},\n",
       "  'truth_query': 'SELECT DISTINCT ?b WHERE { resource:Düsseldorf property:sister_city ?b . ?b rdf:type ontology:city }',\n",
       "  'our_answer': {'Q1198', 'Q1270638', 'Q151095', 'Q22880', 'Q7926'},\n",
       "  'our_query': 'SELECT ?value ?valueLabel WHERE { wd:Q1718 wdt:P1376 ?value . SERVICE wikibase:label { bd:serviceParam wikibase:language \"en\". } }'},\n",
       " {'question': 'Which state has - as its capital ?',\n",
       "  'entity_id': 'Q11725',\n",
       "  'answer': {'Q13426199'},\n",
       "  'truth_query': 'SELECT DISTINCT ?q WHERE { resource:Chongqing property:capital_of ?q . ?q rdf:type ontology:state }',\n",
       "  'our_answer': {'Q713343'},\n",
       "  'our_query': 'SELECT ?value ?valueLabel WHERE { wd:Q11725 wdt:P36 ?value . SERVICE wikibase:label { bd:serviceParam wikibase:language \"en\". } }'},\n",
       " {'question': 'Which bank has - as its namesake ?',\n",
       "  'entity_id': 'Q21',\n",
       "  'answer': {'Q183231'},\n",
       "  'truth_query': 'SELECT DISTINCT ?i WHERE { ?i rdf:type ontology:bank . ?i property:named_after resource:England }',\n",
       "  'our_answer': {'Blighty'},\n",
       "  'our_query': 'SELECT ?value ?valueLabel WHERE { wd:Q21 wdt:P1449 ?value . SERVICE wikibase:label { bd:serviceParam wikibase:language \"en\". } }'},\n",
       " {'question': 'Which technical standard is - located in ?',\n",
       "  'entity_id': 'Q21',\n",
       "  'answer': {'Q30192'},\n",
       "  'truth_query': 'SELECT DISTINCT ?r WHERE { resource:England property:located_in_time_zone ?r . ?r rdf:type ontology:technical_standard }',\n",
       "  'our_answer': {'GB-ENG'},\n",
       "  'our_query': 'SELECT ?value ?valueLabel WHERE { wd:Q21 wdt:P300 ?value . SERVICE wikibase:label { bd:serviceParam wikibase:language \"en\". } }'},\n",
       " {'question': 'Which Magnetic confinement fusion was funded by - ?',\n",
       "  'entity_id': 'Q159',\n",
       "  'answer': {'Q191788'},\n",
       "  'truth_query': 'SELECT DISTINCT ?o WHERE { ?o property:sponsor resource:Russia . ?o rdf:type ontology:Magnetic_confinement_fusion }',\n",
       "  'our_answer': {'Q159'},\n",
       "  'our_query': 'SELECT ?value ?valueLabel WHERE { wd:Q159 wdt:P6482 ?value . SERVICE wikibase:label { bd:serviceParam wikibase:language \"en\". } }'},\n",
       " {'question': 'What is the ethnicity of - ?',\n",
       "  'entity_id': 'Q4376761',\n",
       "  'answer': {'Q34069'},\n",
       "  'truth_query': 'SELECT DISTINCT ?e WHERE { resource:Nahum_Trebitsch property:ethnic_group ?e . ?e rdf:type ontology:people }',\n",
       "  'our_answer': {'Q131964'},\n",
       "  'our_query': 'SELECT ?value ?valueLabel WHERE { wd:Q4376761 wdt:P27 ?value . SERVICE wikibase:label { bd:serviceParam wikibase:language \"en\". } }'},\n",
       " {'question': 'Which film genres created - ?',\n",
       "  'entity_id': 'Q716552',\n",
       "  'answer': {'Q2937583', 'Q3562390', 'Q5712910'},\n",
       "  'truth_query': 'SELECT DISTINCT ?i WHERE { ?i property:producer resource:Norman_McLaren . ?i rdf:type ontology:film_genre }',\n",
       "  'our_answer': {'norman-mclaren'},\n",
       "  'our_query': 'SELECT ?value ?valueLabel WHERE { wd:Q716552 wdt:P9760 ?value . SERVICE wikibase:label { bd:serviceParam wikibase:language \"en\". } }'},\n",
       " {'question': 'What did - participate in ?',\n",
       "  'entity_id': 'Q3369537',\n",
       "  'answer': {'Q2736'},\n",
       "  'truth_query': 'SELECT DISTINCT ?m WHERE { resource:Patrick_Ianni property:sport ?m . ?m rdf:type ontology:sport }',\n",
       "  'our_answer': {'Q8567'},\n",
       "  'our_query': 'SELECT ?value ?valueLabel WHERE { wd:Q3369537 wdt:P1344 ?value . SERVICE wikibase:label { bd:serviceParam wikibase:language \"en\". } }'},\n",
       " {'question': 'Which recurring events are situated at - ?',\n",
       "  'entity_id': 'Q30',\n",
       "  'answer': {'Q528547', 'Q7276383'},\n",
       "  'truth_query': 'SELECT DISTINCT ?w WHERE { ?w property:location resource:United_States_of_America . ?w rdf:type ontology:recurring_event }',\n",
       "  'our_answer': {'Q196627',\n",
       "   'Q2913791',\n",
       "   'Q367523',\n",
       "   'Q371781',\n",
       "   'Q744159',\n",
       "   'Q751738',\n",
       "   'Q755999',\n",
       "   'Q848352',\n",
       "   'Q86591'},\n",
       "  'our_query': 'SELECT ?value ?valueLabel WHERE { wd:Q30 wdt:P832 ?value . SERVICE wikibase:label { bd:serviceParam wikibase:language \"en\". } }'},\n",
       " {'question': 'Which administrative territories are the capital of - ?',\n",
       "  'entity_id': 'Q30',\n",
       "  'answer': {'Q60', 'Q61'},\n",
       "  'truth_query': 'SELECT DISTINCT ?q WHERE { ?q property:capital_of resource:United_States_of_America . ?q rdf:type ontology:administrative_territorial_entity }',\n",
       "  'our_answer': {'Q61'},\n",
       "  'our_query': 'SELECT ?value ?valueLabel WHERE { wd:Q30 wdt:P36 ?value . SERVICE wikibase:label { bd:serviceParam wikibase:language \"en\". } }'},\n",
       " {'question': 'Which works of art do - star in ?',\n",
       "  'entity_id': 'Q432332',\n",
       "  'answer': {'Q7738130', 'Q7994659'},\n",
       "  'truth_query': 'SELECT DISTINCT ?s WHERE { ?s rdf:type ontology:work_of_art . ?s property:cast_member resource:Dorothy_Fay }',\n",
       "  'our_answer': {'Q1860'},\n",
       "  'our_query': 'SELECT ?value ?valueLabel WHERE { wd:Q432332 wdt:P6886 ?value . SERVICE wikibase:label { bd:serviceParam wikibase:language \"en\". } }'},\n",
       " {'question': 'Which color is associated with - ?',\n",
       "  'entity_id': 'Q7994659',\n",
       "  'answer': {'Q2254548'},\n",
       "  'truth_query': 'SELECT DISTINCT ?j WHERE { resource:White_Eagle property:color ?j . ?j rdf:type ontology:color }',\n",
       "  'our_answer': {'Q838368'},\n",
       "  'our_query': 'SELECT ?value ?valueLabel WHERE { wd:Q7994659 wdt:P462 ?value . SERVICE wikibase:label { bd:serviceParam wikibase:language \"en\". } }'},\n",
       " {'question': 'Which process is - involved in ?',\n",
       "  'entity_id': 'Q1949517',\n",
       "  'answer': {'Q9332'},\n",
       "  'truth_query': 'SELECT DISTINCT ?a WHERE { resource:5-hydroxytryptamine_receptor_2A property:biological_process ?a . ?a rdf:type ontology:process }',\n",
       "  'our_answer': {'Q14330653',\n",
       "   'Q14331037',\n",
       "   'Q14633887',\n",
       "   'Q14633891',\n",
       "   'Q14758909',\n",
       "   'Q14758945',\n",
       "   'Q14820654',\n",
       "   'Q14820675',\n",
       "   'Q14821388',\n",
       "   'Q14859603',\n",
       "   'Q14859604',\n",
       "   'Q14859616',\n",
       "   'Q14860519',\n",
       "   'Q14860886',\n",
       "   'Q14862254',\n",
       "   'Q14863719',\n",
       "   'Q14864366',\n",
       "   'Q14864686',\n",
       "   'Q14865068',\n",
       "   'Q14865169',\n",
       "   'Q14866059',\n",
       "   'Q14877475',\n",
       "   'Q14885200',\n",
       "   'Q14888544',\n",
       "   'Q14888571',\n",
       "   'Q14891397',\n",
       "   'Q14891401',\n",
       "   'Q14891409',\n",
       "   'Q14897688',\n",
       "   'Q14908171',\n",
       "   'Q21095654',\n",
       "   'Q21109319',\n",
       "   'Q2383867',\n",
       "   'Q2734305',\n",
       "   'Q2990593',\n",
       "   'Q332154',\n",
       "   'Q35831',\n",
       "   'Q4118894',\n",
       "   'Q492',\n",
       "   'Q828130'},\n",
       "  'our_query': 'SELECT ?value ?valueLabel WHERE { wd:Q1949517 wdt:P682 ?value . SERVICE wikibase:label { bd:serviceParam wikibase:language \"en\". } }'},\n",
       " {'question': 'Which administrative territory is - present in ?',\n",
       "  'entity_id': 'Q218',\n",
       "  'answer': {'Q218'},\n",
       "  'truth_query': 'SELECT DISTINCT ?s WHERE { resource:Romania property:country ?s . ?s rdf:type ontology:designation_for_an_administrative_territorial_entity }',\n",
       "  'our_answer': {'Q165459',\n",
       "   'Q167199',\n",
       "   'Q178861',\n",
       "   'Q179559',\n",
       "   'Q179567',\n",
       "   'Q179588',\n",
       "   'Q179779',\n",
       "   'Q181209',\n",
       "   'Q181513',\n",
       "   'Q182614',\n",
       "   'Q182624',\n",
       "   'Q182778',\n",
       "   'Q182888',\n",
       "   'Q184797',\n",
       "   'Q185309',\n",
       "   'Q185586',\n",
       "   'Q186838',\n",
       "   'Q187925',\n",
       "   'Q188503',\n",
       "   'Q188505',\n",
       "   'Q188661',\n",
       "   'Q188665',\n",
       "   'Q188796',\n",
       "   'Q188797',\n",
       "   'Q188813',\n",
       "   'Q188945',\n",
       "   'Q188948',\n",
       "   'Q188959',\n",
       "   'Q190406',\n",
       "   'Q190690',\n",
       "   'Q190702',\n",
       "   'Q190711',\n",
       "   'Q191065',\n",
       "   'Q191071',\n",
       "   'Q191078',\n",
       "   'Q191653',\n",
       "   'Q191670',\n",
       "   'Q191717',\n",
       "   'Q193044',\n",
       "   'Q193055',\n",
       "   'Q19660',\n",
       "   'Q45868'},\n",
       "  'our_query': 'SELECT ?value ?valueLabel WHERE { wd:Q218 wdt:P150 ?value . SERVICE wikibase:label { bd:serviceParam wikibase:language \"en\". } }'},\n",
       " {'question': 'Which collectables have - as their author ?',\n",
       "  'entity_id': 'Q153905',\n",
       "  'answer': {'Q4959936', 'Q6546268', 'Q7806610'},\n",
       "  'truth_query': 'SELECT DISTINCT ?e WHERE { ?e property:author resource:Paul_Celan . ?e rdf:type ontology:collectable }',\n",
       "  'our_answer': {'Q18563658'},\n",
       "  'our_query': 'SELECT ?value ?valueLabel WHERE { wd:Q153905 wdt:P6379 ?value . SERVICE wikibase:label { bd:serviceParam wikibase:language \"en\". } }'},\n",
       " {'question': 'Which occupations were the positions occupied by - ?',\n",
       "  'entity_id': 'Q18438178',\n",
       "  'answer': {'Q19938957', 'Q21504216', 'Q21504218'},\n",
       "  'truth_query': 'SELECT DISTINCT ?y WHERE { ?y rdf:type ontology:occupation . resource:Eugen_Teodorovici property:position_held ?y }',\n",
       "  'our_answer': {'Q82955'},\n",
       "  'our_query': 'SELECT ?value ?valueLabel WHERE { wd:Q18438178 wdt:P106 ?value . SERVICE wikibase:label { bd:serviceParam wikibase:language \"en\". } }'},\n",
       " {'question': 'Which people are an offsprings of - ?',\n",
       "  'entity_id': 'Q163366',\n",
       "  'answer': {'Q137683', 'Q7089791'},\n",
       "  'truth_query': 'SELECT DISTINCT ?t WHERE { resource:Ezra_Pound property:child ?t . ?t rdf:type ontology:common_name }',\n",
       "  'our_answer': {'Q20997663'},\n",
       "  'our_query': 'SELECT ?value ?valueLabel WHERE { wd:Q163366 wdt:P734 ?value . SERVICE wikibase:label { bd:serviceParam wikibase:language \"en\". } }'},\n",
       " {'question': 'Which construction is occupied by - ?',\n",
       "  'entity_id': 'Q1752575',\n",
       "  'answer': {'Q1143334'},\n",
       "  'truth_query': 'SELECT DISTINCT ?w WHERE { ?w property:occupant resource:Albany_River_Rats . ?w rdf:type ontology:construction }',\n",
       "  'our_answer': {'Q6393193'},\n",
       "  'our_query': 'SELECT ?value ?valueLabel WHERE { wd:Q1752575 wdt:P910 ?value . SERVICE wikibase:label { bd:serviceParam wikibase:language \"en\". } }'},\n",
       " {'question': 'Where did the expiration of - occur ?',\n",
       "  'entity_id': 'Q3174989',\n",
       "  'answer': {'Q197297'},\n",
       "  'truth_query': 'SELECT DISTINCT ?t WHERE { resource:Jean_Veber property:place_of_death ?t . ?t rdf:type ontology:fifth-level_administrative_country_subdivision }',\n",
       "  'our_answer': {'1928-11-28T00:00:00Z'},\n",
       "  'our_query': 'SELECT ?value ?valueLabel WHERE { wd:Q3174989 wdt:P570 ?value . SERVICE wikibase:label { bd:serviceParam wikibase:language \"en\". } }'},\n",
       " {'question': 'Which road is the eponym of - ?',\n",
       "  'entity_id': 'Q3174989',\n",
       "  'answer': {'Q3448523'},\n",
       "  'truth_query': 'SELECT DISTINCT ?c WHERE { ?c property:named_after resource:Jean_Veber . ?c rdf:type ontology:road }',\n",
       "  'our_answer': {'Q197297'},\n",
       "  'our_query': 'SELECT ?value ?valueLabel WHERE { wd:Q3174989 wdt:P20 ?value . SERVICE wikibase:label { bd:serviceParam wikibase:language \"en\". } }'},\n",
       " {'question': 'What people are - the head of goverment of ?',\n",
       "  'entity_id': 'Q142',\n",
       "  'answer': {'Q10287', 'Q7711'},\n",
       "  'truth_query': 'SELECT DISTINCT ?i WHERE { resource:France property:head_of_government ?i . ?i rdf:type ontology:common_name }',\n",
       "  'our_answer': {'Q1587677'},\n",
       "  'our_query': 'SELECT ?value ?valueLabel WHERE { wd:Q142 wdt:P1313 ?value . SERVICE wikibase:label { bd:serviceParam wikibase:language \"en\". } }'},\n",
       " {'question': 'Which administrative territory was - born at ?',\n",
       "  'entity_id': 'Q18115829',\n",
       "  'answer': {'Q239'},\n",
       "  'truth_query': 'SELECT DISTINCT ?j WHERE { ?j rdf:type ontology:administrative_territorial_entity . resource:Georges_Rency property:place_of_birth ?j }',\n",
       "  'our_answer': {'1875-11-22T00:00:00Z'},\n",
       "  'our_query': 'SELECT ?value ?valueLabel WHERE { wd:Q18115829 wdt:P569 ?value . SERVICE wikibase:label { bd:serviceParam wikibase:language \"en\". } }'},\n",
       " {'question': 'Which administrative territory is - a part of ?',\n",
       "  'entity_id': 'Q325011',\n",
       "  'answer': {'Q55'},\n",
       "  'truth_query': 'SELECT DISTINCT ?i WHERE { resource:N263_road property:country ?i . ?i rdf:type ontology:designation_for_an_administrative_territorial_entity }',\n",
       "  'our_answer': {'Q1101'},\n",
       "  'our_query': 'SELECT ?value ?valueLabel WHERE { wd:Q325011 wdt:P131 ?value . SERVICE wikibase:label { bd:serviceParam wikibase:language \"en\". } }'},\n",
       " {'question': 'Where is - situated ?',\n",
       "  'entity_id': 'Q34',\n",
       "  'answer': {'Q46'},\n",
       "  'truth_query': 'SELECT DISTINCT ?w WHERE { ?w rdf:type ontology:geographic_location . resource:Sweden property:continent ?w }',\n",
       "  'our_answer': {'Q104662', 'Q131716', 'Q545'},\n",
       "  'our_query': 'SELECT ?value ?valueLabel WHERE { wd:Q34 wdt:P206 ?value . SERVICE wikibase:label { bd:serviceParam wikibase:language \"en\". } }'},\n",
       " {'question': 'Where was - born ?',\n",
       "  'entity_id': 'Q836287',\n",
       "  'answer': {'Q126415'},\n",
       "  'truth_query': 'SELECT DISTINCT ?d WHERE { resource:Jan_Dost property:place_of_birth ?d . ?d rdf:type ontology:administrative_territorial_entity }',\n",
       "  'our_answer': {'1965-03-12T00:00:00Z'},\n",
       "  'our_query': 'SELECT ?value ?valueLabel WHERE { wd:Q836287 wdt:P569 ?value . SERVICE wikibase:label { bd:serviceParam wikibase:language \"en\". } }'},\n",
       " {'question': 'Which communication is associated with the field of occupation - ?',\n",
       "  'entity_id': 'Q333634',\n",
       "  'answer': {'Q7553'},\n",
       "  'truth_query': 'SELECT DISTINCT ?h WHERE { resource:translator property:field_of_this_occupation ?h . ?h rdf:type ontology:communication }',\n",
       "  'our_answer': {'1a07bd7d-2e1d-4930-a84a-1a442b8f2a44'},\n",
       "  'our_query': 'SELECT ?value ?valueLabel WHERE { wd:Q333634 wdt:P4652 ?value . SERVICE wikibase:label { bd:serviceParam wikibase:language \"en\". } }'},\n",
       " {'question': 'Which part is a component of - ?',\n",
       "  'entity_id': 'Q24282364',\n",
       "  'answer': {'Q79899'},\n",
       "  'truth_query': \"SELECT DISTINCT ?i WHERE { resource:5'/3'-nucleotidase_SurE____O3K_05810 property:cell_component ?i . ?i rdf:type ontology:part }\",\n",
       "  'our_answer': {'Q24782267', 'Q41797627', 'Q83132745'},\n",
       "  'our_query': 'SELECT ?value ?valueLabel WHERE { wd:Q24282364 wdt:P361 ?value . SERVICE wikibase:label { bd:serviceParam wikibase:language \"en\". } }'},\n",
       " {'question': 'What event did - particiate in ?',\n",
       "  'entity_id': 'Q183',\n",
       "  'answer': {'Q361', 'Q362'},\n",
       "  'truth_query': 'SELECT DISTINCT ?t WHERE { ?t property:participant resource:Germany . ?t rdf:type ontology:war }',\n",
       "  'our_answer': {'Q1201',\n",
       "   'Q159644',\n",
       "   'Q182865',\n",
       "   'Q2307326',\n",
       "   'Q242352',\n",
       "   'Q2595976',\n",
       "   'Q274811',\n",
       "   'Q5086',\n",
       "   'Q512451',\n",
       "   'Q56039',\n",
       "   'Q56045',\n",
       "   'Q672112',\n",
       "   'Q8438'},\n",
       "  'our_query': 'SELECT ?value ?valueLabel WHERE { wd:Q183 wdt:P793 ?value . SERVICE wikibase:label { bd:serviceParam wikibase:language \"en\". } }'},\n",
       " {'question': 'Which university is the alma mater of - ?',\n",
       "  'entity_id': 'Q4869199',\n",
       "  'answer': {'Q34433'},\n",
       "  'truth_query': 'SELECT DISTINCT ?u WHERE { ?u rdf:type ontology:university . resource:Ewan_Birney property:educated_at ?u }',\n",
       "  'our_answer': {'Q192088', 'Q691283', 'Q805285'},\n",
       "  'our_query': 'SELECT ?value ?valueLabel WHERE { wd:Q4869199 wdt:P69 ?value . SERVICE wikibase:label { bd:serviceParam wikibase:language \"en\". } }'},\n",
       " {'question': 'Which school building is under posessision of - ?',\n",
       "  'entity_id': 'Q34433',\n",
       "  'answer': {'Q115451'},\n",
       "  'truth_query': 'SELECT DISTINCT ?j WHERE { ?j property:owned_by resource:University_of_Oxford . ?j rdf:type ontology:school_building }',\n",
       "  'our_answer': {'133863'},\n",
       "  'our_query': 'SELECT ?value ?valueLabel WHERE { wd:Q34433 wdt:P2253 ?value . SERVICE wikibase:label { bd:serviceParam wikibase:language \"en\". } }'},\n",
       " {'question': 'Whose child is - ?',\n",
       "  'entity_id': 'Q1331340',\n",
       "  'answer': {'Q14566175'},\n",
       "  'truth_query': 'SELECT DISTINCT ?k WHERE { ?k property:child resource:Elizabeth_Wharton_Drexel . ?k rdf:type ontology:common_name }',\n",
       "  'our_answer': {'Q75821416'},\n",
       "  'our_query': 'SELECT ?value ?valueLabel WHERE { wd:Q1331340 wdt:P40 ?value . SERVICE wikibase:label { bd:serviceParam wikibase:language \"en\". } }'},\n",
       " {'question': 'Who are the chiefs of state of - ?',\n",
       "  'entity_id': 'Q183',\n",
       "  'answer': {'Q2567', 'Q2571', 'Q2594'},\n",
       "  'truth_query': 'SELECT DISTINCT ?o WHERE { resource:Germany property:head_of_state ?o . ?o rdf:type ontology:common_name }',\n",
       "  'our_answer': {'Q76658'},\n",
       "  'our_query': 'SELECT ?value ?valueLabel WHERE { wd:Q183 wdt:P35 ?value . SERVICE wikibase:label { bd:serviceParam wikibase:language \"en\". } }'},\n",
       " {'question': 'What people are - the head of goverment of ?',\n",
       "  'entity_id': 'Q183',\n",
       "  'answer': {'Q2492', 'Q2514', 'Q567'},\n",
       "  'truth_query': 'SELECT DISTINCT ?l WHERE { resource:Germany property:head_of_government ?l . ?l rdf:type ontology:common_name }',\n",
       "  'our_answer': {'Q4970706'},\n",
       "  'our_query': 'SELECT ?value ?valueLabel WHERE { wd:Q183 wdt:P1313 ?value . SERVICE wikibase:label { bd:serviceParam wikibase:language \"en\". } }'},\n",
       " {'question': 'Who wrote - ?',\n",
       "  'entity_id': 'Q891232',\n",
       "  'answer': {'Q5770768'},\n",
       "  'truth_query': 'SELECT DISTINCT ?l WHERE { ?l rdf:type ontology:common_name . resource:Boku_wa_Imōto_ni_Koi_o_Suru property:author ?l }',\n",
       "  'our_answer': {'Q1969558'},\n",
       "  'our_query': 'SELECT ?value ?valueLabel WHERE { wd:Q891232 wdt:P86 ?value . SERVICE wikibase:label { bd:serviceParam wikibase:language \"en\". } }'},\n",
       " {'question': 'What can be considered as category for - ?',\n",
       "  'entity_id': 'Q859232',\n",
       "  'answer': {'Q242492'},\n",
       "  'truth_query': 'SELECT DISTINCT ?l WHERE { ?l rdf:type ontology:comic_genre . resource:Kotomi_Aoki property:genre ?l }',\n",
       "  'our_answer': {'Q5'},\n",
       "  'our_query': 'SELECT ?value ?valueLabel WHERE { wd:Q859232 wdt:P31 ?value . SERVICE wikibase:label { bd:serviceParam wikibase:language \"en\". } }'},\n",
       " {'question': 'Which situation led to the death of - ?',\n",
       "  'entity_id': 'Q316064',\n",
       "  'answer': {'Q171558'},\n",
       "  'truth_query': 'SELECT DISTINCT ?y WHERE { ?y rdf:type ontology:event . resource:John_F._Kennedy,_Jr. property:manner_of_death ?y }',\n",
       "  'our_answer': {'1999-07-16T00:00:00Z'},\n",
       "  'our_query': 'SELECT ?value ?valueLabel WHERE { wd:Q316064 wdt:P570 ?value . SERVICE wikibase:label { bd:serviceParam wikibase:language \"en\". } }'},\n",
       " {'question': 'Who have - as thier sibling ?',\n",
       "  'entity_id': 'Q316064',\n",
       "  'answer': {'Q230303', 'Q268799'},\n",
       "  'truth_query': 'SELECT DISTINCT ?c WHERE { resource:John_F._Kennedy,_Jr. property:sister ?c . ?c rdf:type ontology:common_name }',\n",
       "  'our_answer': {'Q230303', 'Q3290402', 'Q75326753'},\n",
       "  'our_query': 'SELECT ?value ?valueLabel WHERE { wd:Q316064 wdt:P3373 ?value . SERVICE wikibase:label { bd:serviceParam wikibase:language \"en\". } }'},\n",
       " {'question': 'Which geographical object is - a member of ?',\n",
       "  'entity_id': 'Q2504818',\n",
       "  'answer': {'Q1069207'},\n",
       "  'truth_query': 'SELECT DISTINCT ?y WHERE { resource:Uwe_Trommer property:member_of_sports_team ?y . ?y rdf:type ontology:geographical_object }',\n",
       "  'our_answer': {'Q16957', 'Q183'},\n",
       "  'our_query': 'SELECT ?value ?valueLabel WHERE { wd:Q2504818 wdt:P27 ?value . SERVICE wikibase:label { bd:serviceParam wikibase:language \"en\". } }'},\n",
       " {'question': 'Which people represent - ?',\n",
       "  'entity_id': 'Q183',\n",
       "  'answer': {'Q11771919', 'Q1331837', 'Q3530137'},\n",
       "  'truth_query': 'SELECT DISTINCT ?h WHERE { ?h property:country_for_sport resource:Germany . ?h rdf:type ontology:common_name }',\n",
       "  'our_answer': {'Q1026', 'Q42884', 'Q485150', 'Q84072', 'Q878607'},\n",
       "  'our_query': 'SELECT ?value ?valueLabel WHERE { wd:Q183 wdt:P172 ?value . SERVICE wikibase:label { bd:serviceParam wikibase:language \"en\". } }'},\n",
       " {'question': 'Which occupation was a position held by - ?',\n",
       "  'entity_id': 'Q1900265',\n",
       "  'answer': {'Q1711695'},\n",
       "  'truth_query': 'SELECT DISTINCT ?e WHERE { resource:Mark_McDonald property:position_held ?e . ?e rdf:type ontology:occupation }',\n",
       "  'our_answer': {'Q82955'},\n",
       "  'our_query': 'SELECT ?value ?valueLabel WHERE { wd:Q1900265 wdt:P106 ?value . SERVICE wikibase:label { bd:serviceParam wikibase:language \"en\". } }'},\n",
       " {'question': 'Which work of art is - assigned to as the director of photography ?',\n",
       "  'entity_id': 'Q1900265',\n",
       "  'answer': {'Q759896'},\n",
       "  'truth_query': 'SELECT DISTINCT ?k WHERE { ?k property:director_of_photography resource:Mark_McDonald . ?k rdf:type ontology:work_of_art }',\n",
       "  'our_answer': {'MarkMcDonaldMSP20110507.JPG'},\n",
       "  'our_query': 'SELECT ?value ?valueLabel WHERE { wd:Q1900265 wdt:P18 ?value . SERVICE wikibase:label { bd:serviceParam wikibase:language \"en\". } }'},\n",
       " {'question': 'Which works of art were released from the production company named - ?',\n",
       "  'entity_id': 'Q142',\n",
       "  'answer': {'Q1407653', 'Q3720922'},\n",
       "  'truth_query': 'SELECT DISTINCT ?c WHERE { ?c rdf:type ontology:work_of_art . ?c property:production_company resource:France }',\n",
       "  'our_answer': {'m0f8l9c'},\n",
       "  'our_query': 'SELECT ?value ?valueLabel WHERE { wd:Q142 wdt:P10297 ?value . SERVICE wikibase:label { bd:serviceParam wikibase:language \"en\". } }'},\n",
       " {'question': 'Which occupations were the positions occupied by - ?',\n",
       "  'entity_id': 'Q2136530',\n",
       "  'answer': {'Q17592486', 'Q2386529'},\n",
       "  'truth_query': 'SELECT DISTINCT ?j WHERE { resource:Rolf_Witting property:position_held ?j . ?j rdf:type ontology:occupation }',\n",
       "  'our_answer': {'Q12094958', 'Q193391', 'Q3546255', 'Q7330070', 'Q82955'},\n",
       "  'our_query': 'SELECT ?value ?valueLabel WHERE { wd:Q2136530 wdt:P106 ?value . SERVICE wikibase:label { bd:serviceParam wikibase:language \"en\". } }'},\n",
       " {'question': 'Which person directed - ?',\n",
       "  'entity_id': 'Q3001300',\n",
       "  'answer': {'Q3384012'},\n",
       "  'truth_query': 'SELECT DISTINCT ?o WHERE { resource:Courrier_sud property:director ?o . ?o rdf:type ontology:common_name }',\n",
       "  'our_answer': {'Q2908'},\n",
       "  'our_query': 'SELECT ?value ?valueLabel WHERE { wd:Q3001300 wdt:P58 ?value . SERVICE wikibase:label { bd:serviceParam wikibase:language \"en\". } }'},\n",
       " {'question': 'Which collectable does - extend upon ?',\n",
       "  'entity_id': 'Q3001300',\n",
       "  'answer': {'Q1115707'},\n",
       "  'truth_query': 'SELECT DISTINCT ?s WHERE { resource:Courrier_sud property:based_on ?s . ?s rdf:type ontology:collectable }',\n",
       "  'our_answer': {'Q2908'},\n",
       "  'our_query': 'SELECT ?value ?valueLabel WHERE { wd:Q3001300 wdt:P1877 ?value . SERVICE wikibase:label { bd:serviceParam wikibase:language \"en\". } }'},\n",
       " {'question': 'What can be considered as category for - ?',\n",
       "  'entity_id': 'Q3001300',\n",
       "  'answer': {'Q1257444'},\n",
       "  'truth_query': 'SELECT DISTINCT ?w WHERE { resource:Courrier_sud property:genre ?w . ?w rdf:type ontology:art_genre }',\n",
       "  'our_answer': {'Q130232', 'Q52162262'},\n",
       "  'our_query': 'SELECT ?value ?valueLabel WHERE { wd:Q3001300 wdt:P136 ?value . SERVICE wikibase:label { bd:serviceParam wikibase:language \"en\". } }'},\n",
       " {'question': 'Which color is associated with - ?',\n",
       "  'entity_id': 'Q3001300',\n",
       "  'answer': {'Q2254548'},\n",
       "  'truth_query': 'SELECT DISTINCT ?m WHERE { resource:Courrier_sud property:color ?m . ?m rdf:type ontology:color }',\n",
       "  'our_answer': {'Q838368'},\n",
       "  'our_query': 'SELECT ?value ?valueLabel WHERE { wd:Q3001300 wdt:P462 ?value . SERVICE wikibase:label { bd:serviceParam wikibase:language \"en\". } }'},\n",
       " {'question': 'Who was the writer of - ?',\n",
       "  'entity_id': 'Q1115707',\n",
       "  'answer': {'Q2908'},\n",
       "  'truth_query': 'SELECT DISTINCT ?b WHERE { resource:Courrier_sud property:author ?b . ?b rdf:type ontology:common_name }',\n",
       "  'our_answer': {'2800680'},\n",
       "  'our_query': 'SELECT ?value ?valueLabel WHERE { wd:Q1115707 wdt:P8383 ?value . SERVICE wikibase:label { bd:serviceParam wikibase:language \"en\". } }'},\n",
       " {'question': 'Which painting demonstrates - ?',\n",
       "  'entity_id': 'Q2908',\n",
       "  'answer': {'Q10147'},\n",
       "  'truth_query': 'SELECT DISTINCT ?c WHERE { ?c property:depicts resource:Antoine_de_Saint-Exupéry . ?c rdf:type ontology:painting }',\n",
       "  'our_answer': {'11exupery-inline1-500.jpg',\n",
       "   'Antoine%20de%20Saint-Exup%C3%A9ry.jpg'},\n",
       "  'our_query': 'SELECT ?value ?valueLabel WHERE { wd:Q2908 wdt:P18 ?value . SERVICE wikibase:label { bd:serviceParam wikibase:language \"en\". } }'},\n",
       " {'question': 'Who is a member of - ?',\n",
       "  'entity_id': 'Q9626',\n",
       "  'answer': {'Q7176493'},\n",
       "  'truth_query': 'SELECT DISTINCT ?v WHERE { ?v rdf:type ontology:common_name . ?v property:member_of resource:Conservative_Party }',\n",
       "  'our_answer': {'Q20055561'},\n",
       "  'our_query': 'SELECT ?value ?valueLabel WHERE { wd:Q9626 wdt:P488 ?value . SERVICE wikibase:label { bd:serviceParam wikibase:language \"en\". } }'},\n",
       " {'question': 'Which occupation was a position for which - was appointed ?',\n",
       "  'entity_id': 'Q7176493',\n",
       "  'answer': {'Q16707842'},\n",
       "  'truth_query': 'SELECT DISTINCT ?t WHERE { ?t rdf:type ontology:occupation . resource:Peter_Quinn property:position_held ?t }',\n",
       "  'our_answer': {'Q82955'},\n",
       "  'our_query': 'SELECT ?value ?valueLabel WHERE { wd:Q7176493 wdt:P106 ?value . SERVICE wikibase:label { bd:serviceParam wikibase:language \"en\". } }'},\n",
       " {'question': 'What was designed by - ?',\n",
       "  'entity_id': 'Q21',\n",
       "  'answer': {'Q7863864'},\n",
       "  'truth_query': 'SELECT DISTINCT ?c WHERE { ?c rdf:type ontology:tower_block . ?c property:architect resource:England }',\n",
       "  'our_answer': {'Q72009524'},\n",
       "  'our_query': 'SELECT ?value ?valueLabel WHERE { wd:Q21 wdt:P1299 ?value . SERVICE wikibase:label { bd:serviceParam wikibase:language \"en\". } }'},\n",
       " {'question': 'Which geographic location has its location as - ?',\n",
       "  'entity_id': 'Q21',\n",
       "  'answer': {'Q1134643'},\n",
       "  'truth_query': 'SELECT DISTINCT ?g WHERE { ?g property:located_on_terrain_feature resource:England . ?g rdf:type ontology:geographic_location }',\n",
       "  'our_answer': {'Q2365965'},\n",
       "  'our_query': 'SELECT ?value ?valueLabel WHERE { wd:Q21 wdt:P2633 ?value . SERVICE wikibase:label { bd:serviceParam wikibase:language \"en\". } }'},\n",
       " {'question': 'Which works of art were filmed in the location - ?',\n",
       "  'entity_id': 'Q21',\n",
       "  'answer': {'Q116852', 'Q165847', 'Q19089'},\n",
       "  'truth_query': 'SELECT DISTINCT ?o WHERE { ?o property:filming_location resource:England . ?o rdf:type ontology:work_of_art }',\n",
       "  'our_answer': {'Q6839359'},\n",
       "  'our_query': 'SELECT ?value ?valueLabel WHERE { wd:Q21 wdt:P1740 ?value . SERVICE wikibase:label { bd:serviceParam wikibase:language \"en\". } }'},\n",
       " {'question': 'Which administrative territory does - belong to ?',\n",
       "  'entity_id': 'Q1438402',\n",
       "  'answer': {'Q142'},\n",
       "  'truth_query': 'SELECT DISTINCT ?o WHERE { resource:Saulgond property:country ?o . ?o rdf:type ontology:designation_for_an_administrative_territorial_entity }',\n",
       "  'our_answer': {'Q1572392', 'Q3266', 'Q701047'},\n",
       "  'our_query': 'SELECT ?value ?valueLabel WHERE { wd:Q1438402 wdt:P131 ?value . SERVICE wikibase:label { bd:serviceParam wikibase:language \"en\". } }'},\n",
       " {'question': 'What is associated with - ?',\n",
       "  'entity_id': 'Q12130',\n",
       "  'answer': {'Q12188'},\n",
       "  'truth_query': 'SELECT DISTINCT ?z WHERE { resource:Brittany property:flag ?z . ?z rdf:type ontology:flag }',\n",
       "  'our_answer': {'Q51255248'},\n",
       "  'our_query': 'SELECT ?value ?valueLabel WHERE { wd:Q12130 wdt:P1416 ?value . SERVICE wikibase:label { bd:serviceParam wikibase:language \"en\". } }'},\n",
       " {'question': 'Which musical ensemble was established by - ?',\n",
       "  'entity_id': 'Q506771',\n",
       "  'answer': {'Q390012'},\n",
       "  'truth_query': 'SELECT DISTINCT ?n WHERE { ?n property:founder resource:Sigiswald_Kuijken . ?n rdf:type ontology:musical_ensemble }',\n",
       "  'our_answer': {'3bd74074'},\n",
       "  'our_query': 'SELECT ?value ?valueLabel WHERE { wd:Q506771 wdt:P5431 ?value . SERVICE wikibase:label { bd:serviceParam wikibase:language \"en\". } }'},\n",
       " {'question': 'Which type of sport did - participate in ?',\n",
       "  'entity_id': 'Q4357186',\n",
       "  'answer': {'Q243264'},\n",
       "  'truth_query': 'SELECT DISTINCT ?b WHERE { ?b rdf:type ontology:type_of_sport . resource:Tiia_Hautala property:sports_discipline_competed_in ?b }',\n",
       "  'our_answer': {'Q542'},\n",
       "  'our_query': 'SELECT ?value ?valueLabel WHERE { wd:Q4357186 wdt:P641 ?value . SERVICE wikibase:label { bd:serviceParam wikibase:language \"en\". } }'},\n",
       " {'question': 'Which collectables were published in - ?',\n",
       "  'entity_id': 'Q17',\n",
       "  'answer': {'Q1047167', 'Q1052981', 'Q1077029'},\n",
       "  'truth_query': 'SELECT DISTINCT ?d WHERE { ?d rdf:type ontology:collectable . ?d property:place_of_publication resource:Japan }',\n",
       "  'our_answer': {'53hkj6mp5hgzjd3'},\n",
       "  'our_query': 'SELECT ?value ?valueLabel WHERE { wd:Q17 wdt:P5587 ?value . SERVICE wikibase:label { bd:serviceParam wikibase:language \"en\". } }'},\n",
       " {'question': 'Which people have - as their employer ?',\n",
       "  'entity_id': 'Q213417',\n",
       "  'answer': {'Q18157211', 'Q4934400', 'Q6111934'},\n",
       "  'truth_query': 'SELECT DISTINCT ?d WHERE { ?d property:employer resource:New_York_Yankees . ?d rdf:type ontology:common_name }',\n",
       "  'our_answer': {'Q5640937'},\n",
       "  'our_query': 'SELECT ?value ?valueLabel WHERE { wd:Q213417 wdt:P127 ?value . SERVICE wikibase:label { bd:serviceParam wikibase:language \"en\". } }'},\n",
       " {'question': 'Which architectural structure was operated by - ?',\n",
       "  'entity_id': 'Q213417',\n",
       "  'answer': {'Q3101733'},\n",
       "  'truth_query': 'SELECT DISTINCT ?f WHERE { ?f property:operator resource:New_York_Yankees . ?f rdf:type ontology:architectural_structure }',\n",
       "  'our_answer': {'Q5640937'},\n",
       "  'our_query': 'SELECT ?value ?valueLabel WHERE { wd:Q213417 wdt:P127 ?value . SERVICE wikibase:label { bd:serviceParam wikibase:language \"en\". } }'},\n",
       " {'question': 'Which administrative territory was - born at ?',\n",
       "  'entity_id': 'Q16149950',\n",
       "  'answer': {'Q1335'},\n",
       "  'truth_query': 'SELECT DISTINCT ?v WHERE { resource:Adrián_Balboa property:place_of_birth ?v . ?v rdf:type ontology:administrative_territorial_entity }',\n",
       "  'our_answer': {'1994-01-19T00:00:00Z'},\n",
       "  'our_query': 'SELECT ?value ?valueLabel WHERE { wd:Q16149950 wdt:P569 ?value . SERVICE wikibase:label { bd:serviceParam wikibase:language \"en\". } }'},\n",
       " {'question': 'Which people do - serve as the head of government for ?',\n",
       "  'entity_id': 'Q145',\n",
       "  'answer': {'Q192', 'Q264766'},\n",
       "  'truth_query': 'SELECT DISTINCT ?x WHERE { resource:United_Kingdom property:head_of_government ?x . ?x rdf:type ontology:common_name }',\n",
       "  'our_answer': {'Q14211'},\n",
       "  'our_query': 'SELECT ?value ?valueLabel WHERE { wd:Q145 wdt:P1313 ?value . SERVICE wikibase:label { bd:serviceParam wikibase:language \"en\". } }'},\n",
       " {'question': 'Where did the demise of - occur ?',\n",
       "  'entity_id': 'Q2417299',\n",
       "  'answer': {'Q14821'},\n",
       "  'truth_query': 'SELECT DISTINCT ?l WHERE { resource:Theodor_Alexander_von_Schoeler property:place_of_death ?l . ?l rdf:type ontology:city }',\n",
       "  'our_answer': {'1894-08-23T00:00:00Z'},\n",
       "  'our_query': 'SELECT ?value ?valueLabel WHERE { wd:Q2417299 wdt:P570 ?value . SERVICE wikibase:label { bd:serviceParam wikibase:language \"en\". } }'},\n",
       " {'question': 'Where was - born ?',\n",
       "  'entity_id': 'Q16010213',\n",
       "  'answer': {'Q495'},\n",
       "  'truth_query': 'SELECT DISTINCT ?h WHERE { resource:Giuseppe_Alasia property:place_of_birth ?h . ?h rdf:type ontology:administrative_territorial_entity }',\n",
       "  'our_answer': {'1820-06-13T00:00:00Z', '1820-11-30T00:00:00Z'},\n",
       "  'our_query': 'SELECT ?value ?valueLabel WHERE { wd:Q16010213 wdt:P569 ?value . SERVICE wikibase:label { bd:serviceParam wikibase:language \"en\". } }'},\n",
       " {'question': 'Where was - born ?',\n",
       "  'entity_id': 'Q27588518',\n",
       "  'answer': {'Q11038'},\n",
       "  'truth_query': 'SELECT DISTINCT ?x WHERE { ?x rdf:type ontology:designation_for_an_administrative_territorial_entity . resource:Horst_Flosbach property:place_of_birth ?x }',\n",
       "  'our_answer': {'1936-06-18T00:00:00Z'},\n",
       "  'our_query': 'SELECT ?value ?valueLabel WHERE { wd:Q27588518 wdt:P569 ?value . SERVICE wikibase:label { bd:serviceParam wikibase:language \"en\". } }'},\n",
       " {'question': 'Which artefact has - as its final place of assembly ?',\n",
       "  'entity_id': 'Q29520',\n",
       "  'answer': {'Q4167876'},\n",
       "  'truth_query': 'SELECT DISTINCT ?d WHERE { ?d property:location_of_final_assembly resource:China . ?d rdf:type ontology:artefact }',\n",
       "  'our_answer': {'Q48'},\n",
       "  'our_query': 'SELECT ?value ?valueLabel WHERE { wd:Q29520 wdt:P30 ?value . SERVICE wikibase:label { bd:serviceParam wikibase:language \"en\". } }'},\n",
       " {'question': 'Which architectural structures can be described as facility operator of - ?',\n",
       "  'entity_id': 'Q183',\n",
       "  'answer': {'Q1202240', 'Q20873909', 'Q25451942'},\n",
       "  'truth_query': 'SELECT DISTINCT ?q WHERE { ?q property:operator resource:Germany . ?q rdf:type ontology:architectural_structure }',\n",
       "  'our_answer': {'Q1202233'},\n",
       "  'our_query': 'SELECT ?value ?valueLabel WHERE { wd:Q183 wdt:P121 ?value . SERVICE wikibase:label { bd:serviceParam wikibase:language \"en\". } }'},\n",
       " {'question': 'What were formed at - ?',\n",
       "  'entity_id': 'Q40',\n",
       "  'answer': {'Q1868666', 'Q3068717', 'Q877283'},\n",
       "  'truth_query': 'SELECT DISTINCT ?h WHERE { ?h rdf:type ontology:musical_ensemble . ?h property:location_of_formation resource:Austria }',\n",
       "  'our_answer': {'Q7463291'},\n",
       "  'our_query': 'SELECT ?value ?valueLabel WHERE { wd:Q40 wdt:P1464 ?value . SERVICE wikibase:label { bd:serviceParam wikibase:language \"en\". } }'},\n",
       " {'question': 'Whose drafting are - of ?',\n",
       "  'entity_id': 'Q162954',\n",
       "  'answer': {'Q313481', 'Q3618529', 'Q984367'},\n",
       "  'truth_query': 'SELECT DISTINCT ?n WHERE { ?n rdf:type ontology:common_name . ?n property:drafted_by resource:Denver_Nuggets }',\n",
       "  'our_answer': {'Q155223'},\n",
       "  'our_query': 'SELECT ?value ?valueLabel WHERE { wd:Q162954 wdt:P118 ?value . SERVICE wikibase:label { bd:serviceParam wikibase:language \"en\". } }'},\n",
       " {'question': 'What did - participate in ?',\n",
       "  'entity_id': 'Q439621',\n",
       "  'answer': {'Q5372'},\n",
       "  'truth_query': 'SELECT DISTINCT ?g WHERE { resource:Carol_Blazejowski property:sport ?g . ?g rdf:type ontology:sport }',\n",
       "  'our_answer': {'Q1150801', 'Q1199378', 'Q1348525', 'Q539578'},\n",
       "  'our_query': 'SELECT ?value ?valueLabel WHERE { wd:Q439621 wdt:P1344 ?value . SERVICE wikibase:label { bd:serviceParam wikibase:language \"en\". } }'},\n",
       " {'question': 'Which artefact has - as its final place of assembly ?',\n",
       "  'entity_id': 'Q29520',\n",
       "  'answer': {'Q4167876'},\n",
       "  'truth_query': 'SELECT DISTINCT ?d WHERE { ?d property:location_of_final_assembly resource:China . ?d rdf:type ontology:artefact }',\n",
       "  'our_answer': {'Q48'},\n",
       "  'our_query': 'SELECT ?value ?valueLabel WHERE { wd:Q29520 wdt:P30 ?value . SERVICE wikibase:label { bd:serviceParam wikibase:language \"en\". } }'},\n",
       " {'question': 'Which architectural structures can be described as facility operator of - ?',\n",
       "  'entity_id': 'Q183',\n",
       "  'answer': {'Q1202240', 'Q20873909', 'Q25451942'},\n",
       "  'truth_query': 'SELECT DISTINCT ?q WHERE { ?q property:operator resource:Germany . ?q rdf:type ontology:architectural_structure }',\n",
       "  'our_answer': {'Q1202233'},\n",
       "  'our_query': 'SELECT ?value ?valueLabel WHERE { wd:Q183 wdt:P121 ?value . SERVICE wikibase:label { bd:serviceParam wikibase:language \"en\". } }'},\n",
       " {'question': 'What were formed at - ?',\n",
       "  'entity_id': 'Q40',\n",
       "  'answer': {'Q1868666', 'Q3068717', 'Q877283'},\n",
       "  'truth_query': 'SELECT DISTINCT ?h WHERE { ?h rdf:type ontology:musical_ensemble . ?h property:location_of_formation resource:Austria }',\n",
       "  'our_answer': {'Q7463291'},\n",
       "  'our_query': 'SELECT ?value ?valueLabel WHERE { wd:Q40 wdt:P1464 ?value . SERVICE wikibase:label { bd:serviceParam wikibase:language \"en\". } }'},\n",
       " {'question': 'Whose drafting are - of ?',\n",
       "  'entity_id': 'Q162954',\n",
       "  'answer': {'Q313481', 'Q3618529', 'Q984367'},\n",
       "  'truth_query': 'SELECT DISTINCT ?n WHERE { ?n rdf:type ontology:common_name . ?n property:drafted_by resource:Denver_Nuggets }',\n",
       "  'our_answer': {'Q155223'},\n",
       "  'our_query': 'SELECT ?value ?valueLabel WHERE { wd:Q162954 wdt:P118 ?value . SERVICE wikibase:label { bd:serviceParam wikibase:language \"en\". } }'},\n",
       " {'question': 'What did - participate in ?',\n",
       "  'entity_id': 'Q439621',\n",
       "  'answer': {'Q5372'},\n",
       "  'truth_query': 'SELECT DISTINCT ?g WHERE { resource:Carol_Blazejowski property:sport ?g . ?g rdf:type ontology:sport }',\n",
       "  'our_answer': {'Q1150801', 'Q1199378', 'Q1348525', 'Q539578'},\n",
       "  'our_query': 'SELECT ?value ?valueLabel WHERE { wd:Q439621 wdt:P1344 ?value . SERVICE wikibase:label { bd:serviceParam wikibase:language \"en\". } }'},\n",
       " {'question': 'Which fictional characters have - as their brother ?',\n",
       "  'entity_id': 'Q5480',\n",
       "  'answer': {'Q4990628', 'Q5846', 'Q7834'},\n",
       "  'truth_query': 'SELECT DISTINCT ?q WHERE { ?q rdf:type ontology:fictional_character . ?q property:brother resource:Bart_Simpson }',\n",
       "  'our_answer': {'Q5846', 'Q7834'},\n",
       "  'our_query': 'SELECT ?value ?valueLabel WHERE { wd:Q5480 wdt:P3373 ?value . SERVICE wikibase:label { bd:serviceParam wikibase:language \"en\". } }'},\n",
       " {'question': 'Which article was primarily based on - ?',\n",
       "  'entity_id': 'Q2158828',\n",
       "  'answer': {'Q19036110'},\n",
       "  'truth_query': 'SELECT DISTINCT ?r WHERE { ?r property:main_subject resource:Robert_Sidney,_1st_Earl_of_Leicester . ?r rdf:type ontology:article }',\n",
       "  'our_answer': {'I2893'},\n",
       "  'our_query': 'SELECT ?value ?valueLabel WHERE { wd:Q2158828 wdt:P3051 ?value . SERVICE wikibase:label { bd:serviceParam wikibase:language \"en\". } }'},\n",
       " {'question': 'Which part is a component of - ?',\n",
       "  'entity_id': 'Q21980078',\n",
       "  'answer': {'Q14349455'},\n",
       "  'truth_query': 'SELECT DISTINCT ?m WHERE { resource:PGAP2-interacting_protein property:cell_component ?m . ?m rdf:type ontology:part }',\n",
       "  'our_answer': {'Q24773056', 'Q41797791', 'Q423042'},\n",
       "  'our_query': 'SELECT ?value ?valueLabel WHERE { wd:Q21980078 wdt:P361 ?value . SERVICE wikibase:label { bd:serviceParam wikibase:language \"en\". } }'},\n",
       " {'question': 'Which classification schemes are - a component of ?',\n",
       "  'entity_id': 'Q1860',\n",
       "  'answer': {'Q1346342', 'Q5329170'},\n",
       "  'truth_query': 'SELECT DISTINCT ?k WHERE { resource:English property:part_of ?k . ?k rdf:type ontology:classification_scheme }',\n",
       "  'our_answer': {'Natural Language\\xa0:: English'},\n",
       "  'our_query': 'SELECT ?value ?valueLabel WHERE { wd:Q1860 wdt:P12468 ?value . SERVICE wikibase:label { bd:serviceParam wikibase:language \"en\". } }'},\n",
       " {'question': 'Which film did - dub for ?',\n",
       "  'entity_id': 'Q1860',\n",
       "  'answer': {'Q9019373'},\n",
       "  'truth_query': 'SELECT DISTINCT ?v WHERE { ?v rdf:type ontology:film . ?v property:voice_actor resource:English }',\n",
       "  'our_answer': {'Q32803935', 'Q6840573'},\n",
       "  'our_query': 'SELECT ?value ?valueLabel WHERE { wd:Q1860 wdt:P5996 ?value . SERVICE wikibase:label { bd:serviceParam wikibase:language \"en\". } }'},\n",
       " {'question': 'Which people live in - ?',\n",
       "  'entity_id': 'Q145',\n",
       "  'answer': {'Q19845625', 'Q41548', 'Q712851'},\n",
       "  'truth_query': 'SELECT DISTINCT ?t WHERE { ?t property:residence resource:United_Kingdom . ?t rdf:type ontology:common_name }',\n",
       "  'our_answer': {'67326569'},\n",
       "  'our_query': 'SELECT ?value ?valueLabel WHERE { wd:Q145 wdt:P1082 ?value . SERVICE wikibase:label { bd:serviceParam wikibase:language \"en\". } }'},\n",
       " {'question': 'Who starred in - ?',\n",
       "  'entity_id': 'Q16248862',\n",
       "  'answer': {'Q244678', 'Q263743'},\n",
       "  'truth_query': 'SELECT DISTINCT ?f WHERE { resource:Bonnie_and_Clyde:_Dead_and_Alive property:cast_member ?f . ?f rdf:type ontology:common_name }',\n",
       "  'our_answer': {'Q449220'},\n",
       "  'our_query': 'SELECT ?value ?valueLabel WHERE { wd:Q16248862 wdt:P57 ?value . SERVICE wikibase:label { bd:serviceParam wikibase:language \"en\". } }'},\n",
       " {'question': 'Which administrative territory does - belong to ?',\n",
       "  'entity_id': 'Q1457437',\n",
       "  'answer': {'Q159'},\n",
       "  'truth_query': 'SELECT DISTINCT ?p WHERE { resource:Troyekurovskoye_Cemetery property:country ?p . ?p rdf:type ontology:designation_for_an_administrative_territorial_entity }',\n",
       "  'our_answer': {'Q649'},\n",
       "  'our_query': 'SELECT ?value ?valueLabel WHERE { wd:Q1457437 wdt:P131 ?value . SERVICE wikibase:label { bd:serviceParam wikibase:language \"en\". } }'},\n",
       " {'question': 'Which work of art has - as thier associated field of occupation ?',\n",
       "  'entity_id': 'Q36834',\n",
       "  'answer': {'Q207628'},\n",
       "  'truth_query': 'SELECT DISTINCT ?n WHERE { resource:composer property:field_of_this_occupation ?n . ?n rdf:type ontology:work_of_art }',\n",
       "  'our_answer': {'300025671'},\n",
       "  'our_query': 'SELECT ?value ?valueLabel WHERE { wd:Q36834 wdt:P1014 ?value . SERVICE wikibase:label { bd:serviceParam wikibase:language \"en\". } }'},\n",
       " {'question': 'Which people live in - ?',\n",
       "  'entity_id': 'Q649',\n",
       "  'answer': {'Q765165', 'Q7747', 'Q79822'},\n",
       "  'truth_query': 'SELECT DISTINCT ?x WHERE { ?x property:residence resource:Moscow . ?x rdf:type ontology:common_name }',\n",
       "  'our_answer': {'12455682'},\n",
       "  'our_query': 'SELECT ?value ?valueLabel WHERE { wd:Q649 wdt:P1082 ?value . SERVICE wikibase:label { bd:serviceParam wikibase:language \"en\". } }'},\n",
       " {'question': 'Which title was the military rank conferred upon - ?',\n",
       "  'entity_id': 'Q7747',\n",
       "  'answer': {'Q493898'},\n",
       "  'truth_query': 'SELECT DISTINCT ?o WHERE { resource:Vladimir_Putin property:military_rank ?o . ?o rdf:type ontology:title }',\n",
       "  'our_answer': {'Q13099720', 'Q4156896', 'Q561904'},\n",
       "  'our_query': 'SELECT ?value ?valueLabel WHERE { wd:Q7747 wdt:P410 ?value . SERVICE wikibase:label { bd:serviceParam wikibase:language \"en\". } }'},\n",
       " {'question': 'What are the name of works of art staring - ?',\n",
       "  'entity_id': 'Q7747',\n",
       "  'answer': {'Q19828510', 'Q20630763'},\n",
       "  'truth_query': 'SELECT DISTINCT ?z WHERE { ?z property:cast_member resource:Vladimir_Putin . ?z rdf:type ontology:work_of_art }',\n",
       "  'our_answer': {'Q27497617',\n",
       "   'Q27874540',\n",
       "   'Q27875715',\n",
       "   'Q27875841',\n",
       "   'Q27875953',\n",
       "   'Q27875983',\n",
       "   'Q27876064',\n",
       "   'Q27876089',\n",
       "   'Q27921507',\n",
       "   'Q38928571'},\n",
       "  'our_query': 'SELECT ?value ?valueLabel WHERE { wd:Q7747 wdt:P800 ?value . SERVICE wikibase:label { bd:serviceParam wikibase:language \"en\". } }'},\n",
       " {'question': 'Which periodical literatures were published in - ?',\n",
       "  'entity_id': 'Q649',\n",
       "  'answer': {'Q15628820', 'Q19577155', 'Q765757'},\n",
       "  'truth_query': 'SELECT DISTINCT ?o WHERE { ?o property:place_of_publication resource:Moscow . ?o rdf:type ontology:periodical_literature }',\n",
       "  'our_answer': {'1862e624-761a-4274-80a5-4c78a57c5b60'},\n",
       "  'our_query': 'SELECT ?value ?valueLabel WHERE { wd:Q649 wdt:P4672 ?value . SERVICE wikibase:label { bd:serviceParam wikibase:language \"en\". } }'},\n",
       " {'question': 'What are - a main subject of ?',\n",
       "  'entity_id': 'Q159',\n",
       "  'answer': {'Q2487216', 'Q4589758'},\n",
       "  'truth_query': 'SELECT DISTINCT ?z WHERE { ?z property:main_subject resource:Russia . ?z rdf:type ontology:television_program }',\n",
       "  'our_answer': {'Q4446300'},\n",
       "  'our_query': 'SELECT ?value ?valueLabel WHERE { wd:Q159 wdt:P122 ?value . SERVICE wikibase:label { bd:serviceParam wikibase:language \"en\". } }'},\n",
       " {'question': 'Which occupation was a position held by - ?',\n",
       "  'entity_id': 'Q1039559',\n",
       "  'answer': {'Q17856046'},\n",
       "  'truth_query': 'SELECT DISTINCT ?h WHERE { ?h rdf:type ontology:occupation . resource:Carl_Ludwig_Schleich property:position_held ?h }',\n",
       "  'our_answer': {'Q82955'},\n",
       "  'our_query': 'SELECT ?value ?valueLabel WHERE { wd:Q1039559 wdt:P106 ?value . SERVICE wikibase:label { bd:serviceParam wikibase:language \"en\". } }'},\n",
       " {'question': 'What event did - particiate in ?',\n",
       "  'entity_id': 'Q980',\n",
       "  'answer': {'Q154635'},\n",
       "  'truth_query': 'SELECT DISTINCT ?m WHERE { ?m property:participant resource:Bavaria . ?m rdf:type ontology:event }',\n",
       "  'our_answer': {'Q260260'},\n",
       "  'our_query': 'SELECT ?value ?valueLabel WHERE { wd:Q980 wdt:P2184 ?value . SERVICE wikibase:label { bd:serviceParam wikibase:language \"en\". } }'},\n",
       " {'question': 'What is associated with - ?',\n",
       "  'entity_id': 'Q38',\n",
       "  'answer': {'Q42876'},\n",
       "  'truth_query': 'SELECT DISTINCT ?t WHERE { ?t rdf:type ontology:flag . resource:Italy property:flag ?t }',\n",
       "  'our_answer': {'Q3919890'},\n",
       "  'our_query': 'SELECT ?value ?valueLabel WHERE { wd:Q38 wdt:P1792 ?value . SERVICE wikibase:label { bd:serviceParam wikibase:language \"en\". } }'},\n",
       " {'question': 'Who are elected as the head of state of - ?',\n",
       "  'entity_id': 'Q183',\n",
       "  'answer': {'Q2567', 'Q2571', 'Q2594'},\n",
       "  'truth_query': 'SELECT DISTINCT ?y WHERE { resource:Germany property:head_of_state ?y . ?y rdf:type ontology:common_name }',\n",
       "  'our_answer': {'Q25223'},\n",
       "  'our_query': 'SELECT ?value ?valueLabel WHERE { wd:Q183 wdt:P1906 ?value . SERVICE wikibase:label { bd:serviceParam wikibase:language \"en\". } }'},\n",
       " {'question': 'What do - do for a living ?',\n",
       "  'entity_id': 'Q974960',\n",
       "  'answer': {'Q29182', 'Q42603'},\n",
       "  'truth_query': 'SELECT DISTINCT ?k WHERE { ?k rdf:type ontology:occupation . resource:Castor_of_Apt property:occupation ?k }',\n",
       "  'our_answer': {'Q42603'},\n",
       "  'our_query': 'SELECT ?value ?valueLabel WHERE { wd:Q974960 wdt:P106 ?value . SERVICE wikibase:label { bd:serviceParam wikibase:language \"en\". } }'},\n",
       " {'question': 'Which former country did - belong to ?',\n",
       "  'entity_id': 'Q974960',\n",
       "  'answer': {'Q2277'},\n",
       "  'truth_query': 'SELECT DISTINCT ?p WHERE { resource:Castor_of_Apt property:period ?p . ?p rdf:type ontology:former_country }',\n",
       "  'our_answer': {'Q1747689'},\n",
       "  'our_query': 'SELECT ?value ?valueLabel WHERE { wd:Q974960 wdt:P27 ?value . SERVICE wikibase:label { bd:serviceParam wikibase:language \"en\". } }'},\n",
       " {'question': 'Which applications have their narrative set in - ?',\n",
       "  'entity_id': 'Q32',\n",
       "  'answer': {'Q1069537', 'Q2632206', 'Q692360'},\n",
       "  'truth_query': 'SELECT DISTINCT ?p WHERE { ?p property:narrative_location resource:Luxembourg . ?p rdf:type ontology:application }',\n",
       "  'our_answer': {'Q1650714'},\n",
       "  'our_query': 'SELECT ?value ?valueLabel WHERE { wd:Q32 wdt:P8744 ?value . SERVICE wikibase:label { bd:serviceParam wikibase:language \"en\". } }'},\n",
       " {'question': 'What is associated with - ?',\n",
       "  'entity_id': 'Q32',\n",
       "  'answer': {'Q133022'},\n",
       "  'truth_query': 'SELECT DISTINCT ?c WHERE { resource:Luxembourg property:flag ?c . ?c rdf:type ontology:flag }',\n",
       "  'our_answer': {'Q15921347'},\n",
       "  'our_query': 'SELECT ?value ?valueLabel WHERE { wd:Q32 wdt:P3403 ?value . SERVICE wikibase:label { bd:serviceParam wikibase:language \"en\". } }'},\n",
       " {'question': 'Which road has - as its toponym ?',\n",
       "  'entity_id': 'Q220',\n",
       "  'answer': {'Q3451022'},\n",
       "  'truth_query': 'SELECT DISTINCT ?w WHERE { ?w property:named_after resource:Rome . ?w rdf:type ontology:road }',\n",
       "  'our_answer': {'Point(12.8557603 41.8731661)'},\n",
       "  'our_query': 'SELECT ?value ?valueLabel WHERE { wd:Q220 wdt:P1334 ?value . SERVICE wikibase:label { bd:serviceParam wikibase:language \"en\". } }'},\n",
       " {'question': 'Which event sequence did - compete in ?',\n",
       "  'entity_id': 'Q1829440',\n",
       "  'answer': {'Q9678'},\n",
       "  'truth_query': 'SELECT DISTINCT ?g WHERE { ?g rdf:type ontology:event_sequence . resource:Michel_Mulder property:participant_of ?g }',\n",
       "  'our_answer': {'Q17165362'},\n",
       "  'our_query': 'SELECT ?value ?valueLabel WHERE { wd:Q1829440 wdt:P2416 ?value . SERVICE wikibase:label { bd:serviceParam wikibase:language \"en\". } }'},\n",
       " {'question': 'What religion is - affiliated to ?',\n",
       "  'entity_id': 'Q25712509',\n",
       "  'answer': {'Q36380'},\n",
       "  'truth_query': 'SELECT DISTINCT ?g WHERE { resource:Ignacio_Molarja property:religious_order ?g . ?g rdf:type ontology:religious_organization }',\n",
       "  'our_answer': {'Q1841'},\n",
       "  'our_query': 'SELECT ?value ?valueLabel WHERE { wd:Q25712509 wdt:P140 ?value . SERVICE wikibase:label { bd:serviceParam wikibase:language \"en\". } }'},\n",
       " {'question': 'Which visual arts is featured in - ?',\n",
       "  'entity_id': 'Q24046102',\n",
       "  'answer': {'Q642878'},\n",
       "  'truth_query': 'SELECT DISTINCT ?e WHERE { resource:Thor property:from_fictional_universe ?e . ?e rdf:type ontology:visual_arts }',\n",
       "  'our_answer': {'Q217020'},\n",
       "  'our_query': 'SELECT ?value ?valueLabel WHERE { wd:Q24046102 wdt:P4584 ?value . SERVICE wikibase:label { bd:serviceParam wikibase:language \"en\". } }'},\n",
       " {'question': 'Which German presidential elections did - participate in ?',\n",
       "  'entity_id': 'Q1285697',\n",
       "  'answer': {'Q670933', 'Q707051', 'Q707063'},\n",
       "  'truth_query': 'SELECT DISTINCT ?q WHERE { ?q property:participant resource:Enak_Ferlemann . ?q rdf:type ontology:German_presidential_election }',\n",
       "  'our_answer': {'79393'},\n",
       "  'our_query': 'SELECT ?value ?valueLabel WHERE { wd:Q1285697 wdt:P5355 ?value . SERVICE wikibase:label { bd:serviceParam wikibase:language \"en\". } }'},\n",
       " {'question': 'Which languages are used as the scripts for - ?',\n",
       "  'entity_id': 'Q7850',\n",
       "  'answer': {'Q13414913', 'Q18130932'},\n",
       "  'truth_query': 'SELECT DISTINCT ?t WHERE { resource:Chinese property:writing_system ?t . ?t rdf:type ontology:language }',\n",
       "  'our_answer': {'chin'},\n",
       "  'our_query': 'SELECT ?value ?valueLabel WHERE { wd:Q7850 wdt:P1232 ?value . SERVICE wikibase:label { bd:serviceParam wikibase:language \"en\". } }'},\n",
       " {'question': 'Who has the surname - ?',\n",
       "  'entity_id': 'Q11537771',\n",
       "  'answer': {'Q10660307'},\n",
       "  'truth_query': 'SELECT DISTINCT ?m WHERE { resource:Ato_Sakurai property:family_name ?m . ?m rdf:type ontology:name }',\n",
       "  'our_answer': {'Q24090441'},\n",
       "  'our_query': 'SELECT ?value ?valueLabel WHERE { wd:Q11537771 wdt:P734 ?value . SERVICE wikibase:label { bd:serviceParam wikibase:language \"en\". } }'},\n",
       " {'question': 'Which geographic location belongs to - ?',\n",
       "  'entity_id': 'Q1047060',\n",
       "  'answer': {'Q6786936'},\n",
       "  'truth_query': 'SELECT DISTINCT ?u WHERE { ?u property:owned_by resource:Case_Western_Reserve_University . ?u rdf:type ontology:geographic_location }',\n",
       "  'our_answer': {'Point(-81.608 41.504)'},\n",
       "  'our_query': 'SELECT ?value ?valueLabel WHERE { wd:Q1047060 wdt:P625 ?value . SERVICE wikibase:label { bd:serviceParam wikibase:language \"en\". } }'},\n",
       " {'question': 'Which magazine genre was issued by - ?',\n",
       "  'entity_id': 'Q332498',\n",
       "  'answer': {'Q4836917'},\n",
       "  'truth_query': 'SELECT DISTINCT ?l WHERE { ?l rdf:type ontology:magazine_genre . ?l property:publisher resource:Brigham_Young_University }',\n",
       "  'our_answer': {'brigham-young-university'},\n",
       "  'our_query': 'SELECT ?value ?valueLabel WHERE { wd:Q332498 wdt:P3221 ?value . SERVICE wikibase:label { bd:serviceParam wikibase:language \"en\". } }'},\n",
       " {'question': 'Where was - decalred as a champion ?',\n",
       "  'entity_id': 'Q486690',\n",
       "  'answer': {'Q4896598'},\n",
       "  'truth_query': 'SELECT DISTINCT ?m WHERE { ?m property:winner resource:Hideo_Nomo . ?m rdf:type ontology:award }',\n",
       "  'our_answer': {'Q1163715', 'Q745287'},\n",
       "  'our_query': 'SELECT ?value ?valueLabel WHERE { wd:Q486690 wdt:P118 ?value . SERVICE wikibase:label { bd:serviceParam wikibase:language \"en\". } }'},\n",
       " {'question': 'Which social group does - relate to ?',\n",
       "  'entity_id': 'Q1058',\n",
       "  'answer': {'Q9089'},\n",
       "  'truth_query': 'SELECT DISTINCT ?s WHERE { ?s rdf:type ontology:social_group . resource:Narendra_Modi property:religion ?s }',\n",
       "  'our_answer': {'Q10230'},\n",
       "  'our_query': 'SELECT ?value ?valueLabel WHERE { wd:Q1058 wdt:P102 ?value . SERVICE wikibase:label { bd:serviceParam wikibase:language \"en\". } }'},\n",
       " {'question': 'Where did - live ?',\n",
       "  'entity_id': 'Q1058',\n",
       "  'answer': {'Q987'},\n",
       "  'truth_query': 'SELECT DISTINCT ?o WHERE { resource:Narendra_Modi property:residence ?o . ?o rdf:type ontology:administrative_territorial_entity }',\n",
       "  'our_answer': {'Q2030145'},\n",
       "  'our_query': 'SELECT ?value ?valueLabel WHERE { wd:Q1058 wdt:P551 ?value . SERVICE wikibase:label { bd:serviceParam wikibase:language \"en\". } }'},\n",
       " {'question': 'What can be considered as category for - ?',\n",
       "  'entity_id': 'Q8774916',\n",
       "  'answer': {'Q482'},\n",
       "  'truth_query': 'SELECT DISTINCT ?v WHERE { resource:Elisabeth_Mulder property:genre ?v . ?v rdf:type ontology:art_genre }',\n",
       "  'our_answer': {'Elisabeth Mulder'},\n",
       "  'our_query': 'SELECT ?value ?valueLabel WHERE { wd:Q8774916 wdt:P373 ?value . SERVICE wikibase:label { bd:serviceParam wikibase:language \"en\". } }'},\n",
       " {'question': 'Which administrative territory does - belong to ?',\n",
       "  'entity_id': 'Q826488',\n",
       "  'answer': {'Q889'},\n",
       "  'truth_query': 'SELECT DISTINCT ?f WHERE { resource:Istalif property:country ?f . ?f rdf:type ontology:designation_for_an_administrative_territorial_entity }',\n",
       "  'our_answer': {'Q1674831'},\n",
       "  'our_query': 'SELECT ?value ?valueLabel WHERE { wd:Q826488 wdt:P131 ?value . SERVICE wikibase:label { bd:serviceParam wikibase:language \"en\". } }'},\n",
       " {'question': 'What was the position held by - ?',\n",
       "  'entity_id': 'Q8013539',\n",
       "  'answer': {'Q16707842'},\n",
       "  'truth_query': 'SELECT DISTINCT ?d WHERE { ?d rdf:type ontology:occupation . resource:William_Jenkins property:position_held ?d }',\n",
       "  'our_answer': {'Q41582584',\n",
       "   'Q41582585',\n",
       "   'Q41582587',\n",
       "   'Q41582588',\n",
       "   'Q41582591',\n",
       "   'Q41582593'},\n",
       "  'our_query': 'SELECT ?value ?valueLabel WHERE { wd:Q8013539 wdt:P39 ?value . SERVICE wikibase:label { bd:serviceParam wikibase:language \"en\". } }'},\n",
       " {'question': 'Whose first name are - ?',\n",
       "  'entity_id': 'Q1035239',\n",
       "  'answer': {'Q116055', 'Q15876168', 'Q234442'},\n",
       "  'truth_query': 'SELECT DISTINCT ?d WHERE { ?d rdf:type ontology:common_name . ?d property:given_name resource:Helena }',\n",
       "  'our_answer': {'Lenie'},\n",
       "  'our_query': 'SELECT ?value ?valueLabel WHERE { wd:Q1035239 wdt:P1449 ?value . SERVICE wikibase:label { bd:serviceParam wikibase:language \"en\". } }'},\n",
       " {'question': 'What was the position held by - ?',\n",
       "  'entity_id': 'Q5344180',\n",
       "  'answer': {'Q16707842'},\n",
       "  'truth_query': 'SELECT DISTINCT ?z WHERE { resource:Edward_Lloyd,_1st_Baron_Mostyn property:position_held ?z . ?z rdf:type ontology:occupation }',\n",
       "  'our_answer': {'Q41582532',\n",
       "   'Q41582534',\n",
       "   'Q41582535',\n",
       "   'Q41582538',\n",
       "   'Q41582540',\n",
       "   'Q41582542',\n",
       "   'Q41582544',\n",
       "   'Q41582545'},\n",
       "  'our_query': 'SELECT ?value ?valueLabel WHERE { wd:Q5344180 wdt:P39 ?value . SERVICE wikibase:label { bd:serviceParam wikibase:language \"en\". } }'},\n",
       " {'question': 'Which voluntary association was - a member of ?',\n",
       "  'entity_id': 'Q5709501',\n",
       "  'answer': {'Q18912936'},\n",
       "  'truth_query': 'SELECT DISTINCT ?v WHERE { resource:Henry_Elliot property:member_of ?v . ?v rdf:type ontology:voluntary_association }',\n",
       "  'our_answer': {'Q192088', 'Q332342'},\n",
       "  'our_query': 'SELECT ?value ?valueLabel WHERE { wd:Q5709501 wdt:P69 ?value . SERVICE wikibase:label { bd:serviceParam wikibase:language \"en\". } }'},\n",
       " {'question': 'Which article was mainly based on - ?',\n",
       "  'entity_id': 'Q5709501',\n",
       "  'answer': {'Q19093983'},\n",
       "  'truth_query': 'SELECT DISTINCT ?v WHERE { ?v rdf:type ontology:article . ?v property:main_subject resource:Henry_Elliot }',\n",
       "  'our_answer': {'Q192088', 'Q332342'},\n",
       "  'our_query': 'SELECT ?value ?valueLabel WHERE { wd:Q5709501 wdt:P69 ?value . SERVICE wikibase:label { bd:serviceParam wikibase:language \"en\". } }'},\n",
       " {'question': 'Which book has - as its main topic ?',\n",
       "  'entity_id': 'Q153401',\n",
       "  'answer': {'Q18328145'},\n",
       "  'truth_query': 'SELECT DISTINCT ?v WHERE { ?v property:main_subject resource:Communist_Party_of_Germany . ?v rdf:type ontology:book }',\n",
       "  'our_answer': {'Q8986673'},\n",
       "  'our_query': 'SELECT ?value ?valueLabel WHERE { wd:Q153401 wdt:P910 ?value . SERVICE wikibase:label { bd:serviceParam wikibase:language \"en\". } }'},\n",
       " {'question': 'Where did the expiration of - occur ?',\n",
       "  'entity_id': 'Q70868',\n",
       "  'answer': {'Q2865'},\n",
       "  'truth_query': 'SELECT DISTINCT ?i WHERE { resource:Otto_I,_Landgrave_of_Hesse property:place_of_death ?i . ?i rdf:type ontology:city }',\n",
       "  'our_answer': {'1328-01-17T00:00:00Z'},\n",
       "  'our_query': 'SELECT ?value ?valueLabel WHERE { wd:Q70868 wdt:P570 ?value . SERVICE wikibase:label { bd:serviceParam wikibase:language \"en\". } }'},\n",
       " {'question': 'Which person was burried at - ?',\n",
       "  'entity_id': 'Q2865',\n",
       "  'answer': {'Q116032'},\n",
       "  'truth_query': 'SELECT DISTINCT ?z WHERE { ?z property:place_of_burial resource:Kassel . ?z rdf:type ontology:common_name }',\n",
       "  'our_answer': {'Q9218711'},\n",
       "  'our_query': 'SELECT ?value ?valueLabel WHERE { wd:Q2865 wdt:P1465 ?value . SERVICE wikibase:label { bd:serviceParam wikibase:language \"en\". } }'},\n",
       " {'question': 'Which people belong to the political party named - ?',\n",
       "  'entity_id': 'Q20681849',\n",
       "  'answer': {'Q105564', 'Q823840', 'Q89292'},\n",
       "  'truth_query': 'SELECT DISTINCT ?b WHERE { ?b property:member_of_political_party resource:Alliance_for_Progress_and_Awakening . ?b rdf:type ontology:common_name }',\n",
       "  'our_answer': {'Q844072'},\n",
       "  'our_query': 'SELECT ?value ?valueLabel WHERE { wd:Q20681849 wdt:P1387 ?value . SERVICE wikibase:label { bd:serviceParam wikibase:language \"en\". } }'},\n",
       " {'question': 'Who works at - ?',\n",
       "  'entity_id': 'Q7075',\n",
       "  'answer': {'Q182436'},\n",
       "  'truth_query': 'SELECT DISTINCT ?r WHERE { ?r rdf:type ontology:occupation . ?r property:work_location resource:library }',\n",
       "  'our_answer': {'Q63970319'},\n",
       "  'our_query': 'SELECT ?value ?valueLabel WHERE { wd:Q7075 wdt:P2388 ?value . SERVICE wikibase:label { bd:serviceParam wikibase:language \"en\". } }'},\n",
       " {'question': 'Which political territory does - belong to ?',\n",
       "  'entity_id': 'Q2581912',\n",
       "  'answer': {'Q183'},\n",
       "  'truth_query': 'SELECT DISTINCT ?m WHERE { ?m rdf:type ontology:political_territorial_entity . resource:Willy_Flach property:country_of_citizenship ?m }',\n",
       "  'our_answer': {'Q7320'},\n",
       "  'our_query': 'SELECT ?value ?valueLabel WHERE { wd:Q2581912 wdt:P102 ?value . SERVICE wikibase:label { bd:serviceParam wikibase:language \"en\". } }'},\n",
       " {'question': 'Where was - born ?',\n",
       "  'entity_id': 'Q3288309',\n",
       "  'answer': {'Q209986'},\n",
       "  'truth_query': 'SELECT DISTINCT ?v WHERE { resource:Marc_Paygnard property:place_of_birth ?v . ?v rdf:type ontology:type_of_french_administrative_division }',\n",
       "  'our_answer': {'1945-05-15T00:00:00Z'},\n",
       "  'our_query': 'SELECT ?value ?valueLabel WHERE { wd:Q3288309 wdt:P569 ?value . SERVICE wikibase:label { bd:serviceParam wikibase:language \"en\". } }'},\n",
       " {'question': 'Which person has field of work as - ?',\n",
       "  'entity_id': 'Q33231',\n",
       "  'answer': {'Q3193754'},\n",
       "  'truth_query': 'SELECT DISTINCT ?z WHERE { ?z rdf:type ontology:common_name . ?z property:field_of_work resource:photographer }',\n",
       "  'our_answer': {'66542dd6-05a6-4d9e-97ff-3f4858c31ff9'},\n",
       "  'our_query': 'SELECT ?value ?valueLabel WHERE { wd:Q33231 wdt:P4652 ?value . SERVICE wikibase:label { bd:serviceParam wikibase:language \"en\". } }'},\n",
       " {'question': 'What are - a main subject of ?',\n",
       "  'entity_id': 'Q33231',\n",
       "  'answer': {'Q17540704', 'Q2903184', 'Q686914'},\n",
       "  'truth_query': 'SELECT DISTINCT ?n WHERE { ?n property:main_subject resource:photographer . ?n rdf:type ontology:work_of_art }',\n",
       "  'our_answer': {'Q6473572'},\n",
       "  'our_query': 'SELECT ?value ?valueLabel WHERE { wd:Q33231 wdt:P910 ?value . SERVICE wikibase:label { bd:serviceParam wikibase:language \"en\". } }'},\n",
       " {'question': 'Which person was responsible for occupying the position of - ?',\n",
       "  'entity_id': 'Q33231',\n",
       "  'answer': {'Q3073637'},\n",
       "  'truth_query': 'SELECT DISTINCT ?x WHERE { ?x property:position_held resource:photographer . ?x rdf:type ontology:common_name }',\n",
       "  'our_answer': {'Q196653'},\n",
       "  'our_query': 'SELECT ?value ?valueLabel WHERE { wd:Q33231 wdt:P417 ?value . SERVICE wikibase:label { bd:serviceParam wikibase:language \"en\". } }'},\n",
       " {'question': 'Where was - born ?',\n",
       "  'entity_id': 'Q324356',\n",
       "  'answer': {'Q727'},\n",
       "  'truth_query': 'SELECT DISTINCT ?i WHERE { ?i rdf:type ontology:administrative_territorial_entity . resource:Cornelius_de_Pauw property:place_of_birth ?i }',\n",
       "  'our_answer': {'1739-08-18T00:00:00Z'},\n",
       "  'our_query': 'SELECT ?value ?valueLabel WHERE { wd:Q324356 wdt:P569 ?value . SERVICE wikibase:label { bd:serviceParam wikibase:language \"en\". } }'},\n",
       " {'question': 'Who is the creator of - ?',\n",
       "  'entity_id': 'Q569856',\n",
       "  'answer': {'Q888022'},\n",
       "  'truth_query': 'SELECT DISTINCT ?f WHERE { resource:Dylan property:producer ?f . ?f rdf:type ontology:common_name }',\n",
       "  'our_answer': {'Q208569'},\n",
       "  'our_query': 'SELECT ?value ?valueLabel WHERE { wd:Q569856 wdt:P7937 ?value . SERVICE wikibase:label { bd:serviceParam wikibase:language \"en\". } }'},\n",
       " {'question': 'Where was - born ?',\n",
       "  'entity_id': 'Q47509',\n",
       "  'answer': {'Q696783'},\n",
       "  'truth_query': 'SELECT DISTINCT ?z WHERE { resource:Akinori_Mikami property:place_of_birth ?z . ?z rdf:type ontology:city }',\n",
       "  'our_answer': {'1969-06-12T00:00:00Z'},\n",
       "  'our_query': 'SELECT ?value ?valueLabel WHERE { wd:Q47509 wdt:P569 ?value . SERVICE wikibase:label { bd:serviceParam wikibase:language \"en\". } }'},\n",
       " {'question': 'What is - named after ?',\n",
       "  'entity_id': 'Q222595',\n",
       "  'answer': {'Q9682'},\n",
       "  'truth_query': 'SELECT DISTINCT ?c WHERE { resource:British_Army property:named_after ?c . ?c rdf:type ontology:common_name }',\n",
       "  'our_answer': {'85235'},\n",
       "  'our_query': 'SELECT ?value ?valueLabel WHERE { wd:Q222595 wdt:P6683 ?value . SERVICE wikibase:label { bd:serviceParam wikibase:language \"en\". } }'},\n",
       " {'question': 'Who is associated with - ?',\n",
       "  'entity_id': 'Q1044583',\n",
       "  'answer': {'Q1409226'},\n",
       "  'truth_query': 'SELECT DISTINCT ?e WHERE { resource:Caroline_Weber property:family_name ?e . ?e rdf:type ontology:name }',\n",
       "  'our_answer': {'Q8567', 'Q8577'},\n",
       "  'our_query': 'SELECT ?value ?valueLabel WHERE { wd:Q1044583 wdt:P1344 ?value . SERVICE wikibase:label { bd:serviceParam wikibase:language \"en\". } }'},\n",
       " {'question': 'Which is the musical ensemble that originates at - ?',\n",
       "  'entity_id': 'Q48256',\n",
       "  'answer': {'Q164718'},\n",
       "  'truth_query': 'SELECT DISTINCT ?u WHERE { ?u property:location_of_formation resource:Dnipro . ?u rdf:type ontology:musical_ensemble }',\n",
       "  'our_answer': {'e3ce85a5-ddf3-4be2-b713-cb1d84610709'},\n",
       "  'our_query': 'SELECT ?value ?valueLabel WHERE { wd:Q48256 wdt:P982 ?value . SERVICE wikibase:label { bd:serviceParam wikibase:language \"en\". } }'},\n",
       " {'question': 'Which administrative territory is - present in ?',\n",
       "  'entity_id': 'Q17824',\n",
       "  'answer': {'Q38'},\n",
       "  'truth_query': 'SELECT DISTINCT ?f WHERE { resource:Mombercelli property:country ?f . ?f rdf:type ontology:designation_for_an_administrative_territorial_entity }',\n",
       "  'our_answer': {'Q15099'},\n",
       "  'our_query': 'SELECT ?value ?valueLabel WHERE { wd:Q17824 wdt:P131 ?value . SERVICE wikibase:label { bd:serviceParam wikibase:language \"en\". } }'},\n",
       " {'question': 'Which people have the highest formal authority in - ?',\n",
       "  'entity_id': 'Q43',\n",
       "  'answer': {'Q151729', 'Q39259', 'Q42852'},\n",
       "  'truth_query': 'SELECT DISTINCT ?d WHERE { resource:Turkey property:head_of_state ?d . ?d rdf:type ontology:common_name }',\n",
       "  'our_answer': {'Q39259'},\n",
       "  'our_query': 'SELECT ?value ?valueLabel WHERE { wd:Q43 wdt:P35 ?value . SERVICE wikibase:label { bd:serviceParam wikibase:language \"en\". } }'},\n",
       " {'question': 'What degree does - hold ?',\n",
       "  'entity_id': 'Q4476821',\n",
       "  'answer': {'Q737462'},\n",
       "  'truth_query': 'SELECT DISTINCT ?l WHERE { ?l rdf:type ontology:qualification . resource:Aleksei_Uranov property:academic_degree ?l }',\n",
       "  'our_answer': {'Q16739651'},\n",
       "  'our_query': 'SELECT ?value ?valueLabel WHERE { wd:Q4476821 wdt:P512 ?value . SERVICE wikibase:label { bd:serviceParam wikibase:language \"en\". } }'},\n",
       " {'question': 'Which occupation serves as the political office that is fulfilled by the head of the government of - ?',\n",
       "  'entity_id': 'Q20',\n",
       "  'answer': {'Q13409304'},\n",
       "  'truth_query': 'SELECT DISTINCT ?s WHERE { ?s rdf:type ontology:occupation . resource:Norway property:office_held_by_head_of_government ?s }',\n",
       "  'our_answer': {'Q2334076'},\n",
       "  'our_query': 'SELECT ?value ?valueLabel WHERE { wd:Q20 wdt:P1313 ?value . SERVICE wikibase:label { bd:serviceParam wikibase:language \"en\". } }'},\n",
       " {'question': 'Which event has - as thier associated field of occupation ?',\n",
       "  'entity_id': 'Q42973',\n",
       "  'answer': {'Q385378'},\n",
       "  'truth_query': 'SELECT DISTINCT ?a WHERE { resource:architect property:field_of_this_occupation ?a . ?a rdf:type ontology:event }',\n",
       "  'our_answer': {'2161'},\n",
       "  'our_query': 'SELECT ?value ?valueLabel WHERE { wd:Q42973 wdt:P8283 ?value . SERVICE wikibase:label { bd:serviceParam wikibase:language \"en\". } }'},\n",
       " {'question': 'Which Christian denomination does - correspond to ?',\n",
       "  'entity_id': 'Q2317707',\n",
       "  'answer': {'Q9592'},\n",
       "  'truth_query': 'SELECT DISTINCT ?q WHERE { resource:St._Bruno property:religion ?q . ?q rdf:type ontology:Christian_denomination }',\n",
       "  'our_answer': {'Q312314'},\n",
       "  'our_query': 'SELECT ?value ?valueLabel WHERE { wd:Q2317707 wdt:P417 ?value . SERVICE wikibase:label { bd:serviceParam wikibase:language \"en\". } }'},\n",
       " {'question': 'Who is the patron saint of - ?',\n",
       "  'entity_id': 'Q1622272',\n",
       "  'answer': {'Q9438'},\n",
       "  'truth_query': 'SELECT DISTINCT ?r WHERE { resource:university_teacher property:patron_saint ?r . ?r rdf:type ontology:common_name }',\n",
       "  'our_answer': {'39ee18c3-afa5-44b5-8e6f-ddba097908dd',\n",
       "   '40fba6c6-a2a6-4f7d-b6f9-dd077a1234a9'},\n",
       "  'our_query': 'SELECT ?value ?valueLabel WHERE { wd:Q1622272 wdt:P9223 ?value . SERVICE wikibase:label { bd:serviceParam wikibase:language \"en\". } }'},\n",
       " {'question': 'Which people are afflicted by - ?',\n",
       "  'entity_id': 'Q12202',\n",
       "  'answer': {'Q533284', 'Q554406', 'Q9916'},\n",
       "  'truth_query': 'SELECT DISTINCT ?b WHERE { ?b property:medical_condition resource:stroke . ?b rdf:type ontology:common_name }',\n",
       "  'our_answer': {'0.0024', '0.006'},\n",
       "  'our_query': 'SELECT ?value ?valueLabel WHERE { wd:Q12202 wdt:P1193 ?value . SERVICE wikibase:label { bd:serviceParam wikibase:language \"en\". } }'},\n",
       " {'question': 'Whose child are - ?',\n",
       "  'entity_id': 'Q9916',\n",
       "  'answer': {'Q15997423', 'Q20760306'},\n",
       "  'truth_query': 'SELECT DISTINCT ?k WHERE { ?k property:child resource:Dwight_D._Eisenhower . ?k rdf:type ontology:common_name }',\n",
       "  'our_answer': {'2'},\n",
       "  'our_query': 'SELECT ?value ?valueLabel WHERE { wd:Q9916 wdt:P1971 ?value . SERVICE wikibase:label { bd:serviceParam wikibase:language \"en\". } }'},\n",
       " {'question': 'Who have - as a child ?',\n",
       "  'entity_id': 'Q560806',\n",
       "  'answer': {'Q702602', 'Q79176'},\n",
       "  'truth_query': 'SELECT DISTINCT ?v WHERE { ?v property:child resource:Albert_III,_Duke_of_Saxony . ?v rdf:type ontology:common_name }',\n",
       "  'our_answer': {'Q262986',\n",
       "   'Q324959',\n",
       "   'Q719501',\n",
       "   'Q719626',\n",
       "   'Q75244850',\n",
       "   'Q75244852',\n",
       "   'Q75244853',\n",
       "   'Q75244857'},\n",
       "  'our_query': 'SELECT ?value ?valueLabel WHERE { wd:Q560806 wdt:P40 ?value . SERVICE wikibase:label { bd:serviceParam wikibase:language \"en\". } }'},\n",
       " {'question': 'Which administrative territories are bordered by - ?',\n",
       "  'entity_id': 'Q145',\n",
       "  'answer': {'Q142', 'Q27', 'Q717'},\n",
       "  'truth_query': 'SELECT DISTINCT ?y WHERE { resource:United_Kingdom property:shares_border_with ?y . ?y rdf:type ontology:designation_for_an_administrative_territorial_entity }',\n",
       "  'our_answer': {'Q21', 'Q22', 'Q25', 'Q26'},\n",
       "  'our_query': 'SELECT ?value ?valueLabel WHERE { wd:Q145 wdt:P150 ?value . SERVICE wikibase:label { bd:serviceParam wikibase:language \"en\". } }'},\n",
       " {'question': 'Which work of art has its narrative set in - ?',\n",
       "  'entity_id': 'Q35',\n",
       "  'answer': {'Q4656289'},\n",
       "  'truth_query': 'SELECT DISTINCT ?z WHERE { ?z property:narrative_location resource:Denmark . ?z rdf:type ontology:work_of_art }',\n",
       "  'our_answer': {'Q7140661'},\n",
       "  'our_query': 'SELECT ?value ?valueLabel WHERE { wd:Q35 wdt:P1740 ?value . SERVICE wikibase:label { bd:serviceParam wikibase:language \"en\". } }'},\n",
       " {'question': 'Who has location of birth at - ?',\n",
       "  'entity_id': 'Q52182',\n",
       "  'answer': {'Q16527407'},\n",
       "  'truth_query': 'SELECT DISTINCT ?i WHERE { ?i rdf:type ontology:common_name . ?i property:place_of_birth resource:Ruffano }',\n",
       "  'our_answer': {'101803069'},\n",
       "  'our_query': 'SELECT ?value ?valueLabel WHERE { wd:Q52182 wdt:P6766 ?value . SERVICE wikibase:label { bd:serviceParam wikibase:language \"en\". } }'},\n",
       " {'question': 'Which people finishes the journey at - ?',\n",
       "  'entity_id': 'Q142',\n",
       "  'answer': {'Q5548127'},\n",
       "  'truth_query': 'SELECT DISTINCT ?h WHERE { ?h rdf:type ontology:people . ?h property:destination_point resource:France }',\n",
       "  'our_answer': {'Q8366463'},\n",
       "  'our_query': 'SELECT ?value ?valueLabel WHERE { wd:Q142 wdt:P1465 ?value . SERVICE wikibase:label { bd:serviceParam wikibase:language \"en\". } }'},\n",
       " {'question': 'Which paintings have - as their location of final assembly ?',\n",
       "  'entity_id': 'Q142',\n",
       "  'answer': {'Q18343261', 'Q18591430', 'Q18591537'},\n",
       "  'truth_query': 'SELECT DISTINCT ?x WHERE { ?x property:location_of_final_assembly resource:France . ?x rdf:type ontology:painting }',\n",
       "  'our_answer': {'13'},\n",
       "  'our_query': 'SELECT ?value ?valueLabel WHERE { wd:Q142 wdt:P9757 ?value . SERVICE wikibase:label { bd:serviceParam wikibase:language \"en\". } }'},\n",
       " {'question': 'Which concept is the profession of - ?',\n",
       "  'entity_id': 'Q1673465',\n",
       "  'answer': {'Q482980'},\n",
       "  'truth_query': 'SELECT DISTINCT ?n WHERE { resource:Isaak_Sinclair property:occupation ?n . ?n rdf:type ontology:concept }',\n",
       "  'our_answer': {'Q36180'},\n",
       "  'our_query': 'SELECT ?value ?valueLabel WHERE { wd:Q1673465 wdt:P106 ?value . SERVICE wikibase:label { bd:serviceParam wikibase:language \"en\". } }'},\n",
       " {'question': 'Which works of art were filmed in the location - ?',\n",
       "  'entity_id': 'Q1741',\n",
       "  'answer': {'Q17548046', 'Q190956', 'Q464111'},\n",
       "  'truth_query': 'SELECT DISTINCT ?g WHERE { ?g property:filming_location resource:Vienna . ?g rdf:type ontology:work_of_art }',\n",
       "  'our_answer': {'Q8458233'},\n",
       "  'our_query': 'SELECT ?value ?valueLabel WHERE { wd:Q1741 wdt:P1740 ?value . SERVICE wikibase:label { bd:serviceParam wikibase:language \"en\". } }'},\n",
       " {'question': 'Where did the demise of - occur ?',\n",
       "  'entity_id': 'Q1871385',\n",
       "  'answer': {'Q265332'},\n",
       "  'truth_query': 'SELECT DISTINCT ?u WHERE { resource:Louis-Barthélémy_Pradher property:place_of_death ?u . ?u rdf:type ontology:type_of_french_administrative_division }',\n",
       "  'our_answer': {'1843-10-19T00:00:00Z'},\n",
       "  'our_query': 'SELECT ?value ?valueLabel WHERE { wd:Q1871385 wdt:P570 ?value . SERVICE wikibase:label { bd:serviceParam wikibase:language \"en\". } }'},\n",
       " {'question': 'Where is - situated ?',\n",
       "  'entity_id': 'Q29',\n",
       "  'answer': {'Q2'},\n",
       "  'truth_query': 'SELECT DISTINCT ?k WHERE { ?k rdf:type ontology:class . resource:Spain property:located_on_astronomical_body ?k }',\n",
       "  'our_answer': {'Q199408', 'Q2090594', 'Q4918', 'Q97'},\n",
       "  'our_query': 'SELECT ?value ?valueLabel WHERE { wd:Q29 wdt:P206 ?value . SERVICE wikibase:label { bd:serviceParam wikibase:language \"en\". } }'},\n",
       " {'question': 'Who have - as a mother ?',\n",
       "  'entity_id': 'Q2332287',\n",
       "  'answer': {'Q318434', 'Q332516', 'Q469731'},\n",
       "  'truth_query': 'SELECT DISTINCT ?z WHERE { ?z property:mother resource:Ingegerd_Olofsdotter_of_Sweden . ?z rdf:type ontology:common_name }',\n",
       "  'our_answer': {'Q2094063'},\n",
       "  'our_query': 'SELECT ?value ?valueLabel WHERE { wd:Q2332287 wdt:P25 ?value . SERVICE wikibase:label { bd:serviceParam wikibase:language \"en\". } }'},\n",
       " {'question': 'Which political territory does - belong to ?',\n",
       "  'entity_id': 'Q106998',\n",
       "  'answer': {'Q183'},\n",
       "  'truth_query': 'SELECT DISTINCT ?t WHERE { resource:Hellmuth_Weiss property:country_of_citizenship ?t . ?t rdf:type ontology:political_territorial_entity }',\n",
       "  'our_answer': {'Q7320'},\n",
       "  'our_query': 'SELECT ?value ?valueLabel WHERE { wd:Q106998 wdt:P102 ?value . SERVICE wikibase:label { bd:serviceParam wikibase:language \"en\". } }'},\n",
       " {'question': 'Which people are the head of government of - ?',\n",
       "  'entity_id': 'Q183',\n",
       "  'answer': {'Q2492', 'Q2514', 'Q567'},\n",
       "  'truth_query': 'SELECT DISTINCT ?m WHERE { resource:Germany property:head_of_government ?m . ?m rdf:type ontology:common_name }',\n",
       "  'our_answer': {'Q76658'},\n",
       "  'our_query': 'SELECT ?value ?valueLabel WHERE { wd:Q183 wdt:P35 ?value . SERVICE wikibase:label { bd:serviceParam wikibase:language \"en\". } }'},\n",
       " {'question': 'Who are the heads of state of - ?',\n",
       "  'entity_id': 'Q183',\n",
       "  'answer': {'Q2567', 'Q2571', 'Q2594'},\n",
       "  'truth_query': 'SELECT DISTINCT ?y WHERE { resource:Germany property:head_of_state ?y . ?y rdf:type ontology:common_name }',\n",
       "  'our_answer': {'Q76658'},\n",
       "  'our_query': 'SELECT ?value ?valueLabel WHERE { wd:Q183 wdt:P35 ?value . SERVICE wikibase:label { bd:serviceParam wikibase:language \"en\". } }'},\n",
       " {'question': 'Which people are working for - ?',\n",
       "  'entity_id': 'Q1878600',\n",
       "  'answer': {'Q21511883', 'Q3426737', 'Q700275'},\n",
       "  'truth_query': 'SELECT DISTINCT ?x WHERE { ?x property:employer resource:Lycée_Henri-IV . ?x rdf:type ontology:common_name }',\n",
       "  'our_answer': {'Q7695331'},\n",
       "  'our_query': 'SELECT ?value ?valueLabel WHERE { wd:Q1878600 wdt:P3876 ?value . SERVICE wikibase:label { bd:serviceParam wikibase:language \"en\". } }'},\n",
       " {'question': 'Who designed the architecture of - ?',\n",
       "  'entity_id': 'Q1075988',\n",
       "  'answer': {'Q2134288', 'Q652952'},\n",
       "  'truth_query': 'SELECT DISTINCT ?p WHERE { resource:Louvre_Palace property:architect ?p . ?p rdf:type ontology:common_name }',\n",
       "  'our_answer': {'Q310530', 'Q323877', 'Q381724', 'Q46868', 'Q708858'},\n",
       "  'our_query': 'SELECT ?value ?valueLabel WHERE { wd:Q1075988 wdt:P84 ?value . SERVICE wikibase:label { bd:serviceParam wikibase:language \"en\". } }'},\n",
       " {'question': 'Which is the part that is a component of - ?',\n",
       "  'entity_id': 'Q21984867',\n",
       "  'answer': {'Q14349455'},\n",
       "  'truth_query': 'SELECT DISTINCT ?v WHERE { resource:G-protein_coupled_receptor_183 property:cell_component ?v . ?v rdf:type ontology:part }',\n",
       "  'our_answer': {'Q423042', 'Q7321217', 'Q83162561'},\n",
       "  'our_query': 'SELECT ?value ?valueLabel WHERE { wd:Q21984867 wdt:P361 ?value . SERVICE wikibase:label { bd:serviceParam wikibase:language \"en\". } }'},\n",
       " {'question': 'Who has archives located at - ?',\n",
       "  'entity_id': 'Q6542576',\n",
       "  'answer': {'Q16908818'},\n",
       "  'truth_query': 'SELECT DISTINCT ?m WHERE { ?m property:archives_at resource:Library_of_Birmingham . ?m rdf:type ontology:temple }',\n",
       "  'our_answer': {'3171'},\n",
       "  'our_query': 'SELECT ?value ?valueLabel WHERE { wd:Q6542576 wdt:P3642 ?value . SERVICE wikibase:label { bd:serviceParam wikibase:language \"en\". } }'},\n",
       " {'question': 'Where did - expire ?',\n",
       "  'entity_id': 'Q7326091',\n",
       "  'answer': {'Q1006865'},\n",
       "  'truth_query': 'SELECT DISTINCT ?d WHERE { resource:Richard_Grobschmidt property:place_of_death ?d . ?d rdf:type ontology:administrative_territorial_entity }',\n",
       "  'our_answer': {'2016-07-23T00:00:00Z'},\n",
       "  'our_query': 'SELECT ?value ?valueLabel WHERE { wd:Q7326091 wdt:P570 ?value . SERVICE wikibase:label { bd:serviceParam wikibase:language \"en\". } }'},\n",
       " {'question': 'Which Magnetic confinement fusion was sponsored by - ?',\n",
       "  'entity_id': 'Q30',\n",
       "  'answer': {'Q191788'},\n",
       "  'truth_query': 'SELECT DISTINCT ?f WHERE { ?f property:sponsor resource:United_States_of_America . ?f rdf:type ontology:Magnetic_confinement_fusion }',\n",
       "  'our_answer': {'E15'},\n",
       "  'our_query': 'SELECT ?value ?valueLabel WHERE { wd:Q30 wdt:P8483 ?value . SERVICE wikibase:label { bd:serviceParam wikibase:language \"en\". } }'},\n",
       " {'question': 'What is the race of - ?',\n",
       "  'entity_id': 'Q35398',\n",
       "  'answer': {'Q161652'},\n",
       "  'truth_query': 'SELECT DISTINCT ?d WHERE { resource:Asuka_Sakamaki property:ethnic_group ?d . ?d rdf:type ontology:people }',\n",
       "  'our_answer': {'Q5'},\n",
       "  'our_query': 'SELECT ?value ?valueLabel WHERE { wd:Q35398 wdt:P31 ?value . SERVICE wikibase:label { bd:serviceParam wikibase:language \"en\". } }'},\n",
       " {'question': 'What is the profession of - ?',\n",
       "  'entity_id': 'Q533778',\n",
       "  'answer': {'Q482980'},\n",
       "  'truth_query': 'SELECT DISTINCT ?x WHERE { resource:Sally_Miller_Gearhart property:occupation ?x . ?x rdf:type ontology:concept }',\n",
       "  'our_answer': {'Q1662673'},\n",
       "  'our_query': 'SELECT ?value ?valueLabel WHERE { wd:Q533778 wdt:P101 ?value . SERVICE wikibase:label { bd:serviceParam wikibase:language \"en\". } }'},\n",
       " {'question': 'Which application depicts - ?',\n",
       "  'entity_id': 'Q2736',\n",
       "  'answer': {'Q6786211'},\n",
       "  'truth_query': 'SELECT DISTINCT ?i WHERE { ?i rdf:type ontology:application . ?i property:depicts resource:association_football }',\n",
       "  'our_answer': {'Football%20pictogram.svg'},\n",
       "  'our_query': 'SELECT ?value ?valueLabel WHERE { wd:Q2736 wdt:P2910 ?value . SERVICE wikibase:label { bd:serviceParam wikibase:language \"en\". } }'},\n",
       " {'question': 'Which works of art do - star in ?',\n",
       "  'entity_id': 'Q530733',\n",
       "  'answer': {'Q1134041', 'Q1195373', 'Q714989'},\n",
       "  'truth_query': 'SELECT DISTINCT ?d WHERE { ?d property:cast_member resource:Robert_Flemyng . ?d rdf:type ontology:work_of_art }',\n",
       "  'our_answer': {'Q10762848', 'Q1335064'},\n",
       "  'our_query': 'SELECT ?value ?valueLabel WHERE { wd:Q530733 wdt:P166 ?value . SERVICE wikibase:label { bd:serviceParam wikibase:language \"en\". } }'},\n",
       " {'question': 'Which roads have - as their departure point ?',\n",
       "  'entity_id': 'Q183584',\n",
       "  'answer': {'Q10893525', 'Q785396'},\n",
       "  'truth_query': 'SELECT DISTINCT ?s WHERE { ?s rdf:type ontology:road . ?s property:terminus_location resource:Lanzhou }',\n",
       "  'our_answer': {'Q17139',\n",
       "   'Q174665',\n",
       "   'Q191914',\n",
       "   'Q34804',\n",
       "   'Q3688',\n",
       "   'Q5540',\n",
       "   'Q6816',\n",
       "   'Q79990'},\n",
       "  'our_query': 'SELECT ?value ?valueLabel WHERE { wd:Q183584 wdt:P190 ?value . SERVICE wikibase:label { bd:serviceParam wikibase:language \"en\". } }'},\n",
       " {'question': 'Which administrative territory is - present in ?',\n",
       "  'entity_id': 'Q183584',\n",
       "  'answer': {'Q148'},\n",
       "  'truth_query': 'SELECT DISTINCT ?k WHERE { resource:Lanzhou property:country ?k . ?k rdf:type ontology:designation_for_an_administrative_territorial_entity }',\n",
       "  'our_answer': {'Q1069975',\n",
       "   'Q1202666',\n",
       "   'Q123462',\n",
       "   'Q1338336',\n",
       "   'Q1339849',\n",
       "   'Q1339965',\n",
       "   'Q1340114',\n",
       "   'Q567195'},\n",
       "  'our_query': 'SELECT ?value ?valueLabel WHERE { wd:Q183584 wdt:P150 ?value . SERVICE wikibase:label { bd:serviceParam wikibase:language \"en\". } }'},\n",
       " {'question': 'What are the national anthems of - ?',\n",
       "  'entity_id': 'Q21',\n",
       "  'answer': {'Q182268', 'Q489607'},\n",
       "  'truth_query': 'SELECT DISTINCT ?d WHERE { ?d rdf:type ontology:hymn . resource:England property:anthem ?d }',\n",
       "  'our_answer': {'Q40807'},\n",
       "  'our_query': 'SELECT ?value ?valueLabel WHERE { wd:Q21 wdt:P85 ?value . SERVICE wikibase:label { bd:serviceParam wikibase:language \"en\". } }'},\n",
       " {'question': 'What is forename of - ?',\n",
       "  'entity_id': 'Q7297882',\n",
       "  'answer': {'Q2133832'},\n",
       "  'truth_query': 'SELECT DISTINCT ?w WHERE { resource:Ray_Myers property:given_name ?w . ?w rdf:type ontology:name }',\n",
       "  'our_answer': {'Q1390707'},\n",
       "  'our_query': 'SELECT ?value ?valueLabel WHERE { wd:Q7297882 wdt:P734 ?value . SERVICE wikibase:label { bd:serviceParam wikibase:language \"en\". } }'},\n",
       " {'question': 'What situation did - die in ?',\n",
       "  'entity_id': 'Q5486107',\n",
       "  'answer': {'Q3739104'},\n",
       "  'truth_query': \"SELECT DISTINCT ?q WHERE { resource:Frank_D'Rone property:manner_of_death ?q . ?q rdf:type ontology:cause_of_death }\",\n",
       "  'our_answer': {'2013-10-03T00:00:00Z'},\n",
       "  'our_query': 'SELECT ?value ?valueLabel WHERE { wd:Q5486107 wdt:P570 ?value . SERVICE wikibase:label { bd:serviceParam wikibase:language \"en\". } }'},\n",
       " {'question': 'What has been developed by - ?',\n",
       "  'entity_id': 'Q544560',\n",
       "  'answer': {'Q1961583'},\n",
       "  'truth_query': 'SELECT DISTINCT ?g WHERE { ?g property:producer resource:Televisión_Española . ?g rdf:type ontology:work_of_art }',\n",
       "  'our_answer': {'Q13474305'},\n",
       "  'our_query': 'SELECT ?value ?valueLabel WHERE { wd:Q544560 wdt:P112 ?value . SERVICE wikibase:label { bd:serviceParam wikibase:language \"en\". } }'},\n",
       " {'question': 'Which organization owns - ?',\n",
       "  'entity_id': 'Q544560',\n",
       "  'answer': {'Q54829'},\n",
       "  'truth_query': 'SELECT DISTINCT ?u WHERE { resource:Televisión_Española property:parent_organization ?u . ?u rdf:type ontology:organization }',\n",
       "  'our_answer': {'Q13474305'},\n",
       "  'our_query': 'SELECT ?value ?valueLabel WHERE { wd:Q544560 wdt:P112 ?value . SERVICE wikibase:label { bd:serviceParam wikibase:language \"en\". } }'},\n",
       " {'question': 'Which language family is - a component of ?',\n",
       "  'entity_id': 'Q447117',\n",
       "  'answer': {'Q50868'},\n",
       "  'truth_query': 'SELECT DISTINCT ?d WHERE { resource:Old_Egyptian property:part_of ?d . ?d rdf:type ontology:language_family }',\n",
       "  'our_answer': {'Q12021756', 'Q166097'},\n",
       "  'our_query': 'SELECT ?value ?valueLabel WHERE { wd:Q447117 wdt:P4132 ?value . SERVICE wikibase:label { bd:serviceParam wikibase:language \"en\". } }'},\n",
       " {'question': 'What social groups had - as their member ?',\n",
       "  'entity_id': 'Q39',\n",
       "  'answer': {'Q782942', 'Q8908'},\n",
       "  'truth_query': 'SELECT DISTINCT ?a WHERE { ?a rdf:type ontology:social_group . resource:Switzerland property:member_of ?a }',\n",
       "  'our_answer': {'Q7463350'},\n",
       "  'our_query': 'SELECT ?value ?valueLabel WHERE { wd:Q39 wdt:P1464 ?value . SERVICE wikibase:label { bd:serviceParam wikibase:language \"en\". } }'},\n",
       " {'question': 'Which administrative territory is - a part of ?',\n",
       "  'entity_id': 'Q844518',\n",
       "  'answer': {'Q142'},\n",
       "  'truth_query': 'SELECT DISTINCT ?w WHERE { resource:Fierville-Bray property:country ?w . ?w rdf:type ontology:designation_for_an_administrative_territorial_entity }',\n",
       "  'our_answer': {'Q3249', 'Q700794', 'Q952016'},\n",
       "  'our_query': 'SELECT ?value ?valueLabel WHERE { wd:Q844518 wdt:P131 ?value . SERVICE wikibase:label { bd:serviceParam wikibase:language \"en\". } }'},\n",
       " {'question': 'Which french administrative divisions are next to the border of - ?',\n",
       "  'entity_id': 'Q844518',\n",
       "  'answer': {'Q646548', 'Q659903', 'Q683656'},\n",
       "  'truth_query': 'SELECT DISTINCT ?f WHERE { resource:Fierville-Bray property:shares_border_with ?f . ?f rdf:type ontology:type_of_french_administrative_division }',\n",
       "  'our_answer': {'13856'},\n",
       "  'our_query': 'SELECT ?value ?valueLabel WHERE { wd:Q844518 wdt:P8422 ?value . SERVICE wikibase:label { bd:serviceParam wikibase:language \"en\". } }'},\n",
       " {'question': 'Which cemetery is the tomb of - ?',\n",
       "  'entity_id': 'Q216999',\n",
       "  'answer': {'Q311'},\n",
       "  'truth_query': 'SELECT DISTINCT ?v WHERE { resource:Antoine-Jean_Gros property:place_of_burial ?v . ?v rdf:type ontology:cemetery }',\n",
       "  'our_answer': {'Marty%20-%20Les%20principaux%20monuments%20fun%C3%A9raires%20-%20Gros.jpg'},\n",
       "  'our_query': 'SELECT ?value ?valueLabel WHERE { wd:Q216999 wdt:P1442 ?value . SERVICE wikibase:label { bd:serviceParam wikibase:language \"en\". } }'},\n",
       " {'question': 'Which work of art was mainly based on - ?',\n",
       "  'entity_id': 'Q216999',\n",
       "  'answer': {'Q18191113'},\n",
       "  'truth_query': 'SELECT DISTINCT ?p WHERE { ?p property:main_subject resource:Antoine-Jean_Gros . ?p rdf:type ontology:work_of_art }',\n",
       "  'our_answer': {'Q1282978', 'Q2889459', 'Q2909905'},\n",
       "  'our_query': 'SELECT ?value ?valueLabel WHERE { wd:Q216999 wdt:P800 ?value . SERVICE wikibase:label { bd:serviceParam wikibase:language \"en\". } }'},\n",
       " {'question': 'Which administrative territory was - born at ?',\n",
       "  'entity_id': 'Q2404120',\n",
       "  'answer': {'Q649'},\n",
       "  'truth_query': 'SELECT DISTINCT ?v WHERE { resource:Nikolai_Legat property:place_of_birth ?v . ?v rdf:type ontology:administrative_territorial_entity }',\n",
       "  'our_answer': {'1869-12-27T00:00:00Z'},\n",
       "  'our_query': 'SELECT ?value ?valueLabel WHERE { wd:Q2404120 wdt:P569 ?value . SERVICE wikibase:label { bd:serviceParam wikibase:language \"en\". } }'},\n",
       " {'question': 'Which geographic location is - a component of ?',\n",
       "  'entity_id': 'Q15',\n",
       "  'answer': {'Q2035462'},\n",
       "  'truth_query': 'SELECT DISTINCT ?m WHERE { resource:Africa property:part_of ?m . ?m rdf:type ontology:geographic_location }',\n",
       "  'our_answer': {'Point(7.1881 21.09375)'},\n",
       "  'our_query': 'SELECT ?value ?valueLabel WHERE { wd:Q15 wdt:P625 ?value . SERVICE wikibase:label { bd:serviceParam wikibase:language \"en\". } }'},\n",
       " {'question': 'Which person has a membership of - ?',\n",
       "  'entity_id': 'Q9592',\n",
       "  'answer': {'Q10392956'},\n",
       "  'truth_query': 'SELECT DISTINCT ?z WHERE { ?z property:member_of resource:Roman_Catholic_Church . ?z rdf:type ontology:common_name }',\n",
       "  'our_answer': {'Q450675'},\n",
       "  'our_query': 'SELECT ?value ?valueLabel WHERE { wd:Q9592 wdt:P488 ?value . SERVICE wikibase:label { bd:serviceParam wikibase:language \"en\". } }'},\n",
       " {'question': 'Which person as - as its type ?',\n",
       "  'entity_id': 'Q7239',\n",
       "  'answer': {'Q2313936'},\n",
       "  'truth_query': 'SELECT DISTINCT ?h WHERE { ?h property:genre resource:organism . ?h rdf:type ontology:common_name }',\n",
       "  'our_answer': {'Q3', 'Q6506039', 'Q7020'},\n",
       "  'our_query': 'SELECT ?value ?valueLabel WHERE { wd:Q7239 wdt:P1557 ?value . SERVICE wikibase:label { bd:serviceParam wikibase:language \"en\". } }'},\n",
       " {'question': 'Where did - expire ?',\n",
       "  'entity_id': 'Q15428159',\n",
       "  'answer': {'Q84'},\n",
       "  'truth_query': 'SELECT DISTINCT ?d WHERE { resource:Selma_Vaz_Dias property:place_of_death ?d . ?d rdf:type ontology:administrative_territorial_entity }',\n",
       "  'our_answer': {'1977-08-30T00:00:00Z'},\n",
       "  'our_query': 'SELECT ?value ?valueLabel WHERE { wd:Q15428159 wdt:P570 ?value . SERVICE wikibase:label { bd:serviceParam wikibase:language \"en\". } }'},\n",
       " {'question': 'Where was - born ?',\n",
       "  'entity_id': 'Q15428159',\n",
       "  'answer': {'Q727'},\n",
       "  'truth_query': 'SELECT DISTINCT ?d WHERE { resource:Selma_Vaz_Dias property:place_of_birth ?d . ?d rdf:type ontology:administrative_territorial_entity }',\n",
       "  'our_answer': {'1911-11-23T00:00:00Z'},\n",
       "  'our_query': 'SELECT ?value ?valueLabel WHERE { wd:Q15428159 wdt:P569 ?value . SERVICE wikibase:label { bd:serviceParam wikibase:language \"en\". } }'},\n",
       " {'question': 'What recurring sporting events did - participate in ?',\n",
       "  'entity_id': 'Q6845560',\n",
       "  'answer': {'Q244322', 'Q329679'},\n",
       "  'truth_query': 'SELECT DISTINCT ?b WHERE { ?b rdf:type ontology:recurring_sporting_event . resource:Mika_Yoshikawa property:participant_of ?b }',\n",
       "  'our_answer': {'Q542'},\n",
       "  'our_query': 'SELECT ?value ?valueLabel WHERE { wd:Q6845560 wdt:P641 ?value . SERVICE wikibase:label { bd:serviceParam wikibase:language \"en\". } }'},\n",
       " {'question': 'Which stadium is occupied by - ?',\n",
       "  'entity_id': 'Q244322',\n",
       "  'answer': {'Q401470'},\n",
       "  'truth_query': 'SELECT DISTINCT ?n WHERE { ?n property:occupant resource:2010_Asian_Games . ?n rdf:type ontology:stadium }',\n",
       "  'our_answer': {'Q483463'},\n",
       "  'our_query': 'SELECT ?value ?valueLabel WHERE { wd:Q244322 wdt:P3450 ?value . SERVICE wikibase:label { bd:serviceParam wikibase:language \"en\". } }'},\n",
       " {'question': 'Which administrative territory is - located in ?',\n",
       "  'entity_id': 'Q244322',\n",
       "  'answer': {'Q148'},\n",
       "  'truth_query': 'SELECT DISTINCT ?w WHERE { resource:2010_Asian_Games property:country ?w . ?w rdf:type ontology:designation_for_an_administrative_territorial_entity }',\n",
       "  'our_answer': {'Q10387513'},\n",
       "  'our_query': 'SELECT ?value ?valueLabel WHERE { wd:Q244322 wdt:P276 ?value . SERVICE wikibase:label { bd:serviceParam wikibase:language \"en\". } }'},\n",
       " {'question': 'Which people do - serve as the head of government for ?',\n",
       "  'entity_id': 'Q159',\n",
       "  'answer': {'Q270529', 'Q34453', 'Q7747'},\n",
       "  'truth_query': 'SELECT DISTINCT ?i WHERE { resource:Russia property:head_of_government ?i . ?i rdf:type ontology:common_name }',\n",
       "  'our_answer': {'Q842386'},\n",
       "  'our_query': 'SELECT ?value ?valueLabel WHERE { wd:Q159 wdt:P1313 ?value . SERVICE wikibase:label { bd:serviceParam wikibase:language \"en\". } }'},\n",
       " {'question': 'What is - a chairperson of ?',\n",
       "  'entity_id': 'Q7747',\n",
       "  'answer': {'Q151469'},\n",
       "  'truth_query': 'SELECT DISTINCT ?w WHERE { ?w property:chairperson resource:Vladimir_Putin . ?w rdf:type ontology:political_party_in_Russia }',\n",
       "  'our_answer': {'Q193159', 'Q4109060'},\n",
       "  'our_query': 'SELECT ?value ?valueLabel WHERE { wd:Q7747 wdt:P598 ?value . SERVICE wikibase:label { bd:serviceParam wikibase:language \"en\". } }'},\n",
       " {'question': 'Which article has - as its main topic ?',\n",
       "  'entity_id': 'Q14949032',\n",
       "  'answer': {'Q19108020'},\n",
       "  'truth_query': 'SELECT DISTINCT ?f WHERE { ?f property:main_subject resource:John_Tulloch . ?f rdf:type ontology:article }',\n",
       "  'our_answer': {'20110803110055913'},\n",
       "  'our_query': 'SELECT ?value ?valueLabel WHERE { wd:Q14949032 wdt:P12582 ?value . SERVICE wikibase:label { bd:serviceParam wikibase:language \"en\". } }'},\n",
       " {'question': 'Which metabolic process is - involved in ?',\n",
       "  'entity_id': 'Q22162348',\n",
       "  'answer': {'Q14863351'},\n",
       "  'truth_query': 'SELECT DISTINCT ?x WHERE { ?x rdf:type ontology:metabolic_process . resource:sensory_histidine_kinase_AtoS____ECIAI39_2357 property:biological_process ?x }',\n",
       "  'our_answer': {'Q14633883', 'Q21114947', 'Q21757752', 'Q242736', 'Q828130'},\n",
       "  'our_query': 'SELECT ?value ?valueLabel WHERE { wd:Q22162348 wdt:P682 ?value . SERVICE wikibase:label { bd:serviceParam wikibase:language \"en\". } }'},\n",
       " {'question': 'Which works have - as their main topic ?',\n",
       "  'entity_id': 'Q162867',\n",
       "  'answer': {'Q26371370', 'Q26374503', 'Q26377249'},\n",
       "  'truth_query': 'SELECT DISTINCT ?e WHERE { ?e property:main_subject resource:nitroglycerin . ?e rdf:type ontology:work }',\n",
       "  'our_answer': {'Q12140'},\n",
       "  'our_query': 'SELECT ?value ?valueLabel WHERE { wd:Q162867 wdt:P366 ?value . SERVICE wikibase:label { bd:serviceParam wikibase:language \"en\". } }'},\n",
       " {'question': 'Which diseases are - a medication for ?',\n",
       "  'entity_id': 'Q162867',\n",
       "  'answer': {'Q1444550', 'Q7514772'},\n",
       "  'truth_query': 'SELECT DISTINCT ?f WHERE { resource:nitroglycerin property:medical_condition_treated ?f . ?f rdf:type ontology:disease }',\n",
       "  'our_answer': {'Q879952'},\n",
       "  'our_query': 'SELECT ?value ?valueLabel WHERE { wd:Q162867 wdt:P3493 ?value . SERVICE wikibase:label { bd:serviceParam wikibase:language \"en\". } }'},\n",
       " {'question': 'Which chemical substance is used to craft - ?',\n",
       "  'entity_id': 'Q21699165',\n",
       "  'answer': {'Q11472'},\n",
       "  'truth_query': 'SELECT DISTINCT ?q WHERE { ?q rdf:type ontology:chemical_substance . resource:A_Despot property:material_used ?q }',\n",
       "  'our_answer': {'Q756712'},\n",
       "  'our_query': 'SELECT ?value ?valueLabel WHERE { wd:Q21699165 wdt:P2079 ?value . SERVICE wikibase:label { bd:serviceParam wikibase:language \"en\". } }'},\n",
       " {'question': 'Who is a kin of - ?',\n",
       "  'entity_id': 'Q1145608',\n",
       "  'answer': {'Q171557'},\n",
       "  'truth_query': 'SELECT DISTINCT ?f WHERE { resource:Paul_Belmondo property:relative ?f . ?f rdf:type ontology:common_name }',\n",
       "  'our_answer': {'Q106255', 'Q108732335', 'Q2829544'},\n",
       "  'our_query': 'SELECT ?value ?valueLabel WHERE { wd:Q1145608 wdt:P40 ?value . SERVICE wikibase:label { bd:serviceParam wikibase:language \"en\". } }'},\n",
       " {'question': 'Where did the expiration of - occur ?',\n",
       "  'entity_id': 'Q8318919',\n",
       "  'answer': {'Q33959'},\n",
       "  'truth_query': 'SELECT DISTINCT ?d WHERE { ?d rdf:type ontology:administrative_territorial_entity . resource:Jean-André_Guiberto property:place_of_death ?d }',\n",
       "  'our_answer': {'1684-04-10T00:00:00Z'},\n",
       "  'our_query': 'SELECT ?value ?valueLabel WHERE { wd:Q8318919 wdt:P570 ?value . SERVICE wikibase:label { bd:serviceParam wikibase:language \"en\". } }'},\n",
       " {'question': 'Who has - as his/her tomb ?',\n",
       "  'entity_id': 'Q1084011',\n",
       "  'answer': {'Q1190599'},\n",
       "  'truth_query': 'SELECT DISTINCT ?k WHERE { ?k property:place_of_burial resource:Nice_Cathedral . ?k rdf:type ontology:common_name }',\n",
       "  'our_answer': {'Q451820'},\n",
       "  'our_query': 'SELECT ?value ?valueLabel WHERE { wd:Q1084011 wdt:P825 ?value . SERVICE wikibase:label { bd:serviceParam wikibase:language \"en\". } }'},\n",
       " {'question': 'What are located at - ?',\n",
       "  'entity_id': 'Q9694',\n",
       "  'answer': {'Q19546931', 'Q19546936', 'Q19575601'},\n",
       "  'truth_query': 'SELECT DISTINCT ?u WHERE { ?u property:location resource:Amsterdam_Airport_Schiphol . ?u rdf:type ontology:road }',\n",
       "  'our_answer': {'Q9924'},\n",
       "  'our_query': 'SELECT ?value ?valueLabel WHERE { wd:Q9694 wdt:P131 ?value . SERVICE wikibase:label { bd:serviceParam wikibase:language \"en\". } }'},\n",
       " {'question': 'Who is - a distributor of ?',\n",
       "  'entity_id': 'Q31',\n",
       "  'answer': {'Q21998615'},\n",
       "  'truth_query': 'SELECT DISTINCT ?u WHERE { ?u property:distributor resource:Belgium . ?u rdf:type ontology:work_of_art }',\n",
       "  'our_answer': {'Q2697443', 'Q3052500'},\n",
       "  'our_query': 'SELECT ?value ?valueLabel WHERE { wd:Q31 wdt:P1830 ?value . SERVICE wikibase:label { bd:serviceParam wikibase:language \"en\". } }'},\n",
       " {'question': 'Which tournaments are parts of - ?',\n",
       "  'entity_id': 'Q79859',\n",
       "  'answer': {'Q10260330', 'Q10260332', 'Q317077'},\n",
       "  'truth_query': 'SELECT DISTINCT ?j WHERE { ?j property:part_of resource:2014_FIFA_World_Cup . ?j rdf:type ontology:tournament }',\n",
       "  'our_answer': {'330'},\n",
       "  'our_query': 'SELECT ?value ?valueLabel WHERE { wd:Q79859 wdt:P5162 ?value . SERVICE wikibase:label { bd:serviceParam wikibase:language \"en\". } }'},\n",
       " {'question': 'What was formed at - ?',\n",
       "  'entity_id': 'Q48',\n",
       "  'answer': {'Q196696'},\n",
       "  'truth_query': 'SELECT DISTINCT ?h WHERE { ?h property:location_of_formation resource:Asia . ?h rdf:type ontology:musical_ensemble }',\n",
       "  'our_answer': {'Q8042599'},\n",
       "  'our_query': 'SELECT ?value ?valueLabel WHERE { wd:Q48 wdt:P1464 ?value . SERVICE wikibase:label { bd:serviceParam wikibase:language \"en\". } }'},\n",
       " {'question': 'Which geographic locations are - a part of ?',\n",
       "  'entity_id': 'Q30',\n",
       "  'answer': {'Q49', 'Q538'},\n",
       "  'truth_query': 'SELECT DISTINCT ?k WHERE { resource:United_States_of_America property:continent ?k . ?k rdf:type ontology:geographic_location }',\n",
       "  'our_answer': {'Q49'},\n",
       "  'our_query': 'SELECT ?value ?valueLabel WHERE { wd:Q30 wdt:P30 ?value . SERVICE wikibase:label { bd:serviceParam wikibase:language \"en\". } }'},\n",
       " {'question': 'Where is - located in ?',\n",
       "  'entity_id': 'Q145',\n",
       "  'answer': {'Q30192'},\n",
       "  'truth_query': 'SELECT DISTINCT ?p WHERE { resource:United_Kingdom property:located_in_time_zone ?p . ?p rdf:type ontology:technical_standard }',\n",
       "  'our_answer': {'Q22890', 'Q23666', 'Q38272'},\n",
       "  'our_query': 'SELECT ?value ?valueLabel WHERE { wd:Q145 wdt:P706 ?value . SERVICE wikibase:label { bd:serviceParam wikibase:language \"en\". } }'},\n",
       " {'question': 'Who are an offsprings of - ?',\n",
       "  'entity_id': 'Q2379648',\n",
       "  'answer': {'Q236287', 'Q2548323'},\n",
       "  'truth_query': 'SELECT DISTINCT ?f WHERE { resource:Humphrey_de_Bohun,_7th_Earl_of_Hereford property:child ?f . ?f rdf:type ontology:common_name }',\n",
       "  'our_answer': {'Q5363791', 'Q679266'},\n",
       "  'our_query': 'SELECT ?value ?valueLabel WHERE { wd:Q2379648 wdt:P3373 ?value . SERVICE wikibase:label { bd:serviceParam wikibase:language \"en\". } }'},\n",
       " {'question': 'Who is the head of state of - ?',\n",
       "  'entity_id': 'Q28',\n",
       "  'answer': {'Q57467'},\n",
       "  'truth_query': 'SELECT DISTINCT ?i WHERE { resource:Hungary property:head_of_state ?i . ?i rdf:type ontology:common_name }',\n",
       "  'our_answer': {'Q28599854'},\n",
       "  'our_query': 'SELECT ?value ?valueLabel WHERE { wd:Q28 wdt:P35 ?value . SERVICE wikibase:label { bd:serviceParam wikibase:language \"en\". } }'},\n",
       " {'question': 'Where did - expire ?',\n",
       "  'entity_id': 'Q5930648',\n",
       "  'answer': {'Q733'},\n",
       "  'truth_query': 'SELECT DISTINCT ?w WHERE { resource:Jesús_Ruiz_Nestosa property:place_of_death ?w . ?w rdf:type ontology:designation_for_an_administrative_territorial_entity }',\n",
       "  'our_answer': {'1941-06-26T00:00:00Z'},\n",
       "  'our_query': 'SELECT ?value ?valueLabel WHERE { wd:Q5930648 wdt:P569 ?value . SERVICE wikibase:label { bd:serviceParam wikibase:language \"en\". } }'},\n",
       " {'question': 'Which organizations were - a member of ?',\n",
       "  'entity_id': 'Q733',\n",
       "  'answer': {'Q1043527', 'Q1065', 'Q471690'},\n",
       "  'truth_query': 'SELECT DISTINCT ?r WHERE { resource:Paraguay property:member_of ?r . ?r rdf:type ontology:international_organization }',\n",
       "  'our_answer': {'Q7087863'},\n",
       "  'our_query': 'SELECT ?value ?valueLabel WHERE { wd:Q733 wdt:P1792 ?value . SERVICE wikibase:label { bd:serviceParam wikibase:language \"en\". } }'},\n",
       " {'question': 'Which people have - as father ?',\n",
       "  'entity_id': 'Q55211',\n",
       "  'answer': {'Q2657179', 'Q432709'},\n",
       "  'truth_query': 'SELECT DISTINCT ?z WHERE { ?z property:father resource:Mohsen_Makhmalbaf . ?z rdf:type ontology:common_name }',\n",
       "  'our_answer': {'Q3296384'},\n",
       "  'our_query': 'SELECT ?value ?valueLabel WHERE { wd:Q55211 wdt:P26 ?value . SERVICE wikibase:label { bd:serviceParam wikibase:language \"en\". } }'},\n",
       " {'question': 'What is the title conferred upon - ?',\n",
       "  'entity_id': 'Q17630860',\n",
       "  'answer': {'Q152956'},\n",
       "  'truth_query': 'SELECT DISTINCT ?w WHERE { resource:Jean-Louis_Olivier_Mossel property:military_rank ?w . ?w rdf:type ontology:title }',\n",
       "  'our_answer': {'Q165503'},\n",
       "  'our_query': 'SELECT ?value ?valueLabel WHERE { wd:Q17630860 wdt:P97 ?value . SERVICE wikibase:label { bd:serviceParam wikibase:language \"en\". } }'},\n",
       " {'question': 'Who died in - ?',\n",
       "  'entity_id': 'Q181605',\n",
       "  'answer': {'Q200879', 'Q20851228'},\n",
       "  'truth_query': 'SELECT DISTINCT ?d WHERE { ?d property:place_of_death resource:Lagrasse . ?d rdf:type ontology:common_name }',\n",
       "  'our_answer': {'Q9218798'},\n",
       "  'our_query': 'SELECT ?value ?valueLabel WHERE { wd:Q181605 wdt:P1465 ?value . SERVICE wikibase:label { bd:serviceParam wikibase:language \"en\". } }'},\n",
       " {'question': 'Who have - as an offspring ?',\n",
       "  'entity_id': 'Q949640',\n",
       "  'answer': {'Q2364921', 'Q504283'},\n",
       "  'truth_query': 'SELECT DISTINCT ?z WHERE { ?z property:child resource:Miró_II_of_Cerdanya . ?z rdf:type ontology:common_name }',\n",
       "  'our_answer': {'Q2043842', 'Q2044232', 'Q20875996', 'Q2499376', 'Q4112534'},\n",
       "  'our_query': 'SELECT ?value ?valueLabel WHERE { wd:Q949640 wdt:P40 ?value . SERVICE wikibase:label { bd:serviceParam wikibase:language \"en\". } }'},\n",
       " {'question': 'Which organizations have their head office location at - ?',\n",
       "  'entity_id': 'Q142',\n",
       "  'answer': {'Q1709809', 'Q3061374', 'Q3091815'},\n",
       "  'truth_query': 'SELECT DISTINCT ?u WHERE { ?u property:headquarters_location resource:France . ?u rdf:type ontology:organization }',\n",
       "  'our_answer': {'Q191954'},\n",
       "  'our_query': 'SELECT ?value ?valueLabel WHERE { wd:Q142 wdt:P1906 ?value . SERVICE wikibase:label { bd:serviceParam wikibase:language \"en\". } }'},\n",
       " {'question': 'Who has editted - ?',\n",
       "  'entity_id': 'Q19069',\n",
       "  'answer': {'Q1114628'},\n",
       "  'truth_query': 'SELECT DISTINCT ?k WHERE { resource:The_Magnificent_Seven property:film_editor ?k . ?k rdf:type ontology:common_name }',\n",
       "  'our_answer': {'Q3107382', 'Q3135269', 'Q8006'},\n",
       "  'our_query': 'SELECT ?value ?valueLabel WHERE { wd:Q19069 wdt:P1877 ?value . SERVICE wikibase:label { bd:serviceParam wikibase:language \"en\". } }'},\n",
       " {'question': 'What was organized by - ?',\n",
       "  'entity_id': 'Q1065',\n",
       "  'answer': {'Q339544'},\n",
       "  'truth_query': 'SELECT DISTINCT ?j WHERE { ?j property:organizer resource:United_Nations . ?j rdf:type ontology:world_day }',\n",
       "  'our_answer': {'Q311440'},\n",
       "  'our_query': 'SELECT ?value ?valueLabel WHERE { wd:Q1065 wdt:P488 ?value . SERVICE wikibase:label { bd:serviceParam wikibase:language \"en\". } }'},\n",
       " {'question': 'Who have - as a child ?',\n",
       "  'entity_id': 'Q1124',\n",
       "  'answer': {'Q4112334', 'Q4112404', 'Q4112619'},\n",
       "  'truth_query': 'SELECT DISTINCT ?w WHERE { ?w property:child resource:Bill_Clinton . ?w rdf:type ontology:common_name }',\n",
       "  'our_answer': {'Q229671'},\n",
       "  'our_query': 'SELECT ?value ?valueLabel WHERE { wd:Q1124 wdt:P40 ?value . SERVICE wikibase:label { bd:serviceParam wikibase:language \"en\". } }'},\n",
       " {'question': 'What situation did - die in ?',\n",
       "  'entity_id': 'Q725374',\n",
       "  'answer': {'Q3739104'},\n",
       "  'truth_query': 'SELECT DISTINCT ?y WHERE { resource:Nicol_Williamson property:manner_of_death ?y . ?y rdf:type ontology:cause_of_death }',\n",
       "  'our_answer': {'2011-12-16T00:00:00Z'},\n",
       "  'our_query': 'SELECT ?value ?valueLabel WHERE { wd:Q725374 wdt:P570 ?value . SERVICE wikibase:label { bd:serviceParam wikibase:language \"en\". } }'},\n",
       " {'question': 'Which works of art stars - as actor ?',\n",
       "  'entity_id': 'Q725374',\n",
       "  'answer': {'Q1196706', 'Q1474393', 'Q1737987'},\n",
       "  'truth_query': 'SELECT DISTINCT ?v WHERE { ?v property:cast_member resource:Nicol_Williamson . ?v rdf:type ontology:work_of_art }',\n",
       "  'our_answer': {'9607'},\n",
       "  'our_query': 'SELECT ?value ?valueLabel WHERE { wd:Q725374 wdt:P2626 ?value . SERVICE wikibase:label { bd:serviceParam wikibase:language \"en\". } }'},\n",
       " {'question': 'Which business enterprises have procured license for broadcasting to - ?',\n",
       "  'entity_id': 'Q47164',\n",
       "  'answer': {'Q588294', 'Q6325955'},\n",
       "  'truth_query': 'SELECT DISTINCT ?j WHERE { ?j property:licensed_to_broadcast_to resource:Santa_Monica . ?j rdf:type ontology:business_enterprise }',\n",
       "  'our_answer': {'1886-11-30T00:00:00Z'},\n",
       "  'our_query': 'SELECT ?value ?valueLabel WHERE { wd:Q47164 wdt:P10786 ?value . SERVICE wikibase:label { bd:serviceParam wikibase:language \"en\". } }'},\n",
       " {'question': 'Who are the heads of the government of - ?',\n",
       "  'entity_id': 'Q30',\n",
       "  'answer': {'Q22686', 'Q76', 'Q9916'},\n",
       "  'truth_query': 'SELECT DISTINCT ?d WHERE { resource:United_States_of_America property:head_of_government ?d . ?d rdf:type ontology:common_name }',\n",
       "  'our_answer': {'Q11696'},\n",
       "  'our_query': 'SELECT ?value ?valueLabel WHERE { wd:Q30 wdt:P1313 ?value . SERVICE wikibase:label { bd:serviceParam wikibase:language \"en\". } }'},\n",
       " {'question': 'Which geographic location is - a part of ?',\n",
       "  'entity_id': 'Q306096',\n",
       "  'answer': {'Q44497'},\n",
       "  'truth_query': 'SELECT DISTINCT ?l WHERE { resource:Dismantling_production property:part_of ?l . ?l rdf:type ontology:geographic_location }',\n",
       "  'our_answer': {'Q1945600'},\n",
       "  'our_query': 'SELECT ?value ?valueLabel WHERE { wd:Q306096 wdt:P361 ?value . SERVICE wikibase:label { bd:serviceParam wikibase:language \"en\". } }'},\n",
       " {'question': 'Which collectable demonstrates - ?',\n",
       "  'entity_id': 'Q1069',\n",
       "  'answer': {'Q22677990'},\n",
       "  'truth_query': 'SELECT DISTINCT ?r WHERE { ?r property:depicts resource:geology . ?r rdf:type ontology:collectable }',\n",
       "  'our_answer': {'Mapa%20litol%C3%B3gico%20de%20Genicera.png'},\n",
       "  'our_query': 'SELECT ?value ?valueLabel WHERE { wd:Q1069 wdt:P18 ?value . SERVICE wikibase:label { bd:serviceParam wikibase:language \"en\". } }'},\n",
       " {'question': 'What is the ethnicity of - ?',\n",
       "  'entity_id': 'Q17285314',\n",
       "  'answer': {'Q190168'},\n",
       "  'truth_query': 'SELECT DISTINCT ?k WHERE { resource:Lilian_Bach property:ethnic_group ?k . ?k rdf:type ontology:people }',\n",
       "  'our_answer': {'Lilian Bola Bach'},\n",
       "  'our_query': 'SELECT ?value ?valueLabel WHERE { wd:Q17285314 wdt:P1559 ?value . SERVICE wikibase:label { bd:serviceParam wikibase:language \"en\". } }'},\n",
       " {'question': 'Where was - born ?',\n",
       "  'entity_id': 'Q1069522',\n",
       "  'answer': {'Q13678'},\n",
       "  'truth_query': 'SELECT DISTINCT ?l WHERE { resource:Marco_Ingrao property:place_of_birth ?l . ?l rdf:type ontology:administrative_territorial_entity }',\n",
       "  'our_answer': {'1982-07-26T00:00:00Z'},\n",
       "  'our_query': 'SELECT ?value ?valueLabel WHERE { wd:Q1069522 wdt:P569 ?value . SERVICE wikibase:label { bd:serviceParam wikibase:language \"en\". } }'},\n",
       " {'question': 'What is located in - ?',\n",
       "  'entity_id': 'Q31',\n",
       "  'answer': {'Q1808482'},\n",
       "  'truth_query': 'SELECT DISTINCT ?l WHERE { ?l property:located_on_terrain_feature resource:Belgium . ?l rdf:type ontology:concept }',\n",
       "  'our_answer': {'Q1693'},\n",
       "  'our_query': 'SELECT ?value ?valueLabel WHERE { wd:Q31 wdt:P206 ?value . SERVICE wikibase:label { bd:serviceParam wikibase:language \"en\". } }'},\n",
       " {'question': 'Who is - a distributor of ?',\n",
       "  'entity_id': 'Q31',\n",
       "  'answer': {'Q21998615'},\n",
       "  'truth_query': 'SELECT DISTINCT ?w WHERE { ?w property:distributor resource:Belgium . ?w rdf:type ontology:work_of_art }',\n",
       "  'our_answer': {'Q2697443', 'Q3052500'},\n",
       "  'our_query': 'SELECT ?value ?valueLabel WHERE { wd:Q31 wdt:P1830 ?value . SERVICE wikibase:label { bd:serviceParam wikibase:language \"en\". } }'},\n",
       " {'question': 'Who play for - ?',\n",
       "  'entity_id': 'Q31',\n",
       "  'answer': {'Q1032681', 'Q2414724', 'Q293206'},\n",
       "  'truth_query': 'SELECT DISTINCT ?g WHERE { ?g property:country_for_sport resource:Belgium . ?g rdf:type ontology:common_name }',\n",
       "  'our_answer': {'6192'},\n",
       "  'our_query': 'SELECT ?value ?valueLabel WHERE { wd:Q31 wdt:P9122 ?value . SERVICE wikibase:label { bd:serviceParam wikibase:language \"en\". } }'},\n",
       " {'question': 'Which administrative territories are present in - ?',\n",
       "  'entity_id': 'Q31',\n",
       "  'answer': {'Q12892', 'Q239', 'Q81046'},\n",
       "  'truth_query': 'SELECT DISTINCT ?x WHERE { ?x rdf:type ontology:administrative_territorial_entity . ?x property:country resource:Belgium }',\n",
       "  'our_answer': {'Q231', 'Q240', 'Q89959', 'Q90027', 'Q9331', 'Q9337'},\n",
       "  'our_query': 'SELECT ?value ?valueLabel WHERE { wd:Q31 wdt:P150 ?value . SERVICE wikibase:label { bd:serviceParam wikibase:language \"en\". } }'},\n",
       " {'question': 'What the name that - is known by ?',\n",
       "  'entity_id': 'Q1401783',\n",
       "  'answer': {'Q19902094'},\n",
       "  'truth_query': 'SELECT DISTINCT ?v WHERE { resource:Romel_Beck property:given_name ?v . ?v rdf:type ontology:name }',\n",
       "  'our_answer': {'BEC-ROM-82'},\n",
       "  'our_query': 'SELECT ?value ?valueLabel WHERE { wd:Q1401783 wdt:P5476 ?value . SERVICE wikibase:label { bd:serviceParam wikibase:language \"en\". } }'},\n",
       " {'question': 'Where was - born ?',\n",
       "  'entity_id': 'Q24877298',\n",
       "  'answer': {'Q888865'},\n",
       "  'truth_query': 'SELECT DISTINCT ?s WHERE { resource:Antonín_Straka property:place_of_birth ?s . ?s rdf:type ontology:human_settlement }',\n",
       "  'our_answer': {'1834-03-27T00:00:00Z'},\n",
       "  'our_query': 'SELECT ?value ?valueLabel WHERE { wd:Q24877298 wdt:P569 ?value . SERVICE wikibase:label { bd:serviceParam wikibase:language \"en\". } }'},\n",
       " {'question': 'Who died in - ?',\n",
       "  'entity_id': 'Q408',\n",
       "  'answer': {'Q1668674', 'Q4933465', 'Q7182237'},\n",
       "  'truth_query': 'SELECT DISTINCT ?h WHERE { ?h property:place_of_death resource:Australia . ?h rdf:type ontology:common_name }',\n",
       "  'our_answer': {'Q8365370'},\n",
       "  'our_query': 'SELECT ?value ?valueLabel WHERE { wd:Q408 wdt:P1465 ?value . SERVICE wikibase:label { bd:serviceParam wikibase:language \"en\". } }'},\n",
       " {'question': 'Which works of art have their narrative set in - ?',\n",
       "  'entity_id': 'Q1085',\n",
       "  'answer': {'Q1122571', 'Q151904', 'Q1741232'},\n",
       "  'truth_query': 'SELECT DISTINCT ?h WHERE { ?h rdf:type ontology:work_of_art . ?h property:narrative_location resource:Prague }',\n",
       "  'our_answer': {'Q28462158'},\n",
       "  'our_query': 'SELECT ?value ?valueLabel WHERE { wd:Q1085 wdt:P1740 ?value . SERVICE wikibase:label { bd:serviceParam wikibase:language \"en\". } }'},\n",
       " {'question': 'Which occupation was a position held by - ?',\n",
       "  'entity_id': 'Q15921913',\n",
       "  'answer': {'Q18558478'},\n",
       "  'truth_query': 'SELECT DISTINCT ?u WHERE { ?u rdf:type ontology:occupation . resource:Giovanni_Carbonella property:position_held ?u }',\n",
       "  'our_answer': {'Q82955'},\n",
       "  'our_query': 'SELECT ?value ?valueLabel WHERE { wd:Q15921913 wdt:P106 ?value . SERVICE wikibase:label { bd:serviceParam wikibase:language \"en\". } }'},\n",
       " {'question': 'Which organization is the tomb of - ?',\n",
       "  'entity_id': 'Q1708602',\n",
       "  'answer': {'Q239043'},\n",
       "  'truth_query': 'SELECT DISTINCT ?h WHERE { resource:Joshua_Sands property:place_of_burial ?h . ?h rdf:type ontology:organization }',\n",
       "  'our_answer': {'3920'},\n",
       "  'our_query': 'SELECT ?value ?valueLabel WHERE { wd:Q1708602 wdt:P535 ?value . SERVICE wikibase:label { bd:serviceParam wikibase:language \"en\". } }'},\n",
       " {'question': 'Which administrative territory is - present in ?',\n",
       "  'entity_id': 'Q655842',\n",
       "  'answer': {'Q142'},\n",
       "  'truth_query': 'SELECT DISTINCT ?u WHERE { resource:Étoile-Saint-Cyrice property:country ?u . ?u rdf:type ontology:designation_for_an_administrative_territorial_entity }',\n",
       "  'our_answer': {'Q1726598', 'Q3125', 'Q701227'},\n",
       "  'our_query': 'SELECT ?value ?valueLabel WHERE { wd:Q655842 wdt:P131 ?value . SERVICE wikibase:label { bd:serviceParam wikibase:language \"en\". } }'},\n",
       " {'question': 'Which software published - ?',\n",
       "  'entity_id': 'Q83524',\n",
       "  'answer': {'Q200491'},\n",
       "  'truth_query': 'SELECT DISTINCT ?v WHERE { resource:Family_Guy:_Back_to_the_Multiverse property:publisher ?v . ?v rdf:type ontology:software }',\n",
       "  'our_answer': {'2012-11-20T00:00:00Z'},\n",
       "  'our_query': 'SELECT ?value ?valueLabel WHERE { wd:Q83524 wdt:P577 ?value . SERVICE wikibase:label { bd:serviceParam wikibase:language \"en\". } }'},\n",
       " {'question': 'Which chemical substance was found at - ?',\n",
       "  'entity_id': 'Q84',\n",
       "  'answer': {'Q877'},\n",
       "  'truth_query': 'SELECT DISTINCT ?n WHERE { ?n property:location_of_discovery resource:London . ?n rdf:type ontology:chemical_substance }',\n",
       "  'our_answer': {'4000000074813508'},\n",
       "  'our_query': 'SELECT ?value ?valueLabel WHERE { wd:Q84 wdt:P3120 ?value . SERVICE wikibase:label { bd:serviceParam wikibase:language \"en\". } }'},\n",
       " {'question': 'Which aerodrome serves the place named - ?',\n",
       "  'entity_id': 'Q84',\n",
       "  'answer': {'Q1431914'},\n",
       "  'truth_query': 'SELECT DISTINCT ?p WHERE { ?p rdf:type ontology:aerodrome . ?p property:place_served_by_airport resource:London }',\n",
       "  'our_answer': {'LON'},\n",
       "  'our_query': 'SELECT ?value ?valueLabel WHERE { wd:Q84 wdt:P238 ?value . SERVICE wikibase:label { bd:serviceParam wikibase:language \"en\". } }'},\n",
       " {'question': 'Who was the director of - ?',\n",
       "  'entity_id': 'Q3790767',\n",
       "  'answer': {'Q1343809'},\n",
       "  'truth_query': 'SELECT DISTINCT ?y WHERE { ?y rdf:type ontology:common_name . resource:The_Two_Sergeants property:director ?y }',\n",
       "  'our_answer': {'Q1041877', 'Q326376'},\n",
       "  'our_query': 'SELECT ?value ?valueLabel WHERE { wd:Q3790767 wdt:P58 ?value . SERVICE wikibase:label { bd:serviceParam wikibase:language \"en\". } }'},\n",
       " {'question': 'Which occupation was a position for which - was appointed ?',\n",
       "  'entity_id': 'Q18692986',\n",
       "  'answer': {'Q18171345'},\n",
       "  'truth_query': 'SELECT DISTINCT ?d WHERE { resource:José_Luis_Illanes_del_Río property:position_held ?d . ?d rdf:type ontology:occupation }',\n",
       "  'our_answer': {'Q40348', 'Q82955'},\n",
       "  'our_query': 'SELECT ?value ?valueLabel WHERE { wd:Q18692986 wdt:P106 ?value . SERVICE wikibase:label { bd:serviceParam wikibase:language \"en\". } }'},\n",
       " {'question': 'Which class is - situated on ?',\n",
       "  'entity_id': 'Q29',\n",
       "  'answer': {'Q2'},\n",
       "  'truth_query': 'SELECT DISTINCT ?l WHERE { resource:Spain property:located_on_astronomical_body ?l . ?l rdf:type ontology:class }',\n",
       "  'our_answer': {'Q10742', 'Q162620', 'Q16532593', 'Q2074737'},\n",
       "  'our_query': 'SELECT ?value ?valueLabel WHERE { wd:Q29 wdt:P2670 ?value . SERVICE wikibase:label { bd:serviceParam wikibase:language \"en\". } }'},\n",
       " {'question': 'Who did the compostion for - ?',\n",
       "  'entity_id': 'Q869862',\n",
       "  'answer': {'Q920963'},\n",
       "  'truth_query': 'SELECT DISTINCT ?d WHERE { resource:Goal! property:composer ?d . ?d rdf:type ontology:common_name }',\n",
       "  'our_answer': {'Q145', 'Q30'},\n",
       "  'our_query': 'SELECT ?value ?valueLabel WHERE { wd:Q869862 wdt:P495 ?value . SERVICE wikibase:label { bd:serviceParam wikibase:language \"en\". } }'},\n",
       " {'question': 'Which parts are the components of - ?',\n",
       "  'entity_id': 'Q415364',\n",
       "  'answer': {'Q14349455', 'Q40260', 'Q79899'},\n",
       "  'truth_query': 'SELECT DISTINCT ?a WHERE { resource:Prostaglandin_G/H_synthase_2 property:cell_component ?a . ?a rdf:type ontology:part }',\n",
       "  'our_answer': {'Q1051872',\n",
       "   'Q14329032',\n",
       "   'Q14349455',\n",
       "   'Q14349519',\n",
       "   'Q14633848',\n",
       "   'Q14645640',\n",
       "   'Q14878067',\n",
       "   'Q22325163',\n",
       "   'Q79899',\n",
       "   'Q79927'},\n",
       "  'our_query': 'SELECT ?value ?valueLabel WHERE { wd:Q415364 wdt:P681 ?value . SERVICE wikibase:label { bd:serviceParam wikibase:language \"en\". } }'},\n",
       " {'question': 'Who is the creator of - ?',\n",
       "  'entity_id': 'Q541887',\n",
       "  'answer': {'Q318292'},\n",
       "  'truth_query': 'SELECT DISTINCT ?z WHERE { resource:Caged_Heat property:producer ?z . ?z rdf:type ontology:common_name }',\n",
       "  'our_answer': {'Q45909'},\n",
       "  'our_query': 'SELECT ?value ?valueLabel WHERE { wd:Q541887 wdt:P86 ?value . SERVICE wikibase:label { bd:serviceParam wikibase:language \"en\". } }'},\n",
       " {'question': 'Which occupation was a position held by - ?',\n",
       "  'entity_id': 'Q95857',\n",
       "  'answer': {'Q1939555'},\n",
       "  'truth_query': 'SELECT DISTINCT ?r WHERE { resource:Wolfgang_Nešković property:position_held ?r . ?r rdf:type ontology:occupation }',\n",
       "  'our_answer': {'Q16533', 'Q82955'},\n",
       "  'our_query': 'SELECT ?value ?valueLabel WHERE { wd:Q95857 wdt:P106 ?value . SERVICE wikibase:label { bd:serviceParam wikibase:language \"en\". } }'},\n",
       " {'question': 'Which works of art had - as the production house ?',\n",
       "  'entity_id': 'Q142',\n",
       "  'answer': {'Q1407653', 'Q3720922'},\n",
       "  'truth_query': 'SELECT DISTINCT ?u WHERE { ?u property:production_company resource:France . ?u rdf:type ontology:work_of_art }',\n",
       "  'our_answer': {'Q6271005'},\n",
       "  'our_query': 'SELECT ?value ?valueLabel WHERE { wd:Q142 wdt:P1740 ?value . SERVICE wikibase:label { bd:serviceParam wikibase:language \"en\". } }'},\n",
       " {'question': 'Which people have - as the location of death ?',\n",
       "  'entity_id': 'Q1408',\n",
       "  'answer': {'Q215949', 'Q319321', 'Q777234'},\n",
       "  'truth_query': 'SELECT DISTINCT ?h WHERE { ?h property:place_of_death resource:New_Jersey . ?h rdf:type ontology:common_name }',\n",
       "  'our_answer': {'Q8365580'},\n",
       "  'our_query': 'SELECT ?value ?valueLabel WHERE { wd:Q1408 wdt:P1465 ?value . SERVICE wikibase:label { bd:serviceParam wikibase:language \"en\". } }'},\n",
       " {'question': 'Which occupations were the positions occupied by - ?',\n",
       "  'entity_id': 'Q441294',\n",
       "  'answer': {'Q18558478', 'Q27169'},\n",
       "  'truth_query': 'SELECT DISTINCT ?m WHERE { resource:Altiero_Spinelli property:position_held ?m . ?m rdf:type ontology:occupation }',\n",
       "  'our_answer': {'Q36180', 'Q82955'},\n",
       "  'our_query': 'SELECT ?value ?valueLabel WHERE { wd:Q441294 wdt:P106 ?value . SERVICE wikibase:label { bd:serviceParam wikibase:language \"en\". } }'},\n",
       " {'question': 'Which person have - as their work location ?',\n",
       "  'entity_id': 'Q36180',\n",
       "  'answer': {'Q3398852'},\n",
       "  'truth_query': 'SELECT DISTINCT ?b WHERE { ?b property:work_location resource:writer . ?b rdf:type ontology:common_name }',\n",
       "  'our_answer': {'100697'},\n",
       "  'our_query': 'SELECT ?value ?valueLabel WHERE { wd:Q36180 wdt:P1043 ?value . SERVICE wikibase:label { bd:serviceParam wikibase:language \"en\". } }'},\n",
       " {'question': 'Which occupation does - belong to ?',\n",
       "  'entity_id': 'Q36180',\n",
       "  'answer': {'Q1930187'},\n",
       "  'truth_query': 'SELECT DISTINCT ?s WHERE { ?s property:field_of_this_occupation resource:writer . ?s rdf:type ontology:occupation }',\n",
       "  'our_answer': {'100697'},\n",
       "  'our_query': 'SELECT ?value ?valueLabel WHERE { wd:Q36180 wdt:P1043 ?value . SERVICE wikibase:label { bd:serviceParam wikibase:language \"en\". } }'},\n",
       " {'question': 'Which applications were published by - ?',\n",
       "  'entity_id': 'Q216611',\n",
       "  'answer': {'Q54854', 'Q592507', 'Q840167'},\n",
       "  'truth_query': 'SELECT DISTINCT ?r WHERE { ?r property:publisher resource:LucasArts . ?r rdf:type ontology:application }',\n",
       "  'our_answer': {'12108'},\n",
       "  'our_query': 'SELECT ?value ?valueLabel WHERE { wd:Q216611 wdt:P6160 ?value . SERVICE wikibase:label { bd:serviceParam wikibase:language \"en\". } }'},\n",
       " {'question': 'Which occupation was a position occupied by - ?',\n",
       "  'entity_id': 'Q96468',\n",
       "  'answer': {'Q18130478'},\n",
       "  'truth_query': 'SELECT DISTINCT ?w WHERE { resource:Roland_Theis property:position_held ?w . ?w rdf:type ontology:occupation }',\n",
       "  'our_answer': {'Q185351', 'Q40348', 'Q82955'},\n",
       "  'our_query': 'SELECT ?value ?valueLabel WHERE { wd:Q96468 wdt:P106 ?value . SERVICE wikibase:label { bd:serviceParam wikibase:language \"en\". } }'},\n",
       " {'question': 'Where was - born ?',\n",
       "  'entity_id': 'Q69201',\n",
       "  'answer': {'Q169492'},\n",
       "  'truth_query': 'SELECT DISTINCT ?v WHERE { resource:Reinhard_Sorge property:place_of_birth ?v . ?v rdf:type ontology:administrative_territorial_entity }',\n",
       "  'our_answer': {'1892-01-29T00:00:00Z'},\n",
       "  'our_query': 'SELECT ?value ?valueLabel WHERE { wd:Q69201 wdt:P569 ?value . SERVICE wikibase:label { bd:serviceParam wikibase:language \"en\". } }'},\n",
       " {'question': 'What situation did - die in ?',\n",
       "  'entity_id': 'Q3271305',\n",
       "  'answer': {'Q3739104'},\n",
       "  'truth_query': 'SELECT DISTINCT ?j WHERE { ?j rdf:type ontology:cause_of_death . resource:Léon_Rogé property:manner_of_death ?j }',\n",
       "  'our_answer': {'1969-09-12T00:00:00Z'},\n",
       "  'our_query': 'SELECT ?value ?valueLabel WHERE { wd:Q3271305 wdt:P570 ?value . SERVICE wikibase:label { bd:serviceParam wikibase:language \"en\". } }'},\n",
       " {'question': 'Which occupation was a position held by - ?',\n",
       "  'entity_id': 'Q3271305',\n",
       "  'answer': {'Q14828018'},\n",
       "  'truth_query': 'SELECT DISTINCT ?p WHERE { resource:Léon_Rogé property:position_held ?p . ?p rdf:type ontology:occupation }',\n",
       "  'our_answer': {'Q82955'},\n",
       "  'our_query': 'SELECT ?value ?valueLabel WHERE { wd:Q3271305 wdt:P106 ?value . SERVICE wikibase:label { bd:serviceParam wikibase:language \"en\". } }'},\n",
       " {'question': 'Which administrative territory is - a part of ?',\n",
       "  'entity_id': 'Q1011743',\n",
       "  'answer': {'Q145'},\n",
       "  'truth_query': 'SELECT DISTINCT ?c WHERE { resource:Tarbolton property:country ?c . ?c rdf:type ontology:designation_for_an_administrative_territorial_entity }',\n",
       "  'our_answer': {'Q209131'},\n",
       "  'our_query': 'SELECT ?value ?valueLabel WHERE { wd:Q1011743 wdt:P131 ?value . SERVICE wikibase:label { bd:serviceParam wikibase:language \"en\". } }'},\n",
       " {'question': 'Which people have - as his/her ethnicity ?',\n",
       "  'entity_id': 'Q145',\n",
       "  'answer': {'Q515011', 'Q5460575', 'Q5578020'},\n",
       "  'truth_query': 'SELECT DISTINCT ?f WHERE { ?f rdf:type ontology:common_name . ?f property:ethnic_group resource:United_Kingdom }',\n",
       "  'our_answer': {'Q2580491', 'Q3244280', 'Q4115170', 'Q7994501'},\n",
       "  'our_query': 'SELECT ?value ?valueLabel WHERE { wd:Q145 wdt:P172 ?value . SERVICE wikibase:label { bd:serviceParam wikibase:language \"en\". } }'},\n",
       " {'question': 'Where was - elected successfully from ?',\n",
       "  'entity_id': 'Q9626',\n",
       "  'answer': {'Q20648657'},\n",
       "  'truth_query': 'SELECT DISTINCT ?h WHERE { ?h property:successful_candidate resource:Conservative_Party . ?h rdf:type ontology:election }',\n",
       "  'our_answer': {'Q844072'},\n",
       "  'our_query': 'SELECT ?value ?valueLabel WHERE { wd:Q9626 wdt:P1387 ?value . SERVICE wikibase:label { bd:serviceParam wikibase:language \"en\". } }'},\n",
       " {'question': 'Which people have - as a child ?',\n",
       "  'entity_id': 'Q272318',\n",
       "  'answer': {'Q23303626', 'Q23682478'},\n",
       "  'truth_query': 'SELECT DISTINCT ?g WHERE { ?g rdf:type ontology:common_name . ?g property:child resource:Edward_Timpson }',\n",
       "  'our_answer': {'Q105807276'},\n",
       "  'our_query': 'SELECT ?value ?valueLabel WHERE { wd:Q272318 wdt:P3373 ?value . SERVICE wikibase:label { bd:serviceParam wikibase:language \"en\". } }'},\n",
       " {'question': 'Which associations are a part of - ?',\n",
       "  'entity_id': 'Q49768',\n",
       "  'answer': {'Q2207521', 'Q2207545', 'Q2207550'},\n",
       "  'truth_query': 'SELECT DISTINCT ?k WHERE { ?k rdf:type ontology:association . ?k property:part_of resource:Social_Democratic_Party_of_Germany }',\n",
       "  'our_answer': {'379861'},\n",
       "  'our_query': 'SELECT ?value ?valueLabel WHERE { wd:Q49768 wdt:P2124 ?value . SERVICE wikibase:label { bd:serviceParam wikibase:language \"en\". } }'},\n",
       " {'question': 'Which administrative territories are center of administration for - ?',\n",
       "  'entity_id': 'Q183',\n",
       "  'answer': {'Q586', 'Q64'},\n",
       "  'truth_query': 'SELECT DISTINCT ?w WHERE { ?w property:capital_of resource:Germany . ?w rdf:type ontology:administrative_territorial_entity }',\n",
       "  'our_answer': {'Q1005903', 'Q313827'},\n",
       "  'our_query': 'SELECT ?value ?valueLabel WHERE { wd:Q183 wdt:P208 ?value . SERVICE wikibase:label { bd:serviceParam wikibase:language \"en\". } }'},\n",
       " {'question': 'Which person is working for - ?',\n",
       "  'entity_id': 'Q2207550',\n",
       "  'answer': {'Q823939'},\n",
       "  'truth_query': 'SELECT DISTINCT ?x WHERE { ?x property:employer resource:SPD_North_Rhine-Westphalia . ?x rdf:type ontology:common_name }',\n",
       "  'our_answer': {'Q1927597'},\n",
       "  'our_query': 'SELECT ?value ?valueLabel WHERE { wd:Q2207550 wdt:P488 ?value . SERVICE wikibase:label { bd:serviceParam wikibase:language \"en\". } }'},\n",
       " {'question': 'Which health problem afflicts - ?',\n",
       "  'entity_id': 'Q15978631',\n",
       "  'answer': {'Q403463'},\n",
       "  'truth_query': 'SELECT DISTINCT ?w WHERE { ?w rdf:type ontology:health_problem . ?w property:afflicts resource:Homo_sapiens }',\n",
       "  'our_answer': {'65350'},\n",
       "  'our_query': 'SELECT ?value ?valueLabel WHERE { wd:Q15978631 wdt:P6864 ?value . SERVICE wikibase:label { bd:serviceParam wikibase:language \"en\". } }'},\n",
       " {'question': 'Which non-governmental organization was - a member of ?',\n",
       "  'entity_id': 'Q324555',\n",
       "  'answer': {'Q537395'},\n",
       "  'truth_query': 'SELECT DISTINCT ?c WHERE { resource:Konrad_Adenauer_Foundation property:member_of ?c . ?c rdf:type ontology:non-governmental_organization }',\n",
       "  'our_answer': {'Q316603'},\n",
       "  'our_query': 'SELECT ?value ?valueLabel WHERE { wd:Q324555 wdt:P112 ?value . SERVICE wikibase:label { bd:serviceParam wikibase:language \"en\". } }'},\n",
       " {'question': 'Which person has - as a notable work ?',\n",
       "  'entity_id': 'Q937857',\n",
       "  'answer': {'Q23047441'},\n",
       "  'truth_query': 'SELECT DISTINCT ?i WHERE { ?i property:notable_work resource:association_football_player . ?i rdf:type ontology:common_name }',\n",
       "  'our_answer': {'Nl-Voetballer-article.ogg'},\n",
       "  'our_query': 'SELECT ?value ?valueLabel WHERE { wd:Q937857 wdt:P989 ?value . SERVICE wikibase:label { bd:serviceParam wikibase:language \"en\". } }'},\n",
       " {'question': 'Which person works in the domain of - ?',\n",
       "  'entity_id': 'Q937857',\n",
       "  'answer': {'Q2089026'},\n",
       "  'truth_query': 'SELECT DISTINCT ?u WHERE { ?u rdf:type ontology:common_name . ?u property:field_of_work resource:association_football_player }',\n",
       "  'our_answer': {'Q16534667',\n",
       "   'Q2736',\n",
       "   'Q28954',\n",
       "   'Q31930761',\n",
       "   'Q4493605',\n",
       "   'Q478584',\n",
       "   'Q606060',\n",
       "   'Q884250'},\n",
       "  'our_query': 'SELECT ?value ?valueLabel WHERE { wd:Q937857 wdt:P425 ?value . SERVICE wikibase:label { bd:serviceParam wikibase:language \"en\". } }'},\n",
       " {'question': 'Which style does - have ?',\n",
       "  'entity_id': 'Q545358',\n",
       "  'answer': {'Q51619'},\n",
       "  'truth_query': 'SELECT DISTINCT ?s WHERE { resource:Zoltán_Meszlényi property:canonization_status ?s . ?s rdf:type ontology:style }',\n",
       "  'our_answer': {'Meszlenyi3.jpg'},\n",
       "  'our_query': 'SELECT ?value ?valueLabel WHERE { wd:Q545358 wdt:P18 ?value . SERVICE wikibase:label { bd:serviceParam wikibase:language \"en\". } }'},\n",
       " {'question': 'Which person wrote the lyrics of - ?',\n",
       "  'entity_id': 'Q187',\n",
       "  'answer': {'Q721738'},\n",
       "  'truth_query': 'SELECT DISTINCT ?e WHERE { resource:Il_Canto_degli_Italiani property:lyrics_by ?e . ?e rdf:type ontology:common_name }',\n",
       "  'our_answer': {'Q1407455'},\n",
       "  'our_query': 'SELECT ?value ?valueLabel WHERE { wd:Q187 wdt:P86 ?value . SERVICE wikibase:label { bd:serviceParam wikibase:language \"en\". } }'},\n",
       " {'question': 'Which political territory was - born at ?',\n",
       "  'entity_id': 'Q5219174',\n",
       "  'answer': {'Q640384'},\n",
       "  'truth_query': 'SELECT DISTINCT ?c WHERE { resource:Daniel_da_Costa_Franco property:place_of_birth ?c . ?c rdf:type ontology:political_territorial_entity }',\n",
       "  'our_answer': {'1971-08-26T00:00:00Z'},\n",
       "  'our_query': 'SELECT ?value ?valueLabel WHERE { wd:Q5219174 wdt:P569 ?value . SERVICE wikibase:label { bd:serviceParam wikibase:language \"en\". } }'},\n",
       " {'question': 'Where is - located ?',\n",
       "  'entity_id': 'Q423',\n",
       "  'answer': {'Q48'},\n",
       "  'truth_query': 'SELECT DISTINCT ?t WHERE { resource:North_Korea property:continent ?t . ?t rdf:type ontology:geographic_location }',\n",
       "  'our_answer': {'Q27092', 'Q37960'},\n",
       "  'our_query': 'SELECT ?value ?valueLabel WHERE { wd:Q423 wdt:P206 ?value . SERVICE wikibase:label { bd:serviceParam wikibase:language \"en\". } }'},\n",
       " {'question': 'Which social group has the principal seat at - ?',\n",
       "  'entity_id': 'Q48',\n",
       "  'answer': {'Q3772715'},\n",
       "  'truth_query': 'SELECT DISTINCT ?p WHERE { ?p property:headquarters_location resource:Asia . ?p rdf:type ontology:social_group }',\n",
       "  'our_answer': {'Q8042599'},\n",
       "  'our_query': 'SELECT ?value ?valueLabel WHERE { wd:Q48 wdt:P1464 ?value . SERVICE wikibase:label { bd:serviceParam wikibase:language \"en\". } }'},\n",
       " {'question': 'Which person has specialisation in - ?',\n",
       "  'entity_id': 'Q48',\n",
       "  'answer': {'Q4181293'},\n",
       "  'truth_query': 'SELECT DISTINCT ?w WHERE { ?w property:field_of_work resource:Asia . ?w rdf:type ontology:common_name }',\n",
       "  'our_answer': {'Q476294', 'Q4806809'},\n",
       "  'our_query': 'SELECT ?value ?valueLabel WHERE { wd:Q48 wdt:P2579 ?value . SERVICE wikibase:label { bd:serviceParam wikibase:language \"en\". } }'},\n",
       " {'question': 'Which person has - as a child ?',\n",
       "  'entity_id': 'Q1461364',\n",
       "  'answer': {'Q57479'},\n",
       "  'truth_query': 'SELECT DISTINCT ?m WHERE { ?m property:child resource:Friedrich_Opel . ?m rdf:type ontology:common_name }',\n",
       "  'our_answer': {'Friedrich Franz Opel'},\n",
       "  'our_query': 'SELECT ?value ?valueLabel WHERE { wd:Q1461364 wdt:P1477 ?value . SERVICE wikibase:label { bd:serviceParam wikibase:language \"en\". } }'},\n",
       " {'question': 'Where did the demise of - occur ?',\n",
       "  'entity_id': 'Q6388523',\n",
       "  'answer': {'Q171866'},\n",
       "  'truth_query': 'SELECT DISTINCT ?k WHERE { resource:Ken_Solan property:place_of_death ?k . ?k rdf:type ontology:administrative_territorial_entity }',\n",
       "  'our_answer': {'1971-11-23T00:00:00Z'},\n",
       "  'our_query': 'SELECT ?value ?valueLabel WHERE { wd:Q6388523 wdt:P570 ?value . SERVICE wikibase:label { bd:serviceParam wikibase:language \"en\". } }'},\n",
       " {'question': 'Who works for - ?',\n",
       "  'entity_id': 'Q30',\n",
       "  'answer': {'Q231417'},\n",
       "  'truth_query': 'SELECT DISTINCT ?l WHERE { ?l property:employer resource:United_States_of_America . ?l rdf:type ontology:common_name }',\n",
       "  'our_answer': {'6.7'},\n",
       "  'our_query': 'SELECT ?value ?valueLabel WHERE { wd:Q30 wdt:P1198 ?value . SERVICE wikibase:label { bd:serviceParam wikibase:language \"en\". } }'},\n",
       " {'question': 'Which occupation was a position occupied by - ?',\n",
       "  'entity_id': 'Q5920549',\n",
       "  'answer': {'Q15964890'},\n",
       "  'truth_query': 'SELECT DISTINCT ?t WHERE { resource:Howard_P._Whidden property:position_held ?t . ?t rdf:type ontology:occupation }',\n",
       "  'our_answer': {'Q82955'},\n",
       "  'our_query': 'SELECT ?value ?valueLabel WHERE { wd:Q5920549 wdt:P106 ?value . SERVICE wikibase:label { bd:serviceParam wikibase:language \"en\". } }'},\n",
       " {'question': 'What is associated with - ?',\n",
       "  'entity_id': 'Q172',\n",
       "  'answer': {'Q618036'},\n",
       "  'truth_query': 'SELECT DISTINCT ?x WHERE { resource:Toronto property:flag ?x . ?x rdf:type ontology:flag }',\n",
       "  'our_answer': {'Q6452577'},\n",
       "  'our_query': 'SELECT ?value ?valueLabel WHERE { wd:Q172 wdt:P1792 ?value . SERVICE wikibase:label { bd:serviceParam wikibase:language \"en\". } }'},\n",
       " {'question': 'Where did the expiration of - occur ?',\n",
       "  'entity_id': 'Q551695',\n",
       "  'answer': {'Q641'},\n",
       "  'truth_query': 'SELECT DISTINCT ?q WHERE { resource:Domenico_Fetti property:place_of_death ?q . ?q rdf:type ontology:administrative_territorial_entity }',\n",
       "  'our_answer': {'1623-04-16T00:00:00Z', '1624-01-01T00:00:00Z'},\n",
       "  'our_query': 'SELECT ?value ?valueLabel WHERE { wd:Q551695 wdt:P570 ?value . SERVICE wikibase:label { bd:serviceParam wikibase:language \"en\". } }'},\n",
       " {'question': 'What is located at - ?',\n",
       "  'entity_id': 'Q641',\n",
       "  'answer': {'Q3404235'},\n",
       "  'truth_query': 'SELECT DISTINCT ?q WHERE { ?q property:location resource:Venice . ?q rdf:type ontology:family }',\n",
       "  'our_answer': {'Q13924', 'Q76925'},\n",
       "  'our_query': 'SELECT ?value ?valueLabel WHERE { wd:Q641 wdt:P206 ?value . SERVICE wikibase:label { bd:serviceParam wikibase:language \"en\". } }'},\n",
       " {'question': 'Which people have - as work location ?',\n",
       "  'entity_id': 'Q183',\n",
       "  'answer': {'Q325922', 'Q442048', 'Q698102'},\n",
       "  'truth_query': 'SELECT DISTINCT ?k WHERE { ?k rdf:type ontology:common_name . ?k property:work_location resource:Germany }',\n",
       "  'our_answer': {'6.1'},\n",
       "  'our_query': 'SELECT ?value ?valueLabel WHERE { wd:Q183 wdt:P1198 ?value . SERVICE wikibase:label { bd:serviceParam wikibase:language \"en\". } }'},\n",
       " {'question': 'Who is - a distributor of ?',\n",
       "  'entity_id': 'Q17',\n",
       "  'answer': {'Q1975690'},\n",
       "  'truth_query': 'SELECT DISTINCT ?g WHERE { ?g property:distributor resource:Japan . ?g rdf:type ontology:application }',\n",
       "  'our_answer': {'450-459', '490-499'},\n",
       "  'our_query': 'SELECT ?value ?valueLabel WHERE { wd:Q17 wdt:P3067 ?value . SERVICE wikibase:label { bd:serviceParam wikibase:language \"en\". } }'},\n",
       " {'question': 'Which sporting event did - participate in ?',\n",
       "  'entity_id': 'Q1491425',\n",
       "  'answer': {'Q4000211'},\n",
       "  'truth_query': 'SELECT DISTINCT ?l WHERE { ?l rdf:type ontology:sporting_event . resource:Li_Kongzheng property:participant_of ?l }',\n",
       "  'our_answer': {'Q7735'},\n",
       "  'our_query': 'SELECT ?value ?valueLabel WHERE { wd:Q1491425 wdt:P641 ?value . SERVICE wikibase:label { bd:serviceParam wikibase:language \"en\". } }'},\n",
       " {'question': 'Where is - preserved in ?',\n",
       "  'entity_id': 'Q24039979',\n",
       "  'answer': {'Q768717'},\n",
       "  'truth_query': 'SELECT DISTINCT ?u WHERE { resource:Figures_on_a_Venetian_Canal property:collection ?u . ?u rdf:type ontology:group_of_objects }',\n",
       "  'our_answer': {'ff5e68c2050a9a9863b6e1a1fb3546ff'},\n",
       "  'our_query': 'SELECT ?value ?valueLabel WHERE { wd:Q24039979 wdt:P195 ?value . SERVICE wikibase:label { bd:serviceParam wikibase:language \"en\". } }'},\n",
       " {'question': 'Which people expired at - ?',\n",
       "  'entity_id': 'Q55416',\n",
       "  'answer': {'Q27093430', 'Q3105074', 'Q737321'},\n",
       "  'truth_query': 'SELECT DISTINCT ?j WHERE { ?j rdf:type ontology:common_name . ?j property:place_of_death resource:Chioggia }',\n",
       "  'our_answer': {'Q9218045'},\n",
       "  'our_query': 'SELECT ?value ?valueLabel WHERE { wd:Q55416 wdt:P1465 ?value . SERVICE wikibase:label { bd:serviceParam wikibase:language \"en\". } }'},\n",
       " {'question': 'Who starred in - ?',\n",
       "  'entity_id': 'Q2062287',\n",
       "  'answer': {'Q11422725', 'Q3813232'},\n",
       "  'truth_query': 'SELECT DISTINCT ?a WHERE { ?a rdf:type ontology:common_name . resource:Suzaku property:cast_member ?a }',\n",
       "  'our_answer': {'Q271247'},\n",
       "  'our_query': 'SELECT ?value ?valueLabel WHERE { wd:Q2062287 wdt:P58 ?value . SERVICE wikibase:label { bd:serviceParam wikibase:language \"en\". } }'},\n",
       " {'question': 'What situation did - die in ?',\n",
       "  'entity_id': 'Q1348193',\n",
       "  'answer': {'Q10737'},\n",
       "  'truth_query': 'SELECT DISTINCT ?g WHERE { ?g rdf:type ontology:activity . resource:Bob_Birch property:manner_of_death ?g }',\n",
       "  'our_answer': {'2012-08-15T00:00:00Z'},\n",
       "  'our_query': 'SELECT ?value ?valueLabel WHERE { wd:Q1348193 wdt:P570 ?value . SERVICE wikibase:label { bd:serviceParam wikibase:language \"en\". } }'},\n",
       " {'question': 'Who is a native of - ?',\n",
       "  'entity_id': 'Q4925623',\n",
       "  'answer': {'Q26921653'},\n",
       "  'truth_query': 'SELECT DISTINCT ?x WHERE { ?x rdf:type ontology:common_name . ?x property:country_of_citizenship resource:Paul }',\n",
       "  'our_answer': {'Paul'},\n",
       "  'our_query': 'SELECT ?value ?valueLabel WHERE { wd:Q4925623 wdt:P1705 ?value . SERVICE wikibase:label { bd:serviceParam wikibase:language \"en\". } }'},\n",
       " {'question': 'Who is associated with the field of occupation - ?',\n",
       "  'entity_id': 'Q81982',\n",
       "  'answer': {'Q5371902'},\n",
       "  'truth_query': 'SELECT DISTINCT ?t WHERE { ?t rdf:type ontology:occupation . resource:harpsichord property:field_of_this_occupation ?t }',\n",
       "  'our_answer': {'6792'},\n",
       "  'our_query': 'SELECT ?value ?valueLabel WHERE { wd:Q81982 wdt:P7033 ?value . SERVICE wikibase:label { bd:serviceParam wikibase:language \"en\". } }'},\n",
       " {'question': 'Which recurring events are located at - ?',\n",
       "  'entity_id': 'Q320454',\n",
       "  'answer': {'Q132664', 'Q46938'},\n",
       "  'truth_query': 'SELECT DISTINCT ?u WHERE { ?u property:location resource:Azteca_Stadium . ?u rdf:type ontology:recurring_event }',\n",
       "  'our_answer': {'Q207766'},\n",
       "  'our_query': 'SELECT ?value ?valueLabel WHERE { wd:Q320454 wdt:P765 ?value . SERVICE wikibase:label { bd:serviceParam wikibase:language \"en\". } }'},\n",
       " {'question': 'Whose national sports teams are - ?',\n",
       "  'entity_id': 'Q21',\n",
       "  'answer': {'Q1342578', 'Q4202306', 'Q47762'},\n",
       "  'truth_query': 'SELECT DISTINCT ?t WHERE { ?t property:country_for_sport resource:England . ?t rdf:type ontology:national_sports_team }',\n",
       "  'our_answer': {'Q145'},\n",
       "  'our_query': 'SELECT ?value ?valueLabel WHERE { wd:Q21 wdt:P17 ?value . SERVICE wikibase:label { bd:serviceParam wikibase:language \"en\". } }'},\n",
       " {'question': 'Which television programs have their setting located at - ?',\n",
       "  'entity_id': 'Q145',\n",
       "  'answer': {'Q16385485', 'Q17039455', 'Q1890400'},\n",
       "  'truth_query': 'SELECT DISTINCT ?a WHERE { ?a property:narrative_location resource:United_Kingdom . ?a rdf:type ontology:television_program }',\n",
       "  'our_answer': {'Q6834520'},\n",
       "  'our_query': 'SELECT ?value ?valueLabel WHERE { wd:Q145 wdt:P1740 ?value . SERVICE wikibase:label { bd:serviceParam wikibase:language \"en\". } }'},\n",
       " {'question': 'Which people are accredited with being the author of the notable work - ?',\n",
       "  'entity_id': 'Q2744',\n",
       "  'answer': {'Q10307893', 'Q437267', 'Q484365'},\n",
       "  'truth_query': 'SELECT DISTINCT ?e WHERE { ?e rdf:type ontology:common_name . ?e property:notable_work resource:The_X-Files }',\n",
       "  'our_answer': {'x-files_the'},\n",
       "  'our_query': 'SELECT ?value ?valueLabel WHERE { wd:Q2744 wdt:P5357 ?value . SERVICE wikibase:label { bd:serviceParam wikibase:language \"en\". } }'},\n",
       " {'question': 'Which tunnels ranges over - ?',\n",
       "  'entity_id': 'Q4929496',\n",
       "  'answer': {'Q4929539', 'Q6518832'},\n",
       "  'truth_query': 'SELECT DISTINCT ?m WHERE { ?m property:crosses resource:Blue_Mountain . ?m rdf:type ontology:tunnel }',\n",
       "  'our_answer': {'Q93332'},\n",
       "  'our_query': 'SELECT ?value ?valueLabel WHERE { wd:Q4929496 wdt:P4552 ?value . SERVICE wikibase:label { bd:serviceParam wikibase:language \"en\". } }'},\n",
       " {'question': 'Which geographic location is namesake of - ?',\n",
       "  'entity_id': 'Q30',\n",
       "  'answer': {'Q828'},\n",
       "  'truth_query': 'SELECT DISTINCT ?q WHERE { ?q rdf:type ontology:geographic_location . resource:United_States_of_America property:named_after ?q }',\n",
       "  'our_answer': {'96683cc9126741d1'},\n",
       "  'our_query': 'SELECT ?value ?valueLabel WHERE { wd:Q30 wdt:P12431 ?value . SERVICE wikibase:label { bd:serviceParam wikibase:language \"en\". } }'},\n",
       " {'question': 'Who was - directed by ?',\n",
       "  'entity_id': 'Q4243397',\n",
       "  'answer': {'Q634875'},\n",
       "  'truth_query': 'SELECT DISTINCT ?p WHERE { ?p rdf:type ontology:common_name . resource:Uncle_Marin,_the_Billionaire property:director ?p }',\n",
       "  'our_answer': {'Q12727795', 'Q18539273', 'Q327477', 'Q500999'},\n",
       "  'our_query': 'SELECT ?value ?valueLabel WHERE { wd:Q4243397 wdt:P58 ?value . SERVICE wikibase:label { bd:serviceParam wikibase:language \"en\". } }'},\n",
       " {'question': 'Which people have - as their heads of government ?',\n",
       "  'entity_id': 'Q145',\n",
       "  'answer': {'Q192', 'Q264766'},\n",
       "  'truth_query': 'SELECT DISTINCT ?u WHERE { ?u rdf:type ontology:common_name . resource:United_Kingdom property:head_of_government ?u }',\n",
       "  'our_answer': {'Q43274'},\n",
       "  'our_query': 'SELECT ?value ?valueLabel WHERE { wd:Q145 wdt:P35 ?value . SERVICE wikibase:label { bd:serviceParam wikibase:language \"en\". } }'},\n",
       " {'question': 'Which part is a component of - ?',\n",
       "  'entity_id': 'Q27476247',\n",
       "  'answer': {'Q14349455'},\n",
       "  'truth_query': 'SELECT DISTINCT ?l WHERE { ?l rdf:type ontology:part . resource:ferrous_iron_efflux_protein_F____SDY_3832 property:cell_component ?l }',\n",
       "  'our_answer': {'Q24744789', 'Q41796747', 'Q41797933', 'Q83165345'},\n",
       "  'our_query': 'SELECT ?value ?valueLabel WHERE { wd:Q27476247 wdt:P361 ?value . SERVICE wikibase:label { bd:serviceParam wikibase:language \"en\". } }'},\n",
       " {'question': 'Which occupations are the professions of - ?',\n",
       "  'entity_id': 'Q131326',\n",
       "  'answer': {'Q1930187', 'Q333634', 'Q42973'},\n",
       "  'truth_query': 'SELECT DISTINCT ?t WHERE { ?t rdf:type ontology:occupation . resource:Eyvind_Johnson property:occupation ?t }',\n",
       "  'our_answer': {'Q1930187', 'Q333634', 'Q36180', 'Q49757', 'Q6625963'},\n",
       "  'our_query': 'SELECT ?value ?valueLabel WHERE { wd:Q131326 wdt:P106 ?value . SERVICE wikibase:label { bd:serviceParam wikibase:language \"en\". } }'},\n",
       " {'question': 'Where did the expiration of - occur ?',\n",
       "  'entity_id': 'Q435014',\n",
       "  'answer': {'Q33518'},\n",
       "  'truth_query': 'SELECT DISTINCT ?x WHERE { resource:Charles_L._Terry property:place_of_death ?x . ?x rdf:type ontology:administrative_territorial_entity }',\n",
       "  'our_answer': {'1970-02-06T00:00:00Z'},\n",
       "  'our_query': 'SELECT ?value ?valueLabel WHERE { wd:Q435014 wdt:P570 ?value . SERVICE wikibase:label { bd:serviceParam wikibase:language \"en\". } }'},\n",
       " {'question': 'Which chemical compound can be obtained naturally in abundance in - ?',\n",
       "  'entity_id': 'Q38',\n",
       "  'answer': {'Q2451851'},\n",
       "  'truth_query': 'SELECT DISTINCT ?l WHERE { ?l property:type_locality resource:Italy . ?l rdf:type ontology:chemical_compound }',\n",
       "  'our_answer': {'italy'},\n",
       "  'our_query': 'SELECT ?value ?valueLabel WHERE { wd:Q38 wdt:P5456 ?value . SERVICE wikibase:label { bd:serviceParam wikibase:language \"en\". } }'},\n",
       " {'question': 'Which works of art were filmed at - ?',\n",
       "  'entity_id': 'Q38',\n",
       "  'answer': {'Q1383269', 'Q15631013', 'Q18602670'},\n",
       "  'truth_query': 'SELECT DISTINCT ?m WHERE { ?m rdf:type ontology:work_of_art . ?m property:filming_location resource:Italy }',\n",
       "  'our_answer': {'Q7140608'},\n",
       "  'our_query': 'SELECT ?value ?valueLabel WHERE { wd:Q38 wdt:P1740 ?value . SERVICE wikibase:label { bd:serviceParam wikibase:language \"en\". } }'},\n",
       " {'question': 'Which collectable was mainly based on - ?',\n",
       "  'entity_id': 'Q38',\n",
       "  'answer': {'Q455305'},\n",
       "  'truth_query': 'SELECT DISTINCT ?u WHERE { ?u property:main_subject resource:Italy . ?u rdf:type ontology:collectable }',\n",
       "  'our_answer': {'Q720060'},\n",
       "  'our_query': 'SELECT ?value ?valueLabel WHERE { wd:Q38 wdt:P8744 ?value . SERVICE wikibase:label { bd:serviceParam wikibase:language \"en\". } }'},\n",
       " {'question': 'Who studied at - ?',\n",
       "  'entity_id': 'Q408',\n",
       "  'answer': {'Q16230664'},\n",
       "  'truth_query': 'SELECT DISTINCT ?v WHERE { ?v property:educated_at resource:Australia . ?v rdf:type ontology:common_name }',\n",
       "  'our_answer': {'Q4825228'},\n",
       "  'our_query': 'SELECT ?value ?valueLabel WHERE { wd:Q408 wdt:P2579 ?value . SERVICE wikibase:label { bd:serviceParam wikibase:language \"en\". } }'},\n",
       " {'question': 'Where did the demise of - occur ?',\n",
       "  'entity_id': 'Q3090114',\n",
       "  'answer': {'Q234728'},\n",
       "  'truth_query': 'SELECT DISTINCT ?g WHERE { resource:Frédéric_Pic property:place_of_death ?g . ?g rdf:type ontology:type_of_french_administrative_division }',\n",
       "  'our_answer': {'1961-06-19T00:00:00Z'},\n",
       "  'our_query': 'SELECT ?value ?valueLabel WHERE { wd:Q3090114 wdt:P570 ?value . SERVICE wikibase:label { bd:serviceParam wikibase:language \"en\". } }'},\n",
       " {'question': 'Which releases have - as their record label ?',\n",
       "  'entity_id': 'Q145',\n",
       "  'answer': {'Q2198408', 'Q6723324', 'Q7655570'},\n",
       "  'truth_query': 'SELECT DISTINCT ?o WHERE { ?o property:record_label resource:United_Kingdom . ?o rdf:type ontology:release }',\n",
       "  'our_answer': {'Q40807'},\n",
       "  'our_query': 'SELECT ?value ?valueLabel WHERE { wd:Q145 wdt:P85 ?value . SERVICE wikibase:label { bd:serviceParam wikibase:language \"en\". } }'},\n",
       " {'question': 'Which business enterprises have license to broadcast to - ?',\n",
       "  'entity_id': 'Q145',\n",
       "  'answer': {'Q191472', 'Q6459992', 'Q7280832'},\n",
       "  'truth_query': 'SELECT DISTINCT ?y WHERE { ?y property:licensed_to_broadcast_to resource:United_Kingdom . ?y rdf:type ontology:business_enterprise }',\n",
       "  'our_answer': {'1453'},\n",
       "  'our_query': 'SELECT ?value ?valueLabel WHERE { wd:Q145 wdt:P5250 ?value . SERVICE wikibase:label { bd:serviceParam wikibase:language \"en\". } }'},\n",
       " {'question': 'What is forename of - ?',\n",
       "  'entity_id': 'Q1782448',\n",
       "  'answer': {'Q4570864'},\n",
       "  'truth_query': 'SELECT DISTINCT ?n WHERE { resource:Børre_Steenslid property:given_name ?n . ?n rdf:type ontology:name }',\n",
       "  'our_answer': {'Q48468230'},\n",
       "  'our_query': 'SELECT ?value ?valueLabel WHERE { wd:Q1782448 wdt:P734 ?value . SERVICE wikibase:label { bd:serviceParam wikibase:language \"en\". } }'},\n",
       " {'question': 'Which are the musical ensembles that originates at - ?',\n",
       "  'entity_id': 'Q31',\n",
       "  'answer': {'Q15880363', 'Q1756181', 'Q2097187'},\n",
       "  'truth_query': 'SELECT DISTINCT ?j WHERE { ?j rdf:type ontology:musical_ensemble . ?j property:location_of_formation resource:Belgium }',\n",
       "  'our_answer': {'1062'},\n",
       "  'our_query': 'SELECT ?value ?valueLabel WHERE { wd:Q31 wdt:P9757 ?value . SERVICE wikibase:label { bd:serviceParam wikibase:language \"en\". } }'},\n",
       " {'question': 'Which classification schemes are - a part of ?',\n",
       "  'entity_id': 'Q1860',\n",
       "  'answer': {'Q1346342', 'Q5329170'},\n",
       "  'truth_query': 'SELECT DISTINCT ?m WHERE { resource:English property:part_of ?m . ?m rdf:type ontology:classification_scheme }',\n",
       "  'our_answer': {'Natural Language\\xa0:: English'},\n",
       "  'our_query': 'SELECT ?value ?valueLabel WHERE { wd:Q1860 wdt:P12468 ?value . SERVICE wikibase:label { bd:serviceParam wikibase:language \"en\". } }'},\n",
       " {'question': 'Which film awards did - receive ?',\n",
       "  'entity_id': 'Q365616',\n",
       "  'answer': {'Q1377752', 'Q1390226', 'Q2463699'},\n",
       "  'truth_query': 'SELECT DISTINCT ?c WHERE { resource:Julio_Médem property:nominated_for ?c . ?c rdf:type ontology:film_award }',\n",
       "  'our_answer': {'Q1390226', 'Q7650000'},\n",
       "  'our_query': 'SELECT ?value ?valueLabel WHERE { wd:Q365616 wdt:P166 ?value . SERVICE wikibase:label { bd:serviceParam wikibase:language \"en\". } }'},\n",
       " {'question': 'Which occupation was a position occupied by - ?',\n",
       "  'entity_id': 'Q3271028',\n",
       "  'answer': {'Q3044918'},\n",
       "  'truth_query': 'SELECT DISTINCT ?t WHERE { resource:Léon_Guillemin property:position_held ?t . ?t rdf:type ontology:occupation }',\n",
       "  'our_answer': {'Q82955'},\n",
       "  'our_query': 'SELECT ?value ?valueLabel WHERE { wd:Q3271028 wdt:P106 ?value . SERVICE wikibase:label { bd:serviceParam wikibase:language \"en\". } }'},\n",
       " {'question': 'Which special field is the genre for - ?',\n",
       "  'entity_id': 'Q119823',\n",
       "  'answer': {'Q5891'},\n",
       "  'truth_query': 'SELECT DISTINCT ?y WHERE { ?y rdf:type ontology:special_field . resource:on_being_and_essence property:genre ?y }',\n",
       "  'our_answer': {'Q34178'},\n",
       "  'our_query': 'SELECT ?value ?valueLabel WHERE { wd:Q119823 wdt:P136 ?value . SERVICE wikibase:label { bd:serviceParam wikibase:language \"en\". } }'},\n",
       " {'question': 'Which social group does - relate to?',\n",
       "  'entity_id': 'Q9438',\n",
       "  'answer': {'Q1841'},\n",
       "  'truth_query': 'SELECT DISTINCT ?e WHERE { resource:Thomas_Aquinas property:religion ?e . ?e rdf:type ontology:social_group }',\n",
       "  'our_answer': {'Q6581097'},\n",
       "  'our_query': 'SELECT ?value ?valueLabel WHERE { wd:Q9438 wdt:P21 ?value . SERVICE wikibase:label { bd:serviceParam wikibase:language \"en\". } }'},\n",
       " {'question': 'What is the record label of - ?',\n",
       "  'entity_id': 'Q1377821',\n",
       "  'answer': {'Q1064327'},\n",
       "  'truth_query': 'SELECT DISTINCT ?l WHERE { ?l rdf:type ontology:division . resource:Shingo_Katori property:record_label ?l }',\n",
       "  'our_answer': {'Q11728013'},\n",
       "  'our_query': 'SELECT ?value ?valueLabel WHERE { wd:Q1377821 wdt:P264 ?value . SERVICE wikibase:label { bd:serviceParam wikibase:language \"en\". } }'},\n",
       " {'question': 'Which taxon belongs to - ?',\n",
       "  'entity_id': 'Q46',\n",
       "  'answer': {'Q4248045'},\n",
       "  'truth_query': 'SELECT DISTINCT ?c WHERE { ?c property:endemic_to resource:Europe . ?c rdf:type ontology:taxon }',\n",
       "  'our_answer': {'Europe'},\n",
       "  'our_query': 'SELECT ?value ?valueLabel WHERE { wd:Q46 wdt:P373 ?value . SERVICE wikibase:label { bd:serviceParam wikibase:language \"en\". } }'},\n",
       " {'question': 'Which television series have their setting located at - ?',\n",
       "  'entity_id': 'Q46',\n",
       "  'answer': {'Q21002587', 'Q7366553'},\n",
       "  'truth_query': 'SELECT DISTINCT ?h WHERE { ?h rdf:type ontology:television_series . ?h property:narrative_location resource:Europe }',\n",
       "  'our_answer': {'Point(-6.0 36.0)'},\n",
       "  'our_query': 'SELECT ?value ?valueLabel WHERE { wd:Q46 wdt:P1333 ?value . SERVICE wikibase:label { bd:serviceParam wikibase:language \"en\". } }'},\n",
       " {'question': 'Who starred in - ?',\n",
       "  'entity_id': 'Q7742442',\n",
       "  'answer': {'Q3430707'},\n",
       "  'truth_query': 'SELECT DISTINCT ?v WHERE { resource:The_Invisible_Avenger property:cast_member ?v . ?v rdf:type ontology:common_name }',\n",
       "  'our_answer': {'Q5536876'},\n",
       "  'our_query': 'SELECT ?value ?valueLabel WHERE { wd:Q7742442 wdt:P58 ?value . SERVICE wikibase:label { bd:serviceParam wikibase:language \"en\". } }'},\n",
       " {'question': 'What has - as thier associated field of occupation ?',\n",
       "  'entity_id': 'Q81982',\n",
       "  'answer': {'Q5371902'},\n",
       "  'truth_query': 'SELECT DISTINCT ?v WHERE { ?v rdf:type ontology:occupation . resource:harpsichord property:field_of_this_occupation ?v }',\n",
       "  'our_answer': {'6792'},\n",
       "  'our_query': 'SELECT ?value ?valueLabel WHERE { wd:Q81982 wdt:P7033 ?value . SERVICE wikibase:label { bd:serviceParam wikibase:language \"en\". } }'},\n",
       " {'question': 'What is considered to be the original language of creation of - ?',\n",
       "  'entity_id': 'Q3986998',\n",
       "  'answer': {'Q21686005'},\n",
       "  'truth_query': 'SELECT DISTINCT ?t WHERE { resource:The_Fast_Set property:original_language_of_work ?t . ?t rdf:type ontology:information }',\n",
       "  'our_answer': {'Q30'},\n",
       "  'our_query': 'SELECT ?value ?valueLabel WHERE { wd:Q3986998 wdt:P495 ?value . SERVICE wikibase:label { bd:serviceParam wikibase:language \"en\". } }'},\n",
       " {'question': 'Who was the director of - ?',\n",
       "  'entity_id': 'Q3986998',\n",
       "  'answer': {'Q454464'},\n",
       "  'truth_query': 'SELECT DISTINCT ?w WHERE { resource:The_Fast_Set property:director ?w . ?w rdf:type ontology:common_name }',\n",
       "  'our_answer': {'Q2975468'},\n",
       "  'our_query': 'SELECT ?value ?valueLabel WHERE { wd:Q3986998 wdt:P58 ?value . SERVICE wikibase:label { bd:serviceParam wikibase:language \"en\". } }'},\n",
       " {'question': 'Which person has - as dad ?',\n",
       "  'entity_id': 'Q454464',\n",
       "  'answer': {'Q394670'},\n",
       "  'truth_query': 'SELECT DISTINCT ?v WHERE { ?v property:father resource:William_C._deMille . ?v rdf:type ontology:common_name }',\n",
       "  'our_answer': {'Q3784910'},\n",
       "  'our_query': 'SELECT ?value ?valueLabel WHERE { wd:Q454464 wdt:P22 ?value . SERVICE wikibase:label { bd:serviceParam wikibase:language \"en\". } }'},\n",
       " {'question': 'Which film genres have been produced by - ?',\n",
       "  'entity_id': 'Q454464',\n",
       "  'answer': {'Q3857083', 'Q3988253'},\n",
       "  'truth_query': 'SELECT DISTINCT ?j WHERE { ?j property:producer resource:William_C._deMille . ?j rdf:type ontology:film_genre }',\n",
       "  'our_answer': {'nm0210352'},\n",
       "  'our_query': 'SELECT ?value ?valueLabel WHERE { wd:Q454464 wdt:P345 ?value . SERVICE wikibase:label { bd:serviceParam wikibase:language \"en\". } }'},\n",
       " {'question': 'Who has the surname - ?',\n",
       "  'entity_id': 'Q17158625',\n",
       "  'answer': {'Q16882518'},\n",
       "  'truth_query': 'SELECT DISTINCT ?w WHERE { resource:Hitomi_Sakai property:family_name ?w . ?w rdf:type ontology:name }',\n",
       "  'our_answer': {'Q26439315'},\n",
       "  'our_query': 'SELECT ?value ?valueLabel WHERE { wd:Q17158625 wdt:P734 ?value . SERVICE wikibase:label { bd:serviceParam wikibase:language \"en\". } }'},\n",
       " {'question': 'Which states have - as their county seat ?',\n",
       "  'entity_id': 'Q270',\n",
       "  'answer': {'Q172107', 'Q207272', 'Q211274'},\n",
       "  'truth_query': 'SELECT DISTINCT ?i WHERE { resource:Warsaw property:capital_of ?i . ?i rdf:type ontology:state }',\n",
       "  'our_answer': {'Q36'},\n",
       "  'our_query': 'SELECT ?value ?valueLabel WHERE { wd:Q270 wdt:P1376 ?value . SERVICE wikibase:label { bd:serviceParam wikibase:language \"en\". } }'},\n",
       " {'question': 'Which administrative country subdivisions are bordered by - ?',\n",
       "  'entity_id': 'Q585',\n",
       "  'answer': {'Q110848', 'Q57076', 'Q57081'},\n",
       "  'truth_query': 'SELECT DISTINCT ?c WHERE { resource:Oslo property:shares_border_with ?c . ?c rdf:type ontology:second-level_administrative_country_subdivision }',\n",
       "  'our_answer': {'Q20', 'Q2616953', 'Q3357343', 'Q50615', 'Q5245991'},\n",
       "  'our_query': 'SELECT ?value ?valueLabel WHERE { wd:Q585 wdt:P1376 ?value . SERVICE wikibase:label { bd:serviceParam wikibase:language \"en\". } }'},\n",
       " {'question': 'Which person directed - ?',\n",
       "  'entity_id': 'Q18151701',\n",
       "  'answer': {'Q377412'},\n",
       "  'truth_query': 'SELECT DISTINCT ?j WHERE { ?j rdf:type ontology:common_name . resource:The_Light_of_Western_Stars property:director ?j }',\n",
       "  'our_answer': {'Q774116'},\n",
       "  'our_query': 'SELECT ?value ?valueLabel WHERE { wd:Q18151701 wdt:P58 ?value . SERVICE wikibase:label { bd:serviceParam wikibase:language \"en\". } }'},\n",
       " {'question': 'Which collectable is - a main subject of ?',\n",
       "  'entity_id': 'Q82955',\n",
       "  'answer': {'Q21601944'},\n",
       "  'truth_query': 'SELECT DISTINCT ?d WHERE { ?d rdf:type ontology:collectable . ?d property:main_subject resource:politician }',\n",
       "  'our_answer': {'Q5753390'},\n",
       "  'our_query': 'SELECT ?value ?valueLabel WHERE { wd:Q82955 wdt:P910 ?value . SERVICE wikibase:label { bd:serviceParam wikibase:language \"en\". } }'},\n",
       " {'question': 'Which literary work is the anthem for - ?',\n",
       "  'entity_id': 'Q408',\n",
       "  'answer': {'Q40807'},\n",
       "  'truth_query': 'SELECT DISTINCT ?w WHERE { resource:Australia property:anthem ?w . ?w rdf:type ontology:literary_work }',\n",
       "  'our_answer': {'Q170601'},\n",
       "  'our_query': 'SELECT ?value ?valueLabel WHERE { wd:Q408 wdt:P85 ?value . SERVICE wikibase:label { bd:serviceParam wikibase:language \"en\". } }'},\n",
       " {'question': 'Which works of art had - as their location of filming ?',\n",
       "  'entity_id': 'Q183',\n",
       "  'answer': {'Q159063', 'Q18407657', 'Q3521099'},\n",
       "  'truth_query': 'SELECT DISTINCT ?v WHERE { ?v rdf:type ontology:work_of_art . ?v property:filming_location resource:Germany }',\n",
       "  'our_answer': {'Q7237249'},\n",
       "  'our_query': 'SELECT ?value ?valueLabel WHERE { wd:Q183 wdt:P1740 ?value . SERVICE wikibase:label { bd:serviceParam wikibase:language \"en\". } }'},\n",
       " {'question': 'Where is - situated ?',\n",
       "  'entity_id': 'Q183',\n",
       "  'answer': {'Q46'},\n",
       "  'truth_query': 'SELECT DISTINCT ?s WHERE { resource:Germany property:continent ?s . ?s rdf:type ontology:geographic_location }',\n",
       "  'our_answer': {'Q1693', 'Q545'},\n",
       "  'our_query': 'SELECT ?value ?valueLabel WHERE { wd:Q183 wdt:P206 ?value . SERVICE wikibase:label { bd:serviceParam wikibase:language \"en\". } }'},\n",
       " {'question': 'Which person authored - ?',\n",
       "  'entity_id': 'Q44042',\n",
       "  'answer': {'Q76938'},\n",
       "  'truth_query': 'SELECT DISTINCT ?d WHERE { resource:Das_Lied_der_Deutschen property:author ?d . ?d rdf:type ontology:common_name }',\n",
       "  'our_answer': {'Q7349'},\n",
       "  'our_query': 'SELECT ?value ?valueLabel WHERE { wd:Q44042 wdt:P86 ?value . SERVICE wikibase:label { bd:serviceParam wikibase:language \"en\". } }'},\n",
       " {'question': 'Which person directed - ?',\n",
       "  'entity_id': 'Q27838702',\n",
       "  'answer': {'Q3568727'},\n",
       "  'truth_query': 'SELECT DISTINCT ?r WHERE { resource:The_Runaround property:director ?r . ?r rdf:type ontology:common_name }',\n",
       "  'our_answer': {'Q367614'},\n",
       "  'our_query': 'SELECT ?value ?valueLabel WHERE { wd:Q27838702 wdt:P344 ?value . SERVICE wikibase:label { bd:serviceParam wikibase:language \"en\". } }'},\n",
       " {'question': 'Which film genre is - a screenwriter of ?',\n",
       "  'entity_id': 'Q3568727',\n",
       "  'answer': {'Q7997413'},\n",
       "  'truth_query': 'SELECT DISTINCT ?i WHERE { ?i property:screenwriter resource:William_James_Craft . ?i rdf:type ontology:film_genre }',\n",
       "  'our_answer': {'p119586'},\n",
       "  'our_query': 'SELECT ?value ?valueLabel WHERE { wd:Q3568727 wdt:P2019 ?value . SERVICE wikibase:label { bd:serviceParam wikibase:language \"en\". } }'},\n",
       " {'question': 'Which people have - as his/her mother tongue ?',\n",
       "  'entity_id': 'Q1860',\n",
       "  'answer': {'Q206112', 'Q6294', 'Q76'},\n",
       "  'truth_query': 'SELECT DISTINCT ?x WHERE { ?x rdf:type ontology:common_name . ?x property:native_language resource:English }',\n",
       "  'our_answer': {'Q178435', 'Q318917', 'Q651641', 'Q7200373', 'Q7888721'},\n",
       "  'our_query': 'SELECT ?value ?valueLabel WHERE { wd:Q1860 wdt:P4132 ?value . SERVICE wikibase:label { bd:serviceParam wikibase:language \"en\". } }'},\n",
       " {'question': 'Which school has an association with the language - ?',\n",
       "  'entity_id': 'Q1860',\n",
       "  'answer': {'Q5142790'},\n",
       "  'truth_query': 'SELECT DISTINCT ?a WHERE { ?a property:language resource:English . ?a rdf:type ontology:school }',\n",
       "  'our_answer': {'305'},\n",
       "  'our_query': 'SELECT ?value ?valueLabel WHERE { wd:Q1860 wdt:P7033 ?value . SERVICE wikibase:label { bd:serviceParam wikibase:language \"en\". } }'},\n",
       " {'question': 'Who notable work were done by - ?',\n",
       "  'entity_id': 'Q313288',\n",
       "  'answer': {'Q1138066', 'Q1545350', 'Q1638891'},\n",
       "  'truth_query': 'SELECT DISTINCT ?y WHERE { resource:Augustus_Pugin property:notable_work ?y . ?y rdf:type ontology:church }',\n",
       "  'our_answer': {'Q62408'},\n",
       "  'our_query': 'SELECT ?value ?valueLabel WHERE { wd:Q313288 wdt:P800 ?value . SERVICE wikibase:label { bd:serviceParam wikibase:language \"en\". } }'},\n",
       " {'question': 'Which work of art has - as its director ?',\n",
       "  'entity_id': 'Q3182315',\n",
       "  'answer': {'Q5261273'},\n",
       "  'truth_query': 'SELECT DISTINCT ?o WHERE { ?o property:director resource:John_Price . ?o rdf:type ontology:work_of_art }',\n",
       "  'our_answer': {'Q12005318', 'Q2345755', 'Q42852129', 'Q889840'},\n",
       "  'our_query': 'SELECT ?value ?valueLabel WHERE { wd:Q3182315 wdt:P166 ?value . SERVICE wikibase:label { bd:serviceParam wikibase:language \"en\". } }'},\n",
       " {'question': 'Which municipalities of Bulgaria have - have their center of administration ?',\n",
       "  'entity_id': 'Q168668',\n",
       "  'answer': {'Q2220850', 'Q2561279'},\n",
       "  'truth_query': 'SELECT DISTINCT ?f WHERE { resource:Dobrich property:capital_of ?f . ?f rdf:type ontology:municipality_of_Bulgaria }',\n",
       "  'our_answer': {'72624', 'DOB28-00'},\n",
       "  'our_query': 'SELECT ?value ?valueLabel WHERE { wd:Q168668 wdt:P3990 ?value . SERVICE wikibase:label { bd:serviceParam wikibase:language \"en\". } }'},\n",
       " {'question': 'Which administrative territories are bordered by - ?',\n",
       "  'entity_id': 'Q13362',\n",
       "  'answer': {'Q95093', 'Q95109', 'Q95142'},\n",
       "  'truth_query': 'SELECT DISTINCT ?g WHERE { ?g rdf:type ontology:administrative_territorial_entity . resource:Ferrara property:shares_border_with ?g }',\n",
       "  'our_answer': {'Q16168', 'Q2886295'},\n",
       "  'our_query': 'SELECT ?value ?valueLabel WHERE { wd:Q13362 wdt:P1376 ?value . SERVICE wikibase:label { bd:serviceParam wikibase:language \"en\". } }'},\n",
       " {'question': 'What originated in - ?',\n",
       "  'entity_id': 'Q46',\n",
       "  'answer': {'Q1625792'},\n",
       "  'truth_query': 'SELECT DISTINCT ?r WHERE { ?r property:country_of_origin resource:Europe . ?r rdf:type ontology:enumeration }',\n",
       "  'our_answer': {'-1200000-01-01T00:00:00Z', '-200000-01-01T00:00:00Z'},\n",
       "  'our_query': 'SELECT ?value ?valueLabel WHERE { wd:Q46 wdt:P575 ?value . SERVICE wikibase:label { bd:serviceParam wikibase:language \"en\". } }'},\n",
       " {'question': 'Which work of art is dedicated to - ?',\n",
       "  'entity_id': 'Q46',\n",
       "  'answer': {'Q18745344'},\n",
       "  'truth_query': 'SELECT DISTINCT ?b WHERE { ?b property:dedicated_to resource:Europe . ?b rdf:type ontology:work_of_art }',\n",
       "  'our_answer': {'Q7237186'},\n",
       "  'our_query': 'SELECT ?value ?valueLabel WHERE { wd:Q46 wdt:P1740 ?value . SERVICE wikibase:label { bd:serviceParam wikibase:language \"en\". } }'},\n",
       " {'question': 'Where did the expiration of - occur ?',\n",
       "  'entity_id': 'Q729533',\n",
       "  'answer': {'Q90'},\n",
       "  'truth_query': 'SELECT DISTINCT ?m WHERE { resource:Valentin_Conrart property:place_of_death ?m . ?m rdf:type ontology:administrative_territorial_entity }',\n",
       "  'our_answer': {'1675-09-23T00:00:00Z'},\n",
       "  'our_query': 'SELECT ?value ?valueLabel WHERE { wd:Q729533 wdt:P570 ?value . SERVICE wikibase:label { bd:serviceParam wikibase:language \"en\". } }'},\n",
       " {'question': 'Which person is accredited with being the author of the notable work - ?',\n",
       "  'entity_id': 'Q43115',\n",
       "  'answer': {'Q22955657'},\n",
       "  'truth_query': 'SELECT DISTINCT ?r WHERE { ?r property:notable_work resource:saint . ?r rdf:type ontology:common_name }',\n",
       "  'our_answer': {'bookslist26'},\n",
       "  'our_query': 'SELECT ?value ?valueLabel WHERE { wd:Q43115 wdt:P4436 ?value . SERVICE wikibase:label { bd:serviceParam wikibase:language \"en\". } }'},\n",
       " {'question': 'What was was - a part of ?',\n",
       "  'entity_id': 'Q430672',\n",
       "  'answer': {'Q12583'},\n",
       "  'truth_query': 'SELECT DISTINCT ?f WHERE { resource:John_Jacob_Astor_IV property:conflict ?f . ?f rdf:type ontology:armed_conflict }',\n",
       "  'our_answer': {'Q29468'},\n",
       "  'our_query': 'SELECT ?value ?valueLabel WHERE { wd:Q430672 wdt:P102 ?value . SERVICE wikibase:label { bd:serviceParam wikibase:language \"en\". } }'},\n",
       " {'question': 'What is the taxonomic rank that - invented ?',\n",
       "  'entity_id': 'Q1388715',\n",
       "  'answer': {'Q1920746'},\n",
       "  'truth_query': 'SELECT DISTINCT ?y WHERE { ?y property:discoverer_or_inventor resource:Henry_de_Lumley . ?y rdf:type ontology:taxonomic_rank }',\n",
       "  'our_answer': {'212410'},\n",
       "  'our_query': 'SELECT ?value ?valueLabel WHERE { wd:Q1388715 wdt:P3987 ?value . SERVICE wikibase:label { bd:serviceParam wikibase:language \"en\". } }'},\n",
       " {'question': 'Which people starred in - ?',\n",
       "  'entity_id': 'Q5582691',\n",
       "  'answer': {'Q1189470', 'Q120533', 'Q271620'},\n",
       "  'truth_query': 'SELECT DISTINCT ?x WHERE { resource:Good_Intentions property:cast_member ?x . ?x rdf:type ontology:common_name }',\n",
       "  'our_answer': {'Q114065736'},\n",
       "  'our_query': 'SELECT ?value ?valueLabel WHERE { wd:Q5582691 wdt:P57 ?value . SERVICE wikibase:label { bd:serviceParam wikibase:language \"en\". } }'},\n",
       " {'question': 'Which texts are composed in - ?',\n",
       "  'entity_id': 'Q397',\n",
       "  'answer': {'Q246732', 'Q343165', 'Q362537'},\n",
       "  'truth_query': 'SELECT DISTINCT ?e WHERE { ?e property:language_of_work_or_name resource:Latin . ?e rdf:type ontology:text }',\n",
       "  'our_answer': {'NI-Latijn-article.ogg'},\n",
       "  'our_query': 'SELECT ?value ?valueLabel WHERE { wd:Q397 wdt:P989 ?value . SERVICE wikibase:label { bd:serviceParam wikibase:language \"en\". } }'},\n",
       " {'question': 'Which people have - as resting place ?',\n",
       "  'entity_id': 'Q18419',\n",
       "  'answer': {'Q20973436', 'Q6143096', 'Q6688054'},\n",
       "  'truth_query': 'SELECT DISTINCT ?l WHERE { ?l property:place_of_burial resource:Brooklyn . ?l rdf:type ontology:common_name }',\n",
       "  'our_answer': {'Q9686108'},\n",
       "  'our_query': 'SELECT ?value ?valueLabel WHERE { wd:Q18419 wdt:P1465 ?value . SERVICE wikibase:label { bd:serviceParam wikibase:language \"en\". } }'},\n",
       " {'question': 'Which activity has - as work location ?',\n",
       "  'entity_id': 'Q30',\n",
       "  'answer': {'Q25931035'},\n",
       "  'truth_query': 'SELECT DISTINCT ?p WHERE { ?p property:work_location resource:United_States_of_America . ?p rdf:type ontology:activity }',\n",
       "  'our_answer': {'Q116780519',\n",
       "   'Q123560817',\n",
       "   'Q1374339',\n",
       "   'Q15987490',\n",
       "   'Q16082057',\n",
       "   'Q19047539',\n",
       "   'Q19077875',\n",
       "   'Q19180675',\n",
       "   'Q20096917',\n",
       "   'Q2041543',\n",
       "   'Q3181656',\n",
       "   'Q4173137',\n",
       "   'Q4532138',\n",
       "   'Q602358',\n",
       "   'Q867541'},\n",
       "  'our_query': 'SELECT ?value ?valueLabel WHERE { wd:Q30 wdt:P1343 ?value . SERVICE wikibase:label { bd:serviceParam wikibase:language \"en\". } }'},\n",
       " {'question': 'Which administrative country subdivision was - born at ?',\n",
       "  'entity_id': 'Q4383999',\n",
       "  'answer': {'Q33292'},\n",
       "  'truth_query': 'SELECT DISTINCT ?y WHERE { resource:Vladislav_Pustovoyt property:place_of_birth ?y . ?y rdf:type ontology:second-level_administrative_country_subdivision }',\n",
       "  'our_answer': {'1936-11-15T00:00:00Z'},\n",
       "  'our_query': 'SELECT ?value ?valueLabel WHERE { wd:Q4383999 wdt:P569 ?value . SERVICE wikibase:label { bd:serviceParam wikibase:language \"en\". } }'},\n",
       " {'question': 'Which administrative territory is - situated in ?',\n",
       "  'entity_id': 'Q33292',\n",
       "  'answer': {'Q212'},\n",
       "  'truth_query': 'SELECT DISTINCT ?e WHERE { resource:Berdiansk property:country ?e . ?e rdf:type ontology:designation_for_an_administrative_territorial_entity }',\n",
       "  'our_answer': {'Q12082004', 'Q171334', 'Q2652770', 'Q4084164'},\n",
       "  'our_query': 'SELECT ?value ?valueLabel WHERE { wd:Q33292 wdt:P131 ?value . SERVICE wikibase:label { bd:serviceParam wikibase:language \"en\". } }'},\n",
       " {'question': 'Which building was approved by - ?',\n",
       "  'entity_id': 'Q49762',\n",
       "  'answer': {'Q1781884'},\n",
       "  'truth_query': 'SELECT DISTINCT ?a WHERE { ?a property:commissioned_by resource:Christian_Democratic_Union . ?a rdf:type ontology:building }',\n",
       "  'our_answer': {'Q1370675'},\n",
       "  'our_query': 'SELECT ?value ?valueLabel WHERE { wd:Q49762 wdt:P159 ?value . SERVICE wikibase:label { bd:serviceParam wikibase:language \"en\". } }'},\n",
       " {'question': 'Whose child are - ?',\n",
       "  'entity_id': 'Q18811283',\n",
       "  'answer': {'Q18817302', 'Q18817305'},\n",
       "  'truth_query': 'SELECT DISTINCT ?a WHERE { ?a property:child resource:Robert_William_Nelson . ?a rdf:type ontology:common_name }',\n",
       "  'our_answer': {'Q18817305'},\n",
       "  'our_query': 'SELECT ?value ?valueLabel WHERE { wd:Q18811283 wdt:P25 ?value . SERVICE wikibase:label { bd:serviceParam wikibase:language \"en\". } }'},\n",
       " {'question': 'Who has - as a father ?',\n",
       "  'entity_id': 'Q18817302',\n",
       "  'answer': {'Q18811283'},\n",
       "  'truth_query': 'SELECT DISTINCT ?f WHERE { ?f property:father resource:Elmer_Nelson . ?f rdf:type ontology:common_name }',\n",
       "  'our_answer': {'Q18817305'},\n",
       "  'our_query': 'SELECT ?value ?valueLabel WHERE { wd:Q18817302 wdt:P26 ?value . SERVICE wikibase:label { bd:serviceParam wikibase:language \"en\". } }'},\n",
       " {'question': 'Who delivered the performance of - ?',\n",
       "  'entity_id': 'Q465442',\n",
       "  'answer': {'Q326075'},\n",
       "  'truth_query': 'SELECT DISTINCT ?a WHERE { ?a property:performer resource:Robert_Guillaume . ?a rdf:type ontology:fictional_character }',\n",
       "  'our_answer': {'Q1723064'},\n",
       "  'our_query': 'SELECT ?value ?valueLabel WHERE { wd:Q465442 wdt:P1411 ?value . SERVICE wikibase:label { bd:serviceParam wikibase:language \"en\". } }'},\n",
       " {'question': 'What international organizations had - as their member ?',\n",
       "  'entity_id': 'Q38',\n",
       "  'answer': {'Q19771', 'Q42262', 'Q81299'},\n",
       "  'truth_query': 'SELECT DISTINCT ?r WHERE { resource:Italy property:member_of ?r . ?r rdf:type ontology:international_organization }',\n",
       "  'our_answer': {'Q3919890'},\n",
       "  'our_query': 'SELECT ?value ?valueLabel WHERE { wd:Q38 wdt:P1792 ?value . SERVICE wikibase:label { bd:serviceParam wikibase:language \"en\". } }'},\n",
       " {'question': 'What event did - particiate in ?',\n",
       "  'entity_id': 'Q545318',\n",
       "  'answer': {'Q18710416'},\n",
       "  'truth_query': 'SELECT DISTINCT ?c WHERE { ?c property:participant resource:Ben_Swift . ?c rdf:type ontology:recurring_sporting_event }',\n",
       "  'our_answer': {'Q103964987',\n",
       "   'Q105130221',\n",
       "   'Q108920739',\n",
       "   'Q110263921',\n",
       "   'Q116203560',\n",
       "   'Q14916000',\n",
       "   'Q14979277',\n",
       "   'Q1780660',\n",
       "   'Q1788011',\n",
       "   'Q20970765',\n",
       "   'Q21029681',\n",
       "   'Q21559636',\n",
       "   'Q21622227',\n",
       "   'Q21821246',\n",
       "   'Q21857932',\n",
       "   'Q219413',\n",
       "   'Q23056287',\n",
       "   'Q27679728',\n",
       "   'Q27915850',\n",
       "   'Q30750603',\n",
       "   'Q33881',\n",
       "   'Q33937',\n",
       "   'Q42204070',\n",
       "   'Q42317185',\n",
       "   'Q44497477',\n",
       "   'Q47517245',\n",
       "   'Q59307576',\n",
       "   'Q60964153',\n",
       "   'Q74842812',\n",
       "   'Q849059',\n",
       "   'Q849092',\n",
       "   'Q8567',\n",
       "   'Q926131',\n",
       "   'Q97367360'},\n",
       "  'our_query': 'SELECT ?value ?valueLabel WHERE { wd:Q545318 wdt:P1344 ?value . SERVICE wikibase:label { bd:serviceParam wikibase:language \"en\". } }'},\n",
       " {'question': 'What are - a main subject of ?',\n",
       "  'entity_id': 'Q1930187',\n",
       "  'answer': {'Q3575602', 'Q622769'},\n",
       "  'truth_query': 'SELECT DISTINCT ?c WHERE { ?c property:main_subject resource:journalist . ?c rdf:type ontology:work_of_art }',\n",
       "  'our_answer': {'Q7076967'},\n",
       "  'our_query': 'SELECT ?value ?valueLabel WHERE { wd:Q1930187 wdt:P910 ?value . SERVICE wikibase:label { bd:serviceParam wikibase:language \"en\". } }'},\n",
       " {'question': 'Where is - located ?',\n",
       "  'entity_id': 'Q21',\n",
       "  'answer': {'Q46'},\n",
       "  'truth_query': 'SELECT DISTINCT ?z WHERE { resource:England property:continent ?z . ?z rdf:type ontology:geographic_location }',\n",
       "  'our_answer': {'Q145'},\n",
       "  'our_query': 'SELECT ?value ?valueLabel WHERE { wd:Q21 wdt:P131 ?value . SERVICE wikibase:label { bd:serviceParam wikibase:language \"en\". } }'},\n",
       " {'question': 'Where is - shown in ?',\n",
       "  'entity_id': 'Q9351',\n",
       "  'answer': {'Q864'},\n",
       "  'truth_query': 'SELECT DISTINCT ?s WHERE { resource:Pikachu property:present_in_work ?s . ?s rdf:type ontology:work }',\n",
       "  'our_answer': {'Q2778220', 'Q47492499', 'Q97138261'},\n",
       "  'our_query': 'SELECT ?value ?valueLabel WHERE { wd:Q9351 wdt:P1441 ?value . SERVICE wikibase:label { bd:serviceParam wikibase:language \"en\". } }'},\n",
       " {'question': 'Who released - ?',\n",
       "  'entity_id': 'Q7766896',\n",
       "  'answer': {'Q4669411'},\n",
       "  'truth_query': 'SELECT DISTINCT ?c WHERE { resource:The_Strange_Case_of_Origami_Yoda property:publisher ?c . ?c rdf:type ontology:organization }',\n",
       "  'our_answer': {'Q30'},\n",
       "  'our_query': 'SELECT ?value ?valueLabel WHERE { wd:Q7766896 wdt:P495 ?value . SERVICE wikibase:label { bd:serviceParam wikibase:language \"en\". } }'},\n",
       " {'question': 'Where was - born ?',\n",
       "  'entity_id': 'Q229085',\n",
       "  'answer': {'Q3808'},\n",
       "  'truth_query': 'SELECT DISTINCT ?k WHERE { resource:Françoise_Mbango_Etone property:place_of_birth ?k . ?k rdf:type ontology:administrative_territorial_entity }',\n",
       "  'our_answer': {'1976-04-14T00:00:00Z'},\n",
       "  'our_query': 'SELECT ?value ?valueLabel WHERE { wd:Q229085 wdt:P569 ?value . SERVICE wikibase:label { bd:serviceParam wikibase:language \"en\". } }'},\n",
       " {'question': 'Which city does - serve ?',\n",
       "  'entity_id': 'Q3808',\n",
       "  'answer': {'Q221351'},\n",
       "  'truth_query': 'SELECT DISTINCT ?w WHERE { ?w property:place_served_by_airport resource:Yaoundé . ?w rdf:type ontology:aerodrome }',\n",
       "  'our_answer': {'Q9220419'},\n",
       "  'our_query': 'SELECT ?value ?valueLabel WHERE { wd:Q3808 wdt:P1465 ?value . SERVICE wikibase:label { bd:serviceParam wikibase:language \"en\". } }'},\n",
       " {'question': 'Which administrative territory is the county seat for - ?',\n",
       "  'entity_id': 'Q215',\n",
       "  'answer': {'Q437'},\n",
       "  'truth_query': 'SELECT DISTINCT ?p WHERE { ?p property:capital_of resource:Slovenia . ?p rdf:type ontology:administrative_territorial_entity }',\n",
       "  'our_answer': {'Q1002229',\n",
       "   'Q1002247',\n",
       "   'Q1002371',\n",
       "   'Q1002863',\n",
       "   'Q1003969',\n",
       "   'Q1003984',\n",
       "   'Q1005165',\n",
       "   'Q1005185',\n",
       "   'Q1005208',\n",
       "   'Q1005224',\n",
       "   'Q1005364',\n",
       "   'Q1008048',\n",
       "   'Q1008079',\n",
       "   'Q1008086',\n",
       "   'Q1008095',\n",
       "   'Q1008102',\n",
       "   'Q1008144',\n",
       "   'Q1008179',\n",
       "   'Q1009409',\n",
       "   'Q1009413',\n",
       "   'Q1009421',\n",
       "   'Q1012761',\n",
       "   'Q1016698',\n",
       "   'Q1016800',\n",
       "   'Q1016805',\n",
       "   'Q1016812',\n",
       "   'Q1016820',\n",
       "   'Q1016826',\n",
       "   'Q1016831',\n",
       "   'Q1016840',\n",
       "   'Q1019067',\n",
       "   'Q1027062',\n",
       "   'Q1027078',\n",
       "   'Q1027089',\n",
       "   'Q1027245',\n",
       "   'Q1034410',\n",
       "   'Q11211457',\n",
       "   'Q11214302',\n",
       "   'Q12042075',\n",
       "   'Q12042076',\n",
       "   'Q12062190',\n",
       "   'Q1252438',\n",
       "   'Q1276793',\n",
       "   'Q13107298',\n",
       "   'Q1313614',\n",
       "   'Q13220435',\n",
       "   'Q13365883',\n",
       "   'Q13365892',\n",
       "   'Q13365904',\n",
       "   'Q13370246',\n",
       "   'Q13377731',\n",
       "   'Q13377747',\n",
       "   'Q13377751',\n",
       "   'Q13377763',\n",
       "   'Q13377778',\n",
       "   'Q13377780',\n",
       "   'Q13377784',\n",
       "   'Q13377798',\n",
       "   'Q13377986',\n",
       "   'Q13378051',\n",
       "   'Q13378058',\n",
       "   'Q13378155',\n",
       "   'Q13378243',\n",
       "   'Q13378281',\n",
       "   'Q13378288',\n",
       "   'Q13378292',\n",
       "   'Q13378299',\n",
       "   'Q13378328',\n",
       "   'Q13378373',\n",
       "   'Q13378384',\n",
       "   'Q13378453',\n",
       "   'Q1515842',\n",
       "   'Q15283322',\n",
       "   'Q1569014',\n",
       "   'Q1587261',\n",
       "   'Q1587704',\n",
       "   'Q15881',\n",
       "   'Q15884',\n",
       "   'Q15887',\n",
       "   'Q15891',\n",
       "   'Q15892',\n",
       "   'Q15893',\n",
       "   'Q15894',\n",
       "   'Q15895',\n",
       "   'Q15900',\n",
       "   'Q15910',\n",
       "   'Q15912',\n",
       "   'Q15913',\n",
       "   'Q15923',\n",
       "   'Q15924',\n",
       "   'Q15925',\n",
       "   'Q15927',\n",
       "   'Q15931',\n",
       "   'Q15932',\n",
       "   'Q164123',\n",
       "   'Q167001',\n",
       "   'Q1688771',\n",
       "   'Q1784972',\n",
       "   'Q1808143',\n",
       "   'Q201074',\n",
       "   'Q2134561',\n",
       "   'Q2242799',\n",
       "   'Q227163',\n",
       "   'Q2318898',\n",
       "   'Q2346638',\n",
       "   'Q25110',\n",
       "   'Q252154',\n",
       "   'Q279072',\n",
       "   'Q3259688',\n",
       "   'Q3278915',\n",
       "   'Q331701',\n",
       "   'Q3346841',\n",
       "   'Q338743',\n",
       "   'Q341658',\n",
       "   'Q3434092',\n",
       "   'Q3434113',\n",
       "   'Q3435104',\n",
       "   'Q3435117',\n",
       "   'Q3435478',\n",
       "   'Q3435496',\n",
       "   'Q3435689',\n",
       "   'Q3441796',\n",
       "   'Q3441808',\n",
       "   'Q3441817',\n",
       "   'Q3441823',\n",
       "   'Q3441842',\n",
       "   'Q3441849',\n",
       "   'Q3441856',\n",
       "   'Q3441893',\n",
       "   'Q3482211',\n",
       "   'Q3484655',\n",
       "   'Q3487128',\n",
       "   'Q3494723',\n",
       "   'Q3503123',\n",
       "   'Q3503153',\n",
       "   'Q3509893',\n",
       "   'Q3661628',\n",
       "   'Q370390',\n",
       "   'Q391428',\n",
       "   'Q391446',\n",
       "   'Q391800',\n",
       "   'Q392103',\n",
       "   'Q392173',\n",
       "   'Q392188',\n",
       "   'Q392468',\n",
       "   'Q393910',\n",
       "   'Q394087',\n",
       "   'Q394103',\n",
       "   'Q398116',\n",
       "   'Q507051',\n",
       "   'Q539864',\n",
       "   'Q554854',\n",
       "   'Q556203',\n",
       "   'Q556206',\n",
       "   'Q557216',\n",
       "   'Q565170',\n",
       "   'Q570397',\n",
       "   'Q570618',\n",
       "   'Q587328',\n",
       "   'Q594852',\n",
       "   'Q599480',\n",
       "   'Q612216',\n",
       "   'Q6309297',\n",
       "   'Q632998',\n",
       "   'Q647572',\n",
       "   'Q650009',\n",
       "   'Q658076',\n",
       "   'Q669648',\n",
       "   'Q670975',\n",
       "   'Q678147',\n",
       "   'Q688287',\n",
       "   'Q726548',\n",
       "   'Q731093',\n",
       "   'Q763400',\n",
       "   'Q773160',\n",
       "   'Q773659',\n",
       "   'Q776770',\n",
       "   'Q778147',\n",
       "   'Q778542',\n",
       "   'Q779018',\n",
       "   'Q849320',\n",
       "   'Q859679',\n",
       "   'Q9014817',\n",
       "   'Q906636',\n",
       "   'Q906879',\n",
       "   'Q917397',\n",
       "   'Q919934',\n",
       "   'Q920353',\n",
       "   'Q921092',\n",
       "   'Q924698',\n",
       "   'Q925149',\n",
       "   'Q9273677',\n",
       "   'Q927718',\n",
       "   'Q938443',\n",
       "   'Q946766',\n",
       "   'Q954987',\n",
       "   'Q963986',\n",
       "   'Q990063',\n",
       "   'Q995048',\n",
       "   'Q995065',\n",
       "   'Q995101',\n",
       "   'Q998557',\n",
       "   'Q998566',\n",
       "   'Q999525',\n",
       "   'Q999530',\n",
       "   'Q999540',\n",
       "   'Q999553',\n",
       "   'Q999559',\n",
       "   'Q999563',\n",
       "   'Q999579',\n",
       "   'Q999584',\n",
       "   'Q999589'},\n",
       "  'our_query': 'SELECT ?value ?valueLabel WHERE { wd:Q215 wdt:P150 ?value . SERVICE wikibase:label { bd:serviceParam wikibase:language \"en\". } }'},\n",
       " {'question': 'Which person is the head of government of - ?',\n",
       "  'entity_id': 'Q794',\n",
       "  'answer': {'Q348144'},\n",
       "  'truth_query': 'SELECT DISTINCT ?x WHERE { resource:Iran property:head_of_government ?x . ?x rdf:type ontology:common_name }',\n",
       "  'our_answer': {'Q838380'},\n",
       "  'our_query': 'SELECT ?value ?valueLabel WHERE { wd:Q794 wdt:P1313 ?value . SERVICE wikibase:label { bd:serviceParam wikibase:language \"en\". } }'},\n",
       " {'question': 'What can be considered as category for - ?',\n",
       "  'entity_id': 'Q2143616',\n",
       "  'answer': {'Q8341'},\n",
       "  'truth_query': \"SELECT DISTINCT ?b WHERE { resource:Renato_D'Aiello property:genre ?b . ?b rdf:type ontology:concept }\",\n",
       "  'our_answer': {'Renato D’Aiello'},\n",
       "  'our_query': 'SELECT ?value ?valueLabel WHERE { wd:Q2143616 wdt:P373 ?value . SERVICE wikibase:label { bd:serviceParam wikibase:language \"en\". } }'},\n",
       " {'question': 'What did - participate in ?',\n",
       "  'entity_id': 'Q6233',\n",
       "  'answer': {'Q335638', 'Q3609'},\n",
       "  'truth_query': 'SELECT DISTINCT ?k WHERE { resource:Lotto_NL-Jumbo property:sport ?k . ?k rdf:type ontology:type_of_sport }',\n",
       "  'our_answer': {'Q3609'},\n",
       "  'our_query': 'SELECT ?value ?valueLabel WHERE { wd:Q6233 wdt:P641 ?value . SERVICE wikibase:label { bd:serviceParam wikibase:language \"en\". } }'}]"
      ]
     },
     "execution_count": 32,
     "metadata": {},
     "output_type": "execute_result"
    }
   ],
   "source": [
    "failures"
   ]
  },
  {
   "cell_type": "code",
   "execution_count": 35,
   "metadata": {},
   "outputs": [],
   "source": [
    "# write failures to text file\n",
    "for failure in failures:\n",
    "    for key in failure:\n",
    "        if isinstance(failure[key], set):\n",
    "            failure[key] = list(failure[key])\n",
    "with open(\"failures.json\", \"w\") as f:\n",
    "    f.write(json.dumps(failures, indent=4))"
   ]
  },
  {
   "cell_type": "code",
   "execution_count": 15,
   "metadata": {},
   "outputs": [
    {
     "data": {
      "text/plain": [
       "(307, 210)"
      ]
     },
     "execution_count": 15,
     "metadata": {},
     "output_type": "execute_result"
    }
   ],
   "source": [
    "successes, len(failures)"
   ]
  },
  {
   "cell_type": "code",
   "execution_count": 28,
   "metadata": {},
   "outputs": [
    {
     "data": {
      "text/plain": [
       "(308, 212)"
      ]
     },
     "execution_count": 28,
     "metadata": {},
     "output_type": "execute_result"
    }
   ],
   "source": [
    "successes, len(failures)"
   ]
  }
 ],
 "metadata": {
  "kernelspec": {
   "display_name": "sparql-query-generation-Hsv39ezy-py3.11",
   "language": "python",
   "name": "python3"
  },
  "language_info": {
   "codemirror_mode": {
    "name": "ipython",
    "version": 3
   },
   "file_extension": ".py",
   "mimetype": "text/x-python",
   "name": "python",
   "nbconvert_exporter": "python",
   "pygments_lexer": "ipython3",
   "version": "3.11.9"
  }
 },
 "nbformat": 4,
 "nbformat_minor": 2
}
